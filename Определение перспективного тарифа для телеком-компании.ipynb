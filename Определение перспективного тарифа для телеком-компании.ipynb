{
 "cells": [
  {
   "cell_type": "markdown",
   "metadata": {},
   "source": [
    "# Определение перспективного тарифа для телеком-компании"
   ]
  },
  {
   "cell_type": "markdown",
   "metadata": {},
   "source": [
    "## Описание тарифов\n",
    "\n",
    "**Тариф «Смарт»**\n",
    "\n",
    "Ежемесячная плата: 550 рублей\n",
    "Включено 500 минут разговора, 50 сообщений и 15 Гб интернет-трафика\n",
    "Стоимость услуг сверх тарифного пакета:\n",
    "минута разговора: 3 рубля\n",
    "сообщение: 3 рубля\n",
    "1 Гб интернет-трафика: 200 рублей\n",
    "\n",
    "\n",
    "**Тариф «Ультра»**\n",
    "\n",
    "Ежемесячная плата: 1950 рублей\n",
    "\n",
    "Включено 3000 минут разговора, 1000 сообщений и 30 Гб интернет-трафика\n",
    "Стоимость услуг сверх тарифного пакета:\n",
    "минута разговора: 1 рубль\n",
    "сообщение: 1 рубль\n",
    "1 Гб интернет-трафика: 150 рублей"
   ]
  },
  {
   "cell_type": "markdown",
   "metadata": {},
   "source": [
    "## Описание данных\n",
    "\n",
    "**Таблица users (информация о пользователях):**\n",
    "- user_id — уникальный идентификатор пользователя\n",
    "- first_name — имя пользователя\n",
    "- last_name — фамилия пользователя\n",
    "- age — возраст пользователя (годы)\n",
    "- reg_date — дата подключения тарифа (день, месяц, год)\n",
    "- churn_date — дата прекращения пользования тарифом (если значение пропущено, то тариф ещё действовал на момент выгрузки данных)\n",
    "- city — город проживания пользователя\n",
    "- tariff — название тарифного плана\n",
    "\n",
    "**Таблица calls (информация о звонках):**\n",
    "- id — уникальный номер звонка\n",
    "- call_date — дата звонка\n",
    "- duration — длительность звонка в минутах\n",
    "- user_id — идентификатор пользователя, сделавшего звонок\n",
    "\n",
    "**Таблица messages (информация о сообщениях):**\n",
    "- id — уникальный номер сообщения\n",
    "- message_date — дата сообщения\n",
    "- user_id — идентификатор пользователя, отправившего сообщение\n",
    "\n",
    "**Таблица internet (информация об интернет-сессиях):**\n",
    "- id — уникальный номер сессии\n",
    "- mb_used — объём потраченного за сессию интернет-трафика (в мегабайтах)\n",
    "- session_date — дата интернет-сессии\n",
    "- user_id — идентификатор пользователя\n",
    "\n",
    "**Таблица tariffs (информация о тарифах):**\n",
    "- tariff_name — название тарифа\n",
    "- rub_monthly_fee — ежемесячная абонентская плата в рублях\n",
    "- minutes_included — количество минут разговора в месяц, включённых в абонентскую плату\n",
    "- messages_included — количество сообщений в месяц, включённых в абонентскую плату\n",
    "- mb_per_month_included — объём интернет-трафика, включённого в абонентскую плату (в мегабайтах)\n",
    "- rub_per_minute — стоимость минуты разговора сверх тарифного пакета (например, если в тарифе 100 минут разговора в месяц, то со 101 минуты будет взиматься плата)\n",
    "- rub_per_message — стоимость отправки сообщения сверх тарифного пакета\n",
    "- rub_per_gb — стоимость дополнительного гигабайта интернет-трафика сверх тарифного пакета (1 гигабайт = 1024 мегабайта)"
   ]
  },
  {
   "cell_type": "markdown",
   "metadata": {},
   "source": [
    "## Ход работы\n",
    "\n",
    "1. Получение данных и первичный осмотр данных.\n",
    "2. Предобработка данных: \n",
    "* Приведение данных к нужным типам. \n",
    "* Исправление, удаление данных. \n",
    "3. Подсчет метрик: \n",
    "* количество сделанных звонков и израсходованных минут разговора по месяцам; \n",
    "* количество отправленных сообщений по месяцам; \n",
    "* объем израсходованного интернет-трафика по месяцам; \n",
    "* помесячную выручку с каждого пользователя.\n",
    "4. Исследовательский анализ: \n",
    "* Подсчет: среднее количество, дисперсию и стандартное отклонение. \n",
    "* Построение гистограммы. Описание распределения.\n",
    "5. Проверка гипотез. \n",
    "6. Общие выводы по проекту. Примечание\n"
   ]
  },
  {
   "cell_type": "markdown",
   "metadata": {},
   "source": [
    "## Импорт библиотек и подготовка файлов"
   ]
  },
  {
   "cell_type": "code",
   "execution_count": 1,
   "metadata": {},
   "outputs": [],
   "source": [
    "import pandas as pd\n",
    "import numpy as np\n",
    "from scipy import stats as st\n",
    "import matplotlib.pyplot as plt\n",
    "import math\n",
    "import copy"
   ]
  },
  {
   "cell_type": "code",
   "execution_count": 2,
   "metadata": {},
   "outputs": [],
   "source": [
    "#названия для датасетов берем из названия корневой папки\n",
    "calls = pd.read_csv('/datasets/calls.csv')\n",
    "internet = pd.read_csv('/datasets/internet.csv')\n",
    "messages = pd.read_csv('/datasets/messages.csv')\n",
    "tariffs = pd.read_csv('/datasets/tariffs.csv')\n",
    "users = pd.read_csv('/datasets/users.csv')"
   ]
  },
  {
   "cell_type": "code",
   "execution_count": 3,
   "metadata": {
    "scrolled": false
   },
   "outputs": [
    {
     "data": {
      "text/plain": [
       "'calls'"
      ]
     },
     "metadata": {},
     "output_type": "display_data"
    },
    {
     "data": {
      "text/html": [
       "<div>\n",
       "<style scoped>\n",
       "    .dataframe tbody tr th:only-of-type {\n",
       "        vertical-align: middle;\n",
       "    }\n",
       "\n",
       "    .dataframe tbody tr th {\n",
       "        vertical-align: top;\n",
       "    }\n",
       "\n",
       "    .dataframe thead th {\n",
       "        text-align: right;\n",
       "    }\n",
       "</style>\n",
       "<table border=\"1\" class=\"dataframe\">\n",
       "  <thead>\n",
       "    <tr style=\"text-align: right;\">\n",
       "      <th></th>\n",
       "      <th>id</th>\n",
       "      <th>call_date</th>\n",
       "      <th>duration</th>\n",
       "      <th>user_id</th>\n",
       "    </tr>\n",
       "  </thead>\n",
       "  <tbody>\n",
       "    <tr>\n",
       "      <th>0</th>\n",
       "      <td>1000_0</td>\n",
       "      <td>2018-07-25</td>\n",
       "      <td>0.00</td>\n",
       "      <td>1000</td>\n",
       "    </tr>\n",
       "    <tr>\n",
       "      <th>1</th>\n",
       "      <td>1000_1</td>\n",
       "      <td>2018-08-17</td>\n",
       "      <td>0.00</td>\n",
       "      <td>1000</td>\n",
       "    </tr>\n",
       "    <tr>\n",
       "      <th>2</th>\n",
       "      <td>1000_2</td>\n",
       "      <td>2018-06-11</td>\n",
       "      <td>2.85</td>\n",
       "      <td>1000</td>\n",
       "    </tr>\n",
       "  </tbody>\n",
       "</table>\n",
       "</div>"
      ],
      "text/plain": [
       "       id   call_date  duration  user_id\n",
       "0  1000_0  2018-07-25      0.00     1000\n",
       "1  1000_1  2018-08-17      0.00     1000\n",
       "2  1000_2  2018-06-11      2.85     1000"
      ]
     },
     "metadata": {},
     "output_type": "display_data"
    },
    {
     "data": {
      "text/plain": [
       "'internet'"
      ]
     },
     "metadata": {},
     "output_type": "display_data"
    },
    {
     "data": {
      "text/html": [
       "<div>\n",
       "<style scoped>\n",
       "    .dataframe tbody tr th:only-of-type {\n",
       "        vertical-align: middle;\n",
       "    }\n",
       "\n",
       "    .dataframe tbody tr th {\n",
       "        vertical-align: top;\n",
       "    }\n",
       "\n",
       "    .dataframe thead th {\n",
       "        text-align: right;\n",
       "    }\n",
       "</style>\n",
       "<table border=\"1\" class=\"dataframe\">\n",
       "  <thead>\n",
       "    <tr style=\"text-align: right;\">\n",
       "      <th></th>\n",
       "      <th>Unnamed: 0</th>\n",
       "      <th>id</th>\n",
       "      <th>mb_used</th>\n",
       "      <th>session_date</th>\n",
       "      <th>user_id</th>\n",
       "    </tr>\n",
       "  </thead>\n",
       "  <tbody>\n",
       "    <tr>\n",
       "      <th>0</th>\n",
       "      <td>0</td>\n",
       "      <td>1000_0</td>\n",
       "      <td>112.95</td>\n",
       "      <td>2018-11-25</td>\n",
       "      <td>1000</td>\n",
       "    </tr>\n",
       "    <tr>\n",
       "      <th>1</th>\n",
       "      <td>1</td>\n",
       "      <td>1000_1</td>\n",
       "      <td>1052.81</td>\n",
       "      <td>2018-09-07</td>\n",
       "      <td>1000</td>\n",
       "    </tr>\n",
       "    <tr>\n",
       "      <th>2</th>\n",
       "      <td>2</td>\n",
       "      <td>1000_2</td>\n",
       "      <td>1197.26</td>\n",
       "      <td>2018-06-25</td>\n",
       "      <td>1000</td>\n",
       "    </tr>\n",
       "  </tbody>\n",
       "</table>\n",
       "</div>"
      ],
      "text/plain": [
       "   Unnamed: 0      id  mb_used session_date  user_id\n",
       "0           0  1000_0   112.95   2018-11-25     1000\n",
       "1           1  1000_1  1052.81   2018-09-07     1000\n",
       "2           2  1000_2  1197.26   2018-06-25     1000"
      ]
     },
     "metadata": {},
     "output_type": "display_data"
    },
    {
     "data": {
      "text/plain": [
       "'messages'"
      ]
     },
     "metadata": {},
     "output_type": "display_data"
    },
    {
     "data": {
      "text/html": [
       "<div>\n",
       "<style scoped>\n",
       "    .dataframe tbody tr th:only-of-type {\n",
       "        vertical-align: middle;\n",
       "    }\n",
       "\n",
       "    .dataframe tbody tr th {\n",
       "        vertical-align: top;\n",
       "    }\n",
       "\n",
       "    .dataframe thead th {\n",
       "        text-align: right;\n",
       "    }\n",
       "</style>\n",
       "<table border=\"1\" class=\"dataframe\">\n",
       "  <thead>\n",
       "    <tr style=\"text-align: right;\">\n",
       "      <th></th>\n",
       "      <th>id</th>\n",
       "      <th>message_date</th>\n",
       "      <th>user_id</th>\n",
       "    </tr>\n",
       "  </thead>\n",
       "  <tbody>\n",
       "    <tr>\n",
       "      <th>0</th>\n",
       "      <td>1000_0</td>\n",
       "      <td>2018-06-27</td>\n",
       "      <td>1000</td>\n",
       "    </tr>\n",
       "    <tr>\n",
       "      <th>1</th>\n",
       "      <td>1000_1</td>\n",
       "      <td>2018-10-08</td>\n",
       "      <td>1000</td>\n",
       "    </tr>\n",
       "    <tr>\n",
       "      <th>2</th>\n",
       "      <td>1000_2</td>\n",
       "      <td>2018-08-04</td>\n",
       "      <td>1000</td>\n",
       "    </tr>\n",
       "  </tbody>\n",
       "</table>\n",
       "</div>"
      ],
      "text/plain": [
       "       id message_date  user_id\n",
       "0  1000_0   2018-06-27     1000\n",
       "1  1000_1   2018-10-08     1000\n",
       "2  1000_2   2018-08-04     1000"
      ]
     },
     "metadata": {},
     "output_type": "display_data"
    },
    {
     "data": {
      "text/plain": [
       "'tariffs'"
      ]
     },
     "metadata": {},
     "output_type": "display_data"
    },
    {
     "data": {
      "text/html": [
       "<div>\n",
       "<style scoped>\n",
       "    .dataframe tbody tr th:only-of-type {\n",
       "        vertical-align: middle;\n",
       "    }\n",
       "\n",
       "    .dataframe tbody tr th {\n",
       "        vertical-align: top;\n",
       "    }\n",
       "\n",
       "    .dataframe thead th {\n",
       "        text-align: right;\n",
       "    }\n",
       "</style>\n",
       "<table border=\"1\" class=\"dataframe\">\n",
       "  <thead>\n",
       "    <tr style=\"text-align: right;\">\n",
       "      <th></th>\n",
       "      <th>messages_included</th>\n",
       "      <th>mb_per_month_included</th>\n",
       "      <th>minutes_included</th>\n",
       "      <th>rub_monthly_fee</th>\n",
       "      <th>rub_per_gb</th>\n",
       "      <th>rub_per_message</th>\n",
       "      <th>rub_per_minute</th>\n",
       "      <th>tariff_name</th>\n",
       "    </tr>\n",
       "  </thead>\n",
       "  <tbody>\n",
       "    <tr>\n",
       "      <th>0</th>\n",
       "      <td>50</td>\n",
       "      <td>15360</td>\n",
       "      <td>500</td>\n",
       "      <td>550</td>\n",
       "      <td>200</td>\n",
       "      <td>3</td>\n",
       "      <td>3</td>\n",
       "      <td>smart</td>\n",
       "    </tr>\n",
       "    <tr>\n",
       "      <th>1</th>\n",
       "      <td>1000</td>\n",
       "      <td>30720</td>\n",
       "      <td>3000</td>\n",
       "      <td>1950</td>\n",
       "      <td>150</td>\n",
       "      <td>1</td>\n",
       "      <td>1</td>\n",
       "      <td>ultra</td>\n",
       "    </tr>\n",
       "  </tbody>\n",
       "</table>\n",
       "</div>"
      ],
      "text/plain": [
       "   messages_included  mb_per_month_included  minutes_included  \\\n",
       "0                 50                  15360               500   \n",
       "1               1000                  30720              3000   \n",
       "\n",
       "   rub_monthly_fee  rub_per_gb  rub_per_message  rub_per_minute tariff_name  \n",
       "0              550         200                3               3       smart  \n",
       "1             1950         150                1               1       ultra  "
      ]
     },
     "metadata": {},
     "output_type": "display_data"
    },
    {
     "data": {
      "text/plain": [
       "'users'"
      ]
     },
     "metadata": {},
     "output_type": "display_data"
    },
    {
     "data": {
      "text/html": [
       "<div>\n",
       "<style scoped>\n",
       "    .dataframe tbody tr th:only-of-type {\n",
       "        vertical-align: middle;\n",
       "    }\n",
       "\n",
       "    .dataframe tbody tr th {\n",
       "        vertical-align: top;\n",
       "    }\n",
       "\n",
       "    .dataframe thead th {\n",
       "        text-align: right;\n",
       "    }\n",
       "</style>\n",
       "<table border=\"1\" class=\"dataframe\">\n",
       "  <thead>\n",
       "    <tr style=\"text-align: right;\">\n",
       "      <th></th>\n",
       "      <th>user_id</th>\n",
       "      <th>age</th>\n",
       "      <th>churn_date</th>\n",
       "      <th>city</th>\n",
       "      <th>first_name</th>\n",
       "      <th>last_name</th>\n",
       "      <th>reg_date</th>\n",
       "      <th>tariff</th>\n",
       "    </tr>\n",
       "  </thead>\n",
       "  <tbody>\n",
       "    <tr>\n",
       "      <th>0</th>\n",
       "      <td>1000</td>\n",
       "      <td>52</td>\n",
       "      <td>NaN</td>\n",
       "      <td>Краснодар</td>\n",
       "      <td>Рафаил</td>\n",
       "      <td>Верещагин</td>\n",
       "      <td>2018-05-25</td>\n",
       "      <td>ultra</td>\n",
       "    </tr>\n",
       "    <tr>\n",
       "      <th>1</th>\n",
       "      <td>1001</td>\n",
       "      <td>41</td>\n",
       "      <td>NaN</td>\n",
       "      <td>Москва</td>\n",
       "      <td>Иван</td>\n",
       "      <td>Ежов</td>\n",
       "      <td>2018-11-01</td>\n",
       "      <td>smart</td>\n",
       "    </tr>\n",
       "    <tr>\n",
       "      <th>2</th>\n",
       "      <td>1002</td>\n",
       "      <td>59</td>\n",
       "      <td>NaN</td>\n",
       "      <td>Стерлитамак</td>\n",
       "      <td>Евгений</td>\n",
       "      <td>Абрамович</td>\n",
       "      <td>2018-06-17</td>\n",
       "      <td>smart</td>\n",
       "    </tr>\n",
       "  </tbody>\n",
       "</table>\n",
       "</div>"
      ],
      "text/plain": [
       "   user_id  age churn_date         city first_name  last_name    reg_date  \\\n",
       "0     1000   52        NaN    Краснодар     Рафаил  Верещагин  2018-05-25   \n",
       "1     1001   41        NaN       Москва       Иван       Ежов  2018-11-01   \n",
       "2     1002   59        NaN  Стерлитамак    Евгений  Абрамович  2018-06-17   \n",
       "\n",
       "  tariff  \n",
       "0  ultra  \n",
       "1  smart  \n",
       "2  smart  "
      ]
     },
     "metadata": {},
     "output_type": "display_data"
    }
   ],
   "source": [
    "#проверяем работоспособность всех таблиц\n",
    "pd.set_option('display.max_columns', 50) #вывод всех столбцов датасета\n",
    "display('calls')\n",
    "display(calls.head(3))\n",
    "display('internet')\n",
    "display(internet.head(3))\n",
    "display('messages')\n",
    "display(messages.head(3))\n",
    "display('tariffs')\n",
    "display(tariffs.head(3))\n",
    "display('users')\n",
    "display(users.head(3))"
   ]
  },
  {
   "cell_type": "code",
   "execution_count": 4,
   "metadata": {
    "scrolled": false
   },
   "outputs": [
    {
     "data": {
      "text/plain": [
       "'calls'"
      ]
     },
     "metadata": {},
     "output_type": "display_data"
    },
    {
     "name": "stdout",
     "output_type": "stream",
     "text": [
      "<class 'pandas.core.frame.DataFrame'>\n",
      "RangeIndex: 202607 entries, 0 to 202606\n",
      "Data columns (total 4 columns):\n",
      " #   Column     Non-Null Count   Dtype  \n",
      "---  ------     --------------   -----  \n",
      " 0   id         202607 non-null  object \n",
      " 1   call_date  202607 non-null  object \n",
      " 2   duration   202607 non-null  float64\n",
      " 3   user_id    202607 non-null  int64  \n",
      "dtypes: float64(1), int64(1), object(2)\n",
      "memory usage: 6.2+ MB\n"
     ]
    },
    {
     "data": {
      "text/plain": [
       "None"
      ]
     },
     "metadata": {},
     "output_type": "display_data"
    },
    {
     "data": {
      "text/html": [
       "<div>\n",
       "<style scoped>\n",
       "    .dataframe tbody tr th:only-of-type {\n",
       "        vertical-align: middle;\n",
       "    }\n",
       "\n",
       "    .dataframe tbody tr th {\n",
       "        vertical-align: top;\n",
       "    }\n",
       "\n",
       "    .dataframe thead th {\n",
       "        text-align: right;\n",
       "    }\n",
       "</style>\n",
       "<table border=\"1\" class=\"dataframe\">\n",
       "  <thead>\n",
       "    <tr style=\"text-align: right;\">\n",
       "      <th></th>\n",
       "      <th>duration</th>\n",
       "      <th>user_id</th>\n",
       "    </tr>\n",
       "  </thead>\n",
       "  <tbody>\n",
       "    <tr>\n",
       "      <th>count</th>\n",
       "      <td>202607.000000</td>\n",
       "      <td>202607.000000</td>\n",
       "    </tr>\n",
       "    <tr>\n",
       "      <th>mean</th>\n",
       "      <td>6.755887</td>\n",
       "      <td>1253.940619</td>\n",
       "    </tr>\n",
       "    <tr>\n",
       "      <th>std</th>\n",
       "      <td>5.843365</td>\n",
       "      <td>144.722751</td>\n",
       "    </tr>\n",
       "    <tr>\n",
       "      <th>min</th>\n",
       "      <td>0.000000</td>\n",
       "      <td>1000.000000</td>\n",
       "    </tr>\n",
       "    <tr>\n",
       "      <th>25%</th>\n",
       "      <td>1.300000</td>\n",
       "      <td>1126.000000</td>\n",
       "    </tr>\n",
       "    <tr>\n",
       "      <th>50%</th>\n",
       "      <td>6.000000</td>\n",
       "      <td>1260.000000</td>\n",
       "    </tr>\n",
       "    <tr>\n",
       "      <th>75%</th>\n",
       "      <td>10.700000</td>\n",
       "      <td>1379.000000</td>\n",
       "    </tr>\n",
       "    <tr>\n",
       "      <th>max</th>\n",
       "      <td>38.000000</td>\n",
       "      <td>1499.000000</td>\n",
       "    </tr>\n",
       "  </tbody>\n",
       "</table>\n",
       "</div>"
      ],
      "text/plain": [
       "            duration        user_id\n",
       "count  202607.000000  202607.000000\n",
       "mean        6.755887    1253.940619\n",
       "std         5.843365     144.722751\n",
       "min         0.000000    1000.000000\n",
       "25%         1.300000    1126.000000\n",
       "50%         6.000000    1260.000000\n",
       "75%        10.700000    1379.000000\n",
       "max        38.000000    1499.000000"
      ]
     },
     "metadata": {},
     "output_type": "display_data"
    },
    {
     "data": {
      "text/plain": [
       "'internet'"
      ]
     },
     "metadata": {},
     "output_type": "display_data"
    },
    {
     "name": "stdout",
     "output_type": "stream",
     "text": [
      "<class 'pandas.core.frame.DataFrame'>\n",
      "RangeIndex: 149396 entries, 0 to 149395\n",
      "Data columns (total 5 columns):\n",
      " #   Column        Non-Null Count   Dtype  \n",
      "---  ------        --------------   -----  \n",
      " 0   Unnamed: 0    149396 non-null  int64  \n",
      " 1   id            149396 non-null  object \n",
      " 2   mb_used       149396 non-null  float64\n",
      " 3   session_date  149396 non-null  object \n",
      " 4   user_id       149396 non-null  int64  \n",
      "dtypes: float64(1), int64(2), object(2)\n",
      "memory usage: 5.7+ MB\n"
     ]
    },
    {
     "data": {
      "text/plain": [
       "None"
      ]
     },
     "metadata": {},
     "output_type": "display_data"
    },
    {
     "data": {
      "text/html": [
       "<div>\n",
       "<style scoped>\n",
       "    .dataframe tbody tr th:only-of-type {\n",
       "        vertical-align: middle;\n",
       "    }\n",
       "\n",
       "    .dataframe tbody tr th {\n",
       "        vertical-align: top;\n",
       "    }\n",
       "\n",
       "    .dataframe thead th {\n",
       "        text-align: right;\n",
       "    }\n",
       "</style>\n",
       "<table border=\"1\" class=\"dataframe\">\n",
       "  <thead>\n",
       "    <tr style=\"text-align: right;\">\n",
       "      <th></th>\n",
       "      <th>Unnamed: 0</th>\n",
       "      <th>mb_used</th>\n",
       "      <th>user_id</th>\n",
       "    </tr>\n",
       "  </thead>\n",
       "  <tbody>\n",
       "    <tr>\n",
       "      <th>count</th>\n",
       "      <td>149396.000000</td>\n",
       "      <td>149396.000000</td>\n",
       "      <td>149396.000000</td>\n",
       "    </tr>\n",
       "    <tr>\n",
       "      <th>mean</th>\n",
       "      <td>74697.500000</td>\n",
       "      <td>370.192426</td>\n",
       "      <td>1252.099842</td>\n",
       "    </tr>\n",
       "    <tr>\n",
       "      <th>std</th>\n",
       "      <td>43127.054745</td>\n",
       "      <td>278.300951</td>\n",
       "      <td>144.050823</td>\n",
       "    </tr>\n",
       "    <tr>\n",
       "      <th>min</th>\n",
       "      <td>0.000000</td>\n",
       "      <td>0.000000</td>\n",
       "      <td>1000.000000</td>\n",
       "    </tr>\n",
       "    <tr>\n",
       "      <th>25%</th>\n",
       "      <td>37348.750000</td>\n",
       "      <td>138.187500</td>\n",
       "      <td>1130.000000</td>\n",
       "    </tr>\n",
       "    <tr>\n",
       "      <th>50%</th>\n",
       "      <td>74697.500000</td>\n",
       "      <td>348.015000</td>\n",
       "      <td>1251.000000</td>\n",
       "    </tr>\n",
       "    <tr>\n",
       "      <th>75%</th>\n",
       "      <td>112046.250000</td>\n",
       "      <td>559.552500</td>\n",
       "      <td>1380.000000</td>\n",
       "    </tr>\n",
       "    <tr>\n",
       "      <th>max</th>\n",
       "      <td>149395.000000</td>\n",
       "      <td>1724.830000</td>\n",
       "      <td>1499.000000</td>\n",
       "    </tr>\n",
       "  </tbody>\n",
       "</table>\n",
       "</div>"
      ],
      "text/plain": [
       "          Unnamed: 0        mb_used        user_id\n",
       "count  149396.000000  149396.000000  149396.000000\n",
       "mean    74697.500000     370.192426    1252.099842\n",
       "std     43127.054745     278.300951     144.050823\n",
       "min         0.000000       0.000000    1000.000000\n",
       "25%     37348.750000     138.187500    1130.000000\n",
       "50%     74697.500000     348.015000    1251.000000\n",
       "75%    112046.250000     559.552500    1380.000000\n",
       "max    149395.000000    1724.830000    1499.000000"
      ]
     },
     "metadata": {},
     "output_type": "display_data"
    },
    {
     "data": {
      "text/plain": [
       "'messages'"
      ]
     },
     "metadata": {},
     "output_type": "display_data"
    },
    {
     "name": "stdout",
     "output_type": "stream",
     "text": [
      "<class 'pandas.core.frame.DataFrame'>\n",
      "RangeIndex: 123036 entries, 0 to 123035\n",
      "Data columns (total 3 columns):\n",
      " #   Column        Non-Null Count   Dtype \n",
      "---  ------        --------------   ----- \n",
      " 0   id            123036 non-null  object\n",
      " 1   message_date  123036 non-null  object\n",
      " 2   user_id       123036 non-null  int64 \n",
      "dtypes: int64(1), object(2)\n",
      "memory usage: 2.8+ MB\n"
     ]
    },
    {
     "data": {
      "text/plain": [
       "None"
      ]
     },
     "metadata": {},
     "output_type": "display_data"
    },
    {
     "data": {
      "text/html": [
       "<div>\n",
       "<style scoped>\n",
       "    .dataframe tbody tr th:only-of-type {\n",
       "        vertical-align: middle;\n",
       "    }\n",
       "\n",
       "    .dataframe tbody tr th {\n",
       "        vertical-align: top;\n",
       "    }\n",
       "\n",
       "    .dataframe thead th {\n",
       "        text-align: right;\n",
       "    }\n",
       "</style>\n",
       "<table border=\"1\" class=\"dataframe\">\n",
       "  <thead>\n",
       "    <tr style=\"text-align: right;\">\n",
       "      <th></th>\n",
       "      <th>user_id</th>\n",
       "    </tr>\n",
       "  </thead>\n",
       "  <tbody>\n",
       "    <tr>\n",
       "      <th>count</th>\n",
       "      <td>123036.000000</td>\n",
       "    </tr>\n",
       "    <tr>\n",
       "      <th>mean</th>\n",
       "      <td>1256.989410</td>\n",
       "    </tr>\n",
       "    <tr>\n",
       "      <th>std</th>\n",
       "      <td>143.523967</td>\n",
       "    </tr>\n",
       "    <tr>\n",
       "      <th>min</th>\n",
       "      <td>1000.000000</td>\n",
       "    </tr>\n",
       "    <tr>\n",
       "      <th>25%</th>\n",
       "      <td>1134.000000</td>\n",
       "    </tr>\n",
       "    <tr>\n",
       "      <th>50%</th>\n",
       "      <td>1271.000000</td>\n",
       "    </tr>\n",
       "    <tr>\n",
       "      <th>75%</th>\n",
       "      <td>1381.000000</td>\n",
       "    </tr>\n",
       "    <tr>\n",
       "      <th>max</th>\n",
       "      <td>1499.000000</td>\n",
       "    </tr>\n",
       "  </tbody>\n",
       "</table>\n",
       "</div>"
      ],
      "text/plain": [
       "             user_id\n",
       "count  123036.000000\n",
       "mean     1256.989410\n",
       "std       143.523967\n",
       "min      1000.000000\n",
       "25%      1134.000000\n",
       "50%      1271.000000\n",
       "75%      1381.000000\n",
       "max      1499.000000"
      ]
     },
     "metadata": {},
     "output_type": "display_data"
    },
    {
     "data": {
      "text/plain": [
       "'tariffs'"
      ]
     },
     "metadata": {},
     "output_type": "display_data"
    },
    {
     "name": "stdout",
     "output_type": "stream",
     "text": [
      "<class 'pandas.core.frame.DataFrame'>\n",
      "RangeIndex: 2 entries, 0 to 1\n",
      "Data columns (total 8 columns):\n",
      " #   Column                 Non-Null Count  Dtype \n",
      "---  ------                 --------------  ----- \n",
      " 0   messages_included      2 non-null      int64 \n",
      " 1   mb_per_month_included  2 non-null      int64 \n",
      " 2   minutes_included       2 non-null      int64 \n",
      " 3   rub_monthly_fee        2 non-null      int64 \n",
      " 4   rub_per_gb             2 non-null      int64 \n",
      " 5   rub_per_message        2 non-null      int64 \n",
      " 6   rub_per_minute         2 non-null      int64 \n",
      " 7   tariff_name            2 non-null      object\n",
      "dtypes: int64(7), object(1)\n",
      "memory usage: 256.0+ bytes\n"
     ]
    },
    {
     "data": {
      "text/plain": [
       "None"
      ]
     },
     "metadata": {},
     "output_type": "display_data"
    },
    {
     "data": {
      "text/html": [
       "<div>\n",
       "<style scoped>\n",
       "    .dataframe tbody tr th:only-of-type {\n",
       "        vertical-align: middle;\n",
       "    }\n",
       "\n",
       "    .dataframe tbody tr th {\n",
       "        vertical-align: top;\n",
       "    }\n",
       "\n",
       "    .dataframe thead th {\n",
       "        text-align: right;\n",
       "    }\n",
       "</style>\n",
       "<table border=\"1\" class=\"dataframe\">\n",
       "  <thead>\n",
       "    <tr style=\"text-align: right;\">\n",
       "      <th></th>\n",
       "      <th>messages_included</th>\n",
       "      <th>mb_per_month_included</th>\n",
       "      <th>minutes_included</th>\n",
       "      <th>rub_monthly_fee</th>\n",
       "      <th>rub_per_gb</th>\n",
       "      <th>rub_per_message</th>\n",
       "      <th>rub_per_minute</th>\n",
       "    </tr>\n",
       "  </thead>\n",
       "  <tbody>\n",
       "    <tr>\n",
       "      <th>count</th>\n",
       "      <td>2.000000</td>\n",
       "      <td>2.000000</td>\n",
       "      <td>2.000000</td>\n",
       "      <td>2.000000</td>\n",
       "      <td>2.000000</td>\n",
       "      <td>2.000000</td>\n",
       "      <td>2.000000</td>\n",
       "    </tr>\n",
       "    <tr>\n",
       "      <th>mean</th>\n",
       "      <td>525.000000</td>\n",
       "      <td>23040.000000</td>\n",
       "      <td>1750.000000</td>\n",
       "      <td>1250.000000</td>\n",
       "      <td>175.000000</td>\n",
       "      <td>2.000000</td>\n",
       "      <td>2.000000</td>\n",
       "    </tr>\n",
       "    <tr>\n",
       "      <th>std</th>\n",
       "      <td>671.751442</td>\n",
       "      <td>10861.160159</td>\n",
       "      <td>1767.766953</td>\n",
       "      <td>989.949494</td>\n",
       "      <td>35.355339</td>\n",
       "      <td>1.414214</td>\n",
       "      <td>1.414214</td>\n",
       "    </tr>\n",
       "    <tr>\n",
       "      <th>min</th>\n",
       "      <td>50.000000</td>\n",
       "      <td>15360.000000</td>\n",
       "      <td>500.000000</td>\n",
       "      <td>550.000000</td>\n",
       "      <td>150.000000</td>\n",
       "      <td>1.000000</td>\n",
       "      <td>1.000000</td>\n",
       "    </tr>\n",
       "    <tr>\n",
       "      <th>25%</th>\n",
       "      <td>287.500000</td>\n",
       "      <td>19200.000000</td>\n",
       "      <td>1125.000000</td>\n",
       "      <td>900.000000</td>\n",
       "      <td>162.500000</td>\n",
       "      <td>1.500000</td>\n",
       "      <td>1.500000</td>\n",
       "    </tr>\n",
       "    <tr>\n",
       "      <th>50%</th>\n",
       "      <td>525.000000</td>\n",
       "      <td>23040.000000</td>\n",
       "      <td>1750.000000</td>\n",
       "      <td>1250.000000</td>\n",
       "      <td>175.000000</td>\n",
       "      <td>2.000000</td>\n",
       "      <td>2.000000</td>\n",
       "    </tr>\n",
       "    <tr>\n",
       "      <th>75%</th>\n",
       "      <td>762.500000</td>\n",
       "      <td>26880.000000</td>\n",
       "      <td>2375.000000</td>\n",
       "      <td>1600.000000</td>\n",
       "      <td>187.500000</td>\n",
       "      <td>2.500000</td>\n",
       "      <td>2.500000</td>\n",
       "    </tr>\n",
       "    <tr>\n",
       "      <th>max</th>\n",
       "      <td>1000.000000</td>\n",
       "      <td>30720.000000</td>\n",
       "      <td>3000.000000</td>\n",
       "      <td>1950.000000</td>\n",
       "      <td>200.000000</td>\n",
       "      <td>3.000000</td>\n",
       "      <td>3.000000</td>\n",
       "    </tr>\n",
       "  </tbody>\n",
       "</table>\n",
       "</div>"
      ],
      "text/plain": [
       "       messages_included  mb_per_month_included  minutes_included  \\\n",
       "count           2.000000               2.000000          2.000000   \n",
       "mean          525.000000           23040.000000       1750.000000   \n",
       "std           671.751442           10861.160159       1767.766953   \n",
       "min            50.000000           15360.000000        500.000000   \n",
       "25%           287.500000           19200.000000       1125.000000   \n",
       "50%           525.000000           23040.000000       1750.000000   \n",
       "75%           762.500000           26880.000000       2375.000000   \n",
       "max          1000.000000           30720.000000       3000.000000   \n",
       "\n",
       "       rub_monthly_fee  rub_per_gb  rub_per_message  rub_per_minute  \n",
       "count         2.000000    2.000000         2.000000        2.000000  \n",
       "mean       1250.000000  175.000000         2.000000        2.000000  \n",
       "std         989.949494   35.355339         1.414214        1.414214  \n",
       "min         550.000000  150.000000         1.000000        1.000000  \n",
       "25%         900.000000  162.500000         1.500000        1.500000  \n",
       "50%        1250.000000  175.000000         2.000000        2.000000  \n",
       "75%        1600.000000  187.500000         2.500000        2.500000  \n",
       "max        1950.000000  200.000000         3.000000        3.000000  "
      ]
     },
     "metadata": {},
     "output_type": "display_data"
    },
    {
     "data": {
      "text/plain": [
       "'users'"
      ]
     },
     "metadata": {},
     "output_type": "display_data"
    },
    {
     "name": "stdout",
     "output_type": "stream",
     "text": [
      "<class 'pandas.core.frame.DataFrame'>\n",
      "RangeIndex: 500 entries, 0 to 499\n",
      "Data columns (total 8 columns):\n",
      " #   Column      Non-Null Count  Dtype \n",
      "---  ------      --------------  ----- \n",
      " 0   user_id     500 non-null    int64 \n",
      " 1   age         500 non-null    int64 \n",
      " 2   churn_date  38 non-null     object\n",
      " 3   city        500 non-null    object\n",
      " 4   first_name  500 non-null    object\n",
      " 5   last_name   500 non-null    object\n",
      " 6   reg_date    500 non-null    object\n",
      " 7   tariff      500 non-null    object\n",
      "dtypes: int64(2), object(6)\n",
      "memory usage: 31.4+ KB\n"
     ]
    },
    {
     "data": {
      "text/plain": [
       "None"
      ]
     },
     "metadata": {},
     "output_type": "display_data"
    },
    {
     "data": {
      "text/html": [
       "<div>\n",
       "<style scoped>\n",
       "    .dataframe tbody tr th:only-of-type {\n",
       "        vertical-align: middle;\n",
       "    }\n",
       "\n",
       "    .dataframe tbody tr th {\n",
       "        vertical-align: top;\n",
       "    }\n",
       "\n",
       "    .dataframe thead th {\n",
       "        text-align: right;\n",
       "    }\n",
       "</style>\n",
       "<table border=\"1\" class=\"dataframe\">\n",
       "  <thead>\n",
       "    <tr style=\"text-align: right;\">\n",
       "      <th></th>\n",
       "      <th>user_id</th>\n",
       "      <th>age</th>\n",
       "    </tr>\n",
       "  </thead>\n",
       "  <tbody>\n",
       "    <tr>\n",
       "      <th>count</th>\n",
       "      <td>500.000000</td>\n",
       "      <td>500.00000</td>\n",
       "    </tr>\n",
       "    <tr>\n",
       "      <th>mean</th>\n",
       "      <td>1249.500000</td>\n",
       "      <td>46.58800</td>\n",
       "    </tr>\n",
       "    <tr>\n",
       "      <th>std</th>\n",
       "      <td>144.481833</td>\n",
       "      <td>16.66763</td>\n",
       "    </tr>\n",
       "    <tr>\n",
       "      <th>min</th>\n",
       "      <td>1000.000000</td>\n",
       "      <td>18.00000</td>\n",
       "    </tr>\n",
       "    <tr>\n",
       "      <th>25%</th>\n",
       "      <td>1124.750000</td>\n",
       "      <td>32.00000</td>\n",
       "    </tr>\n",
       "    <tr>\n",
       "      <th>50%</th>\n",
       "      <td>1249.500000</td>\n",
       "      <td>46.00000</td>\n",
       "    </tr>\n",
       "    <tr>\n",
       "      <th>75%</th>\n",
       "      <td>1374.250000</td>\n",
       "      <td>62.00000</td>\n",
       "    </tr>\n",
       "    <tr>\n",
       "      <th>max</th>\n",
       "      <td>1499.000000</td>\n",
       "      <td>75.00000</td>\n",
       "    </tr>\n",
       "  </tbody>\n",
       "</table>\n",
       "</div>"
      ],
      "text/plain": [
       "           user_id        age\n",
       "count   500.000000  500.00000\n",
       "mean   1249.500000   46.58800\n",
       "std     144.481833   16.66763\n",
       "min    1000.000000   18.00000\n",
       "25%    1124.750000   32.00000\n",
       "50%    1249.500000   46.00000\n",
       "75%    1374.250000   62.00000\n",
       "max    1499.000000   75.00000"
      ]
     },
     "metadata": {},
     "output_type": "display_data"
    }
   ],
   "source": [
    "#получим краткую информацию по каждому датасету\n",
    "display('calls')\n",
    "display(calls.info()) #основная информация о датасете calls\n",
    "display(calls.describe()) #краткая информация о датасете calls\n",
    "display('internet')\n",
    "display(internet.info()) #основная информация о датасете internet\n",
    "display(internet.describe()) #краткая информация о датасете internet\n",
    "display('messages')\n",
    "display(messages.info()) #основная информация о датасете messages\n",
    "display(messages.describe()) #краткая информация о датасете messages\n",
    "display('tariffs')\n",
    "display(tariffs.info()) #основная информация о датасете tariffs\n",
    "display(tariffs.describe()) #краткая информация о датасете tariffs\n",
    "display('users')\n",
    "display(users.info()) #основная информация о датасете users\n",
    "display(users.describe()) #краткая информация о датасете users"
   ]
  },
  {
   "cell_type": "code",
   "execution_count": 5,
   "metadata": {
    "scrolled": false
   },
   "outputs": [
    {
     "data": {
      "text/plain": [
       "'исходный график'"
      ]
     },
     "metadata": {},
     "output_type": "display_data"
    },
    {
     "data": {
      "image/png": "[encoded data removed]",
      "text/plain": [
       "<Figure size 432x288 with 1 Axes>"
      ]
     },
     "metadata": {
      "needs_background": "light"
     },
     "output_type": "display_data"
    },
    {
     "data": {
      "text/plain": [
       "'графики без значения 0.0'"
      ]
     },
     "metadata": {},
     "output_type": "display_data"
    },
    {
     "data": {
      "image/png": "[encoded data removed]",
      "text/plain": [
       "<Figure size 864x864 with 4 Axes>"
      ]
     },
     "metadata": {
      "needs_background": "light"
     },
     "output_type": "display_data"
    }
   ],
   "source": [
    "display('исходный график')\n",
    "internet['mb_used'].hist(bins=100) \n",
    "plt.show()\n",
    "\n",
    "display('графики без значения 0.0')\n",
    "internet.query('mb_used > 0.0').hist(\n",
    "    bins=100, \n",
    "    figsize = (12,12));"
   ]
  },
  {
   "cell_type": "code",
   "execution_count": 6,
   "metadata": {},
   "outputs": [
    {
     "data": {
      "text/plain": [
       "'Кол-во уникальных польз. в таблице calls'"
      ]
     },
     "metadata": {},
     "output_type": "display_data"
    },
    {
     "data": {
      "text/plain": [
       "492"
      ]
     },
     "metadata": {},
     "output_type": "display_data"
    },
    {
     "data": {
      "text/plain": [
       "'Кол-во уникальных польз. в таблице internet'"
      ]
     },
     "metadata": {},
     "output_type": "display_data"
    },
    {
     "data": {
      "text/plain": [
       "497"
      ]
     },
     "metadata": {},
     "output_type": "display_data"
    },
    {
     "data": {
      "text/plain": [
       "'Кол-во уникальных польз. в таблице messages'"
      ]
     },
     "metadata": {},
     "output_type": "display_data"
    },
    {
     "data": {
      "text/plain": [
       "426"
      ]
     },
     "metadata": {},
     "output_type": "display_data"
    },
    {
     "data": {
      "text/plain": [
       "'Кол-во уникальных польз. в таблице users'"
      ]
     },
     "metadata": {},
     "output_type": "display_data"
    },
    {
     "data": {
      "text/plain": [
       "500"
      ]
     },
     "metadata": {},
     "output_type": "display_data"
    },
    {
     "data": {
      "text/plain": [
       "'уникальность пересечения значений первичных ключей (user_id) между объединяемыми таблицами'"
      ]
     },
     "metadata": {},
     "output_type": "display_data"
    },
    {
     "data": {
      "text/plain": [
       "419"
      ]
     },
     "metadata": {},
     "output_type": "display_data"
    }
   ],
   "source": [
    "cross = list(set(calls.user_id) \n",
    "             & set(internet.user_id) \n",
    "             & set(messages.user_id) \n",
    "             & set(users.user_id))\n",
    "display('Кол-во уникальных польз. в таблице calls',\n",
    "len(calls.user_id.unique()))\n",
    "display('Кол-во уникальных польз. в таблице internet',\n",
    "len(internet.user_id.unique()))\n",
    "display('Кол-во уникальных польз. в таблице messages',\n",
    "len(messages.user_id.unique()))\n",
    "display('Кол-во уникальных польз. в таблице users',\n",
    "len(users.user_id.unique()))\n",
    "display('уникальность пересечения значений первичных ключей (user_id) между объединяемыми таблицами',\n",
    "len(cross))"
   ]
  },
  {
   "cell_type": "markdown",
   "metadata": {},
   "source": [
    "### Вывод"
   ]
  },
  {
   "cell_type": "markdown",
   "metadata": {},
   "source": [
    "Многие столбцы не соответсвуют нужным форматам, в основном это столбцы с датами. "
   ]
  },
  {
   "cell_type": "markdown",
   "metadata": {},
   "source": [
    "## Приведём файлы к нужным форматам"
   ]
  },
  {
   "cell_type": "markdown",
   "metadata": {},
   "source": [
    "### calls"
   ]
  },
  {
   "cell_type": "code",
   "execution_count": 7,
   "metadata": {},
   "outputs": [
    {
     "data": {
      "text/plain": [
       "0          0\n",
       "1          0\n",
       "2          3\n",
       "3         14\n",
       "4          6\n",
       "          ..\n",
       "202602     1\n",
       "202603    19\n",
       "202604    11\n",
       "202605     5\n",
       "202606    20\n",
       "Name: duration, Length: 202607, dtype: int64"
      ]
     },
     "metadata": {},
     "output_type": "display_data"
    }
   ],
   "source": [
    "#колонку с датой переведем в нужный формат\n",
    "calls['call_date'] = pd.to_datetime(calls['call_date'], format='%Y-%m-%d')\n",
    "\n",
    "\n",
    "#ИСПРАВЛЕНИЕ\n",
    "calls.duration = np.ceil(calls['duration']).astype('int')\n",
    "#проверка\n",
    "display(calls.duration)\n",
    "\n",
    "#создадим столбец с месяцем\n",
    "calls['month'] = pd.DatetimeIndex(calls['call_date']).month\n"
   ]
  },
  {
   "cell_type": "code",
   "execution_count": 8,
   "metadata": {
    "scrolled": false
   },
   "outputs": [
    {
     "name": "stdout",
     "output_type": "stream",
     "text": [
      "<class 'pandas.core.frame.DataFrame'>\n",
      "RangeIndex: 202607 entries, 0 to 202606\n",
      "Data columns (total 5 columns):\n",
      " #   Column     Non-Null Count   Dtype         \n",
      "---  ------     --------------   -----         \n",
      " 0   id         202607 non-null  object        \n",
      " 1   call_date  202607 non-null  datetime64[ns]\n",
      " 2   duration   202607 non-null  int64         \n",
      " 3   user_id    202607 non-null  int64         \n",
      " 4   month      202607 non-null  int64         \n",
      "dtypes: datetime64[ns](1), int64(3), object(1)\n",
      "memory usage: 7.7+ MB\n"
     ]
    },
    {
     "data": {
      "text/html": [
       "<div>\n",
       "<style scoped>\n",
       "    .dataframe tbody tr th:only-of-type {\n",
       "        vertical-align: middle;\n",
       "    }\n",
       "\n",
       "    .dataframe tbody tr th {\n",
       "        vertical-align: top;\n",
       "    }\n",
       "\n",
       "    .dataframe thead th {\n",
       "        text-align: right;\n",
       "    }\n",
       "</style>\n",
       "<table border=\"1\" class=\"dataframe\">\n",
       "  <thead>\n",
       "    <tr style=\"text-align: right;\">\n",
       "      <th></th>\n",
       "      <th>id</th>\n",
       "      <th>call_date</th>\n",
       "      <th>duration</th>\n",
       "      <th>user_id</th>\n",
       "      <th>month</th>\n",
       "    </tr>\n",
       "  </thead>\n",
       "  <tbody>\n",
       "    <tr>\n",
       "      <th>0</th>\n",
       "      <td>1000_0</td>\n",
       "      <td>2018-07-25</td>\n",
       "      <td>0</td>\n",
       "      <td>1000</td>\n",
       "      <td>7</td>\n",
       "    </tr>\n",
       "    <tr>\n",
       "      <th>1</th>\n",
       "      <td>1000_1</td>\n",
       "      <td>2018-08-17</td>\n",
       "      <td>0</td>\n",
       "      <td>1000</td>\n",
       "      <td>8</td>\n",
       "    </tr>\n",
       "    <tr>\n",
       "      <th>2</th>\n",
       "      <td>1000_2</td>\n",
       "      <td>2018-06-11</td>\n",
       "      <td>3</td>\n",
       "      <td>1000</td>\n",
       "      <td>6</td>\n",
       "    </tr>\n",
       "  </tbody>\n",
       "</table>\n",
       "</div>"
      ],
      "text/plain": [
       "       id  call_date  duration  user_id  month\n",
       "0  1000_0 2018-07-25         0     1000      7\n",
       "1  1000_1 2018-08-17         0     1000      8\n",
       "2  1000_2 2018-06-11         3     1000      6"
      ]
     },
     "execution_count": 8,
     "metadata": {},
     "output_type": "execute_result"
    }
   ],
   "source": [
    "#проверим изменения\n",
    "calls.info()\n",
    "calls.head(3)"
   ]
  },
  {
   "cell_type": "markdown",
   "metadata": {},
   "source": [
    "### internet"
   ]
  },
  {
   "cell_type": "code",
   "execution_count": 9,
   "metadata": {},
   "outputs": [
    {
     "data": {
      "text/plain": [
       "0         11\n",
       "1          9\n",
       "2          6\n",
       "3          8\n",
       "4          9\n",
       "          ..\n",
       "149391    10\n",
       "149392    12\n",
       "149393    10\n",
       "149394    11\n",
       "149395    10\n",
       "Name: month, Length: 149396, dtype: int64"
      ]
     },
     "execution_count": 9,
     "metadata": {},
     "output_type": "execute_result"
    }
   ],
   "source": [
    "#колонку с датой переведем в нужный формат\n",
    "internet['session_date'] = pd.to_datetime(internet['session_date'], format='%Y-%m-%d')\n",
    "\n",
    "#создадим столбец с месяцем\n",
    "internet['month'] = pd.DatetimeIndex(internet['session_date']).month\n",
    "internet['month']\n"
   ]
  },
  {
   "cell_type": "code",
   "execution_count": 10,
   "metadata": {},
   "outputs": [
    {
     "name": "stdout",
     "output_type": "stream",
     "text": [
      "<class 'pandas.core.frame.DataFrame'>\n",
      "RangeIndex: 149396 entries, 0 to 149395\n",
      "Data columns (total 6 columns):\n",
      " #   Column        Non-Null Count   Dtype         \n",
      "---  ------        --------------   -----         \n",
      " 0   Unnamed: 0    149396 non-null  int64         \n",
      " 1   id            149396 non-null  object        \n",
      " 2   mb_used       149396 non-null  float64       \n",
      " 3   session_date  149396 non-null  datetime64[ns]\n",
      " 4   user_id       149396 non-null  int64         \n",
      " 5   month         149396 non-null  int64         \n",
      "dtypes: datetime64[ns](1), float64(1), int64(3), object(1)\n",
      "memory usage: 6.8+ MB\n"
     ]
    },
    {
     "data": {
      "text/html": [
       "<div>\n",
       "<style scoped>\n",
       "    .dataframe tbody tr th:only-of-type {\n",
       "        vertical-align: middle;\n",
       "    }\n",
       "\n",
       "    .dataframe tbody tr th {\n",
       "        vertical-align: top;\n",
       "    }\n",
       "\n",
       "    .dataframe thead th {\n",
       "        text-align: right;\n",
       "    }\n",
       "</style>\n",
       "<table border=\"1\" class=\"dataframe\">\n",
       "  <thead>\n",
       "    <tr style=\"text-align: right;\">\n",
       "      <th></th>\n",
       "      <th>Unnamed: 0</th>\n",
       "      <th>id</th>\n",
       "      <th>mb_used</th>\n",
       "      <th>session_date</th>\n",
       "      <th>user_id</th>\n",
       "      <th>month</th>\n",
       "    </tr>\n",
       "  </thead>\n",
       "  <tbody>\n",
       "    <tr>\n",
       "      <th>0</th>\n",
       "      <td>0</td>\n",
       "      <td>1000_0</td>\n",
       "      <td>112.95</td>\n",
       "      <td>2018-11-25</td>\n",
       "      <td>1000</td>\n",
       "      <td>11</td>\n",
       "    </tr>\n",
       "    <tr>\n",
       "      <th>1</th>\n",
       "      <td>1</td>\n",
       "      <td>1000_1</td>\n",
       "      <td>1052.81</td>\n",
       "      <td>2018-09-07</td>\n",
       "      <td>1000</td>\n",
       "      <td>9</td>\n",
       "    </tr>\n",
       "    <tr>\n",
       "      <th>2</th>\n",
       "      <td>2</td>\n",
       "      <td>1000_2</td>\n",
       "      <td>1197.26</td>\n",
       "      <td>2018-06-25</td>\n",
       "      <td>1000</td>\n",
       "      <td>6</td>\n",
       "    </tr>\n",
       "  </tbody>\n",
       "</table>\n",
       "</div>"
      ],
      "text/plain": [
       "   Unnamed: 0      id  mb_used session_date  user_id  month\n",
       "0           0  1000_0   112.95   2018-11-25     1000     11\n",
       "1           1  1000_1  1052.81   2018-09-07     1000      9\n",
       "2           2  1000_2  1197.26   2018-06-25     1000      6"
      ]
     },
     "execution_count": 10,
     "metadata": {},
     "output_type": "execute_result"
    }
   ],
   "source": [
    "#проверим изменения\n",
    "internet.info()\n",
    "internet.head(3)"
   ]
  },
  {
   "cell_type": "markdown",
   "metadata": {},
   "source": [
    "### messages"
   ]
  },
  {
   "cell_type": "code",
   "execution_count": 11,
   "metadata": {},
   "outputs": [],
   "source": [
    "#приведем даты к соотвествующему типу данных\n",
    "messages['message_date'] = pd.to_datetime(messages['message_date'], format='%Y-%m-%d')\n",
    "\n",
    "#создадим доп столбец с месяцем\n",
    "messages['month'] = pd.DatetimeIndex(messages['message_date']).month"
   ]
  },
  {
   "cell_type": "code",
   "execution_count": 12,
   "metadata": {},
   "outputs": [
    {
     "name": "stdout",
     "output_type": "stream",
     "text": [
      "<class 'pandas.core.frame.DataFrame'>\n",
      "RangeIndex: 123036 entries, 0 to 123035\n",
      "Data columns (total 4 columns):\n",
      " #   Column        Non-Null Count   Dtype         \n",
      "---  ------        --------------   -----         \n",
      " 0   id            123036 non-null  object        \n",
      " 1   message_date  123036 non-null  datetime64[ns]\n",
      " 2   user_id       123036 non-null  int64         \n",
      " 3   month         123036 non-null  int64         \n",
      "dtypes: datetime64[ns](1), int64(2), object(1)\n",
      "memory usage: 3.8+ MB\n"
     ]
    },
    {
     "data": {
      "text/html": [
       "<div>\n",
       "<style scoped>\n",
       "    .dataframe tbody tr th:only-of-type {\n",
       "        vertical-align: middle;\n",
       "    }\n",
       "\n",
       "    .dataframe tbody tr th {\n",
       "        vertical-align: top;\n",
       "    }\n",
       "\n",
       "    .dataframe thead th {\n",
       "        text-align: right;\n",
       "    }\n",
       "</style>\n",
       "<table border=\"1\" class=\"dataframe\">\n",
       "  <thead>\n",
       "    <tr style=\"text-align: right;\">\n",
       "      <th></th>\n",
       "      <th>id</th>\n",
       "      <th>message_date</th>\n",
       "      <th>user_id</th>\n",
       "      <th>month</th>\n",
       "    </tr>\n",
       "  </thead>\n",
       "  <tbody>\n",
       "    <tr>\n",
       "      <th>0</th>\n",
       "      <td>1000_0</td>\n",
       "      <td>2018-06-27</td>\n",
       "      <td>1000</td>\n",
       "      <td>6</td>\n",
       "    </tr>\n",
       "    <tr>\n",
       "      <th>1</th>\n",
       "      <td>1000_1</td>\n",
       "      <td>2018-10-08</td>\n",
       "      <td>1000</td>\n",
       "      <td>10</td>\n",
       "    </tr>\n",
       "    <tr>\n",
       "      <th>2</th>\n",
       "      <td>1000_2</td>\n",
       "      <td>2018-08-04</td>\n",
       "      <td>1000</td>\n",
       "      <td>8</td>\n",
       "    </tr>\n",
       "  </tbody>\n",
       "</table>\n",
       "</div>"
      ],
      "text/plain": [
       "       id message_date  user_id  month\n",
       "0  1000_0   2018-06-27     1000      6\n",
       "1  1000_1   2018-10-08     1000     10\n",
       "2  1000_2   2018-08-04     1000      8"
      ]
     },
     "execution_count": 12,
     "metadata": {},
     "output_type": "execute_result"
    }
   ],
   "source": [
    "#проверим изменения\n",
    "messages.info()\n",
    "messages.head(3)"
   ]
  },
  {
   "cell_type": "markdown",
   "metadata": {},
   "source": [
    "### tariffs"
   ]
  },
  {
   "cell_type": "code",
   "execution_count": 13,
   "metadata": {},
   "outputs": [
    {
     "data": {
      "text/html": [
       "<div>\n",
       "<style scoped>\n",
       "    .dataframe tbody tr th:only-of-type {\n",
       "        vertical-align: middle;\n",
       "    }\n",
       "\n",
       "    .dataframe tbody tr th {\n",
       "        vertical-align: top;\n",
       "    }\n",
       "\n",
       "    .dataframe thead th {\n",
       "        text-align: right;\n",
       "    }\n",
       "</style>\n",
       "<table border=\"1\" class=\"dataframe\">\n",
       "  <thead>\n",
       "    <tr style=\"text-align: right;\">\n",
       "      <th></th>\n",
       "      <th>messages_included</th>\n",
       "      <th>mb_per_month_included</th>\n",
       "      <th>minutes_included</th>\n",
       "      <th>rub_monthly_fee</th>\n",
       "      <th>rub_per_gb</th>\n",
       "      <th>rub_per_message</th>\n",
       "      <th>rub_per_minute</th>\n",
       "      <th>tariff_name</th>\n",
       "      <th>tariff_id</th>\n",
       "    </tr>\n",
       "  </thead>\n",
       "  <tbody>\n",
       "    <tr>\n",
       "      <th>0</th>\n",
       "      <td>50</td>\n",
       "      <td>15360</td>\n",
       "      <td>500</td>\n",
       "      <td>550</td>\n",
       "      <td>200</td>\n",
       "      <td>3</td>\n",
       "      <td>3</td>\n",
       "      <td>smart</td>\n",
       "      <td>0</td>\n",
       "    </tr>\n",
       "    <tr>\n",
       "      <th>1</th>\n",
       "      <td>1000</td>\n",
       "      <td>30720</td>\n",
       "      <td>3000</td>\n",
       "      <td>1950</td>\n",
       "      <td>150</td>\n",
       "      <td>1</td>\n",
       "      <td>1</td>\n",
       "      <td>ultra</td>\n",
       "      <td>1</td>\n",
       "    </tr>\n",
       "  </tbody>\n",
       "</table>\n",
       "</div>"
      ],
      "text/plain": [
       "   messages_included  mb_per_month_included  minutes_included  \\\n",
       "0                 50                  15360               500   \n",
       "1               1000                  30720              3000   \n",
       "\n",
       "   rub_monthly_fee  rub_per_gb  rub_per_message  rub_per_minute tariff_name  \\\n",
       "0              550         200                3               3       smart   \n",
       "1             1950         150                1               1       ultra   \n",
       "\n",
       "   tariff_id  \n",
       "0          0  \n",
       "1          1  "
      ]
     },
     "execution_count": 13,
     "metadata": {},
     "output_type": "execute_result"
    }
   ],
   "source": [
    "\n",
    "#данная таблица не нуждается в адаптации \n",
    "\n",
    "#создаем новый столбец с идентификацией тарифа\n",
    "def tariff_id(object):\n",
    "    if object == 'smart':\n",
    "        return 0\n",
    "    elif object == 'ultra':\n",
    "        return 1\n",
    "tariffs['tariff_id'] = tariffs['tariff_name'].apply(tariff_id)\n",
    "\n",
    "tariffs"
   ]
  },
  {
   "cell_type": "markdown",
   "metadata": {},
   "source": [
    "### users"
   ]
  },
  {
   "cell_type": "code",
   "execution_count": 14,
   "metadata": {},
   "outputs": [],
   "source": [
    "#приведем даты к соотвествующему типу данных\n",
    "users['churn_date'] = pd.to_datetime(users['churn_date'], format='%Y-%m-%d')\n",
    "users['reg_date'] = pd.to_datetime(users['reg_date'], format='%Y-%m-%d')\n",
    "\n",
    "#создаем новый столбец с идентификацией тарифа\n",
    "def tariff_id(object):\n",
    "    if object == 'smart':\n",
    "        return 0\n",
    "    elif object == 'ultra':\n",
    "        return 1\n",
    "users['tariff_id'] = users['tariff'].apply(tariff_id)"
   ]
  },
  {
   "cell_type": "code",
   "execution_count": 15,
   "metadata": {},
   "outputs": [
    {
     "name": "stdout",
     "output_type": "stream",
     "text": [
      "<class 'pandas.core.frame.DataFrame'>\n",
      "RangeIndex: 500 entries, 0 to 499\n",
      "Data columns (total 9 columns):\n",
      " #   Column      Non-Null Count  Dtype         \n",
      "---  ------      --------------  -----         \n",
      " 0   user_id     500 non-null    int64         \n",
      " 1   age         500 non-null    int64         \n",
      " 2   churn_date  38 non-null     datetime64[ns]\n",
      " 3   city        500 non-null    object        \n",
      " 4   first_name  500 non-null    object        \n",
      " 5   last_name   500 non-null    object        \n",
      " 6   reg_date    500 non-null    datetime64[ns]\n",
      " 7   tariff      500 non-null    object        \n",
      " 8   tariff_id   500 non-null    int64         \n",
      "dtypes: datetime64[ns](2), int64(3), object(4)\n",
      "memory usage: 35.3+ KB\n"
     ]
    },
    {
     "data": {
      "text/html": [
       "<div>\n",
       "<style scoped>\n",
       "    .dataframe tbody tr th:only-of-type {\n",
       "        vertical-align: middle;\n",
       "    }\n",
       "\n",
       "    .dataframe tbody tr th {\n",
       "        vertical-align: top;\n",
       "    }\n",
       "\n",
       "    .dataframe thead th {\n",
       "        text-align: right;\n",
       "    }\n",
       "</style>\n",
       "<table border=\"1\" class=\"dataframe\">\n",
       "  <thead>\n",
       "    <tr style=\"text-align: right;\">\n",
       "      <th></th>\n",
       "      <th>user_id</th>\n",
       "      <th>age</th>\n",
       "      <th>churn_date</th>\n",
       "      <th>city</th>\n",
       "      <th>first_name</th>\n",
       "      <th>last_name</th>\n",
       "      <th>reg_date</th>\n",
       "      <th>tariff</th>\n",
       "      <th>tariff_id</th>\n",
       "    </tr>\n",
       "  </thead>\n",
       "  <tbody>\n",
       "    <tr>\n",
       "      <th>0</th>\n",
       "      <td>1000</td>\n",
       "      <td>52</td>\n",
       "      <td>NaT</td>\n",
       "      <td>Краснодар</td>\n",
       "      <td>Рафаил</td>\n",
       "      <td>Верещагин</td>\n",
       "      <td>2018-05-25</td>\n",
       "      <td>ultra</td>\n",
       "      <td>1</td>\n",
       "    </tr>\n",
       "    <tr>\n",
       "      <th>1</th>\n",
       "      <td>1001</td>\n",
       "      <td>41</td>\n",
       "      <td>NaT</td>\n",
       "      <td>Москва</td>\n",
       "      <td>Иван</td>\n",
       "      <td>Ежов</td>\n",
       "      <td>2018-11-01</td>\n",
       "      <td>smart</td>\n",
       "      <td>0</td>\n",
       "    </tr>\n",
       "    <tr>\n",
       "      <th>2</th>\n",
       "      <td>1002</td>\n",
       "      <td>59</td>\n",
       "      <td>NaT</td>\n",
       "      <td>Стерлитамак</td>\n",
       "      <td>Евгений</td>\n",
       "      <td>Абрамович</td>\n",
       "      <td>2018-06-17</td>\n",
       "      <td>smart</td>\n",
       "      <td>0</td>\n",
       "    </tr>\n",
       "  </tbody>\n",
       "</table>\n",
       "</div>"
      ],
      "text/plain": [
       "   user_id  age churn_date         city first_name  last_name   reg_date  \\\n",
       "0     1000   52        NaT    Краснодар     Рафаил  Верещагин 2018-05-25   \n",
       "1     1001   41        NaT       Москва       Иван       Ежов 2018-11-01   \n",
       "2     1002   59        NaT  Стерлитамак    Евгений  Абрамович 2018-06-17   \n",
       "\n",
       "  tariff  tariff_id  \n",
       "0  ultra          1  \n",
       "1  smart          0  \n",
       "2  smart          0  "
      ]
     },
     "execution_count": 15,
     "metadata": {},
     "output_type": "execute_result"
    }
   ],
   "source": [
    "#проверим изменения\n",
    "users.info()\n",
    "users.head(3)"
   ]
  },
  {
   "cell_type": "markdown",
   "metadata": {},
   "source": [
    "### Группировка таблиц"
   ]
  },
  {
   "cell_type": "markdown",
   "metadata": {},
   "source": [
    "#### сообщения"
   ]
  },
  {
   "cell_type": "code",
   "execution_count": 16,
   "metadata": {},
   "outputs": [
    {
     "data": {
      "text/html": [
       "<div>\n",
       "<style scoped>\n",
       "    .dataframe tbody tr th:only-of-type {\n",
       "        vertical-align: middle;\n",
       "    }\n",
       "\n",
       "    .dataframe tbody tr th {\n",
       "        vertical-align: top;\n",
       "    }\n",
       "\n",
       "    .dataframe thead th {\n",
       "        text-align: right;\n",
       "    }\n",
       "</style>\n",
       "<table border=\"1\" class=\"dataframe\">\n",
       "  <thead>\n",
       "    <tr style=\"text-align: right;\">\n",
       "      <th></th>\n",
       "      <th>user_id</th>\n",
       "      <th>month</th>\n",
       "      <th>messages</th>\n",
       "    </tr>\n",
       "  </thead>\n",
       "  <tbody>\n",
       "    <tr>\n",
       "      <th>0</th>\n",
       "      <td>1000</td>\n",
       "      <td>5</td>\n",
       "      <td>22</td>\n",
       "    </tr>\n",
       "    <tr>\n",
       "      <th>1</th>\n",
       "      <td>1000</td>\n",
       "      <td>6</td>\n",
       "      <td>60</td>\n",
       "    </tr>\n",
       "    <tr>\n",
       "      <th>2</th>\n",
       "      <td>1000</td>\n",
       "      <td>7</td>\n",
       "      <td>75</td>\n",
       "    </tr>\n",
       "    <tr>\n",
       "      <th>3</th>\n",
       "      <td>1000</td>\n",
       "      <td>8</td>\n",
       "      <td>81</td>\n",
       "    </tr>\n",
       "    <tr>\n",
       "      <th>4</th>\n",
       "      <td>1000</td>\n",
       "      <td>9</td>\n",
       "      <td>57</td>\n",
       "    </tr>\n",
       "  </tbody>\n",
       "</table>\n",
       "</div>"
      ],
      "text/plain": [
       "   user_id  month  messages\n",
       "0     1000      5        22\n",
       "1     1000      6        60\n",
       "2     1000      7        75\n",
       "3     1000      8        81\n",
       "4     1000      9        57"
      ]
     },
     "execution_count": 16,
     "metadata": {},
     "output_type": "execute_result"
    }
   ],
   "source": [
    "messages_group = messages.groupby(['user_id','month']).agg(\n",
    "    messages = ('id', 'count')\n",
    ").reset_index()\n",
    "messages_group.head()"
   ]
  },
  {
   "cell_type": "markdown",
   "metadata": {},
   "source": [
    "#### звонки"
   ]
  },
  {
   "cell_type": "code",
   "execution_count": 17,
   "metadata": {},
   "outputs": [
    {
     "data": {
      "text/html": [
       "<div>\n",
       "<style scoped>\n",
       "    .dataframe tbody tr th:only-of-type {\n",
       "        vertical-align: middle;\n",
       "    }\n",
       "\n",
       "    .dataframe tbody tr th {\n",
       "        vertical-align: top;\n",
       "    }\n",
       "\n",
       "    .dataframe thead th {\n",
       "        text-align: right;\n",
       "    }\n",
       "</style>\n",
       "<table border=\"1\" class=\"dataframe\">\n",
       "  <thead>\n",
       "    <tr style=\"text-align: right;\">\n",
       "      <th></th>\n",
       "      <th>id</th>\n",
       "      <th>call_date</th>\n",
       "      <th>duration</th>\n",
       "      <th>user_id</th>\n",
       "      <th>month</th>\n",
       "    </tr>\n",
       "  </thead>\n",
       "  <tbody>\n",
       "    <tr>\n",
       "      <th>0</th>\n",
       "      <td>1000_0</td>\n",
       "      <td>2018-07-25</td>\n",
       "      <td>0</td>\n",
       "      <td>1000</td>\n",
       "      <td>7</td>\n",
       "    </tr>\n",
       "    <tr>\n",
       "      <th>1</th>\n",
       "      <td>1000_1</td>\n",
       "      <td>2018-08-17</td>\n",
       "      <td>0</td>\n",
       "      <td>1000</td>\n",
       "      <td>8</td>\n",
       "    </tr>\n",
       "    <tr>\n",
       "      <th>2</th>\n",
       "      <td>1000_2</td>\n",
       "      <td>2018-06-11</td>\n",
       "      <td>3</td>\n",
       "      <td>1000</td>\n",
       "      <td>6</td>\n",
       "    </tr>\n",
       "    <tr>\n",
       "      <th>3</th>\n",
       "      <td>1000_3</td>\n",
       "      <td>2018-09-21</td>\n",
       "      <td>14</td>\n",
       "      <td>1000</td>\n",
       "      <td>9</td>\n",
       "    </tr>\n",
       "    <tr>\n",
       "      <th>4</th>\n",
       "      <td>1000_4</td>\n",
       "      <td>2018-12-15</td>\n",
       "      <td>6</td>\n",
       "      <td>1000</td>\n",
       "      <td>12</td>\n",
       "    </tr>\n",
       "    <tr>\n",
       "      <th>5</th>\n",
       "      <td>1000_5</td>\n",
       "      <td>2018-11-02</td>\n",
       "      <td>0</td>\n",
       "      <td>1000</td>\n",
       "      <td>11</td>\n",
       "    </tr>\n",
       "    <tr>\n",
       "      <th>6</th>\n",
       "      <td>1000_6</td>\n",
       "      <td>2018-10-18</td>\n",
       "      <td>0</td>\n",
       "      <td>1000</td>\n",
       "      <td>10</td>\n",
       "    </tr>\n",
       "    <tr>\n",
       "      <th>7</th>\n",
       "      <td>1000_7</td>\n",
       "      <td>2018-08-22</td>\n",
       "      <td>19</td>\n",
       "      <td>1000</td>\n",
       "      <td>8</td>\n",
       "    </tr>\n",
       "    <tr>\n",
       "      <th>8</th>\n",
       "      <td>1000_8</td>\n",
       "      <td>2018-09-15</td>\n",
       "      <td>19</td>\n",
       "      <td>1000</td>\n",
       "      <td>9</td>\n",
       "    </tr>\n",
       "    <tr>\n",
       "      <th>9</th>\n",
       "      <td>1000_9</td>\n",
       "      <td>2018-08-15</td>\n",
       "      <td>0</td>\n",
       "      <td>1000</td>\n",
       "      <td>8</td>\n",
       "    </tr>\n",
       "  </tbody>\n",
       "</table>\n",
       "</div>"
      ],
      "text/plain": [
       "       id  call_date  duration  user_id  month\n",
       "0  1000_0 2018-07-25         0     1000      7\n",
       "1  1000_1 2018-08-17         0     1000      8\n",
       "2  1000_2 2018-06-11         3     1000      6\n",
       "3  1000_3 2018-09-21        14     1000      9\n",
       "4  1000_4 2018-12-15         6     1000     12\n",
       "5  1000_5 2018-11-02         0     1000     11\n",
       "6  1000_6 2018-10-18         0     1000     10\n",
       "7  1000_7 2018-08-22        19     1000      8\n",
       "8  1000_8 2018-09-15        19     1000      9\n",
       "9  1000_9 2018-08-15         0     1000      8"
      ]
     },
     "execution_count": 17,
     "metadata": {},
     "output_type": "execute_result"
    }
   ],
   "source": [
    "calls_group = calls.groupby(['user_id','month']).agg(\n",
    "        calls_duration = pd.NamedAgg(column = 'duration', aggfunc = 'sum'),\n",
    "        calls_number = ( 'id', 'count'),\n",
    "    ).reset_index()\n",
    "calls.head(10)"
   ]
  },
  {
   "cell_type": "markdown",
   "metadata": {},
   "source": [
    "#### интернет"
   ]
  },
  {
   "cell_type": "code",
   "execution_count": 18,
   "metadata": {},
   "outputs": [
    {
     "data": {
      "text/html": [
       "<div>\n",
       "<style scoped>\n",
       "    .dataframe tbody tr th:only-of-type {\n",
       "        vertical-align: middle;\n",
       "    }\n",
       "\n",
       "    .dataframe tbody tr th {\n",
       "        vertical-align: top;\n",
       "    }\n",
       "\n",
       "    .dataframe thead th {\n",
       "        text-align: right;\n",
       "    }\n",
       "</style>\n",
       "<table border=\"1\" class=\"dataframe\">\n",
       "  <thead>\n",
       "    <tr style=\"text-align: right;\">\n",
       "      <th></th>\n",
       "      <th>user_id</th>\n",
       "      <th>month</th>\n",
       "      <th>id</th>\n",
       "      <th>mb_used</th>\n",
       "    </tr>\n",
       "  </thead>\n",
       "  <tbody>\n",
       "    <tr>\n",
       "      <th>0</th>\n",
       "      <td>1000</td>\n",
       "      <td>5</td>\n",
       "      <td>5</td>\n",
       "      <td>2253.49</td>\n",
       "    </tr>\n",
       "    <tr>\n",
       "      <th>1</th>\n",
       "      <td>1000</td>\n",
       "      <td>6</td>\n",
       "      <td>49</td>\n",
       "      <td>23233.77</td>\n",
       "    </tr>\n",
       "    <tr>\n",
       "      <th>2</th>\n",
       "      <td>1000</td>\n",
       "      <td>7</td>\n",
       "      <td>29</td>\n",
       "      <td>14003.64</td>\n",
       "    </tr>\n",
       "    <tr>\n",
       "      <th>3</th>\n",
       "      <td>1000</td>\n",
       "      <td>8</td>\n",
       "      <td>29</td>\n",
       "      <td>14055.93</td>\n",
       "    </tr>\n",
       "    <tr>\n",
       "      <th>4</th>\n",
       "      <td>1000</td>\n",
       "      <td>9</td>\n",
       "      <td>27</td>\n",
       "      <td>14568.91</td>\n",
       "    </tr>\n",
       "  </tbody>\n",
       "</table>\n",
       "</div>"
      ],
      "text/plain": [
       "   user_id  month  id   mb_used\n",
       "0     1000      5   5   2253.49\n",
       "1     1000      6  49  23233.77\n",
       "2     1000      7  29  14003.64\n",
       "3     1000      8  29  14055.93\n",
       "4     1000      9  27  14568.91"
      ]
     },
     "execution_count": 18,
     "metadata": {},
     "output_type": "execute_result"
    }
   ],
   "source": [
    "internet_group = internet.groupby(\n",
    "    ['user_id','month']).agg(\n",
    "    {'id': 'count', 'mb_used': 'sum'}).reset_index()\n",
    "internet_group.head()"
   ]
  },
  {
   "cell_type": "markdown",
   "metadata": {},
   "source": [
    "### Объединение данных"
   ]
  },
  {
   "cell_type": "code",
   "execution_count": 19,
   "metadata": {},
   "outputs": [
    {
     "data": {
      "text/html": [
       "<div>\n",
       "<style scoped>\n",
       "    .dataframe tbody tr th:only-of-type {\n",
       "        vertical-align: middle;\n",
       "    }\n",
       "\n",
       "    .dataframe tbody tr th {\n",
       "        vertical-align: top;\n",
       "    }\n",
       "\n",
       "    .dataframe thead th {\n",
       "        text-align: right;\n",
       "    }\n",
       "</style>\n",
       "<table border=\"1\" class=\"dataframe\">\n",
       "  <thead>\n",
       "    <tr style=\"text-align: right;\">\n",
       "      <th></th>\n",
       "      <th>user_id</th>\n",
       "      <th>month</th>\n",
       "      <th>calls_duration</th>\n",
       "      <th>calls_number</th>\n",
       "      <th>messages</th>\n",
       "      <th>id</th>\n",
       "      <th>mb_used</th>\n",
       "      <th>age</th>\n",
       "      <th>churn_date</th>\n",
       "      <th>city</th>\n",
       "      <th>first_name</th>\n",
       "      <th>last_name</th>\n",
       "      <th>reg_date</th>\n",
       "      <th>tariff</th>\n",
       "      <th>tariff_id</th>\n",
       "      <th>messages_included</th>\n",
       "      <th>mb_per_month_included</th>\n",
       "      <th>minutes_included</th>\n",
       "      <th>rub_monthly_fee</th>\n",
       "      <th>rub_per_gb</th>\n",
       "      <th>rub_per_message</th>\n",
       "      <th>rub_per_minute</th>\n",
       "    </tr>\n",
       "  </thead>\n",
       "  <tbody>\n",
       "    <tr>\n",
       "      <th>0</th>\n",
       "      <td>1000</td>\n",
       "      <td>5.0</td>\n",
       "      <td>159.0</td>\n",
       "      <td>22.0</td>\n",
       "      <td>22.0</td>\n",
       "      <td>5.0</td>\n",
       "      <td>2253.49</td>\n",
       "      <td>52</td>\n",
       "      <td>NaT</td>\n",
       "      <td>Краснодар</td>\n",
       "      <td>Рафаил</td>\n",
       "      <td>Верещагин</td>\n",
       "      <td>2018-05-25</td>\n",
       "      <td>ultra</td>\n",
       "      <td>1</td>\n",
       "      <td>1000</td>\n",
       "      <td>30720</td>\n",
       "      <td>3000</td>\n",
       "      <td>1950</td>\n",
       "      <td>150</td>\n",
       "      <td>1</td>\n",
       "      <td>1</td>\n",
       "    </tr>\n",
       "    <tr>\n",
       "      <th>1</th>\n",
       "      <td>1000</td>\n",
       "      <td>6.0</td>\n",
       "      <td>172.0</td>\n",
       "      <td>43.0</td>\n",
       "      <td>60.0</td>\n",
       "      <td>49.0</td>\n",
       "      <td>23233.77</td>\n",
       "      <td>52</td>\n",
       "      <td>NaT</td>\n",
       "      <td>Краснодар</td>\n",
       "      <td>Рафаил</td>\n",
       "      <td>Верещагин</td>\n",
       "      <td>2018-05-25</td>\n",
       "      <td>ultra</td>\n",
       "      <td>1</td>\n",
       "      <td>1000</td>\n",
       "      <td>30720</td>\n",
       "      <td>3000</td>\n",
       "      <td>1950</td>\n",
       "      <td>150</td>\n",
       "      <td>1</td>\n",
       "      <td>1</td>\n",
       "    </tr>\n",
       "    <tr>\n",
       "      <th>2</th>\n",
       "      <td>1000</td>\n",
       "      <td>7.0</td>\n",
       "      <td>340.0</td>\n",
       "      <td>47.0</td>\n",
       "      <td>75.0</td>\n",
       "      <td>29.0</td>\n",
       "      <td>14003.64</td>\n",
       "      <td>52</td>\n",
       "      <td>NaT</td>\n",
       "      <td>Краснодар</td>\n",
       "      <td>Рафаил</td>\n",
       "      <td>Верещагин</td>\n",
       "      <td>2018-05-25</td>\n",
       "      <td>ultra</td>\n",
       "      <td>1</td>\n",
       "      <td>1000</td>\n",
       "      <td>30720</td>\n",
       "      <td>3000</td>\n",
       "      <td>1950</td>\n",
       "      <td>150</td>\n",
       "      <td>1</td>\n",
       "      <td>1</td>\n",
       "    </tr>\n",
       "    <tr>\n",
       "      <th>3</th>\n",
       "      <td>1000</td>\n",
       "      <td>8.0</td>\n",
       "      <td>408.0</td>\n",
       "      <td>52.0</td>\n",
       "      <td>81.0</td>\n",
       "      <td>29.0</td>\n",
       "      <td>14055.93</td>\n",
       "      <td>52</td>\n",
       "      <td>NaT</td>\n",
       "      <td>Краснодар</td>\n",
       "      <td>Рафаил</td>\n",
       "      <td>Верещагин</td>\n",
       "      <td>2018-05-25</td>\n",
       "      <td>ultra</td>\n",
       "      <td>1</td>\n",
       "      <td>1000</td>\n",
       "      <td>30720</td>\n",
       "      <td>3000</td>\n",
       "      <td>1950</td>\n",
       "      <td>150</td>\n",
       "      <td>1</td>\n",
       "      <td>1</td>\n",
       "    </tr>\n",
       "    <tr>\n",
       "      <th>4</th>\n",
       "      <td>1000</td>\n",
       "      <td>9.0</td>\n",
       "      <td>466.0</td>\n",
       "      <td>58.0</td>\n",
       "      <td>57.0</td>\n",
       "      <td>27.0</td>\n",
       "      <td>14568.91</td>\n",
       "      <td>52</td>\n",
       "      <td>NaT</td>\n",
       "      <td>Краснодар</td>\n",
       "      <td>Рафаил</td>\n",
       "      <td>Верещагин</td>\n",
       "      <td>2018-05-25</td>\n",
       "      <td>ultra</td>\n",
       "      <td>1</td>\n",
       "      <td>1000</td>\n",
       "      <td>30720</td>\n",
       "      <td>3000</td>\n",
       "      <td>1950</td>\n",
       "      <td>150</td>\n",
       "      <td>1</td>\n",
       "      <td>1</td>\n",
       "    </tr>\n",
       "    <tr>\n",
       "      <th>...</th>\n",
       "      <td>...</td>\n",
       "      <td>...</td>\n",
       "      <td>...</td>\n",
       "      <td>...</td>\n",
       "      <td>...</td>\n",
       "      <td>...</td>\n",
       "      <td>...</td>\n",
       "      <td>...</td>\n",
       "      <td>...</td>\n",
       "      <td>...</td>\n",
       "      <td>...</td>\n",
       "      <td>...</td>\n",
       "      <td>...</td>\n",
       "      <td>...</td>\n",
       "      <td>...</td>\n",
       "      <td>...</td>\n",
       "      <td>...</td>\n",
       "      <td>...</td>\n",
       "      <td>...</td>\n",
       "      <td>...</td>\n",
       "      <td>...</td>\n",
       "      <td>...</td>\n",
       "    </tr>\n",
       "    <tr>\n",
       "      <th>3211</th>\n",
       "      <td>1489</td>\n",
       "      <td>9.0</td>\n",
       "      <td>NaN</td>\n",
       "      <td>NaN</td>\n",
       "      <td>32.0</td>\n",
       "      <td>63.0</td>\n",
       "      <td>17206.30</td>\n",
       "      <td>35</td>\n",
       "      <td>NaT</td>\n",
       "      <td>Санкт-Петербург</td>\n",
       "      <td>Павел</td>\n",
       "      <td>Гончаров</td>\n",
       "      <td>2018-08-15</td>\n",
       "      <td>smart</td>\n",
       "      <td>0</td>\n",
       "      <td>50</td>\n",
       "      <td>15360</td>\n",
       "      <td>500</td>\n",
       "      <td>550</td>\n",
       "      <td>200</td>\n",
       "      <td>3</td>\n",
       "      <td>3</td>\n",
       "    </tr>\n",
       "    <tr>\n",
       "      <th>3212</th>\n",
       "      <td>1489</td>\n",
       "      <td>10.0</td>\n",
       "      <td>NaN</td>\n",
       "      <td>NaN</td>\n",
       "      <td>21.0</td>\n",
       "      <td>63.0</td>\n",
       "      <td>19559.44</td>\n",
       "      <td>35</td>\n",
       "      <td>NaT</td>\n",
       "      <td>Санкт-Петербург</td>\n",
       "      <td>Павел</td>\n",
       "      <td>Гончаров</td>\n",
       "      <td>2018-08-15</td>\n",
       "      <td>smart</td>\n",
       "      <td>0</td>\n",
       "      <td>50</td>\n",
       "      <td>15360</td>\n",
       "      <td>500</td>\n",
       "      <td>550</td>\n",
       "      <td>200</td>\n",
       "      <td>3</td>\n",
       "      <td>3</td>\n",
       "    </tr>\n",
       "    <tr>\n",
       "      <th>3213</th>\n",
       "      <td>1489</td>\n",
       "      <td>11.0</td>\n",
       "      <td>NaN</td>\n",
       "      <td>NaN</td>\n",
       "      <td>20.0</td>\n",
       "      <td>55.0</td>\n",
       "      <td>17491.56</td>\n",
       "      <td>35</td>\n",
       "      <td>NaT</td>\n",
       "      <td>Санкт-Петербург</td>\n",
       "      <td>Павел</td>\n",
       "      <td>Гончаров</td>\n",
       "      <td>2018-08-15</td>\n",
       "      <td>smart</td>\n",
       "      <td>0</td>\n",
       "      <td>50</td>\n",
       "      <td>15360</td>\n",
       "      <td>500</td>\n",
       "      <td>550</td>\n",
       "      <td>200</td>\n",
       "      <td>3</td>\n",
       "      <td>3</td>\n",
       "    </tr>\n",
       "    <tr>\n",
       "      <th>3214</th>\n",
       "      <td>1489</td>\n",
       "      <td>12.0</td>\n",
       "      <td>NaN</td>\n",
       "      <td>NaN</td>\n",
       "      <td>35.0</td>\n",
       "      <td>51.0</td>\n",
       "      <td>17322.51</td>\n",
       "      <td>35</td>\n",
       "      <td>NaT</td>\n",
       "      <td>Санкт-Петербург</td>\n",
       "      <td>Павел</td>\n",
       "      <td>Гончаров</td>\n",
       "      <td>2018-08-15</td>\n",
       "      <td>smart</td>\n",
       "      <td>0</td>\n",
       "      <td>50</td>\n",
       "      <td>15360</td>\n",
       "      <td>500</td>\n",
       "      <td>550</td>\n",
       "      <td>200</td>\n",
       "      <td>3</td>\n",
       "      <td>3</td>\n",
       "    </tr>\n",
       "    <tr>\n",
       "      <th>3215</th>\n",
       "      <td>1371</td>\n",
       "      <td>NaN</td>\n",
       "      <td>NaN</td>\n",
       "      <td>NaN</td>\n",
       "      <td>NaN</td>\n",
       "      <td>NaN</td>\n",
       "      <td>NaN</td>\n",
       "      <td>50</td>\n",
       "      <td>2018-12-30</td>\n",
       "      <td>Омск</td>\n",
       "      <td>Ириней</td>\n",
       "      <td>Трофимов</td>\n",
       "      <td>2018-12-25</td>\n",
       "      <td>smart</td>\n",
       "      <td>0</td>\n",
       "      <td>50</td>\n",
       "      <td>15360</td>\n",
       "      <td>500</td>\n",
       "      <td>550</td>\n",
       "      <td>200</td>\n",
       "      <td>3</td>\n",
       "      <td>3</td>\n",
       "    </tr>\n",
       "  </tbody>\n",
       "</table>\n",
       "<p>3216 rows × 22 columns</p>\n",
       "</div>"
      ],
      "text/plain": [
       "      user_id  month  calls_duration  calls_number  messages    id   mb_used  \\\n",
       "0        1000    5.0           159.0          22.0      22.0   5.0   2253.49   \n",
       "1        1000    6.0           172.0          43.0      60.0  49.0  23233.77   \n",
       "2        1000    7.0           340.0          47.0      75.0  29.0  14003.64   \n",
       "3        1000    8.0           408.0          52.0      81.0  29.0  14055.93   \n",
       "4        1000    9.0           466.0          58.0      57.0  27.0  14568.91   \n",
       "...       ...    ...             ...           ...       ...   ...       ...   \n",
       "3211     1489    9.0             NaN           NaN      32.0  63.0  17206.30   \n",
       "3212     1489   10.0             NaN           NaN      21.0  63.0  19559.44   \n",
       "3213     1489   11.0             NaN           NaN      20.0  55.0  17491.56   \n",
       "3214     1489   12.0             NaN           NaN      35.0  51.0  17322.51   \n",
       "3215     1371    NaN             NaN           NaN       NaN   NaN       NaN   \n",
       "\n",
       "      age churn_date             city first_name  last_name   reg_date tariff  \\\n",
       "0      52        NaT        Краснодар     Рафаил  Верещагин 2018-05-25  ultra   \n",
       "1      52        NaT        Краснодар     Рафаил  Верещагин 2018-05-25  ultra   \n",
       "2      52        NaT        Краснодар     Рафаил  Верещагин 2018-05-25  ultra   \n",
       "3      52        NaT        Краснодар     Рафаил  Верещагин 2018-05-25  ultra   \n",
       "4      52        NaT        Краснодар     Рафаил  Верещагин 2018-05-25  ultra   \n",
       "...   ...        ...              ...        ...        ...        ...    ...   \n",
       "3211   35        NaT  Санкт-Петербург      Павел   Гончаров 2018-08-15  smart   \n",
       "3212   35        NaT  Санкт-Петербург      Павел   Гончаров 2018-08-15  smart   \n",
       "3213   35        NaT  Санкт-Петербург      Павел   Гончаров 2018-08-15  smart   \n",
       "3214   35        NaT  Санкт-Петербург      Павел   Гончаров 2018-08-15  smart   \n",
       "3215   50 2018-12-30             Омск     Ириней   Трофимов 2018-12-25  smart   \n",
       "\n",
       "      tariff_id  messages_included  mb_per_month_included  minutes_included  \\\n",
       "0             1               1000                  30720              3000   \n",
       "1             1               1000                  30720              3000   \n",
       "2             1               1000                  30720              3000   \n",
       "3             1               1000                  30720              3000   \n",
       "4             1               1000                  30720              3000   \n",
       "...         ...                ...                    ...               ...   \n",
       "3211          0                 50                  15360               500   \n",
       "3212          0                 50                  15360               500   \n",
       "3213          0                 50                  15360               500   \n",
       "3214          0                 50                  15360               500   \n",
       "3215          0                 50                  15360               500   \n",
       "\n",
       "      rub_monthly_fee  rub_per_gb  rub_per_message  rub_per_minute  \n",
       "0                1950         150                1               1  \n",
       "1                1950         150                1               1  \n",
       "2                1950         150                1               1  \n",
       "3                1950         150                1               1  \n",
       "4                1950         150                1               1  \n",
       "...               ...         ...              ...             ...  \n",
       "3211              550         200                3               3  \n",
       "3212              550         200                3               3  \n",
       "3213              550         200                3               3  \n",
       "3214              550         200                3               3  \n",
       "3215              550         200                3               3  \n",
       "\n",
       "[3216 rows x 22 columns]"
      ]
     },
     "execution_count": 19,
     "metadata": {},
     "output_type": "execute_result"
    }
   ],
   "source": [
    "merge_data = calls_group.merge(\n",
    "    messages_group, how='outer', on=['user_id', 'month'])\n",
    "\n",
    "merge_data = merge_data.merge(\n",
    "    internet_group, how='outer', on=['user_id', 'month'])\n",
    "\n",
    "merge_data = merge_data.merge(\n",
    "    users, how='outer', on=['user_id'])\n",
    "\n",
    "merge_data = merge_data.merge(\n",
    "    tariffs, how='outer', on=['tariff_id'])\n",
    "\n",
    "del(merge_data['tariff_name']) \n",
    "#удаляем столбец tariff_name,\n",
    "#так как название тарифа у нас уже есть в колонке tariff\n",
    "merge_data"
   ]
  },
  {
   "cell_type": "code",
   "execution_count": 20,
   "metadata": {},
   "outputs": [
    {
     "data": {
      "text/plain": [
       "500"
      ]
     },
     "execution_count": 20,
     "metadata": {},
     "output_type": "execute_result"
    }
   ],
   "source": [
    "len(merge_data.user_id.unique())"
   ]
  },
  {
   "cell_type": "markdown",
   "metadata": {},
   "source": [
    "никого не потеряли, все гуд"
   ]
  },
  {
   "cell_type": "markdown",
   "metadata": {},
   "source": [
    "Проверка на пропуски и дубликаты"
   ]
  },
  {
   "cell_type": "code",
   "execution_count": 21,
   "metadata": {
    "scrolled": false
   },
   "outputs": [
    {
     "data": {
      "text/plain": [
       "'calls'"
      ]
     },
     "metadata": {},
     "output_type": "display_data"
    },
    {
     "data": {
      "text/plain": [
       "'#количество пропусков в датасете'"
      ]
     },
     "metadata": {},
     "output_type": "display_data"
    },
    {
     "data": {
      "text/plain": [
       "id           0\n",
       "call_date    0\n",
       "duration     0\n",
       "user_id      0\n",
       "month        0\n",
       "dtype: int64"
      ]
     },
     "metadata": {},
     "output_type": "display_data"
    },
    {
     "data": {
      "text/plain": [
       "'#кол-во явных дубликатов'"
      ]
     },
     "metadata": {},
     "output_type": "display_data"
    },
    {
     "data": {
      "text/plain": [
       "0"
      ]
     },
     "metadata": {},
     "output_type": "display_data"
    },
    {
     "data": {
      "text/plain": [
       "'internet'"
      ]
     },
     "metadata": {},
     "output_type": "display_data"
    },
    {
     "data": {
      "text/plain": [
       "'#количество пропусков в датасете'"
      ]
     },
     "metadata": {},
     "output_type": "display_data"
    },
    {
     "data": {
      "text/plain": [
       "Unnamed: 0      0\n",
       "id              0\n",
       "mb_used         0\n",
       "session_date    0\n",
       "user_id         0\n",
       "month           0\n",
       "dtype: int64"
      ]
     },
     "metadata": {},
     "output_type": "display_data"
    },
    {
     "data": {
      "text/plain": [
       "'#кол-во явных дубликатов'"
      ]
     },
     "metadata": {},
     "output_type": "display_data"
    },
    {
     "data": {
      "text/plain": [
       "0"
      ]
     },
     "metadata": {},
     "output_type": "display_data"
    },
    {
     "data": {
      "text/plain": [
       "'messages'"
      ]
     },
     "metadata": {},
     "output_type": "display_data"
    },
    {
     "data": {
      "text/plain": [
       "'#количество пропусков в датасете'"
      ]
     },
     "metadata": {},
     "output_type": "display_data"
    },
    {
     "data": {
      "text/plain": [
       "id              0\n",
       "message_date    0\n",
       "user_id         0\n",
       "month           0\n",
       "dtype: int64"
      ]
     },
     "metadata": {},
     "output_type": "display_data"
    },
    {
     "data": {
      "text/plain": [
       "'#кол-во явных дубликатов'"
      ]
     },
     "metadata": {},
     "output_type": "display_data"
    },
    {
     "data": {
      "text/plain": [
       "0"
      ]
     },
     "metadata": {},
     "output_type": "display_data"
    },
    {
     "data": {
      "text/plain": [
       "'users'"
      ]
     },
     "metadata": {},
     "output_type": "display_data"
    },
    {
     "data": {
      "text/plain": [
       "'#количество пропусков в датасете'"
      ]
     },
     "metadata": {},
     "output_type": "display_data"
    },
    {
     "data": {
      "text/plain": [
       "user_id         0\n",
       "age             0\n",
       "churn_date    462\n",
       "city            0\n",
       "first_name      0\n",
       "last_name       0\n",
       "reg_date        0\n",
       "tariff          0\n",
       "tariff_id       0\n",
       "dtype: int64"
      ]
     },
     "metadata": {},
     "output_type": "display_data"
    },
    {
     "data": {
      "text/plain": [
       "'#процент пропусков от всего датасета'"
      ]
     },
     "metadata": {},
     "output_type": "display_data"
    },
    {
     "data": {
      "text/plain": [
       "churn_date    92.4\n",
       "user_id        0.0\n",
       "age            0.0\n",
       "city           0.0\n",
       "first_name     0.0\n",
       "last_name      0.0\n",
       "reg_date       0.0\n",
       "tariff         0.0\n",
       "tariff_id      0.0\n",
       "dtype: float64"
      ]
     },
     "metadata": {},
     "output_type": "display_data"
    },
    {
     "data": {
      "text/plain": [
       "'#кол-во явных дубликатов'"
      ]
     },
     "metadata": {},
     "output_type": "display_data"
    },
    {
     "data": {
      "text/plain": [
       "0"
      ]
     },
     "metadata": {},
     "output_type": "display_data"
    }
   ],
   "source": [
    "display('calls')\n",
    "display('#количество пропусков в датасете',\n",
    "        calls.isna().sum()) #количество пропусков в датасете\n",
    "display('#кол-во явных дубликатов',\n",
    "        calls.duplicated().sum()) #кол-во явных дубликатов\n",
    "display('internet')\n",
    "display('#количество пропусков в датасете',\n",
    "        internet.isna().sum()) #количество пропусков в датасете\n",
    "display('#кол-во явных дубликатов',\n",
    "        internet.duplicated().sum()) #кол-во явных дубликатов\n",
    "display('messages')\n",
    "display('#количество пропусков в датасете',\n",
    "        messages.isna().sum()) #количество пропусков в датасете\n",
    "display('#кол-во явных дубликатов',\n",
    "        messages.duplicated().sum()) #кол-во явных дубликатов\n",
    "display('users')\n",
    "display('#количество пропусков в датасете',\n",
    "        users.isna().sum()) #количество пропусков в датасете\n",
    "display('#процент пропусков от всего датасета',\n",
    "        users.isna().mean().sort_values(ascending=False)*100) #процент пропусков от всего датасета\n",
    "display('#кол-во явных дубликатов',\n",
    "        users.duplicated().sum()) #кол-во явных дубликатов"
   ]
  },
  {
   "cell_type": "markdown",
   "metadata": {},
   "source": [
    "#### Вывод"
   ]
  },
  {
   "cell_type": "markdown",
   "metadata": {},
   "source": [
    "Столбцы переведены в нужные форматы, добавлены столбцы с месяцами для дальнейших задач. Пропуски имеются в таблице users, это означает, что тариф ещё действовал на момент выгрузки данных у 462 пользователей, что составляет 92,4% от общего датасета. "
   ]
  },
  {
   "cell_type": "code",
   "execution_count": 22,
   "metadata": {},
   "outputs": [
    {
     "data": {
      "text/html": [
       "<div>\n",
       "<style scoped>\n",
       "    .dataframe tbody tr th:only-of-type {\n",
       "        vertical-align: middle;\n",
       "    }\n",
       "\n",
       "    .dataframe tbody tr th {\n",
       "        vertical-align: top;\n",
       "    }\n",
       "\n",
       "    .dataframe thead th {\n",
       "        text-align: right;\n",
       "    }\n",
       "</style>\n",
       "<table border=\"1\" class=\"dataframe\">\n",
       "  <thead>\n",
       "    <tr style=\"text-align: right;\">\n",
       "      <th></th>\n",
       "      <th>user_id</th>\n",
       "      <th>month</th>\n",
       "      <th>calls_duration</th>\n",
       "      <th>calls_number</th>\n",
       "      <th>messages</th>\n",
       "      <th>id</th>\n",
       "      <th>mb_used</th>\n",
       "      <th>age</th>\n",
       "      <th>churn_date</th>\n",
       "      <th>city</th>\n",
       "      <th>first_name</th>\n",
       "      <th>last_name</th>\n",
       "      <th>reg_date</th>\n",
       "      <th>tariff</th>\n",
       "      <th>tariff_id</th>\n",
       "      <th>messages_included</th>\n",
       "      <th>mb_per_month_included</th>\n",
       "      <th>minutes_included</th>\n",
       "      <th>rub_monthly_fee</th>\n",
       "      <th>rub_per_gb</th>\n",
       "      <th>rub_per_message</th>\n",
       "      <th>rub_per_minute</th>\n",
       "    </tr>\n",
       "  </thead>\n",
       "  <tbody>\n",
       "    <tr>\n",
       "      <th>0</th>\n",
       "      <td>1000</td>\n",
       "      <td>5.0</td>\n",
       "      <td>159.0</td>\n",
       "      <td>22.0</td>\n",
       "      <td>22.0</td>\n",
       "      <td>5.0</td>\n",
       "      <td>2253.49</td>\n",
       "      <td>52</td>\n",
       "      <td>NaT</td>\n",
       "      <td>Краснодар</td>\n",
       "      <td>Рафаил</td>\n",
       "      <td>Верещагин</td>\n",
       "      <td>2018-05-25</td>\n",
       "      <td>ultra</td>\n",
       "      <td>1</td>\n",
       "      <td>1000</td>\n",
       "      <td>30720</td>\n",
       "      <td>3000</td>\n",
       "      <td>1950</td>\n",
       "      <td>150</td>\n",
       "      <td>1</td>\n",
       "      <td>1</td>\n",
       "    </tr>\n",
       "    <tr>\n",
       "      <th>1</th>\n",
       "      <td>1000</td>\n",
       "      <td>6.0</td>\n",
       "      <td>172.0</td>\n",
       "      <td>43.0</td>\n",
       "      <td>60.0</td>\n",
       "      <td>49.0</td>\n",
       "      <td>23233.77</td>\n",
       "      <td>52</td>\n",
       "      <td>NaT</td>\n",
       "      <td>Краснодар</td>\n",
       "      <td>Рафаил</td>\n",
       "      <td>Верещагин</td>\n",
       "      <td>2018-05-25</td>\n",
       "      <td>ultra</td>\n",
       "      <td>1</td>\n",
       "      <td>1000</td>\n",
       "      <td>30720</td>\n",
       "      <td>3000</td>\n",
       "      <td>1950</td>\n",
       "      <td>150</td>\n",
       "      <td>1</td>\n",
       "      <td>1</td>\n",
       "    </tr>\n",
       "    <tr>\n",
       "      <th>2</th>\n",
       "      <td>1000</td>\n",
       "      <td>7.0</td>\n",
       "      <td>340.0</td>\n",
       "      <td>47.0</td>\n",
       "      <td>75.0</td>\n",
       "      <td>29.0</td>\n",
       "      <td>14003.64</td>\n",
       "      <td>52</td>\n",
       "      <td>NaT</td>\n",
       "      <td>Краснодар</td>\n",
       "      <td>Рафаил</td>\n",
       "      <td>Верещагин</td>\n",
       "      <td>2018-05-25</td>\n",
       "      <td>ultra</td>\n",
       "      <td>1</td>\n",
       "      <td>1000</td>\n",
       "      <td>30720</td>\n",
       "      <td>3000</td>\n",
       "      <td>1950</td>\n",
       "      <td>150</td>\n",
       "      <td>1</td>\n",
       "      <td>1</td>\n",
       "    </tr>\n",
       "    <tr>\n",
       "      <th>3</th>\n",
       "      <td>1000</td>\n",
       "      <td>8.0</td>\n",
       "      <td>408.0</td>\n",
       "      <td>52.0</td>\n",
       "      <td>81.0</td>\n",
       "      <td>29.0</td>\n",
       "      <td>14055.93</td>\n",
       "      <td>52</td>\n",
       "      <td>NaT</td>\n",
       "      <td>Краснодар</td>\n",
       "      <td>Рафаил</td>\n",
       "      <td>Верещагин</td>\n",
       "      <td>2018-05-25</td>\n",
       "      <td>ultra</td>\n",
       "      <td>1</td>\n",
       "      <td>1000</td>\n",
       "      <td>30720</td>\n",
       "      <td>3000</td>\n",
       "      <td>1950</td>\n",
       "      <td>150</td>\n",
       "      <td>1</td>\n",
       "      <td>1</td>\n",
       "    </tr>\n",
       "    <tr>\n",
       "      <th>4</th>\n",
       "      <td>1000</td>\n",
       "      <td>9.0</td>\n",
       "      <td>466.0</td>\n",
       "      <td>58.0</td>\n",
       "      <td>57.0</td>\n",
       "      <td>27.0</td>\n",
       "      <td>14568.91</td>\n",
       "      <td>52</td>\n",
       "      <td>NaT</td>\n",
       "      <td>Краснодар</td>\n",
       "      <td>Рафаил</td>\n",
       "      <td>Верещагин</td>\n",
       "      <td>2018-05-25</td>\n",
       "      <td>ultra</td>\n",
       "      <td>1</td>\n",
       "      <td>1000</td>\n",
       "      <td>30720</td>\n",
       "      <td>3000</td>\n",
       "      <td>1950</td>\n",
       "      <td>150</td>\n",
       "      <td>1</td>\n",
       "      <td>1</td>\n",
       "    </tr>\n",
       "  </tbody>\n",
       "</table>\n",
       "</div>"
      ],
      "text/plain": [
       "   user_id  month  calls_duration  calls_number  messages    id   mb_used  \\\n",
       "0     1000    5.0           159.0          22.0      22.0   5.0   2253.49   \n",
       "1     1000    6.0           172.0          43.0      60.0  49.0  23233.77   \n",
       "2     1000    7.0           340.0          47.0      75.0  29.0  14003.64   \n",
       "3     1000    8.0           408.0          52.0      81.0  29.0  14055.93   \n",
       "4     1000    9.0           466.0          58.0      57.0  27.0  14568.91   \n",
       "\n",
       "   age churn_date       city first_name  last_name   reg_date tariff  \\\n",
       "0   52        NaT  Краснодар     Рафаил  Верещагин 2018-05-25  ultra   \n",
       "1   52        NaT  Краснодар     Рафаил  Верещагин 2018-05-25  ultra   \n",
       "2   52        NaT  Краснодар     Рафаил  Верещагин 2018-05-25  ultra   \n",
       "3   52        NaT  Краснодар     Рафаил  Верещагин 2018-05-25  ultra   \n",
       "4   52        NaT  Краснодар     Рафаил  Верещагин 2018-05-25  ultra   \n",
       "\n",
       "   tariff_id  messages_included  mb_per_month_included  minutes_included  \\\n",
       "0          1               1000                  30720              3000   \n",
       "1          1               1000                  30720              3000   \n",
       "2          1               1000                  30720              3000   \n",
       "3          1               1000                  30720              3000   \n",
       "4          1               1000                  30720              3000   \n",
       "\n",
       "   rub_monthly_fee  rub_per_gb  rub_per_message  rub_per_minute  \n",
       "0             1950         150                1               1  \n",
       "1             1950         150                1               1  \n",
       "2             1950         150                1               1  \n",
       "3             1950         150                1               1  \n",
       "4             1950         150                1               1  "
      ]
     },
     "execution_count": 22,
     "metadata": {},
     "output_type": "execute_result"
    }
   ],
   "source": [
    "merge_data.head()"
   ]
  },
  {
   "cell_type": "markdown",
   "metadata": {},
   "source": [
    "## Расчет выручки"
   ]
  },
  {
   "cell_type": "code",
   "execution_count": 23,
   "metadata": {},
   "outputs": [
    {
     "data": {
      "text/html": [
       "<div>\n",
       "<style scoped>\n",
       "    .dataframe tbody tr th:only-of-type {\n",
       "        vertical-align: middle;\n",
       "    }\n",
       "\n",
       "    .dataframe tbody tr th {\n",
       "        vertical-align: top;\n",
       "    }\n",
       "\n",
       "    .dataframe thead th {\n",
       "        text-align: right;\n",
       "    }\n",
       "</style>\n",
       "<table border=\"1\" class=\"dataframe\">\n",
       "  <thead>\n",
       "    <tr style=\"text-align: right;\">\n",
       "      <th></th>\n",
       "      <th>user_id</th>\n",
       "      <th>month</th>\n",
       "      <th>calls_duration</th>\n",
       "      <th>calls_number</th>\n",
       "      <th>messages</th>\n",
       "      <th>id</th>\n",
       "      <th>mb_used</th>\n",
       "      <th>age</th>\n",
       "      <th>churn_date</th>\n",
       "      <th>city</th>\n",
       "      <th>first_name</th>\n",
       "      <th>last_name</th>\n",
       "      <th>reg_date</th>\n",
       "      <th>tariff</th>\n",
       "      <th>tariff_id</th>\n",
       "      <th>messages_included</th>\n",
       "      <th>mb_per_month_included</th>\n",
       "      <th>minutes_included</th>\n",
       "      <th>rub_monthly_fee</th>\n",
       "      <th>rub_per_gb</th>\n",
       "      <th>rub_per_message</th>\n",
       "      <th>rub_per_minute</th>\n",
       "      <th>gb_used</th>\n",
       "      <th>traffic</th>\n",
       "    </tr>\n",
       "  </thead>\n",
       "  <tbody>\n",
       "    <tr>\n",
       "      <th>0</th>\n",
       "      <td>1000</td>\n",
       "      <td>5.0</td>\n",
       "      <td>159.0</td>\n",
       "      <td>22.0</td>\n",
       "      <td>22.0</td>\n",
       "      <td>5.0</td>\n",
       "      <td>2253.49</td>\n",
       "      <td>52</td>\n",
       "      <td>NaT</td>\n",
       "      <td>Краснодар</td>\n",
       "      <td>Рафаил</td>\n",
       "      <td>Верещагин</td>\n",
       "      <td>2018-05-25</td>\n",
       "      <td>ultra</td>\n",
       "      <td>1</td>\n",
       "      <td>1000</td>\n",
       "      <td>30720</td>\n",
       "      <td>3000</td>\n",
       "      <td>1950</td>\n",
       "      <td>150</td>\n",
       "      <td>1</td>\n",
       "      <td>1</td>\n",
       "      <td>2.200674</td>\n",
       "      <td>3.0</td>\n",
       "    </tr>\n",
       "    <tr>\n",
       "      <th>1</th>\n",
       "      <td>1000</td>\n",
       "      <td>6.0</td>\n",
       "      <td>172.0</td>\n",
       "      <td>43.0</td>\n",
       "      <td>60.0</td>\n",
       "      <td>49.0</td>\n",
       "      <td>23233.77</td>\n",
       "      <td>52</td>\n",
       "      <td>NaT</td>\n",
       "      <td>Краснодар</td>\n",
       "      <td>Рафаил</td>\n",
       "      <td>Верещагин</td>\n",
       "      <td>2018-05-25</td>\n",
       "      <td>ultra</td>\n",
       "      <td>1</td>\n",
       "      <td>1000</td>\n",
       "      <td>30720</td>\n",
       "      <td>3000</td>\n",
       "      <td>1950</td>\n",
       "      <td>150</td>\n",
       "      <td>1</td>\n",
       "      <td>1</td>\n",
       "      <td>22.689229</td>\n",
       "      <td>23.0</td>\n",
       "    </tr>\n",
       "    <tr>\n",
       "      <th>2</th>\n",
       "      <td>1000</td>\n",
       "      <td>7.0</td>\n",
       "      <td>340.0</td>\n",
       "      <td>47.0</td>\n",
       "      <td>75.0</td>\n",
       "      <td>29.0</td>\n",
       "      <td>14003.64</td>\n",
       "      <td>52</td>\n",
       "      <td>NaT</td>\n",
       "      <td>Краснодар</td>\n",
       "      <td>Рафаил</td>\n",
       "      <td>Верещагин</td>\n",
       "      <td>2018-05-25</td>\n",
       "      <td>ultra</td>\n",
       "      <td>1</td>\n",
       "      <td>1000</td>\n",
       "      <td>30720</td>\n",
       "      <td>3000</td>\n",
       "      <td>1950</td>\n",
       "      <td>150</td>\n",
       "      <td>1</td>\n",
       "      <td>1</td>\n",
       "      <td>13.675430</td>\n",
       "      <td>14.0</td>\n",
       "    </tr>\n",
       "    <tr>\n",
       "      <th>3</th>\n",
       "      <td>1000</td>\n",
       "      <td>8.0</td>\n",
       "      <td>408.0</td>\n",
       "      <td>52.0</td>\n",
       "      <td>81.0</td>\n",
       "      <td>29.0</td>\n",
       "      <td>14055.93</td>\n",
       "      <td>52</td>\n",
       "      <td>NaT</td>\n",
       "      <td>Краснодар</td>\n",
       "      <td>Рафаил</td>\n",
       "      <td>Верещагин</td>\n",
       "      <td>2018-05-25</td>\n",
       "      <td>ultra</td>\n",
       "      <td>1</td>\n",
       "      <td>1000</td>\n",
       "      <td>30720</td>\n",
       "      <td>3000</td>\n",
       "      <td>1950</td>\n",
       "      <td>150</td>\n",
       "      <td>1</td>\n",
       "      <td>1</td>\n",
       "      <td>13.726494</td>\n",
       "      <td>14.0</td>\n",
       "    </tr>\n",
       "    <tr>\n",
       "      <th>4</th>\n",
       "      <td>1000</td>\n",
       "      <td>9.0</td>\n",
       "      <td>466.0</td>\n",
       "      <td>58.0</td>\n",
       "      <td>57.0</td>\n",
       "      <td>27.0</td>\n",
       "      <td>14568.91</td>\n",
       "      <td>52</td>\n",
       "      <td>NaT</td>\n",
       "      <td>Краснодар</td>\n",
       "      <td>Рафаил</td>\n",
       "      <td>Верещагин</td>\n",
       "      <td>2018-05-25</td>\n",
       "      <td>ultra</td>\n",
       "      <td>1</td>\n",
       "      <td>1000</td>\n",
       "      <td>30720</td>\n",
       "      <td>3000</td>\n",
       "      <td>1950</td>\n",
       "      <td>150</td>\n",
       "      <td>1</td>\n",
       "      <td>1</td>\n",
       "      <td>14.227451</td>\n",
       "      <td>15.0</td>\n",
       "    </tr>\n",
       "    <tr>\n",
       "      <th>...</th>\n",
       "      <td>...</td>\n",
       "      <td>...</td>\n",
       "      <td>...</td>\n",
       "      <td>...</td>\n",
       "      <td>...</td>\n",
       "      <td>...</td>\n",
       "      <td>...</td>\n",
       "      <td>...</td>\n",
       "      <td>...</td>\n",
       "      <td>...</td>\n",
       "      <td>...</td>\n",
       "      <td>...</td>\n",
       "      <td>...</td>\n",
       "      <td>...</td>\n",
       "      <td>...</td>\n",
       "      <td>...</td>\n",
       "      <td>...</td>\n",
       "      <td>...</td>\n",
       "      <td>...</td>\n",
       "      <td>...</td>\n",
       "      <td>...</td>\n",
       "      <td>...</td>\n",
       "      <td>...</td>\n",
       "      <td>...</td>\n",
       "    </tr>\n",
       "    <tr>\n",
       "      <th>3211</th>\n",
       "      <td>1489</td>\n",
       "      <td>9.0</td>\n",
       "      <td>NaN</td>\n",
       "      <td>NaN</td>\n",
       "      <td>32.0</td>\n",
       "      <td>63.0</td>\n",
       "      <td>17206.30</td>\n",
       "      <td>35</td>\n",
       "      <td>NaT</td>\n",
       "      <td>Санкт-Петербург</td>\n",
       "      <td>Павел</td>\n",
       "      <td>Гончаров</td>\n",
       "      <td>2018-08-15</td>\n",
       "      <td>smart</td>\n",
       "      <td>0</td>\n",
       "      <td>50</td>\n",
       "      <td>15360</td>\n",
       "      <td>500</td>\n",
       "      <td>550</td>\n",
       "      <td>200</td>\n",
       "      <td>3</td>\n",
       "      <td>3</td>\n",
       "      <td>16.803027</td>\n",
       "      <td>17.0</td>\n",
       "    </tr>\n",
       "    <tr>\n",
       "      <th>3212</th>\n",
       "      <td>1489</td>\n",
       "      <td>10.0</td>\n",
       "      <td>NaN</td>\n",
       "      <td>NaN</td>\n",
       "      <td>21.0</td>\n",
       "      <td>63.0</td>\n",
       "      <td>19559.44</td>\n",
       "      <td>35</td>\n",
       "      <td>NaT</td>\n",
       "      <td>Санкт-Петербург</td>\n",
       "      <td>Павел</td>\n",
       "      <td>Гончаров</td>\n",
       "      <td>2018-08-15</td>\n",
       "      <td>smart</td>\n",
       "      <td>0</td>\n",
       "      <td>50</td>\n",
       "      <td>15360</td>\n",
       "      <td>500</td>\n",
       "      <td>550</td>\n",
       "      <td>200</td>\n",
       "      <td>3</td>\n",
       "      <td>3</td>\n",
       "      <td>19.101016</td>\n",
       "      <td>20.0</td>\n",
       "    </tr>\n",
       "    <tr>\n",
       "      <th>3213</th>\n",
       "      <td>1489</td>\n",
       "      <td>11.0</td>\n",
       "      <td>NaN</td>\n",
       "      <td>NaN</td>\n",
       "      <td>20.0</td>\n",
       "      <td>55.0</td>\n",
       "      <td>17491.56</td>\n",
       "      <td>35</td>\n",
       "      <td>NaT</td>\n",
       "      <td>Санкт-Петербург</td>\n",
       "      <td>Павел</td>\n",
       "      <td>Гончаров</td>\n",
       "      <td>2018-08-15</td>\n",
       "      <td>smart</td>\n",
       "      <td>0</td>\n",
       "      <td>50</td>\n",
       "      <td>15360</td>\n",
       "      <td>500</td>\n",
       "      <td>550</td>\n",
       "      <td>200</td>\n",
       "      <td>3</td>\n",
       "      <td>3</td>\n",
       "      <td>17.081602</td>\n",
       "      <td>18.0</td>\n",
       "    </tr>\n",
       "    <tr>\n",
       "      <th>3214</th>\n",
       "      <td>1489</td>\n",
       "      <td>12.0</td>\n",
       "      <td>NaN</td>\n",
       "      <td>NaN</td>\n",
       "      <td>35.0</td>\n",
       "      <td>51.0</td>\n",
       "      <td>17322.51</td>\n",
       "      <td>35</td>\n",
       "      <td>NaT</td>\n",
       "      <td>Санкт-Петербург</td>\n",
       "      <td>Павел</td>\n",
       "      <td>Гончаров</td>\n",
       "      <td>2018-08-15</td>\n",
       "      <td>smart</td>\n",
       "      <td>0</td>\n",
       "      <td>50</td>\n",
       "      <td>15360</td>\n",
       "      <td>500</td>\n",
       "      <td>550</td>\n",
       "      <td>200</td>\n",
       "      <td>3</td>\n",
       "      <td>3</td>\n",
       "      <td>16.916514</td>\n",
       "      <td>17.0</td>\n",
       "    </tr>\n",
       "    <tr>\n",
       "      <th>3215</th>\n",
       "      <td>1371</td>\n",
       "      <td>NaN</td>\n",
       "      <td>NaN</td>\n",
       "      <td>NaN</td>\n",
       "      <td>NaN</td>\n",
       "      <td>NaN</td>\n",
       "      <td>NaN</td>\n",
       "      <td>50</td>\n",
       "      <td>2018-12-30</td>\n",
       "      <td>Омск</td>\n",
       "      <td>Ириней</td>\n",
       "      <td>Трофимов</td>\n",
       "      <td>2018-12-25</td>\n",
       "      <td>smart</td>\n",
       "      <td>0</td>\n",
       "      <td>50</td>\n",
       "      <td>15360</td>\n",
       "      <td>500</td>\n",
       "      <td>550</td>\n",
       "      <td>200</td>\n",
       "      <td>3</td>\n",
       "      <td>3</td>\n",
       "      <td>NaN</td>\n",
       "      <td>NaN</td>\n",
       "    </tr>\n",
       "  </tbody>\n",
       "</table>\n",
       "<p>3216 rows × 24 columns</p>\n",
       "</div>"
      ],
      "text/plain": [
       "      user_id  month  calls_duration  calls_number  messages    id   mb_used  \\\n",
       "0        1000    5.0           159.0          22.0      22.0   5.0   2253.49   \n",
       "1        1000    6.0           172.0          43.0      60.0  49.0  23233.77   \n",
       "2        1000    7.0           340.0          47.0      75.0  29.0  14003.64   \n",
       "3        1000    8.0           408.0          52.0      81.0  29.0  14055.93   \n",
       "4        1000    9.0           466.0          58.0      57.0  27.0  14568.91   \n",
       "...       ...    ...             ...           ...       ...   ...       ...   \n",
       "3211     1489    9.0             NaN           NaN      32.0  63.0  17206.30   \n",
       "3212     1489   10.0             NaN           NaN      21.0  63.0  19559.44   \n",
       "3213     1489   11.0             NaN           NaN      20.0  55.0  17491.56   \n",
       "3214     1489   12.0             NaN           NaN      35.0  51.0  17322.51   \n",
       "3215     1371    NaN             NaN           NaN       NaN   NaN       NaN   \n",
       "\n",
       "      age churn_date             city first_name  last_name   reg_date tariff  \\\n",
       "0      52        NaT        Краснодар     Рафаил  Верещагин 2018-05-25  ultra   \n",
       "1      52        NaT        Краснодар     Рафаил  Верещагин 2018-05-25  ultra   \n",
       "2      52        NaT        Краснодар     Рафаил  Верещагин 2018-05-25  ultra   \n",
       "3      52        NaT        Краснодар     Рафаил  Верещагин 2018-05-25  ultra   \n",
       "4      52        NaT        Краснодар     Рафаил  Верещагин 2018-05-25  ultra   \n",
       "...   ...        ...              ...        ...        ...        ...    ...   \n",
       "3211   35        NaT  Санкт-Петербург      Павел   Гончаров 2018-08-15  smart   \n",
       "3212   35        NaT  Санкт-Петербург      Павел   Гончаров 2018-08-15  smart   \n",
       "3213   35        NaT  Санкт-Петербург      Павел   Гончаров 2018-08-15  smart   \n",
       "3214   35        NaT  Санкт-Петербург      Павел   Гончаров 2018-08-15  smart   \n",
       "3215   50 2018-12-30             Омск     Ириней   Трофимов 2018-12-25  smart   \n",
       "\n",
       "      tariff_id  messages_included  mb_per_month_included  minutes_included  \\\n",
       "0             1               1000                  30720              3000   \n",
       "1             1               1000                  30720              3000   \n",
       "2             1               1000                  30720              3000   \n",
       "3             1               1000                  30720              3000   \n",
       "4             1               1000                  30720              3000   \n",
       "...         ...                ...                    ...               ...   \n",
       "3211          0                 50                  15360               500   \n",
       "3212          0                 50                  15360               500   \n",
       "3213          0                 50                  15360               500   \n",
       "3214          0                 50                  15360               500   \n",
       "3215          0                 50                  15360               500   \n",
       "\n",
       "      rub_monthly_fee  rub_per_gb  rub_per_message  rub_per_minute    gb_used  \\\n",
       "0                1950         150                1               1   2.200674   \n",
       "1                1950         150                1               1  22.689229   \n",
       "2                1950         150                1               1  13.675430   \n",
       "3                1950         150                1               1  13.726494   \n",
       "4                1950         150                1               1  14.227451   \n",
       "...               ...         ...              ...             ...        ...   \n",
       "3211              550         200                3               3  16.803027   \n",
       "3212              550         200                3               3  19.101016   \n",
       "3213              550         200                3               3  17.081602   \n",
       "3214              550         200                3               3  16.916514   \n",
       "3215              550         200                3               3        NaN   \n",
       "\n",
       "      traffic  \n",
       "0         3.0  \n",
       "1        23.0  \n",
       "2        14.0  \n",
       "3        14.0  \n",
       "4        15.0  \n",
       "...       ...  \n",
       "3211     17.0  \n",
       "3212     20.0  \n",
       "3213     18.0  \n",
       "3214     17.0  \n",
       "3215      NaN  \n",
       "\n",
       "[3216 rows x 24 columns]"
      ]
     },
     "execution_count": 23,
     "metadata": {},
     "output_type": "execute_result"
    }
   ],
   "source": [
    "merge_data['gb_used'] = merge_data['mb_used']/1024\n",
    "merge_data['traffic'] = np.ceil(merge_data['gb_used'])\n",
    "merge_data"
   ]
  },
  {
   "cell_type": "code",
   "execution_count": 24,
   "metadata": {},
   "outputs": [],
   "source": [
    "#функция для расчета месячного дохода для каждого клиента\n",
    "def calculate(row):\n",
    "    expenses = row.rub_monthly_fee\n",
    "    if (row.messages > row.messages_included):\n",
    "        expenses += (row.messages - row.messages_included)*row.rub_per_message\n",
    "    if (row.calls_duration > row.minutes_included):\n",
    "        expenses += (row.calls_duration - row.minutes_included)*row.rub_per_minute\n",
    "    if (row.traffic > row.mb_per_month_included / 1024):\n",
    "        expenses += (row.traffic - row.mb_per_month_included/1024)*row.rub_per_gb\n",
    "    return round(expenses,2)"
   ]
  },
  {
   "cell_type": "code",
   "execution_count": 25,
   "metadata": {},
   "outputs": [
    {
     "data": {
      "text/html": [
       "<div>\n",
       "<style scoped>\n",
       "    .dataframe tbody tr th:only-of-type {\n",
       "        vertical-align: middle;\n",
       "    }\n",
       "\n",
       "    .dataframe tbody tr th {\n",
       "        vertical-align: top;\n",
       "    }\n",
       "\n",
       "    .dataframe thead th {\n",
       "        text-align: right;\n",
       "    }\n",
       "</style>\n",
       "<table border=\"1\" class=\"dataframe\">\n",
       "  <thead>\n",
       "    <tr style=\"text-align: right;\">\n",
       "      <th></th>\n",
       "      <th>user_id</th>\n",
       "      <th>month</th>\n",
       "      <th>calls_duration</th>\n",
       "      <th>calls_number</th>\n",
       "      <th>messages</th>\n",
       "      <th>id</th>\n",
       "      <th>mb_used</th>\n",
       "      <th>age</th>\n",
       "      <th>churn_date</th>\n",
       "      <th>city</th>\n",
       "      <th>first_name</th>\n",
       "      <th>last_name</th>\n",
       "      <th>reg_date</th>\n",
       "      <th>tariff</th>\n",
       "      <th>tariff_id</th>\n",
       "      <th>messages_included</th>\n",
       "      <th>mb_per_month_included</th>\n",
       "      <th>minutes_included</th>\n",
       "      <th>rub_monthly_fee</th>\n",
       "      <th>rub_per_gb</th>\n",
       "      <th>rub_per_message</th>\n",
       "      <th>rub_per_minute</th>\n",
       "      <th>gb_used</th>\n",
       "      <th>traffic</th>\n",
       "      <th>expenses</th>\n",
       "    </tr>\n",
       "  </thead>\n",
       "  <tbody>\n",
       "    <tr>\n",
       "      <th>2206</th>\n",
       "      <td>1264</td>\n",
       "      <td>12.0</td>\n",
       "      <td>444.0</td>\n",
       "      <td>56.0</td>\n",
       "      <td>16.0</td>\n",
       "      <td>54.0</td>\n",
       "      <td>16702.27</td>\n",
       "      <td>47</td>\n",
       "      <td>NaT</td>\n",
       "      <td>Хабаровск</td>\n",
       "      <td>Саида</td>\n",
       "      <td>Жукова</td>\n",
       "      <td>2018-04-22</td>\n",
       "      <td>smart</td>\n",
       "      <td>0</td>\n",
       "      <td>50</td>\n",
       "      <td>15360</td>\n",
       "      <td>500</td>\n",
       "      <td>550</td>\n",
       "      <td>200</td>\n",
       "      <td>3</td>\n",
       "      <td>3</td>\n",
       "      <td>16.310811</td>\n",
       "      <td>17.0</td>\n",
       "      <td>950.0</td>\n",
       "    </tr>\n",
       "    <tr>\n",
       "      <th>1685</th>\n",
       "      <td>1155</td>\n",
       "      <td>1.0</td>\n",
       "      <td>337.0</td>\n",
       "      <td>44.0</td>\n",
       "      <td>48.0</td>\n",
       "      <td>64.0</td>\n",
       "      <td>20125.87</td>\n",
       "      <td>71</td>\n",
       "      <td>NaT</td>\n",
       "      <td>Ставрополь</td>\n",
       "      <td>Александр</td>\n",
       "      <td>Чернов</td>\n",
       "      <td>2018-01-02</td>\n",
       "      <td>smart</td>\n",
       "      <td>0</td>\n",
       "      <td>50</td>\n",
       "      <td>15360</td>\n",
       "      <td>500</td>\n",
       "      <td>550</td>\n",
       "      <td>200</td>\n",
       "      <td>3</td>\n",
       "      <td>3</td>\n",
       "      <td>19.654170</td>\n",
       "      <td>20.0</td>\n",
       "      <td>1550.0</td>\n",
       "    </tr>\n",
       "    <tr>\n",
       "      <th>1517</th>\n",
       "      <td>1116</td>\n",
       "      <td>11.0</td>\n",
       "      <td>288.0</td>\n",
       "      <td>41.0</td>\n",
       "      <td>NaN</td>\n",
       "      <td>61.0</td>\n",
       "      <td>19815.51</td>\n",
       "      <td>65</td>\n",
       "      <td>NaT</td>\n",
       "      <td>Петрозаводск</td>\n",
       "      <td>Альберта</td>\n",
       "      <td>Шевцова</td>\n",
       "      <td>2018-04-17</td>\n",
       "      <td>smart</td>\n",
       "      <td>0</td>\n",
       "      <td>50</td>\n",
       "      <td>15360</td>\n",
       "      <td>500</td>\n",
       "      <td>550</td>\n",
       "      <td>200</td>\n",
       "      <td>3</td>\n",
       "      <td>3</td>\n",
       "      <td>19.351084</td>\n",
       "      <td>20.0</td>\n",
       "      <td>1550.0</td>\n",
       "    </tr>\n",
       "    <tr>\n",
       "      <th>545</th>\n",
       "      <td>1325</td>\n",
       "      <td>8.0</td>\n",
       "      <td>575.0</td>\n",
       "      <td>79.0</td>\n",
       "      <td>19.0</td>\n",
       "      <td>46.0</td>\n",
       "      <td>25508.19</td>\n",
       "      <td>63</td>\n",
       "      <td>NaT</td>\n",
       "      <td>Новосибирск</td>\n",
       "      <td>Артём</td>\n",
       "      <td>Федосеев</td>\n",
       "      <td>2018-06-12</td>\n",
       "      <td>ultra</td>\n",
       "      <td>1</td>\n",
       "      <td>1000</td>\n",
       "      <td>30720</td>\n",
       "      <td>3000</td>\n",
       "      <td>1950</td>\n",
       "      <td>150</td>\n",
       "      <td>1</td>\n",
       "      <td>1</td>\n",
       "      <td>24.910342</td>\n",
       "      <td>25.0</td>\n",
       "      <td>1950.0</td>\n",
       "    </tr>\n",
       "    <tr>\n",
       "      <th>1181</th>\n",
       "      <td>1041</td>\n",
       "      <td>11.0</td>\n",
       "      <td>12.0</td>\n",
       "      <td>5.0</td>\n",
       "      <td>NaN</td>\n",
       "      <td>11.0</td>\n",
       "      <td>2292.03</td>\n",
       "      <td>58</td>\n",
       "      <td>NaT</td>\n",
       "      <td>Москва</td>\n",
       "      <td>Михаил</td>\n",
       "      <td>Кравцов</td>\n",
       "      <td>2018-11-29</td>\n",
       "      <td>smart</td>\n",
       "      <td>0</td>\n",
       "      <td>50</td>\n",
       "      <td>15360</td>\n",
       "      <td>500</td>\n",
       "      <td>550</td>\n",
       "      <td>200</td>\n",
       "      <td>3</td>\n",
       "      <td>3</td>\n",
       "      <td>2.238311</td>\n",
       "      <td>3.0</td>\n",
       "      <td>550.0</td>\n",
       "    </tr>\n",
       "  </tbody>\n",
       "</table>\n",
       "</div>"
      ],
      "text/plain": [
       "      user_id  month  calls_duration  calls_number  messages    id   mb_used  \\\n",
       "2206     1264   12.0           444.0          56.0      16.0  54.0  16702.27   \n",
       "1685     1155    1.0           337.0          44.0      48.0  64.0  20125.87   \n",
       "1517     1116   11.0           288.0          41.0       NaN  61.0  19815.51   \n",
       "545      1325    8.0           575.0          79.0      19.0  46.0  25508.19   \n",
       "1181     1041   11.0            12.0           5.0       NaN  11.0   2292.03   \n",
       "\n",
       "      age churn_date          city first_name last_name   reg_date tariff  \\\n",
       "2206   47        NaT     Хабаровск      Саида    Жукова 2018-04-22  smart   \n",
       "1685   71        NaT    Ставрополь  Александр    Чернов 2018-01-02  smart   \n",
       "1517   65        NaT  Петрозаводск   Альберта   Шевцова 2018-04-17  smart   \n",
       "545    63        NaT   Новосибирск      Артём  Федосеев 2018-06-12  ultra   \n",
       "1181   58        NaT        Москва     Михаил   Кравцов 2018-11-29  smart   \n",
       "\n",
       "      tariff_id  messages_included  mb_per_month_included  minutes_included  \\\n",
       "2206          0                 50                  15360               500   \n",
       "1685          0                 50                  15360               500   \n",
       "1517          0                 50                  15360               500   \n",
       "545           1               1000                  30720              3000   \n",
       "1181          0                 50                  15360               500   \n",
       "\n",
       "      rub_monthly_fee  rub_per_gb  rub_per_message  rub_per_minute    gb_used  \\\n",
       "2206              550         200                3               3  16.310811   \n",
       "1685              550         200                3               3  19.654170   \n",
       "1517              550         200                3               3  19.351084   \n",
       "545              1950         150                1               1  24.910342   \n",
       "1181              550         200                3               3   2.238311   \n",
       "\n",
       "      traffic  expenses  \n",
       "2206     17.0     950.0  \n",
       "1685     20.0    1550.0  \n",
       "1517     20.0    1550.0  \n",
       "545      25.0    1950.0  \n",
       "1181      3.0     550.0  "
      ]
     },
     "execution_count": 25,
     "metadata": {},
     "output_type": "execute_result"
    }
   ],
   "source": [
    "merge_data['expenses'] = merge_data.apply(calculate, axis=1)\n",
    "merge_data.sample(5)"
   ]
  },
  {
   "cell_type": "markdown",
   "metadata": {},
   "source": [
    "Все подсчеты сходятся. "
   ]
  },
  {
   "cell_type": "code",
   "execution_count": 26,
   "metadata": {},
   "outputs": [
    {
     "data": {
      "text/plain": [
       "4916951.0"
      ]
     },
     "execution_count": 26,
     "metadata": {},
     "output_type": "execute_result"
    }
   ],
   "source": [
    "# check\n",
    "merge_data['expenses'].sum()"
   ]
  },
  {
   "cell_type": "code",
   "execution_count": 27,
   "metadata": {},
   "outputs": [
    {
     "data": {
      "text/html": [
       "<div>\n",
       "<style scoped>\n",
       "    .dataframe tbody tr th:only-of-type {\n",
       "        vertical-align: middle;\n",
       "    }\n",
       "\n",
       "    .dataframe tbody tr th {\n",
       "        vertical-align: top;\n",
       "    }\n",
       "\n",
       "    .dataframe thead th {\n",
       "        text-align: right;\n",
       "    }\n",
       "</style>\n",
       "<table border=\"1\" class=\"dataframe\">\n",
       "  <thead>\n",
       "    <tr style=\"text-align: right;\">\n",
       "      <th></th>\n",
       "      <th>user_id</th>\n",
       "      <th>month</th>\n",
       "      <th>calls_duration</th>\n",
       "      <th>calls_number</th>\n",
       "      <th>messages</th>\n",
       "      <th>traffic</th>\n",
       "      <th>tariff</th>\n",
       "      <th>city</th>\n",
       "      <th>tariff_id</th>\n",
       "      <th>messages_included</th>\n",
       "      <th>mb_per_month_included</th>\n",
       "      <th>minutes_included</th>\n",
       "      <th>rub_monthly_fee</th>\n",
       "      <th>rub_per_gb</th>\n",
       "      <th>rub_per_message</th>\n",
       "      <th>rub_per_minute</th>\n",
       "      <th>expenses</th>\n",
       "    </tr>\n",
       "  </thead>\n",
       "  <tbody>\n",
       "    <tr>\n",
       "      <th>0</th>\n",
       "      <td>1000</td>\n",
       "      <td>5.0</td>\n",
       "      <td>159.0</td>\n",
       "      <td>22.0</td>\n",
       "      <td>22.0</td>\n",
       "      <td>3.0</td>\n",
       "      <td>ultra</td>\n",
       "      <td>Краснодар</td>\n",
       "      <td>1</td>\n",
       "      <td>1000</td>\n",
       "      <td>30720</td>\n",
       "      <td>3000</td>\n",
       "      <td>1950</td>\n",
       "      <td>150</td>\n",
       "      <td>1</td>\n",
       "      <td>1</td>\n",
       "      <td>1950.0</td>\n",
       "    </tr>\n",
       "    <tr>\n",
       "      <th>1</th>\n",
       "      <td>1000</td>\n",
       "      <td>6.0</td>\n",
       "      <td>172.0</td>\n",
       "      <td>43.0</td>\n",
       "      <td>60.0</td>\n",
       "      <td>23.0</td>\n",
       "      <td>ultra</td>\n",
       "      <td>Краснодар</td>\n",
       "      <td>1</td>\n",
       "      <td>1000</td>\n",
       "      <td>30720</td>\n",
       "      <td>3000</td>\n",
       "      <td>1950</td>\n",
       "      <td>150</td>\n",
       "      <td>1</td>\n",
       "      <td>1</td>\n",
       "      <td>1950.0</td>\n",
       "    </tr>\n",
       "    <tr>\n",
       "      <th>2</th>\n",
       "      <td>1000</td>\n",
       "      <td>7.0</td>\n",
       "      <td>340.0</td>\n",
       "      <td>47.0</td>\n",
       "      <td>75.0</td>\n",
       "      <td>14.0</td>\n",
       "      <td>ultra</td>\n",
       "      <td>Краснодар</td>\n",
       "      <td>1</td>\n",
       "      <td>1000</td>\n",
       "      <td>30720</td>\n",
       "      <td>3000</td>\n",
       "      <td>1950</td>\n",
       "      <td>150</td>\n",
       "      <td>1</td>\n",
       "      <td>1</td>\n",
       "      <td>1950.0</td>\n",
       "    </tr>\n",
       "    <tr>\n",
       "      <th>3</th>\n",
       "      <td>1000</td>\n",
       "      <td>8.0</td>\n",
       "      <td>408.0</td>\n",
       "      <td>52.0</td>\n",
       "      <td>81.0</td>\n",
       "      <td>14.0</td>\n",
       "      <td>ultra</td>\n",
       "      <td>Краснодар</td>\n",
       "      <td>1</td>\n",
       "      <td>1000</td>\n",
       "      <td>30720</td>\n",
       "      <td>3000</td>\n",
       "      <td>1950</td>\n",
       "      <td>150</td>\n",
       "      <td>1</td>\n",
       "      <td>1</td>\n",
       "      <td>1950.0</td>\n",
       "    </tr>\n",
       "    <tr>\n",
       "      <th>4</th>\n",
       "      <td>1000</td>\n",
       "      <td>9.0</td>\n",
       "      <td>466.0</td>\n",
       "      <td>58.0</td>\n",
       "      <td>57.0</td>\n",
       "      <td>15.0</td>\n",
       "      <td>ultra</td>\n",
       "      <td>Краснодар</td>\n",
       "      <td>1</td>\n",
       "      <td>1000</td>\n",
       "      <td>30720</td>\n",
       "      <td>3000</td>\n",
       "      <td>1950</td>\n",
       "      <td>150</td>\n",
       "      <td>1</td>\n",
       "      <td>1</td>\n",
       "      <td>1950.0</td>\n",
       "    </tr>\n",
       "    <tr>\n",
       "      <th>...</th>\n",
       "      <td>...</td>\n",
       "      <td>...</td>\n",
       "      <td>...</td>\n",
       "      <td>...</td>\n",
       "      <td>...</td>\n",
       "      <td>...</td>\n",
       "      <td>...</td>\n",
       "      <td>...</td>\n",
       "      <td>...</td>\n",
       "      <td>...</td>\n",
       "      <td>...</td>\n",
       "      <td>...</td>\n",
       "      <td>...</td>\n",
       "      <td>...</td>\n",
       "      <td>...</td>\n",
       "      <td>...</td>\n",
       "      <td>...</td>\n",
       "    </tr>\n",
       "    <tr>\n",
       "      <th>3211</th>\n",
       "      <td>1489</td>\n",
       "      <td>9.0</td>\n",
       "      <td>NaN</td>\n",
       "      <td>NaN</td>\n",
       "      <td>32.0</td>\n",
       "      <td>17.0</td>\n",
       "      <td>smart</td>\n",
       "      <td>Санкт-Петербург</td>\n",
       "      <td>0</td>\n",
       "      <td>50</td>\n",
       "      <td>15360</td>\n",
       "      <td>500</td>\n",
       "      <td>550</td>\n",
       "      <td>200</td>\n",
       "      <td>3</td>\n",
       "      <td>3</td>\n",
       "      <td>950.0</td>\n",
       "    </tr>\n",
       "    <tr>\n",
       "      <th>3212</th>\n",
       "      <td>1489</td>\n",
       "      <td>10.0</td>\n",
       "      <td>NaN</td>\n",
       "      <td>NaN</td>\n",
       "      <td>21.0</td>\n",
       "      <td>20.0</td>\n",
       "      <td>smart</td>\n",
       "      <td>Санкт-Петербург</td>\n",
       "      <td>0</td>\n",
       "      <td>50</td>\n",
       "      <td>15360</td>\n",
       "      <td>500</td>\n",
       "      <td>550</td>\n",
       "      <td>200</td>\n",
       "      <td>3</td>\n",
       "      <td>3</td>\n",
       "      <td>1550.0</td>\n",
       "    </tr>\n",
       "    <tr>\n",
       "      <th>3213</th>\n",
       "      <td>1489</td>\n",
       "      <td>11.0</td>\n",
       "      <td>NaN</td>\n",
       "      <td>NaN</td>\n",
       "      <td>20.0</td>\n",
       "      <td>18.0</td>\n",
       "      <td>smart</td>\n",
       "      <td>Санкт-Петербург</td>\n",
       "      <td>0</td>\n",
       "      <td>50</td>\n",
       "      <td>15360</td>\n",
       "      <td>500</td>\n",
       "      <td>550</td>\n",
       "      <td>200</td>\n",
       "      <td>3</td>\n",
       "      <td>3</td>\n",
       "      <td>1150.0</td>\n",
       "    </tr>\n",
       "    <tr>\n",
       "      <th>3214</th>\n",
       "      <td>1489</td>\n",
       "      <td>12.0</td>\n",
       "      <td>NaN</td>\n",
       "      <td>NaN</td>\n",
       "      <td>35.0</td>\n",
       "      <td>17.0</td>\n",
       "      <td>smart</td>\n",
       "      <td>Санкт-Петербург</td>\n",
       "      <td>0</td>\n",
       "      <td>50</td>\n",
       "      <td>15360</td>\n",
       "      <td>500</td>\n",
       "      <td>550</td>\n",
       "      <td>200</td>\n",
       "      <td>3</td>\n",
       "      <td>3</td>\n",
       "      <td>950.0</td>\n",
       "    </tr>\n",
       "    <tr>\n",
       "      <th>3215</th>\n",
       "      <td>1371</td>\n",
       "      <td>NaN</td>\n",
       "      <td>NaN</td>\n",
       "      <td>NaN</td>\n",
       "      <td>NaN</td>\n",
       "      <td>NaN</td>\n",
       "      <td>smart</td>\n",
       "      <td>Омск</td>\n",
       "      <td>0</td>\n",
       "      <td>50</td>\n",
       "      <td>15360</td>\n",
       "      <td>500</td>\n",
       "      <td>550</td>\n",
       "      <td>200</td>\n",
       "      <td>3</td>\n",
       "      <td>3</td>\n",
       "      <td>550.0</td>\n",
       "    </tr>\n",
       "  </tbody>\n",
       "</table>\n",
       "<p>3216 rows × 17 columns</p>\n",
       "</div>"
      ],
      "text/plain": [
       "      user_id  month  calls_duration  calls_number  messages  traffic tariff  \\\n",
       "0        1000    5.0           159.0          22.0      22.0      3.0  ultra   \n",
       "1        1000    6.0           172.0          43.0      60.0     23.0  ultra   \n",
       "2        1000    7.0           340.0          47.0      75.0     14.0  ultra   \n",
       "3        1000    8.0           408.0          52.0      81.0     14.0  ultra   \n",
       "4        1000    9.0           466.0          58.0      57.0     15.0  ultra   \n",
       "...       ...    ...             ...           ...       ...      ...    ...   \n",
       "3211     1489    9.0             NaN           NaN      32.0     17.0  smart   \n",
       "3212     1489   10.0             NaN           NaN      21.0     20.0  smart   \n",
       "3213     1489   11.0             NaN           NaN      20.0     18.0  smart   \n",
       "3214     1489   12.0             NaN           NaN      35.0     17.0  smart   \n",
       "3215     1371    NaN             NaN           NaN       NaN      NaN  smart   \n",
       "\n",
       "                 city  tariff_id  messages_included  mb_per_month_included  \\\n",
       "0           Краснодар          1               1000                  30720   \n",
       "1           Краснодар          1               1000                  30720   \n",
       "2           Краснодар          1               1000                  30720   \n",
       "3           Краснодар          1               1000                  30720   \n",
       "4           Краснодар          1               1000                  30720   \n",
       "...               ...        ...                ...                    ...   \n",
       "3211  Санкт-Петербург          0                 50                  15360   \n",
       "3212  Санкт-Петербург          0                 50                  15360   \n",
       "3213  Санкт-Петербург          0                 50                  15360   \n",
       "3214  Санкт-Петербург          0                 50                  15360   \n",
       "3215             Омск          0                 50                  15360   \n",
       "\n",
       "      minutes_included  rub_monthly_fee  rub_per_gb  rub_per_message  \\\n",
       "0                 3000             1950         150                1   \n",
       "1                 3000             1950         150                1   \n",
       "2                 3000             1950         150                1   \n",
       "3                 3000             1950         150                1   \n",
       "4                 3000             1950         150                1   \n",
       "...                ...              ...         ...              ...   \n",
       "3211               500              550         200                3   \n",
       "3212               500              550         200                3   \n",
       "3213               500              550         200                3   \n",
       "3214               500              550         200                3   \n",
       "3215               500              550         200                3   \n",
       "\n",
       "      rub_per_minute  expenses  \n",
       "0                  1    1950.0  \n",
       "1                  1    1950.0  \n",
       "2                  1    1950.0  \n",
       "3                  1    1950.0  \n",
       "4                  1    1950.0  \n",
       "...              ...       ...  \n",
       "3211               3     950.0  \n",
       "3212               3    1550.0  \n",
       "3213               3    1150.0  \n",
       "3214               3     950.0  \n",
       "3215               3     550.0  \n",
       "\n",
       "[3216 rows x 17 columns]"
      ]
     },
     "execution_count": 27,
     "metadata": {},
     "output_type": "execute_result"
    }
   ],
   "source": [
    "optimal_table = merge_data[['user_id', \n",
    "                            'month', \n",
    "                            'calls_duration', \n",
    "                            'calls_number',\n",
    "                            'messages', \n",
    "                            'traffic', \n",
    "                            'tariff',\n",
    "                            'city', \n",
    "                            'tariff_id', \n",
    "                            'messages_included', \n",
    "                            'mb_per_month_included',\n",
    "                            'minutes_included',\n",
    "                            'rub_monthly_fee',\n",
    "                            'rub_per_gb',\n",
    "                            'rub_per_message', \n",
    "                            'rub_per_minute',\n",
    "                            'expenses']]\n",
    "optimal_table\n",
    "#номер клиента / месяц / вид услуги(мин, смс, гб) / тариф / город /\n",
    "#условия тарифа (несколько колонок) / выручка за месяц"
   ]
  },
  {
   "cell_type": "markdown",
   "metadata": {},
   "source": [
    "проверяем работоспособность функций и смотрим подсчеты "
   ]
  },
  {
   "cell_type": "code",
   "execution_count": 36,
   "metadata": {},
   "outputs": [
    {
     "data": {
      "text/plain": [
       "'Количество операций пользователей тарифа Smart:'"
      ]
     },
     "metadata": {},
     "output_type": "display_data"
    },
    {
     "data": {
      "text/plain": [
       "2230"
      ]
     },
     "metadata": {},
     "output_type": "display_data"
    },
    {
     "data": {
      "text/plain": [
       "'Количество операций пользователей тарифа Ultra:'"
      ]
     },
     "metadata": {},
     "output_type": "display_data"
    },
    {
     "data": {
      "text/plain": [
       "986"
      ]
     },
     "metadata": {},
     "output_type": "display_data"
    }
   ],
   "source": [
    "#создадим две таблицы по тарифам\n",
    "smart = optimal_table[optimal_table['tariff_id'] == 0]\n",
    "ultra = optimal_table[optimal_table['tariff_id'] == 1]\n",
    "display('Количество операций пользователей тарифа Smart:',len(smart))\n",
    "display('Количество операций пользователей тарифа Ultra:',len(ultra))"
   ]
  },
  {
   "cell_type": "code",
   "execution_count": 37,
   "metadata": {},
   "outputs": [
    {
     "name": "stdout",
     "output_type": "stream",
     "text": [
      "<class 'pandas.core.frame.DataFrame'>\n",
      "Int64Index: 3216 entries, 0 to 3215\n",
      "Data columns (total 17 columns):\n",
      " #   Column                 Non-Null Count  Dtype  \n",
      "---  ------                 --------------  -----  \n",
      " 0   user_id                3216 non-null   int64  \n",
      " 1   month                  3214 non-null   float64\n",
      " 2   calls_duration         3174 non-null   float64\n",
      " 3   calls_number           3174 non-null   float64\n",
      " 4   messages               2717 non-null   float64\n",
      " 5   traffic                3203 non-null   float64\n",
      " 6   tariff                 3216 non-null   object \n",
      " 7   city                   3216 non-null   object \n",
      " 8   tariff_id              3216 non-null   int64  \n",
      " 9   messages_included      3216 non-null   int64  \n",
      " 10  mb_per_month_included  3216 non-null   int64  \n",
      " 11  minutes_included       3216 non-null   int64  \n",
      " 12  rub_monthly_fee        3216 non-null   int64  \n",
      " 13  rub_per_gb             3216 non-null   int64  \n",
      " 14  rub_per_message        3216 non-null   int64  \n",
      " 15  rub_per_minute         3216 non-null   int64  \n",
      " 16  expenses               3216 non-null   float64\n",
      "dtypes: float64(6), int64(9), object(2)\n",
      "memory usage: 452.2+ KB\n"
     ]
    }
   ],
   "source": [
    "# check\n",
    "optimal_table.info()"
   ]
  },
  {
   "cell_type": "code",
   "execution_count": 38,
   "metadata": {},
   "outputs": [
    {
     "data": {
      "text/html": [
       "<div>\n",
       "<style scoped>\n",
       "    .dataframe tbody tr th:only-of-type {\n",
       "        vertical-align: middle;\n",
       "    }\n",
       "\n",
       "    .dataframe tbody tr th {\n",
       "        vertical-align: top;\n",
       "    }\n",
       "\n",
       "    .dataframe thead th {\n",
       "        text-align: right;\n",
       "    }\n",
       "</style>\n",
       "<table border=\"1\" class=\"dataframe\">\n",
       "  <thead>\n",
       "    <tr style=\"text-align: right;\">\n",
       "      <th></th>\n",
       "      <th>user_id</th>\n",
       "      <th>month</th>\n",
       "      <th>calls_duration</th>\n",
       "      <th>calls_number</th>\n",
       "      <th>messages</th>\n",
       "      <th>traffic</th>\n",
       "      <th>tariff</th>\n",
       "      <th>city</th>\n",
       "      <th>tariff_id</th>\n",
       "      <th>messages_included</th>\n",
       "      <th>mb_per_month_included</th>\n",
       "      <th>minutes_included</th>\n",
       "      <th>rub_monthly_fee</th>\n",
       "      <th>rub_per_gb</th>\n",
       "      <th>rub_per_message</th>\n",
       "      <th>rub_per_minute</th>\n",
       "      <th>expenses</th>\n",
       "    </tr>\n",
       "  </thead>\n",
       "  <tbody>\n",
       "    <tr>\n",
       "      <th>986</th>\n",
       "      <td>1001</td>\n",
       "      <td>11.0</td>\n",
       "      <td>430.0</td>\n",
       "      <td>59.0</td>\n",
       "      <td>NaN</td>\n",
       "      <td>18.0</td>\n",
       "      <td>smart</td>\n",
       "      <td>Москва</td>\n",
       "      <td>0</td>\n",
       "      <td>50</td>\n",
       "      <td>15360</td>\n",
       "      <td>500</td>\n",
       "      <td>550</td>\n",
       "      <td>200</td>\n",
       "      <td>3</td>\n",
       "      <td>3</td>\n",
       "      <td>1150.0</td>\n",
       "    </tr>\n",
       "    <tr>\n",
       "      <th>987</th>\n",
       "      <td>1001</td>\n",
       "      <td>12.0</td>\n",
       "      <td>414.0</td>\n",
       "      <td>63.0</td>\n",
       "      <td>NaN</td>\n",
       "      <td>14.0</td>\n",
       "      <td>smart</td>\n",
       "      <td>Москва</td>\n",
       "      <td>0</td>\n",
       "      <td>50</td>\n",
       "      <td>15360</td>\n",
       "      <td>500</td>\n",
       "      <td>550</td>\n",
       "      <td>200</td>\n",
       "      <td>3</td>\n",
       "      <td>3</td>\n",
       "      <td>550.0</td>\n",
       "    </tr>\n",
       "    <tr>\n",
       "      <th>988</th>\n",
       "      <td>1002</td>\n",
       "      <td>6.0</td>\n",
       "      <td>117.0</td>\n",
       "      <td>15.0</td>\n",
       "      <td>4.0</td>\n",
       "      <td>11.0</td>\n",
       "      <td>smart</td>\n",
       "      <td>Стерлитамак</td>\n",
       "      <td>0</td>\n",
       "      <td>50</td>\n",
       "      <td>15360</td>\n",
       "      <td>500</td>\n",
       "      <td>550</td>\n",
       "      <td>200</td>\n",
       "      <td>3</td>\n",
       "      <td>3</td>\n",
       "      <td>550.0</td>\n",
       "    </tr>\n",
       "    <tr>\n",
       "      <th>989</th>\n",
       "      <td>1002</td>\n",
       "      <td>7.0</td>\n",
       "      <td>214.0</td>\n",
       "      <td>26.0</td>\n",
       "      <td>11.0</td>\n",
       "      <td>18.0</td>\n",
       "      <td>smart</td>\n",
       "      <td>Стерлитамак</td>\n",
       "      <td>0</td>\n",
       "      <td>50</td>\n",
       "      <td>15360</td>\n",
       "      <td>500</td>\n",
       "      <td>550</td>\n",
       "      <td>200</td>\n",
       "      <td>3</td>\n",
       "      <td>3</td>\n",
       "      <td>1150.0</td>\n",
       "    </tr>\n",
       "    <tr>\n",
       "      <th>990</th>\n",
       "      <td>1002</td>\n",
       "      <td>8.0</td>\n",
       "      <td>289.0</td>\n",
       "      <td>42.0</td>\n",
       "      <td>13.0</td>\n",
       "      <td>20.0</td>\n",
       "      <td>smart</td>\n",
       "      <td>Стерлитамак</td>\n",
       "      <td>0</td>\n",
       "      <td>50</td>\n",
       "      <td>15360</td>\n",
       "      <td>500</td>\n",
       "      <td>550</td>\n",
       "      <td>200</td>\n",
       "      <td>3</td>\n",
       "      <td>3</td>\n",
       "      <td>1550.0</td>\n",
       "    </tr>\n",
       "    <tr>\n",
       "      <th>...</th>\n",
       "      <td>...</td>\n",
       "      <td>...</td>\n",
       "      <td>...</td>\n",
       "      <td>...</td>\n",
       "      <td>...</td>\n",
       "      <td>...</td>\n",
       "      <td>...</td>\n",
       "      <td>...</td>\n",
       "      <td>...</td>\n",
       "      <td>...</td>\n",
       "      <td>...</td>\n",
       "      <td>...</td>\n",
       "      <td>...</td>\n",
       "      <td>...</td>\n",
       "      <td>...</td>\n",
       "      <td>...</td>\n",
       "      <td>...</td>\n",
       "    </tr>\n",
       "    <tr>\n",
       "      <th>3211</th>\n",
       "      <td>1489</td>\n",
       "      <td>9.0</td>\n",
       "      <td>NaN</td>\n",
       "      <td>NaN</td>\n",
       "      <td>32.0</td>\n",
       "      <td>17.0</td>\n",
       "      <td>smart</td>\n",
       "      <td>Санкт-Петербург</td>\n",
       "      <td>0</td>\n",
       "      <td>50</td>\n",
       "      <td>15360</td>\n",
       "      <td>500</td>\n",
       "      <td>550</td>\n",
       "      <td>200</td>\n",
       "      <td>3</td>\n",
       "      <td>3</td>\n",
       "      <td>950.0</td>\n",
       "    </tr>\n",
       "    <tr>\n",
       "      <th>3212</th>\n",
       "      <td>1489</td>\n",
       "      <td>10.0</td>\n",
       "      <td>NaN</td>\n",
       "      <td>NaN</td>\n",
       "      <td>21.0</td>\n",
       "      <td>20.0</td>\n",
       "      <td>smart</td>\n",
       "      <td>Санкт-Петербург</td>\n",
       "      <td>0</td>\n",
       "      <td>50</td>\n",
       "      <td>15360</td>\n",
       "      <td>500</td>\n",
       "      <td>550</td>\n",
       "      <td>200</td>\n",
       "      <td>3</td>\n",
       "      <td>3</td>\n",
       "      <td>1550.0</td>\n",
       "    </tr>\n",
       "    <tr>\n",
       "      <th>3213</th>\n",
       "      <td>1489</td>\n",
       "      <td>11.0</td>\n",
       "      <td>NaN</td>\n",
       "      <td>NaN</td>\n",
       "      <td>20.0</td>\n",
       "      <td>18.0</td>\n",
       "      <td>smart</td>\n",
       "      <td>Санкт-Петербург</td>\n",
       "      <td>0</td>\n",
       "      <td>50</td>\n",
       "      <td>15360</td>\n",
       "      <td>500</td>\n",
       "      <td>550</td>\n",
       "      <td>200</td>\n",
       "      <td>3</td>\n",
       "      <td>3</td>\n",
       "      <td>1150.0</td>\n",
       "    </tr>\n",
       "    <tr>\n",
       "      <th>3214</th>\n",
       "      <td>1489</td>\n",
       "      <td>12.0</td>\n",
       "      <td>NaN</td>\n",
       "      <td>NaN</td>\n",
       "      <td>35.0</td>\n",
       "      <td>17.0</td>\n",
       "      <td>smart</td>\n",
       "      <td>Санкт-Петербург</td>\n",
       "      <td>0</td>\n",
       "      <td>50</td>\n",
       "      <td>15360</td>\n",
       "      <td>500</td>\n",
       "      <td>550</td>\n",
       "      <td>200</td>\n",
       "      <td>3</td>\n",
       "      <td>3</td>\n",
       "      <td>950.0</td>\n",
       "    </tr>\n",
       "    <tr>\n",
       "      <th>3215</th>\n",
       "      <td>1371</td>\n",
       "      <td>NaN</td>\n",
       "      <td>NaN</td>\n",
       "      <td>NaN</td>\n",
       "      <td>NaN</td>\n",
       "      <td>NaN</td>\n",
       "      <td>smart</td>\n",
       "      <td>Омск</td>\n",
       "      <td>0</td>\n",
       "      <td>50</td>\n",
       "      <td>15360</td>\n",
       "      <td>500</td>\n",
       "      <td>550</td>\n",
       "      <td>200</td>\n",
       "      <td>3</td>\n",
       "      <td>3</td>\n",
       "      <td>550.0</td>\n",
       "    </tr>\n",
       "  </tbody>\n",
       "</table>\n",
       "<p>2230 rows × 17 columns</p>\n",
       "</div>"
      ],
      "text/plain": [
       "      user_id  month  calls_duration  calls_number  messages  traffic tariff  \\\n",
       "986      1001   11.0           430.0          59.0       NaN     18.0  smart   \n",
       "987      1001   12.0           414.0          63.0       NaN     14.0  smart   \n",
       "988      1002    6.0           117.0          15.0       4.0     11.0  smart   \n",
       "989      1002    7.0           214.0          26.0      11.0     18.0  smart   \n",
       "990      1002    8.0           289.0          42.0      13.0     20.0  smart   \n",
       "...       ...    ...             ...           ...       ...      ...    ...   \n",
       "3211     1489    9.0             NaN           NaN      32.0     17.0  smart   \n",
       "3212     1489   10.0             NaN           NaN      21.0     20.0  smart   \n",
       "3213     1489   11.0             NaN           NaN      20.0     18.0  smart   \n",
       "3214     1489   12.0             NaN           NaN      35.0     17.0  smart   \n",
       "3215     1371    NaN             NaN           NaN       NaN      NaN  smart   \n",
       "\n",
       "                 city  tariff_id  messages_included  mb_per_month_included  \\\n",
       "986            Москва          0                 50                  15360   \n",
       "987            Москва          0                 50                  15360   \n",
       "988       Стерлитамак          0                 50                  15360   \n",
       "989       Стерлитамак          0                 50                  15360   \n",
       "990       Стерлитамак          0                 50                  15360   \n",
       "...               ...        ...                ...                    ...   \n",
       "3211  Санкт-Петербург          0                 50                  15360   \n",
       "3212  Санкт-Петербург          0                 50                  15360   \n",
       "3213  Санкт-Петербург          0                 50                  15360   \n",
       "3214  Санкт-Петербург          0                 50                  15360   \n",
       "3215             Омск          0                 50                  15360   \n",
       "\n",
       "      minutes_included  rub_monthly_fee  rub_per_gb  rub_per_message  \\\n",
       "986                500              550         200                3   \n",
       "987                500              550         200                3   \n",
       "988                500              550         200                3   \n",
       "989                500              550         200                3   \n",
       "990                500              550         200                3   \n",
       "...                ...              ...         ...              ...   \n",
       "3211               500              550         200                3   \n",
       "3212               500              550         200                3   \n",
       "3213               500              550         200                3   \n",
       "3214               500              550         200                3   \n",
       "3215               500              550         200                3   \n",
       "\n",
       "      rub_per_minute  expenses  \n",
       "986                3    1150.0  \n",
       "987                3     550.0  \n",
       "988                3     550.0  \n",
       "989                3    1150.0  \n",
       "990                3    1550.0  \n",
       "...              ...       ...  \n",
       "3211               3     950.0  \n",
       "3212               3    1550.0  \n",
       "3213               3    1150.0  \n",
       "3214               3     950.0  \n",
       "3215               3     550.0  \n",
       "\n",
       "[2230 rows x 17 columns]"
      ]
     },
     "metadata": {},
     "output_type": "display_data"
    },
    {
     "data": {
      "text/html": [
       "<div>\n",
       "<style scoped>\n",
       "    .dataframe tbody tr th:only-of-type {\n",
       "        vertical-align: middle;\n",
       "    }\n",
       "\n",
       "    .dataframe tbody tr th {\n",
       "        vertical-align: top;\n",
       "    }\n",
       "\n",
       "    .dataframe thead th {\n",
       "        text-align: right;\n",
       "    }\n",
       "</style>\n",
       "<table border=\"1\" class=\"dataframe\">\n",
       "  <thead>\n",
       "    <tr style=\"text-align: right;\">\n",
       "      <th></th>\n",
       "      <th>user_id</th>\n",
       "      <th>month</th>\n",
       "      <th>calls_duration</th>\n",
       "      <th>calls_number</th>\n",
       "      <th>messages</th>\n",
       "      <th>traffic</th>\n",
       "      <th>tariff</th>\n",
       "      <th>city</th>\n",
       "      <th>tariff_id</th>\n",
       "      <th>messages_included</th>\n",
       "      <th>mb_per_month_included</th>\n",
       "      <th>minutes_included</th>\n",
       "      <th>rub_monthly_fee</th>\n",
       "      <th>rub_per_gb</th>\n",
       "      <th>rub_per_message</th>\n",
       "      <th>rub_per_minute</th>\n",
       "      <th>expenses</th>\n",
       "    </tr>\n",
       "  </thead>\n",
       "  <tbody>\n",
       "    <tr>\n",
       "      <th>0</th>\n",
       "      <td>1000</td>\n",
       "      <td>5.0</td>\n",
       "      <td>159.0</td>\n",
       "      <td>22.0</td>\n",
       "      <td>22.0</td>\n",
       "      <td>3.0</td>\n",
       "      <td>ultra</td>\n",
       "      <td>Краснодар</td>\n",
       "      <td>1</td>\n",
       "      <td>1000</td>\n",
       "      <td>30720</td>\n",
       "      <td>3000</td>\n",
       "      <td>1950</td>\n",
       "      <td>150</td>\n",
       "      <td>1</td>\n",
       "      <td>1</td>\n",
       "      <td>1950.0</td>\n",
       "    </tr>\n",
       "    <tr>\n",
       "      <th>1</th>\n",
       "      <td>1000</td>\n",
       "      <td>6.0</td>\n",
       "      <td>172.0</td>\n",
       "      <td>43.0</td>\n",
       "      <td>60.0</td>\n",
       "      <td>23.0</td>\n",
       "      <td>ultra</td>\n",
       "      <td>Краснодар</td>\n",
       "      <td>1</td>\n",
       "      <td>1000</td>\n",
       "      <td>30720</td>\n",
       "      <td>3000</td>\n",
       "      <td>1950</td>\n",
       "      <td>150</td>\n",
       "      <td>1</td>\n",
       "      <td>1</td>\n",
       "      <td>1950.0</td>\n",
       "    </tr>\n",
       "    <tr>\n",
       "      <th>2</th>\n",
       "      <td>1000</td>\n",
       "      <td>7.0</td>\n",
       "      <td>340.0</td>\n",
       "      <td>47.0</td>\n",
       "      <td>75.0</td>\n",
       "      <td>14.0</td>\n",
       "      <td>ultra</td>\n",
       "      <td>Краснодар</td>\n",
       "      <td>1</td>\n",
       "      <td>1000</td>\n",
       "      <td>30720</td>\n",
       "      <td>3000</td>\n",
       "      <td>1950</td>\n",
       "      <td>150</td>\n",
       "      <td>1</td>\n",
       "      <td>1</td>\n",
       "      <td>1950.0</td>\n",
       "    </tr>\n",
       "    <tr>\n",
       "      <th>3</th>\n",
       "      <td>1000</td>\n",
       "      <td>8.0</td>\n",
       "      <td>408.0</td>\n",
       "      <td>52.0</td>\n",
       "      <td>81.0</td>\n",
       "      <td>14.0</td>\n",
       "      <td>ultra</td>\n",
       "      <td>Краснодар</td>\n",
       "      <td>1</td>\n",
       "      <td>1000</td>\n",
       "      <td>30720</td>\n",
       "      <td>3000</td>\n",
       "      <td>1950</td>\n",
       "      <td>150</td>\n",
       "      <td>1</td>\n",
       "      <td>1</td>\n",
       "      <td>1950.0</td>\n",
       "    </tr>\n",
       "    <tr>\n",
       "      <th>4</th>\n",
       "      <td>1000</td>\n",
       "      <td>9.0</td>\n",
       "      <td>466.0</td>\n",
       "      <td>58.0</td>\n",
       "      <td>57.0</td>\n",
       "      <td>15.0</td>\n",
       "      <td>ultra</td>\n",
       "      <td>Краснодар</td>\n",
       "      <td>1</td>\n",
       "      <td>1000</td>\n",
       "      <td>30720</td>\n",
       "      <td>3000</td>\n",
       "      <td>1950</td>\n",
       "      <td>150</td>\n",
       "      <td>1</td>\n",
       "      <td>1</td>\n",
       "      <td>1950.0</td>\n",
       "    </tr>\n",
       "    <tr>\n",
       "      <th>...</th>\n",
       "      <td>...</td>\n",
       "      <td>...</td>\n",
       "      <td>...</td>\n",
       "      <td>...</td>\n",
       "      <td>...</td>\n",
       "      <td>...</td>\n",
       "      <td>...</td>\n",
       "      <td>...</td>\n",
       "      <td>...</td>\n",
       "      <td>...</td>\n",
       "      <td>...</td>\n",
       "      <td>...</td>\n",
       "      <td>...</td>\n",
       "      <td>...</td>\n",
       "      <td>...</td>\n",
       "      <td>...</td>\n",
       "      <td>...</td>\n",
       "    </tr>\n",
       "    <tr>\n",
       "      <th>981</th>\n",
       "      <td>1473</td>\n",
       "      <td>9.0</td>\n",
       "      <td>NaN</td>\n",
       "      <td>NaN</td>\n",
       "      <td>19.0</td>\n",
       "      <td>17.0</td>\n",
       "      <td>ultra</td>\n",
       "      <td>Красноярск</td>\n",
       "      <td>1</td>\n",
       "      <td>1000</td>\n",
       "      <td>30720</td>\n",
       "      <td>3000</td>\n",
       "      <td>1950</td>\n",
       "      <td>150</td>\n",
       "      <td>1</td>\n",
       "      <td>1</td>\n",
       "      <td>1950.0</td>\n",
       "    </tr>\n",
       "    <tr>\n",
       "      <th>982</th>\n",
       "      <td>1473</td>\n",
       "      <td>10.0</td>\n",
       "      <td>NaN</td>\n",
       "      <td>NaN</td>\n",
       "      <td>20.0</td>\n",
       "      <td>14.0</td>\n",
       "      <td>ultra</td>\n",
       "      <td>Красноярск</td>\n",
       "      <td>1</td>\n",
       "      <td>1000</td>\n",
       "      <td>30720</td>\n",
       "      <td>3000</td>\n",
       "      <td>1950</td>\n",
       "      <td>150</td>\n",
       "      <td>1</td>\n",
       "      <td>1</td>\n",
       "      <td>1950.0</td>\n",
       "    </tr>\n",
       "    <tr>\n",
       "      <th>983</th>\n",
       "      <td>1473</td>\n",
       "      <td>11.0</td>\n",
       "      <td>NaN</td>\n",
       "      <td>NaN</td>\n",
       "      <td>14.0</td>\n",
       "      <td>22.0</td>\n",
       "      <td>ultra</td>\n",
       "      <td>Красноярск</td>\n",
       "      <td>1</td>\n",
       "      <td>1000</td>\n",
       "      <td>30720</td>\n",
       "      <td>3000</td>\n",
       "      <td>1950</td>\n",
       "      <td>150</td>\n",
       "      <td>1</td>\n",
       "      <td>1</td>\n",
       "      <td>1950.0</td>\n",
       "    </tr>\n",
       "    <tr>\n",
       "      <th>984</th>\n",
       "      <td>1473</td>\n",
       "      <td>12.0</td>\n",
       "      <td>NaN</td>\n",
       "      <td>NaN</td>\n",
       "      <td>20.0</td>\n",
       "      <td>18.0</td>\n",
       "      <td>ultra</td>\n",
       "      <td>Красноярск</td>\n",
       "      <td>1</td>\n",
       "      <td>1000</td>\n",
       "      <td>30720</td>\n",
       "      <td>3000</td>\n",
       "      <td>1950</td>\n",
       "      <td>150</td>\n",
       "      <td>1</td>\n",
       "      <td>1</td>\n",
       "      <td>1950.0</td>\n",
       "    </tr>\n",
       "    <tr>\n",
       "      <th>985</th>\n",
       "      <td>1128</td>\n",
       "      <td>NaN</td>\n",
       "      <td>NaN</td>\n",
       "      <td>NaN</td>\n",
       "      <td>NaN</td>\n",
       "      <td>NaN</td>\n",
       "      <td>ultra</td>\n",
       "      <td>Волжский</td>\n",
       "      <td>1</td>\n",
       "      <td>1000</td>\n",
       "      <td>30720</td>\n",
       "      <td>3000</td>\n",
       "      <td>1950</td>\n",
       "      <td>150</td>\n",
       "      <td>1</td>\n",
       "      <td>1</td>\n",
       "      <td>1950.0</td>\n",
       "    </tr>\n",
       "  </tbody>\n",
       "</table>\n",
       "<p>986 rows × 17 columns</p>\n",
       "</div>"
      ],
      "text/plain": [
       "     user_id  month  calls_duration  calls_number  messages  traffic tariff  \\\n",
       "0       1000    5.0           159.0          22.0      22.0      3.0  ultra   \n",
       "1       1000    6.0           172.0          43.0      60.0     23.0  ultra   \n",
       "2       1000    7.0           340.0          47.0      75.0     14.0  ultra   \n",
       "3       1000    8.0           408.0          52.0      81.0     14.0  ultra   \n",
       "4       1000    9.0           466.0          58.0      57.0     15.0  ultra   \n",
       "..       ...    ...             ...           ...       ...      ...    ...   \n",
       "981     1473    9.0             NaN           NaN      19.0     17.0  ultra   \n",
       "982     1473   10.0             NaN           NaN      20.0     14.0  ultra   \n",
       "983     1473   11.0             NaN           NaN      14.0     22.0  ultra   \n",
       "984     1473   12.0             NaN           NaN      20.0     18.0  ultra   \n",
       "985     1128    NaN             NaN           NaN       NaN      NaN  ultra   \n",
       "\n",
       "           city  tariff_id  messages_included  mb_per_month_included  \\\n",
       "0     Краснодар          1               1000                  30720   \n",
       "1     Краснодар          1               1000                  30720   \n",
       "2     Краснодар          1               1000                  30720   \n",
       "3     Краснодар          1               1000                  30720   \n",
       "4     Краснодар          1               1000                  30720   \n",
       "..          ...        ...                ...                    ...   \n",
       "981  Красноярск          1               1000                  30720   \n",
       "982  Красноярск          1               1000                  30720   \n",
       "983  Красноярск          1               1000                  30720   \n",
       "984  Красноярск          1               1000                  30720   \n",
       "985    Волжский          1               1000                  30720   \n",
       "\n",
       "     minutes_included  rub_monthly_fee  rub_per_gb  rub_per_message  \\\n",
       "0                3000             1950         150                1   \n",
       "1                3000             1950         150                1   \n",
       "2                3000             1950         150                1   \n",
       "3                3000             1950         150                1   \n",
       "4                3000             1950         150                1   \n",
       "..                ...              ...         ...              ...   \n",
       "981              3000             1950         150                1   \n",
       "982              3000             1950         150                1   \n",
       "983              3000             1950         150                1   \n",
       "984              3000             1950         150                1   \n",
       "985              3000             1950         150                1   \n",
       "\n",
       "     rub_per_minute  expenses  \n",
       "0                 1    1950.0  \n",
       "1                 1    1950.0  \n",
       "2                 1    1950.0  \n",
       "3                 1    1950.0  \n",
       "4                 1    1950.0  \n",
       "..              ...       ...  \n",
       "981               1    1950.0  \n",
       "982               1    1950.0  \n",
       "983               1    1950.0  \n",
       "984               1    1950.0  \n",
       "985               1    1950.0  \n",
       "\n",
       "[986 rows x 17 columns]"
      ]
     },
     "metadata": {},
     "output_type": "display_data"
    }
   ],
   "source": [
    "display(smart)\n",
    "display(ultra)"
   ]
  },
  {
   "cell_type": "code",
   "execution_count": 39,
   "metadata": {},
   "outputs": [],
   "source": [
    "#функция для расчета поведения клиентов\n",
    "def hist_maker_and_table(df, name,x_1_smart,x_2_ultra):\n",
    "    cd = df.groupby(df.tariff)[name]\n",
    "    cd_desc = cd.describe(percentiles = [.01,.25,.75,.99])\n",
    "    cd_desc['var']= [np.var(cd.get_group('smart'), ddof=1), np.var(cd.get_group('ultra'), ddof=1)]\n",
    "    display(cd_desc)\n",
    "    smart = df.query('tariff == \"smart\"')[name]\n",
    "    ultra = df.query('tariff == \"ultra\"')[name]\n",
    "    plt.figure(figsize=(10,6))\n",
    "    plt.hist(smart, bins=50, color='blue', edgecolor='grey', alpha=0.5, label = 'smart', density = False)\n",
    "    plt.hist(ultra, bins=50, color='orange', edgecolor='grey', alpha=0.5,label = 'ultra', density = False)\n",
    "    plt.axvline(cd_desc['mean'][0], color='blue', linestyle='dashed', linewidth=3, label='Mean smart: {:.2f}'.format(cd_desc['mean'][0]))\n",
    "    \n",
    "    plt.axvline(cd_desc['mean'][1], color='orange', linestyle='dashed', linewidth=3, label='Mean ultra: {:.2f}'.format(cd_desc['mean'][1]))\n",
    "\n",
    "    plt.axvline(x_1_smart, color='blue', linestyle='solid', linewidth=3, label='Included in tariff smart')\n",
    "    plt.axvline(x_2_ultra, color='orange', linestyle='solid', linewidth=3, label='Included in tariff ultra')\n",
    "    plt.legend()\n",
    "    plt.title('Histogramm {}'.format(name))"
   ]
  },
  {
   "cell_type": "markdown",
   "metadata": {},
   "source": [
    "## Сравнение тарифов"
   ]
  },
  {
   "cell_type": "markdown",
   "metadata": {},
   "source": [
    "### Звонки"
   ]
  },
  {
   "cell_type": "code",
   "execution_count": 40,
   "metadata": {
    "scrolled": true
   },
   "outputs": [
    {
     "name": "stdout",
     "output_type": "stream",
     "text": [
      "СРАВНЕНИЕ ТАРИФА ULTRA И SMART\n"
     ]
    },
    {
     "data": {
      "image/png": "[encoded data removed]",
      "text/plain": [
       "<Figure size 1512x432 with 2 Axes>"
      ]
     },
     "metadata": {
      "needs_background": "light"
     },
     "output_type": "display_data"
    }
   ],
   "source": [
    "print('СРАВНЕНИЕ ТАРИФА ULTRA И SMART')\n",
    "fig = plt.figure(figsize = (21,6))\n",
    "optimal_table[optimal_table['tariff'] == 'ultra'].boxplot('calls_duration', ax = plt.subplot(1,2,1))\n",
    "optimal_table[optimal_table['tariff'] == 'smart'].boxplot('calls_duration', ax = plt.subplot(1,2,2));"
   ]
  },
  {
   "cell_type": "code",
   "execution_count": 41,
   "metadata": {},
   "outputs": [
    {
     "data": {
      "text/html": [
       "<div>\n",
       "<style scoped>\n",
       "    .dataframe tbody tr th:only-of-type {\n",
       "        vertical-align: middle;\n",
       "    }\n",
       "\n",
       "    .dataframe tbody tr th {\n",
       "        vertical-align: top;\n",
       "    }\n",
       "\n",
       "    .dataframe thead th {\n",
       "        text-align: right;\n",
       "    }\n",
       "</style>\n",
       "<table border=\"1\" class=\"dataframe\">\n",
       "  <thead>\n",
       "    <tr style=\"text-align: right;\">\n",
       "      <th></th>\n",
       "      <th>count</th>\n",
       "      <th>mean</th>\n",
       "      <th>std</th>\n",
       "      <th>min</th>\n",
       "      <th>1%</th>\n",
       "      <th>25%</th>\n",
       "      <th>50%</th>\n",
       "      <th>75%</th>\n",
       "      <th>99%</th>\n",
       "      <th>max</th>\n",
       "      <th>var</th>\n",
       "    </tr>\n",
       "    <tr>\n",
       "      <th>tariff</th>\n",
       "      <th></th>\n",
       "      <th></th>\n",
       "      <th></th>\n",
       "      <th></th>\n",
       "      <th></th>\n",
       "      <th></th>\n",
       "      <th></th>\n",
       "      <th></th>\n",
       "      <th></th>\n",
       "      <th></th>\n",
       "      <th></th>\n",
       "    </tr>\n",
       "  </thead>\n",
       "  <tbody>\n",
       "    <tr>\n",
       "      <th>smart</th>\n",
       "      <td>2223.0</td>\n",
       "      <td>419.062978</td>\n",
       "      <td>189.325618</td>\n",
       "      <td>0.0</td>\n",
       "      <td>20.22</td>\n",
       "      <td>285.0</td>\n",
       "      <td>423.0</td>\n",
       "      <td>545.5</td>\n",
       "      <td>872.78</td>\n",
       "      <td>1435.0</td>\n",
       "      <td>35844.189551</td>\n",
       "    </tr>\n",
       "    <tr>\n",
       "      <th>ultra</th>\n",
       "      <td>951.0</td>\n",
       "      <td>545.451104</td>\n",
       "      <td>306.925754</td>\n",
       "      <td>0.0</td>\n",
       "      <td>11.50</td>\n",
       "      <td>310.0</td>\n",
       "      <td>528.0</td>\n",
       "      <td>756.5</td>\n",
       "      <td>1293.50</td>\n",
       "      <td>1673.0</td>\n",
       "      <td>94203.418396</td>\n",
       "    </tr>\n",
       "  </tbody>\n",
       "</table>\n",
       "</div>"
      ],
      "text/plain": [
       "         count        mean         std  min     1%    25%    50%    75%  \\\n",
       "tariff                                                                    \n",
       "smart   2223.0  419.062978  189.325618  0.0  20.22  285.0  423.0  545.5   \n",
       "ultra    951.0  545.451104  306.925754  0.0  11.50  310.0  528.0  756.5   \n",
       "\n",
       "            99%     max           var  \n",
       "tariff                                 \n",
       "smart    872.78  1435.0  35844.189551  \n",
       "ultra   1293.50  1673.0  94203.418396  "
      ]
     },
     "metadata": {},
     "output_type": "display_data"
    },
    {
     "data": {
      "image/png": "[encoded data removed]",
      "text/plain": [
       "<Figure size 720x432 with 1 Axes>"
      ]
     },
     "metadata": {
      "needs_background": "light"
     },
     "output_type": "display_data"
    }
   ],
   "source": [
    "hist_maker_and_table(optimal_table,'calls_duration',500,3000)"
   ]
  },
  {
   "cell_type": "markdown",
   "metadata": {},
   "source": [
    "#### Вывод"
   ]
  },
  {
   "cell_type": "markdown",
   "metadata": {},
   "source": [
    "- Пользователи тарифа Смарт в среднем в месяц тратят меньше минут разговора, чем пользователи тарифа Ультра.\n",
    "- На тарифе Смарт пользователи часто не укладываются в лимиты и доплачивают за звонки, в отличии от пользователей тарифа Ультра. \n",
    "- Дисперсия и стандартное отклонение выше на тарифе Ультра, но пользователи этого тарифа всегда укладываются в установленные лимиты. Максимальное число минут разговора в месяц значительно меньше заложенных в него 3000."
   ]
  },
  {
   "cell_type": "markdown",
   "metadata": {},
   "source": [
    "### Сообщения"
   ]
  },
  {
   "cell_type": "code",
   "execution_count": 42,
   "metadata": {},
   "outputs": [
    {
     "name": "stdout",
     "output_type": "stream",
     "text": [
      "СРАВНЕНИЕ ТАРИФА ULTRA И SMART\n"
     ]
    },
    {
     "data": {
      "image/png": "[encoded data removed]",
      "text/plain": [
       "<Figure size 1512x432 with 2 Axes>"
      ]
     },
     "metadata": {
      "needs_background": "light"
     },
     "output_type": "display_data"
    }
   ],
   "source": [
    "print('СРАВНЕНИЕ ТАРИФА ULTRA И SMART')\n",
    "fig = plt.figure(figsize = (21,6))\n",
    "optimal_table[optimal_table['tariff'] == 'ultra'].boxplot('messages', ax = plt.subplot(1,2,1))\n",
    "optimal_table[optimal_table['tariff'] == 'smart'].boxplot('messages', ax = plt.subplot(1,2,2));"
   ]
  },
  {
   "cell_type": "code",
   "execution_count": 43,
   "metadata": {},
   "outputs": [
    {
     "data": {
      "text/html": [
       "<div>\n",
       "<style scoped>\n",
       "    .dataframe tbody tr th:only-of-type {\n",
       "        vertical-align: middle;\n",
       "    }\n",
       "\n",
       "    .dataframe tbody tr th {\n",
       "        vertical-align: top;\n",
       "    }\n",
       "\n",
       "    .dataframe thead th {\n",
       "        text-align: right;\n",
       "    }\n",
       "</style>\n",
       "<table border=\"1\" class=\"dataframe\">\n",
       "  <thead>\n",
       "    <tr style=\"text-align: right;\">\n",
       "      <th></th>\n",
       "      <th>count</th>\n",
       "      <th>mean</th>\n",
       "      <th>std</th>\n",
       "      <th>min</th>\n",
       "      <th>1%</th>\n",
       "      <th>25%</th>\n",
       "      <th>50%</th>\n",
       "      <th>75%</th>\n",
       "      <th>99%</th>\n",
       "      <th>max</th>\n",
       "      <th>var</th>\n",
       "    </tr>\n",
       "    <tr>\n",
       "      <th>tariff</th>\n",
       "      <th></th>\n",
       "      <th></th>\n",
       "      <th></th>\n",
       "      <th></th>\n",
       "      <th></th>\n",
       "      <th></th>\n",
       "      <th></th>\n",
       "      <th></th>\n",
       "      <th></th>\n",
       "      <th></th>\n",
       "      <th></th>\n",
       "    </tr>\n",
       "  </thead>\n",
       "  <tbody>\n",
       "    <tr>\n",
       "      <th>smart</th>\n",
       "      <td>1922.0</td>\n",
       "      <td>38.716441</td>\n",
       "      <td>26.787949</td>\n",
       "      <td>1.0</td>\n",
       "      <td>1.0</td>\n",
       "      <td>17.0</td>\n",
       "      <td>34.0</td>\n",
       "      <td>55.0</td>\n",
       "      <td>109.00</td>\n",
       "      <td>143.0</td>\n",
       "      <td>717.594201</td>\n",
       "    </tr>\n",
       "    <tr>\n",
       "      <th>ultra</th>\n",
       "      <td>795.0</td>\n",
       "      <td>61.161006</td>\n",
       "      <td>45.931026</td>\n",
       "      <td>1.0</td>\n",
       "      <td>2.0</td>\n",
       "      <td>24.0</td>\n",
       "      <td>51.0</td>\n",
       "      <td>87.5</td>\n",
       "      <td>188.12</td>\n",
       "      <td>224.0</td>\n",
       "      <td>2109.659183</td>\n",
       "    </tr>\n",
       "  </tbody>\n",
       "</table>\n",
       "</div>"
      ],
      "text/plain": [
       "         count       mean        std  min   1%   25%   50%   75%     99%  \\\n",
       "tariff                                                                     \n",
       "smart   1922.0  38.716441  26.787949  1.0  1.0  17.0  34.0  55.0  109.00   \n",
       "ultra    795.0  61.161006  45.931026  1.0  2.0  24.0  51.0  87.5  188.12   \n",
       "\n",
       "          max          var  \n",
       "tariff                      \n",
       "smart   143.0   717.594201  \n",
       "ultra   224.0  2109.659183  "
      ]
     },
     "metadata": {},
     "output_type": "display_data"
    },
    {
     "data": {
      "image/png": "[encoded data removed]",
      "text/plain": [
       "<Figure size 720x432 with 1 Axes>"
      ]
     },
     "metadata": {
      "needs_background": "light"
     },
     "output_type": "display_data"
    }
   ],
   "source": [
    "hist_maker_and_table(optimal_table,'messages',50,1000)"
   ]
  },
  {
   "cell_type": "markdown",
   "metadata": {},
   "source": [
    "#### Вывод"
   ]
  },
  {
   "cell_type": "markdown",
   "metadata": {},
   "source": [
    "- Пользователи тарифа Смарт в среднем в месяц отправляют меньше сообщений, чем пользователи тарифа Ультра.\n",
    "- На тарифе Смарт пользователи иногда не укладываются в лимиты и доплачивают за сообщения, в отличии от пользователей тарифа Ультра. \n",
    "- Дисперсия и стандартное отклонение выше на тарифе Ультра, но пользователи этого тарифа всегда укладываются в установленные лимиты. Максимальное число минут разговора в месяц значительно меньше заложенных в него 1000."
   ]
  },
  {
   "cell_type": "markdown",
   "metadata": {},
   "source": [
    "### Интернет"
   ]
  },
  {
   "cell_type": "code",
   "execution_count": 44,
   "metadata": {},
   "outputs": [
    {
     "name": "stdout",
     "output_type": "stream",
     "text": [
      "СРАВНЕНИЕ ТАРИФА ULTRA И SMART\n"
     ]
    },
    {
     "data": {
      "image/png": "[encoded data removed]",
      "text/plain": [
       "<Figure size 1512x432 with 2 Axes>"
      ]
     },
     "metadata": {
      "needs_background": "light"
     },
     "output_type": "display_data"
    }
   ],
   "source": [
    "print('СРАВНЕНИЕ ТАРИФА ULTRA И SMART')\n",
    "fig = plt.figure(figsize = (21,6))\n",
    "optimal_table[optimal_table['tariff'] == 'ultra'].boxplot('traffic', ax = plt.subplot(1,2,1))\n",
    "optimal_table[optimal_table['tariff'] == 'smart'].boxplot('traffic', ax = plt.subplot(1,2,2));"
   ]
  },
  {
   "cell_type": "code",
   "execution_count": 45,
   "metadata": {},
   "outputs": [
    {
     "data": {
      "text/html": [
       "<div>\n",
       "<style scoped>\n",
       "    .dataframe tbody tr th:only-of-type {\n",
       "        vertical-align: middle;\n",
       "    }\n",
       "\n",
       "    .dataframe tbody tr th {\n",
       "        vertical-align: top;\n",
       "    }\n",
       "\n",
       "    .dataframe thead th {\n",
       "        text-align: right;\n",
       "    }\n",
       "</style>\n",
       "<table border=\"1\" class=\"dataframe\">\n",
       "  <thead>\n",
       "    <tr style=\"text-align: right;\">\n",
       "      <th></th>\n",
       "      <th>count</th>\n",
       "      <th>mean</th>\n",
       "      <th>std</th>\n",
       "      <th>min</th>\n",
       "      <th>1%</th>\n",
       "      <th>25%</th>\n",
       "      <th>50%</th>\n",
       "      <th>75%</th>\n",
       "      <th>99%</th>\n",
       "      <th>max</th>\n",
       "      <th>var</th>\n",
       "    </tr>\n",
       "    <tr>\n",
       "      <th>tariff</th>\n",
       "      <th></th>\n",
       "      <th></th>\n",
       "      <th></th>\n",
       "      <th></th>\n",
       "      <th></th>\n",
       "      <th></th>\n",
       "      <th></th>\n",
       "      <th></th>\n",
       "      <th></th>\n",
       "      <th></th>\n",
       "      <th></th>\n",
       "    </tr>\n",
       "  </thead>\n",
       "  <tbody>\n",
       "    <tr>\n",
       "      <th>smart</th>\n",
       "      <td>2228.0</td>\n",
       "      <td>16.336176</td>\n",
       "      <td>5.737923</td>\n",
       "      <td>0.0</td>\n",
       "      <td>2.00</td>\n",
       "      <td>13.0</td>\n",
       "      <td>17.0</td>\n",
       "      <td>20.0</td>\n",
       "      <td>29.73</td>\n",
       "      <td>38.0</td>\n",
       "      <td>32.923756</td>\n",
       "    </tr>\n",
       "    <tr>\n",
       "      <th>ultra</th>\n",
       "      <td>975.0</td>\n",
       "      <td>19.694359</td>\n",
       "      <td>9.702924</td>\n",
       "      <td>0.0</td>\n",
       "      <td>1.74</td>\n",
       "      <td>12.0</td>\n",
       "      <td>19.0</td>\n",
       "      <td>27.0</td>\n",
       "      <td>42.26</td>\n",
       "      <td>49.0</td>\n",
       "      <td>94.146734</td>\n",
       "    </tr>\n",
       "  </tbody>\n",
       "</table>\n",
       "</div>"
      ],
      "text/plain": [
       "         count       mean       std  min    1%   25%   50%   75%    99%   max  \\\n",
       "tariff                                                                          \n",
       "smart   2228.0  16.336176  5.737923  0.0  2.00  13.0  17.0  20.0  29.73  38.0   \n",
       "ultra    975.0  19.694359  9.702924  0.0  1.74  12.0  19.0  27.0  42.26  49.0   \n",
       "\n",
       "              var  \n",
       "tariff             \n",
       "smart   32.923756  \n",
       "ultra   94.146734  "
      ]
     },
     "metadata": {},
     "output_type": "display_data"
    },
    {
     "data": {
      "image/png": "[encoded data removed]",
      "text/plain": [
       "<Figure size 720x432 with 1 Axes>"
      ]
     },
     "metadata": {
      "needs_background": "light"
     },
     "output_type": "display_data"
    }
   ],
   "source": [
    "hist_maker_and_table(optimal_table,'traffic',15,30)"
   ]
  },
  {
   "cell_type": "markdown",
   "metadata": {},
   "source": [
    "#### Вывод"
   ]
  },
  {
   "cell_type": "markdown",
   "metadata": {},
   "source": [
    "- Пользователи тарифа Смарт в среднем в месяц тратят меньшее кол-во интернета, чем пользователи тарифа Ультра.\n",
    "- На тарифе Смарт пользователи обычно не укладываются в лимиты и доплачивают за гигабайты. \n",
    "- Дисперсия и стандартное отклонение выше на тарифе Ультра,  пользователи этого тарифа редко не укладываются в установленные лимиты. \n",
    "- Максимальное число потраченного интернета в месяц у обоих тарифов выше заложенных. "
   ]
  },
  {
   "cell_type": "markdown",
   "metadata": {},
   "source": [
    "### Выручка"
   ]
  },
  {
   "cell_type": "code",
   "execution_count": 46,
   "metadata": {},
   "outputs": [
    {
     "name": "stdout",
     "output_type": "stream",
     "text": [
      "СРАВНЕНИЕ ТАРИФА ULTRA И SMART\n"
     ]
    },
    {
     "data": {
      "image/png": "[encoded data removed]",
      "text/plain": [
       "<Figure size 1512x432 with 2 Axes>"
      ]
     },
     "metadata": {
      "needs_background": "light"
     },
     "output_type": "display_data"
    }
   ],
   "source": [
    "print('СРАВНЕНИЕ ТАРИФА ULTRA И SMART')\n",
    "fig = plt.figure(figsize = (21,6))\n",
    "optimal_table[optimal_table['tariff'] == 'ultra'].boxplot('expenses', ax = plt.subplot(1,2,1))\n",
    "optimal_table[optimal_table['tariff'] == 'smart'].boxplot('expenses', ax = plt.subplot(1,2,2));"
   ]
  },
  {
   "cell_type": "code",
   "execution_count": 47,
   "metadata": {},
   "outputs": [
    {
     "data": {
      "text/html": [
       "<div>\n",
       "<style scoped>\n",
       "    .dataframe tbody tr th:only-of-type {\n",
       "        vertical-align: middle;\n",
       "    }\n",
       "\n",
       "    .dataframe tbody tr th {\n",
       "        vertical-align: top;\n",
       "    }\n",
       "\n",
       "    .dataframe thead th {\n",
       "        text-align: right;\n",
       "    }\n",
       "</style>\n",
       "<table border=\"1\" class=\"dataframe\">\n",
       "  <thead>\n",
       "    <tr style=\"text-align: right;\">\n",
       "      <th></th>\n",
       "      <th>count</th>\n",
       "      <th>mean</th>\n",
       "      <th>std</th>\n",
       "      <th>min</th>\n",
       "      <th>1%</th>\n",
       "      <th>25%</th>\n",
       "      <th>50%</th>\n",
       "      <th>75%</th>\n",
       "      <th>99%</th>\n",
       "      <th>max</th>\n",
       "      <th>var</th>\n",
       "    </tr>\n",
       "    <tr>\n",
       "      <th>tariff</th>\n",
       "      <th></th>\n",
       "      <th></th>\n",
       "      <th></th>\n",
       "      <th></th>\n",
       "      <th></th>\n",
       "      <th></th>\n",
       "      <th></th>\n",
       "      <th></th>\n",
       "      <th></th>\n",
       "      <th></th>\n",
       "      <th></th>\n",
       "    </tr>\n",
       "  </thead>\n",
       "  <tbody>\n",
       "    <tr>\n",
       "      <th>smart</th>\n",
       "      <td>2230.0</td>\n",
       "      <td>1289.641704</td>\n",
       "      <td>818.370799</td>\n",
       "      <td>550.0</td>\n",
       "      <td>550.0</td>\n",
       "      <td>550.0</td>\n",
       "      <td>1021.0</td>\n",
       "      <td>1750.0</td>\n",
       "      <td>3773.71</td>\n",
       "      <td>6770.0</td>\n",
       "      <td>669730.763895</td>\n",
       "    </tr>\n",
       "    <tr>\n",
       "      <th>ultra</th>\n",
       "      <td>986.0</td>\n",
       "      <td>2070.030426</td>\n",
       "      <td>376.015578</td>\n",
       "      <td>1950.0</td>\n",
       "      <td>1950.0</td>\n",
       "      <td>1950.0</td>\n",
       "      <td>1950.0</td>\n",
       "      <td>1950.0</td>\n",
       "      <td>3772.50</td>\n",
       "      <td>4800.0</td>\n",
       "      <td>141387.714809</td>\n",
       "    </tr>\n",
       "  </tbody>\n",
       "</table>\n",
       "</div>"
      ],
      "text/plain": [
       "         count         mean         std     min      1%     25%     50%  \\\n",
       "tariff                                                                    \n",
       "smart   2230.0  1289.641704  818.370799   550.0   550.0   550.0  1021.0   \n",
       "ultra    986.0  2070.030426  376.015578  1950.0  1950.0  1950.0  1950.0   \n",
       "\n",
       "           75%      99%     max            var  \n",
       "tariff                                          \n",
       "smart   1750.0  3773.71  6770.0  669730.763895  \n",
       "ultra   1950.0  3772.50  4800.0  141387.714809  "
      ]
     },
     "metadata": {},
     "output_type": "display_data"
    },
    {
     "data": {
      "image/png": "[encoded data removed]",
      "text/plain": [
       "<Figure size 720x432 with 1 Axes>"
      ]
     },
     "metadata": {
      "needs_background": "light"
     },
     "output_type": "display_data"
    }
   ],
   "source": [
    "hist_maker_and_table(optimal_table,'expenses',550,1950)"
   ]
  },
  {
   "cell_type": "code",
   "execution_count": 48,
   "metadata": {},
   "outputs": [
    {
     "data": {
      "text/plain": [
       "2875901.0"
      ]
     },
     "metadata": {},
     "output_type": "display_data"
    },
    {
     "data": {
      "text/plain": [
       "2041050.0"
      ]
     },
     "metadata": {},
     "output_type": "display_data"
    }
   ],
   "source": [
    "display(smart.expenses.sum())\n",
    "display(ultra.expenses.sum())"
   ]
  },
  {
   "cell_type": "markdown",
   "metadata": {},
   "source": [
    "#### Вывод"
   ]
  },
  {
   "cell_type": "markdown",
   "metadata": {},
   "source": [
    "- Средняя выручка у тарифа Ультра выше чем тарифа Смарт. \n",
    "- Стандартное отклонение и дисперсия выше у тарифа Смарт. \n",
    "- Удивляют максимальные значения за месяц, у Смарт максимальная оплата была 6770 рублей, а у Ультра 4800, что гораздо выше стоимости тарифа. \n",
    "- В среднем пользователи всегда переплачивают за пользование тарифом. \n",
    "- **В месяц в среднем тариф Ультра приносит больше денег и разумнее рекламировать его, однако из-за большого кол-ва пользователей Смарт, тариф смарт в итоге приносит больше денег**"
   ]
  },
  {
   "cell_type": "markdown",
   "metadata": {},
   "source": [
    "## Гипотезы"
   ]
  },
  {
   "cell_type": "markdown",
   "metadata": {},
   "source": [
    "### Средняя выручка пользователей тарифов «Ультра» и «Смарт» различаются\n"
   ]
  },
  {
   "cell_type": "markdown",
   "metadata": {},
   "source": [
    "Нулевая гипотеза (Н0) – средняя выручка пользователей тарифов «Ультра» и «Смарт» равны. \n",
    "\n",
    "Альтернативная гипотеза (Н1) – средняя выручка пользователей тарифов «Ультра» и «Смарт» различаются.\n",
    "\n",
    "Для выборки необходимо взять одинаковое кол-во пользователей. \n",
    "\n",
    "Нам уже известно, что в данном случае дисперсии различаются, поэтому будет применен метод equal_var = False. \n",
    "\n",
    "Критический уровень значимости = .05"
   ]
  },
  {
   "cell_type": "code",
   "execution_count": 49,
   "metadata": {
    "scrolled": true
   },
   "outputs": [
    {
     "name": "stdout",
     "output_type": "stream",
     "text": [
      "p-значение:  8.081909555489933e-161\n",
      "Принимаем альтернативную гипотезу\n"
     ]
    }
   ],
   "source": [
    "expenses_u = optimal_table[optimal_table['tariff'] == 'ultra']['expenses'] \n",
    "expenses_s = optimal_table[optimal_table['tariff'] == 'smart']['expenses'] \n",
    "results = st.ttest_ind( expenses_u, expenses_s)\n",
    "alpha = 0.05\n",
    "\n",
    "print('p-значение: ', results.pvalue)\n",
    "if results.pvalue < alpha:\n",
    "    print('Принимаем альтернативную гипотезу')\n",
    "else:\n",
    "    print('Отвергнуть нулевую гипотезу нельзя')"
   ]
  },
  {
   "cell_type": "markdown",
   "metadata": {},
   "source": [
    "#### Вывод"
   ]
  },
  {
   "cell_type": "markdown",
   "metadata": {},
   "source": [
    "Полученное значение p-value говорит о том, что средний чек пришедших из разных каналов неодинаков. Это явно слишком малая вероятность, чтобы делать вывод о незначительном различии между средними чеками."
   ]
  },
  {
   "cell_type": "markdown",
   "metadata": {},
   "source": [
    "### Средняя выручка пользователей из Москвы отличается от выручки пользователей из других регионов"
   ]
  },
  {
   "cell_type": "markdown",
   "metadata": {},
   "source": [
    "Нулевая гипотеза (Н0) – средняя выручка пользователей из Москвы и выручки пользователей из других регионов равны.  \n",
    "\n",
    "Альтернативная гипотеза (Н1) – средняя выручка пользователей из Москвы отличается от выручки пользователей из других регионов.\n",
    "\n",
    "Для выборки необходимо взять одинаковое кол-во пользователей. \n",
    "\n",
    "Пользователи из Москвы почти всегда отличаются от регионов, они чаще ведут переговоры, поэтому будет применен метод equal_var = False. \n",
    "\n",
    "Критический уровень значимости = .05"
   ]
  },
  {
   "cell_type": "code",
   "execution_count": 50,
   "metadata": {},
   "outputs": [
    {
     "data": {
      "text/html": [
       "<div>\n",
       "<style scoped>\n",
       "    .dataframe tbody tr th:only-of-type {\n",
       "        vertical-align: middle;\n",
       "    }\n",
       "\n",
       "    .dataframe tbody tr th {\n",
       "        vertical-align: top;\n",
       "    }\n",
       "\n",
       "    .dataframe thead th {\n",
       "        text-align: right;\n",
       "    }\n",
       "</style>\n",
       "<table border=\"1\" class=\"dataframe\">\n",
       "  <thead>\n",
       "    <tr style=\"text-align: right;\">\n",
       "      <th></th>\n",
       "      <th>user_id</th>\n",
       "      <th>month</th>\n",
       "      <th>calls_duration</th>\n",
       "      <th>calls_number</th>\n",
       "      <th>messages</th>\n",
       "      <th>traffic</th>\n",
       "      <th>tariff</th>\n",
       "      <th>city</th>\n",
       "      <th>tariff_id</th>\n",
       "      <th>messages_included</th>\n",
       "      <th>mb_per_month_included</th>\n",
       "      <th>minutes_included</th>\n",
       "      <th>rub_monthly_fee</th>\n",
       "      <th>rub_per_gb</th>\n",
       "      <th>rub_per_message</th>\n",
       "      <th>rub_per_minute</th>\n",
       "      <th>expenses</th>\n",
       "    </tr>\n",
       "  </thead>\n",
       "  <tbody>\n",
       "    <tr>\n",
       "      <th>8</th>\n",
       "      <td>1003</td>\n",
       "      <td>8.0</td>\n",
       "      <td>380.0</td>\n",
       "      <td>55.0</td>\n",
       "      <td>37.0</td>\n",
       "      <td>9.0</td>\n",
       "      <td>ultra</td>\n",
       "      <td>Москва</td>\n",
       "      <td>1</td>\n",
       "      <td>1000</td>\n",
       "      <td>30720</td>\n",
       "      <td>3000</td>\n",
       "      <td>1950</td>\n",
       "      <td>150</td>\n",
       "      <td>1</td>\n",
       "      <td>1</td>\n",
       "      <td>1950.0</td>\n",
       "    </tr>\n",
       "    <tr>\n",
       "      <th>9</th>\n",
       "      <td>1003</td>\n",
       "      <td>9.0</td>\n",
       "      <td>961.0</td>\n",
       "      <td>134.0</td>\n",
       "      <td>91.0</td>\n",
       "      <td>13.0</td>\n",
       "      <td>ultra</td>\n",
       "      <td>Москва</td>\n",
       "      <td>1</td>\n",
       "      <td>1000</td>\n",
       "      <td>30720</td>\n",
       "      <td>3000</td>\n",
       "      <td>1950</td>\n",
       "      <td>150</td>\n",
       "      <td>1</td>\n",
       "      <td>1</td>\n",
       "      <td>1950.0</td>\n",
       "    </tr>\n",
       "    <tr>\n",
       "      <th>10</th>\n",
       "      <td>1003</td>\n",
       "      <td>10.0</td>\n",
       "      <td>855.0</td>\n",
       "      <td>108.0</td>\n",
       "      <td>83.0</td>\n",
       "      <td>15.0</td>\n",
       "      <td>ultra</td>\n",
       "      <td>Москва</td>\n",
       "      <td>1</td>\n",
       "      <td>1000</td>\n",
       "      <td>30720</td>\n",
       "      <td>3000</td>\n",
       "      <td>1950</td>\n",
       "      <td>150</td>\n",
       "      <td>1</td>\n",
       "      <td>1</td>\n",
       "      <td>1950.0</td>\n",
       "    </tr>\n",
       "    <tr>\n",
       "      <th>11</th>\n",
       "      <td>1003</td>\n",
       "      <td>11.0</td>\n",
       "      <td>824.0</td>\n",
       "      <td>115.0</td>\n",
       "      <td>94.0</td>\n",
       "      <td>12.0</td>\n",
       "      <td>ultra</td>\n",
       "      <td>Москва</td>\n",
       "      <td>1</td>\n",
       "      <td>1000</td>\n",
       "      <td>30720</td>\n",
       "      <td>3000</td>\n",
       "      <td>1950</td>\n",
       "      <td>150</td>\n",
       "      <td>1</td>\n",
       "      <td>1</td>\n",
       "      <td>1950.0</td>\n",
       "    </tr>\n",
       "    <tr>\n",
       "      <th>12</th>\n",
       "      <td>1003</td>\n",
       "      <td>12.0</td>\n",
       "      <td>802.0</td>\n",
       "      <td>108.0</td>\n",
       "      <td>75.0</td>\n",
       "      <td>10.0</td>\n",
       "      <td>ultra</td>\n",
       "      <td>Москва</td>\n",
       "      <td>1</td>\n",
       "      <td>1000</td>\n",
       "      <td>30720</td>\n",
       "      <td>3000</td>\n",
       "      <td>1950</td>\n",
       "      <td>150</td>\n",
       "      <td>1</td>\n",
       "      <td>1</td>\n",
       "      <td>1950.0</td>\n",
       "    </tr>\n",
       "    <tr>\n",
       "      <th>...</th>\n",
       "      <td>...</td>\n",
       "      <td>...</td>\n",
       "      <td>...</td>\n",
       "      <td>...</td>\n",
       "      <td>...</td>\n",
       "      <td>...</td>\n",
       "      <td>...</td>\n",
       "      <td>...</td>\n",
       "      <td>...</td>\n",
       "      <td>...</td>\n",
       "      <td>...</td>\n",
       "      <td>...</td>\n",
       "      <td>...</td>\n",
       "      <td>...</td>\n",
       "      <td>...</td>\n",
       "      <td>...</td>\n",
       "      <td>...</td>\n",
       "    </tr>\n",
       "    <tr>\n",
       "      <th>3170</th>\n",
       "      <td>1490</td>\n",
       "      <td>8.0</td>\n",
       "      <td>346.0</td>\n",
       "      <td>45.0</td>\n",
       "      <td>50.0</td>\n",
       "      <td>17.0</td>\n",
       "      <td>smart</td>\n",
       "      <td>Москва</td>\n",
       "      <td>0</td>\n",
       "      <td>50</td>\n",
       "      <td>15360</td>\n",
       "      <td>500</td>\n",
       "      <td>550</td>\n",
       "      <td>200</td>\n",
       "      <td>3</td>\n",
       "      <td>3</td>\n",
       "      <td>950.0</td>\n",
       "    </tr>\n",
       "    <tr>\n",
       "      <th>3171</th>\n",
       "      <td>1490</td>\n",
       "      <td>9.0</td>\n",
       "      <td>322.0</td>\n",
       "      <td>44.0</td>\n",
       "      <td>48.0</td>\n",
       "      <td>15.0</td>\n",
       "      <td>smart</td>\n",
       "      <td>Москва</td>\n",
       "      <td>0</td>\n",
       "      <td>50</td>\n",
       "      <td>15360</td>\n",
       "      <td>500</td>\n",
       "      <td>550</td>\n",
       "      <td>200</td>\n",
       "      <td>3</td>\n",
       "      <td>3</td>\n",
       "      <td>550.0</td>\n",
       "    </tr>\n",
       "    <tr>\n",
       "      <th>3172</th>\n",
       "      <td>1490</td>\n",
       "      <td>10.0</td>\n",
       "      <td>312.0</td>\n",
       "      <td>42.0</td>\n",
       "      <td>45.0</td>\n",
       "      <td>21.0</td>\n",
       "      <td>smart</td>\n",
       "      <td>Москва</td>\n",
       "      <td>0</td>\n",
       "      <td>50</td>\n",
       "      <td>15360</td>\n",
       "      <td>500</td>\n",
       "      <td>550</td>\n",
       "      <td>200</td>\n",
       "      <td>3</td>\n",
       "      <td>3</td>\n",
       "      <td>1750.0</td>\n",
       "    </tr>\n",
       "    <tr>\n",
       "      <th>3173</th>\n",
       "      <td>1490</td>\n",
       "      <td>11.0</td>\n",
       "      <td>282.0</td>\n",
       "      <td>38.0</td>\n",
       "      <td>47.0</td>\n",
       "      <td>19.0</td>\n",
       "      <td>smart</td>\n",
       "      <td>Москва</td>\n",
       "      <td>0</td>\n",
       "      <td>50</td>\n",
       "      <td>15360</td>\n",
       "      <td>500</td>\n",
       "      <td>550</td>\n",
       "      <td>200</td>\n",
       "      <td>3</td>\n",
       "      <td>3</td>\n",
       "      <td>1350.0</td>\n",
       "    </tr>\n",
       "    <tr>\n",
       "      <th>3174</th>\n",
       "      <td>1490</td>\n",
       "      <td>12.0</td>\n",
       "      <td>290.0</td>\n",
       "      <td>42.0</td>\n",
       "      <td>46.0</td>\n",
       "      <td>16.0</td>\n",
       "      <td>smart</td>\n",
       "      <td>Москва</td>\n",
       "      <td>0</td>\n",
       "      <td>50</td>\n",
       "      <td>15360</td>\n",
       "      <td>500</td>\n",
       "      <td>550</td>\n",
       "      <td>200</td>\n",
       "      <td>3</td>\n",
       "      <td>3</td>\n",
       "      <td>750.0</td>\n",
       "    </tr>\n",
       "  </tbody>\n",
       "</table>\n",
       "<p>611 rows × 17 columns</p>\n",
       "</div>"
      ],
      "text/plain": [
       "      user_id  month  calls_duration  calls_number  messages  traffic tariff  \\\n",
       "8        1003    8.0           380.0          55.0      37.0      9.0  ultra   \n",
       "9        1003    9.0           961.0         134.0      91.0     13.0  ultra   \n",
       "10       1003   10.0           855.0         108.0      83.0     15.0  ultra   \n",
       "11       1003   11.0           824.0         115.0      94.0     12.0  ultra   \n",
       "12       1003   12.0           802.0         108.0      75.0     10.0  ultra   \n",
       "...       ...    ...             ...           ...       ...      ...    ...   \n",
       "3170     1490    8.0           346.0          45.0      50.0     17.0  smart   \n",
       "3171     1490    9.0           322.0          44.0      48.0     15.0  smart   \n",
       "3172     1490   10.0           312.0          42.0      45.0     21.0  smart   \n",
       "3173     1490   11.0           282.0          38.0      47.0     19.0  smart   \n",
       "3174     1490   12.0           290.0          42.0      46.0     16.0  smart   \n",
       "\n",
       "        city  tariff_id  messages_included  mb_per_month_included  \\\n",
       "8     Москва          1               1000                  30720   \n",
       "9     Москва          1               1000                  30720   \n",
       "10    Москва          1               1000                  30720   \n",
       "11    Москва          1               1000                  30720   \n",
       "12    Москва          1               1000                  30720   \n",
       "...      ...        ...                ...                    ...   \n",
       "3170  Москва          0                 50                  15360   \n",
       "3171  Москва          0                 50                  15360   \n",
       "3172  Москва          0                 50                  15360   \n",
       "3173  Москва          0                 50                  15360   \n",
       "3174  Москва          0                 50                  15360   \n",
       "\n",
       "      minutes_included  rub_monthly_fee  rub_per_gb  rub_per_message  \\\n",
       "8                 3000             1950         150                1   \n",
       "9                 3000             1950         150                1   \n",
       "10                3000             1950         150                1   \n",
       "11                3000             1950         150                1   \n",
       "12                3000             1950         150                1   \n",
       "...                ...              ...         ...              ...   \n",
       "3170               500              550         200                3   \n",
       "3171               500              550         200                3   \n",
       "3172               500              550         200                3   \n",
       "3173               500              550         200                3   \n",
       "3174               500              550         200                3   \n",
       "\n",
       "      rub_per_minute  expenses  \n",
       "8                  1    1950.0  \n",
       "9                  1    1950.0  \n",
       "10                 1    1950.0  \n",
       "11                 1    1950.0  \n",
       "12                 1    1950.0  \n",
       "...              ...       ...  \n",
       "3170               3     950.0  \n",
       "3171               3     550.0  \n",
       "3172               3    1750.0  \n",
       "3173               3    1350.0  \n",
       "3174               3     750.0  \n",
       "\n",
       "[611 rows x 17 columns]"
      ]
     },
     "metadata": {},
     "output_type": "display_data"
    },
    {
     "data": {
      "text/html": [
       "<div>\n",
       "<style scoped>\n",
       "    .dataframe tbody tr th:only-of-type {\n",
       "        vertical-align: middle;\n",
       "    }\n",
       "\n",
       "    .dataframe tbody tr th {\n",
       "        vertical-align: top;\n",
       "    }\n",
       "\n",
       "    .dataframe thead th {\n",
       "        text-align: right;\n",
       "    }\n",
       "</style>\n",
       "<table border=\"1\" class=\"dataframe\">\n",
       "  <thead>\n",
       "    <tr style=\"text-align: right;\">\n",
       "      <th></th>\n",
       "      <th>user_id</th>\n",
       "      <th>month</th>\n",
       "      <th>calls_duration</th>\n",
       "      <th>calls_number</th>\n",
       "      <th>messages</th>\n",
       "      <th>traffic</th>\n",
       "      <th>tariff</th>\n",
       "      <th>city</th>\n",
       "      <th>tariff_id</th>\n",
       "      <th>messages_included</th>\n",
       "      <th>mb_per_month_included</th>\n",
       "      <th>minutes_included</th>\n",
       "      <th>rub_monthly_fee</th>\n",
       "      <th>rub_per_gb</th>\n",
       "      <th>rub_per_message</th>\n",
       "      <th>rub_per_minute</th>\n",
       "      <th>expenses</th>\n",
       "    </tr>\n",
       "  </thead>\n",
       "  <tbody>\n",
       "    <tr>\n",
       "      <th>0</th>\n",
       "      <td>1000</td>\n",
       "      <td>5.0</td>\n",
       "      <td>159.0</td>\n",
       "      <td>22.0</td>\n",
       "      <td>22.0</td>\n",
       "      <td>3.0</td>\n",
       "      <td>ultra</td>\n",
       "      <td>Краснодар</td>\n",
       "      <td>1</td>\n",
       "      <td>1000</td>\n",
       "      <td>30720</td>\n",
       "      <td>3000</td>\n",
       "      <td>1950</td>\n",
       "      <td>150</td>\n",
       "      <td>1</td>\n",
       "      <td>1</td>\n",
       "      <td>1950.0</td>\n",
       "    </tr>\n",
       "    <tr>\n",
       "      <th>1</th>\n",
       "      <td>1000</td>\n",
       "      <td>6.0</td>\n",
       "      <td>172.0</td>\n",
       "      <td>43.0</td>\n",
       "      <td>60.0</td>\n",
       "      <td>23.0</td>\n",
       "      <td>ultra</td>\n",
       "      <td>Краснодар</td>\n",
       "      <td>1</td>\n",
       "      <td>1000</td>\n",
       "      <td>30720</td>\n",
       "      <td>3000</td>\n",
       "      <td>1950</td>\n",
       "      <td>150</td>\n",
       "      <td>1</td>\n",
       "      <td>1</td>\n",
       "      <td>1950.0</td>\n",
       "    </tr>\n",
       "    <tr>\n",
       "      <th>2</th>\n",
       "      <td>1000</td>\n",
       "      <td>7.0</td>\n",
       "      <td>340.0</td>\n",
       "      <td>47.0</td>\n",
       "      <td>75.0</td>\n",
       "      <td>14.0</td>\n",
       "      <td>ultra</td>\n",
       "      <td>Краснодар</td>\n",
       "      <td>1</td>\n",
       "      <td>1000</td>\n",
       "      <td>30720</td>\n",
       "      <td>3000</td>\n",
       "      <td>1950</td>\n",
       "      <td>150</td>\n",
       "      <td>1</td>\n",
       "      <td>1</td>\n",
       "      <td>1950.0</td>\n",
       "    </tr>\n",
       "    <tr>\n",
       "      <th>3</th>\n",
       "      <td>1000</td>\n",
       "      <td>8.0</td>\n",
       "      <td>408.0</td>\n",
       "      <td>52.0</td>\n",
       "      <td>81.0</td>\n",
       "      <td>14.0</td>\n",
       "      <td>ultra</td>\n",
       "      <td>Краснодар</td>\n",
       "      <td>1</td>\n",
       "      <td>1000</td>\n",
       "      <td>30720</td>\n",
       "      <td>3000</td>\n",
       "      <td>1950</td>\n",
       "      <td>150</td>\n",
       "      <td>1</td>\n",
       "      <td>1</td>\n",
       "      <td>1950.0</td>\n",
       "    </tr>\n",
       "    <tr>\n",
       "      <th>4</th>\n",
       "      <td>1000</td>\n",
       "      <td>9.0</td>\n",
       "      <td>466.0</td>\n",
       "      <td>58.0</td>\n",
       "      <td>57.0</td>\n",
       "      <td>15.0</td>\n",
       "      <td>ultra</td>\n",
       "      <td>Краснодар</td>\n",
       "      <td>1</td>\n",
       "      <td>1000</td>\n",
       "      <td>30720</td>\n",
       "      <td>3000</td>\n",
       "      <td>1950</td>\n",
       "      <td>150</td>\n",
       "      <td>1</td>\n",
       "      <td>1</td>\n",
       "      <td>1950.0</td>\n",
       "    </tr>\n",
       "    <tr>\n",
       "      <th>...</th>\n",
       "      <td>...</td>\n",
       "      <td>...</td>\n",
       "      <td>...</td>\n",
       "      <td>...</td>\n",
       "      <td>...</td>\n",
       "      <td>...</td>\n",
       "      <td>...</td>\n",
       "      <td>...</td>\n",
       "      <td>...</td>\n",
       "      <td>...</td>\n",
       "      <td>...</td>\n",
       "      <td>...</td>\n",
       "      <td>...</td>\n",
       "      <td>...</td>\n",
       "      <td>...</td>\n",
       "      <td>...</td>\n",
       "      <td>...</td>\n",
       "    </tr>\n",
       "    <tr>\n",
       "      <th>3211</th>\n",
       "      <td>1489</td>\n",
       "      <td>9.0</td>\n",
       "      <td>NaN</td>\n",
       "      <td>NaN</td>\n",
       "      <td>32.0</td>\n",
       "      <td>17.0</td>\n",
       "      <td>smart</td>\n",
       "      <td>Санкт-Петербург</td>\n",
       "      <td>0</td>\n",
       "      <td>50</td>\n",
       "      <td>15360</td>\n",
       "      <td>500</td>\n",
       "      <td>550</td>\n",
       "      <td>200</td>\n",
       "      <td>3</td>\n",
       "      <td>3</td>\n",
       "      <td>950.0</td>\n",
       "    </tr>\n",
       "    <tr>\n",
       "      <th>3212</th>\n",
       "      <td>1489</td>\n",
       "      <td>10.0</td>\n",
       "      <td>NaN</td>\n",
       "      <td>NaN</td>\n",
       "      <td>21.0</td>\n",
       "      <td>20.0</td>\n",
       "      <td>smart</td>\n",
       "      <td>Санкт-Петербург</td>\n",
       "      <td>0</td>\n",
       "      <td>50</td>\n",
       "      <td>15360</td>\n",
       "      <td>500</td>\n",
       "      <td>550</td>\n",
       "      <td>200</td>\n",
       "      <td>3</td>\n",
       "      <td>3</td>\n",
       "      <td>1550.0</td>\n",
       "    </tr>\n",
       "    <tr>\n",
       "      <th>3213</th>\n",
       "      <td>1489</td>\n",
       "      <td>11.0</td>\n",
       "      <td>NaN</td>\n",
       "      <td>NaN</td>\n",
       "      <td>20.0</td>\n",
       "      <td>18.0</td>\n",
       "      <td>smart</td>\n",
       "      <td>Санкт-Петербург</td>\n",
       "      <td>0</td>\n",
       "      <td>50</td>\n",
       "      <td>15360</td>\n",
       "      <td>500</td>\n",
       "      <td>550</td>\n",
       "      <td>200</td>\n",
       "      <td>3</td>\n",
       "      <td>3</td>\n",
       "      <td>1150.0</td>\n",
       "    </tr>\n",
       "    <tr>\n",
       "      <th>3214</th>\n",
       "      <td>1489</td>\n",
       "      <td>12.0</td>\n",
       "      <td>NaN</td>\n",
       "      <td>NaN</td>\n",
       "      <td>35.0</td>\n",
       "      <td>17.0</td>\n",
       "      <td>smart</td>\n",
       "      <td>Санкт-Петербург</td>\n",
       "      <td>0</td>\n",
       "      <td>50</td>\n",
       "      <td>15360</td>\n",
       "      <td>500</td>\n",
       "      <td>550</td>\n",
       "      <td>200</td>\n",
       "      <td>3</td>\n",
       "      <td>3</td>\n",
       "      <td>950.0</td>\n",
       "    </tr>\n",
       "    <tr>\n",
       "      <th>3215</th>\n",
       "      <td>1371</td>\n",
       "      <td>NaN</td>\n",
       "      <td>NaN</td>\n",
       "      <td>NaN</td>\n",
       "      <td>NaN</td>\n",
       "      <td>NaN</td>\n",
       "      <td>smart</td>\n",
       "      <td>Омск</td>\n",
       "      <td>0</td>\n",
       "      <td>50</td>\n",
       "      <td>15360</td>\n",
       "      <td>500</td>\n",
       "      <td>550</td>\n",
       "      <td>200</td>\n",
       "      <td>3</td>\n",
       "      <td>3</td>\n",
       "      <td>550.0</td>\n",
       "    </tr>\n",
       "  </tbody>\n",
       "</table>\n",
       "<p>2605 rows × 17 columns</p>\n",
       "</div>"
      ],
      "text/plain": [
       "      user_id  month  calls_duration  calls_number  messages  traffic tariff  \\\n",
       "0        1000    5.0           159.0          22.0      22.0      3.0  ultra   \n",
       "1        1000    6.0           172.0          43.0      60.0     23.0  ultra   \n",
       "2        1000    7.0           340.0          47.0      75.0     14.0  ultra   \n",
       "3        1000    8.0           408.0          52.0      81.0     14.0  ultra   \n",
       "4        1000    9.0           466.0          58.0      57.0     15.0  ultra   \n",
       "...       ...    ...             ...           ...       ...      ...    ...   \n",
       "3211     1489    9.0             NaN           NaN      32.0     17.0  smart   \n",
       "3212     1489   10.0             NaN           NaN      21.0     20.0  smart   \n",
       "3213     1489   11.0             NaN           NaN      20.0     18.0  smart   \n",
       "3214     1489   12.0             NaN           NaN      35.0     17.0  smart   \n",
       "3215     1371    NaN             NaN           NaN       NaN      NaN  smart   \n",
       "\n",
       "                 city  tariff_id  messages_included  mb_per_month_included  \\\n",
       "0           Краснодар          1               1000                  30720   \n",
       "1           Краснодар          1               1000                  30720   \n",
       "2           Краснодар          1               1000                  30720   \n",
       "3           Краснодар          1               1000                  30720   \n",
       "4           Краснодар          1               1000                  30720   \n",
       "...               ...        ...                ...                    ...   \n",
       "3211  Санкт-Петербург          0                 50                  15360   \n",
       "3212  Санкт-Петербург          0                 50                  15360   \n",
       "3213  Санкт-Петербург          0                 50                  15360   \n",
       "3214  Санкт-Петербург          0                 50                  15360   \n",
       "3215             Омск          0                 50                  15360   \n",
       "\n",
       "      minutes_included  rub_monthly_fee  rub_per_gb  rub_per_message  \\\n",
       "0                 3000             1950         150                1   \n",
       "1                 3000             1950         150                1   \n",
       "2                 3000             1950         150                1   \n",
       "3                 3000             1950         150                1   \n",
       "4                 3000             1950         150                1   \n",
       "...                ...              ...         ...              ...   \n",
       "3211               500              550         200                3   \n",
       "3212               500              550         200                3   \n",
       "3213               500              550         200                3   \n",
       "3214               500              550         200                3   \n",
       "3215               500              550         200                3   \n",
       "\n",
       "      rub_per_minute  expenses  \n",
       "0                  1    1950.0  \n",
       "1                  1    1950.0  \n",
       "2                  1    1950.0  \n",
       "3                  1    1950.0  \n",
       "4                  1    1950.0  \n",
       "...              ...       ...  \n",
       "3211               3     950.0  \n",
       "3212               3    1550.0  \n",
       "3213               3    1150.0  \n",
       "3214               3     950.0  \n",
       "3215               3     550.0  \n",
       "\n",
       "[2605 rows x 17 columns]"
      ]
     },
     "metadata": {},
     "output_type": "display_data"
    }
   ],
   "source": [
    "moscow = optimal_table[optimal_table['city'] == 'Москва']\n",
    "other = optimal_table[optimal_table['city'] != 'Москва']\n",
    "display(moscow)\n",
    "display(other)"
   ]
  },
  {
   "cell_type": "code",
   "execution_count": 51,
   "metadata": {
    "scrolled": true
   },
   "outputs": [
    {
     "name": "stdout",
     "output_type": "stream",
     "text": [
      "р-значение: 0.5216952110000278\n",
      "Не получилось отвергнуть нулевую гипотезу\n"
     ]
    }
   ],
   "source": [
    "alpha = 0.05\n",
    "results = st.ttest_ind(moscow['expenses'], other['expenses'], equal_var = False)\n",
    "print('р-значение:', results.pvalue)\n",
    "\n",
    "if (results.pvalue < alpha):\n",
    "    print(\"Отвергаем нулевую гипотезу\")\n",
    "else:\n",
    "    print(\"Не получилось отвергнуть нулевую гипотезу\")"
   ]
  },
  {
   "cell_type": "markdown",
   "metadata": {},
   "source": [
    "#### Вывод"
   ]
  },
  {
   "cell_type": "markdown",
   "metadata": {},
   "source": [
    "Полученное значение p-value говорит о том, что хотя средний чек пришедших из разных каналов и неодинаков, с вероятностью в  52% такое или большее различие можно получить случайно. Это явно слишком большая вероятность, чтобы делать вывод о значимом различии между средними чеками."
   ]
  },
  {
   "cell_type": "markdown",
   "metadata": {},
   "source": [
    "## Общий вывод"
   ]
  },
  {
   "cell_type": "markdown",
   "metadata": {},
   "source": [
    "**Пользователи тарифа Смарт, в среднем за месяц:**\n",
    "\n",
    "- Тратят минут разговора: **419**\n",
    "- Пишут сообщений: **38**\n",
    "- Используют интернета (gb): **16**\n",
    "\n",
    "\n",
    "- Стандартное отклонение минут разговора: **189.32**\n",
    "- Стандартное отклонение сообщений: **26.78**\n",
    "- Стандартное отклонение гигабайт интернета: **5.73** \n",
    "\n",
    "\n",
    "- Дисперсия минут разговора: **35844.18**\n",
    "- Дисперсия сообщений: **717.59**\n",
    "- Дисперсия гигабайт интернета: **32.92**\n",
    "\n",
    "\n",
    "**Пользователи тарифа Ультра, в среднем за месяц:**\n",
    " \n",
    "- Тратят минут разговора: **545**\n",
    "- Пишут сообщений: **61**\n",
    "- Используют интернета (gb): **20**\n",
    "\n",
    "\n",
    "- Стандартное отклонение минут разговора: **306.92**\n",
    "- Стандартное отклонение сообщений: **45.93**\n",
    "- Стандартное отклонение гигабайт интернета: **9.70**\n",
    "\n",
    "\n",
    "- Дисперсия минут разговора: **94203.41**\n",
    "- Дисперсия сообщений: **2109.65**\n",
    "- Дисперсия гигабайт интернета: **94.14**\n",
    "\n",
    "-------------\n",
    "\n",
    "- Людям больше нравится пользоваться тарифом Смарт.\n",
    "- Средняя выручка одного пользователя в тарифе Ультра выше Смарт'а, но большую прибыль по итогу приносит тариф Смарт. \n",
    "- В обоих случаях превышается лимит на интернет.\n",
    "- Пользователи тарифа Смарт чаще выходят за рамки лимитов, причем по всем показателям.\n",
    "- Пользователи тарифа Ультра превышают только лимит интернета. \n",
    "- Отвергаем гипотезу о том, что средняя выручка пользователей тарифов \"Смарт\" и \"Ультра\" равны.\n",
    "- Нельзя отрицать, что средняя выручка пользователей из Москвы и выручки пользователей из других регионов равны.\n",
    "- **В месяц в среднем тариф Ультра приносит больше денег и разумнее рекламировать его, однако из-за большого кол-ва пользователей Смарт, тариф смарт в итоге приносит больше денег**"
   ]
  },
  {
   "cell_type": "markdown",
   "metadata": {},
   "source": [
    "## Чек-лист готовности проекта\n",
    "- [x]  открыт файл\n",
    "- [x]  файлы изучены (выведены первые строки, метод `info()` и так далее)\n",
    "- [x]  Приведите данные к нужным типам;\n",
    "- [x]  Найдите и исправьте ошибки в данных, если они есть.\n",
    "- [x]  количество сделанных звонков и израсходованных минут разговора по месяцам;\n",
    "- [x]  количество отправленных сообщений по месяцам;\n",
    "- [x]  объем израсходованного интернет-трафика по месяцам;\n",
    "- [x]  помесячную выручку с каждого пользователя \n",
    "- [x]  Опишите поведение клиентов оператора, исходя из выборки. Сколько минут разговора, сколько сообщений и какой объём интернет-трафика требуется пользователям каждого тарифа в месяц?\n",
    "- [x]  Посчитайте среднее количество, дисперсию и стандартное отклонение.\n",
    "- [x]  Постройте гистограммы. Опишите распределения.\n",
    "- [x]  ГИПОТЕЗА: средняя выручка пользователей тарифов «Ультра» и «Смарт» различаются;\n",
    "- [x]  ГИПОТЕЗА: средняя выручка пользователей из Москвы отличается от выручки пользователей из других регионов.\n",
    "- [x]  в каждом этапе есть выводы\n",
    "- [x]  есть общий вывод"
   ]
  },
  {
   "cell_type": "markdown",
   "metadata": {},
   "source": [
    "## Варианты для сравнения тарифов, диаграмма размаха — основной тип графика для сравнения показателей описательной статистики"
   ]
  },
  {
   "cell_type": "code",
   "execution_count": 54,
   "metadata": {},
   "outputs": [],
   "source": [
    "import seaborn as sns\n",
    "import matplotlib.pyplot as plt"
   ]
  },
  {
   "cell_type": "code",
   "execution_count": 55,
   "metadata": {},
   "outputs": [],
   "source": [
    "revenue = optimal_table.copy()"
   ]
  },
  {
   "cell_type": "code",
   "execution_count": 56,
   "metadata": {},
   "outputs": [
    {
     "data": {
      "text/plain": [
       "Index(['user_id', 'month', 'calls_duration', 'calls_number', 'messages',\n",
       "       'traffic', 'tariff', 'city', 'tariff_id', 'messages_included',\n",
       "       'mb_per_month_included', 'minutes_included', 'rub_monthly_fee',\n",
       "       'rub_per_gb', 'rub_per_message', 'rub_per_minute', 'expenses'],\n",
       "      dtype='object')"
      ]
     },
     "execution_count": 56,
     "metadata": {},
     "output_type": "execute_result"
    }
   ],
   "source": [
    "revenue.columns"
   ]
  },
  {
   "cell_type": "code",
   "execution_count": 62,
   "metadata": {},
   "outputs": [
    {
     "data": {
      "image/png": "[encoded data removed]",
      "text/plain": [
       "<Figure size 864x144 with 1 Axes>"
      ]
     },
     "metadata": {
      "needs_background": "light"
     },
     "output_type": "display_data"
    },
    {
     "data": {
      "image/png": "[encoded data removed]",
      "text/plain": [
       "<Figure size 864x144 with 1 Axes>"
      ]
     },
     "metadata": {
      "needs_background": "light"
     },
     "output_type": "display_data"
    },
    {
     "data": {
      "image/png": "[encoded data removed]",
      "text/plain": [
       "<Figure size 864x144 with 1 Axes>"
      ]
     },
     "metadata": {
      "needs_background": "light"
     },
     "output_type": "display_data"
    },
    {
     "data": {
      "image/png": "[encoded data removed]",
      "text/plain": [
       "<Figure size 864x144 with 1 Axes>"
      ]
     },
     "metadata": {
      "needs_background": "light"
     },
     "output_type": "display_data"
    },
    {
     "data": {
      "image/png": "[encoded data removed]",
      "text/plain": [
       "<Figure size 864x144 with 1 Axes>"
      ]
     },
     "metadata": {
      "needs_background": "light"
     },
     "output_type": "display_data"
    }
   ],
   "source": [
    "\n",
    "for column in ['calls_duration', 'calls_number', 'messages',\n",
    "       'traffic', 'expenses']:    \n",
    "    g = sns.catplot(y='tariff', x=column, kind=\"box\", data= revenue, orient='h', palette = 'pastel')\n",
    "    g.fig.set_figwidth(12)\n",
    "    g.fig.set_figheight(2)\n",
    "#    g.set(xlim=(-50, None))"
   ]
  },
  {
   "cell_type": "code",
   "execution_count": 58,
   "metadata": {},
   "outputs": [
    {
     "data": {
      "image/png": "[encoded data removed]",
      "text/plain": [
       "<Figure size 720x288 with 1 Axes>"
      ]
     },
     "metadata": {
      "needs_background": "light"
     },
     "output_type": "display_data"
    }
   ],
   "source": [
    "(revenue\n",
    " .pivot_table(index='tariff', columns='month', values='user_id', aggfunc='count')\n",
    " .T\n",
    " .plot(kind='line', figsize=(10,4),  style = 'o-')\n",
    ")\n",
    "plt.title('Рост кол-ва клиентов по 2-м тарифам за год'+ \"\\n\")\n",
    "plt.xlabel('Месяц')\n",
    "plt.ylabel('кол-во');"
   ]
  },
  {
   "cell_type": "code",
   "execution_count": 59,
   "metadata": {
    "colab": {
     "base_uri": "https://localhost:8080/",
     "height": 330
    },
    "id": "V4Vo2tdzJ3G6",
    "outputId": "9cfd13a1-35e4-4421-9f10-349b8932486b"
   },
   "outputs": [
    {
     "data": {
      "image/png": "[encoded data removed]",
      "text/plain": [
       "<Figure size 720x288 with 1 Axes>"
      ]
     },
     "metadata": {
      "needs_background": "light"
     },
     "output_type": "display_data"
    }
   ],
   "source": [
    "(revenue\n",
    " .pivot_table(index='tariff', columns='month', values='expenses', aggfunc='mean')\n",
    " .T\n",
    " .plot(kind='line', figsize=(10,4),  style = 'o-')\n",
    ")\n",
    "plt.title('Средняя ежемесячная выручка от одного абонента'+ \"\\n\")\n",
    "plt.xlabel('Месяц')\n",
    "plt.ylabel('Рубли');"
   ]
  },
  {
   "cell_type": "code",
   "execution_count": 60,
   "metadata": {},
   "outputs": [
    {
     "data": {
      "image/png": "[encoded data removed]",
      "text/plain": [
       "<Figure size 720x288 with 1 Axes>"
      ]
     },
     "metadata": {
      "needs_background": "light"
     },
     "output_type": "display_data"
    }
   ],
   "source": [
    "(revenue\n",
    " .pivot_table(index='tariff', columns='month', values='expenses', aggfunc='sum')\n",
    " .T\n",
    " .plot(kind='line', figsize=(10,4),  style = 'o-')\n",
    ")\n",
    "plt.title('Суммарная ежемесячная выручка по 2-м тарифам'+ \"\\n\")\n",
    "plt.xlabel('Месяц')\n",
    "plt.ylabel('Рубли');"
   ]
  },
  {
   "cell_type": "markdown",
   "metadata": {},
   "source": [
    "# выручка от смартов уже в два раза выше выручки от ультры, но есть опасность - убегут клиенты смарт от такой счастливой жизни к конкурентам :)"
   ]
  },
  {
   "cell_type": "code",
   "execution_count": 61,
   "metadata": {},
   "outputs": [
    {
     "name": "stdout",
     "output_type": "stream",
     "text": [
      "Кол-во клентов покинувших компанию за год 38\n",
      "Кол-во клентов покинувших компанию за посл. 4 мес. 2018 г. на двух тарифах 35\n",
      "%  от общего кол-ва всех клиентов, покинувших компанию за посл. 4 мес. 2018 г. на двух тарифах 92.1\n",
      "Распределение оттока клиентов на тарифах за посл. 4 мес. 2018 г.\n"
     ]
    },
    {
     "data": {
      "text/html": [
       "<div>\n",
       "<style scoped>\n",
       "    .dataframe tbody tr th:only-of-type {\n",
       "        vertical-align: middle;\n",
       "    }\n",
       "\n",
       "    .dataframe tbody tr th {\n",
       "        vertical-align: top;\n",
       "    }\n",
       "\n",
       "    .dataframe thead th {\n",
       "        text-align: right;\n",
       "    }\n",
       "</style>\n",
       "<table border=\"1\" class=\"dataframe\">\n",
       "  <thead>\n",
       "    <tr style=\"text-align: right;\">\n",
       "      <th></th>\n",
       "      <th>churn_date</th>\n",
       "    </tr>\n",
       "    <tr>\n",
       "      <th>tariff</th>\n",
       "      <th></th>\n",
       "    </tr>\n",
       "  </thead>\n",
       "  <tbody>\n",
       "    <tr>\n",
       "      <th>smart</th>\n",
       "      <td>22</td>\n",
       "    </tr>\n",
       "    <tr>\n",
       "      <th>ultra</th>\n",
       "      <td>13</td>\n",
       "    </tr>\n",
       "  </tbody>\n",
       "</table>\n",
       "</div>"
      ],
      "text/plain": [
       "        churn_date\n",
       "tariff            \n",
       "smart           22\n",
       "ultra           13"
      ]
     },
     "execution_count": 61,
     "metadata": {},
     "output_type": "execute_result"
    }
   ],
   "source": [
    "# на скорую руку\n",
    "try:\n",
    "    df_users = pd.read_csv('/datasets/users.csv')\n",
    "except:\n",
    "    df_users = pd.read_csv('users.csv')\n",
    "\n",
    "print ('Кол-во клентов покинувших компанию за год', df_users.churn_date.notna().sum())\n",
    "\n",
    "print ('Кол-во клентов покинувших компанию за посл. 4 мес. 2018 г. на двух тарифах',\n",
    "       df_users.query('churn_date > \"2018-09-25\"').churn_date.notna().sum()\n",
    "      )\n",
    "print ('%  от общего кол-ва всех клиентов, покинувших компанию за посл. 4 мес. 2018 г. на двух тарифах',\n",
    "    (df_users.query('churn_date > \"2018-09-25\"').churn_date.notna().sum()/df_users.churn_date.notna().sum()*100).round(1)\n",
    ")\n",
    "\n",
    "print ('Распределение оттока клиентов на тарифах за посл. 4 мес. 2018 г.')\n",
    "df_users.query('churn_date > \"2018-09-25\"').groupby('tariff')['churn_date'].count().to_frame()"
   ]
  }
 ],
 "metadata": {
  "ExecuteTimeLog": [
   {
    "duration": 87,
    "start_time": "2022-07-26T13:02:10.445Z"
   },
   {
    "duration": 2,
    "start_time": "2022-07-26T13:03:37.796Z"
   },
   {
    "duration": 2189,
    "start_time": "2022-07-26T13:23:40.451Z"
   },
   {
    "duration": 12,
    "start_time": "2022-07-26T13:23:58.881Z"
   },
   {
    "duration": 9,
    "start_time": "2022-07-26T13:24:09.719Z"
   },
   {
    "duration": 28,
    "start_time": "2022-07-26T13:24:52.267Z"
   },
   {
    "duration": 30,
    "start_time": "2022-07-26T13:25:10.368Z"
   },
   {
    "duration": 33,
    "start_time": "2022-07-26T13:25:19.732Z"
   },
   {
    "duration": 27,
    "start_time": "2022-07-26T13:26:26.392Z"
   },
   {
    "duration": 26,
    "start_time": "2022-07-26T13:26:42.100Z"
   },
   {
    "duration": 1449,
    "start_time": "2022-07-26T13:26:58.298Z"
   },
   {
    "duration": 31,
    "start_time": "2022-07-26T13:26:59.749Z"
   },
   {
    "duration": 157,
    "start_time": "2022-07-26T13:29:49.086Z"
   },
   {
    "duration": 188,
    "start_time": "2022-07-26T13:31:19.322Z"
   },
   {
    "duration": 84,
    "start_time": "2022-07-26T13:33:47.743Z"
   },
   {
    "duration": 7,
    "start_time": "2022-07-26T13:33:52.698Z"
   },
   {
    "duration": 8,
    "start_time": "2022-07-26T13:34:28.276Z"
   },
   {
    "duration": 12,
    "start_time": "2022-07-26T13:34:35.038Z"
   },
   {
    "duration": 12,
    "start_time": "2022-07-26T13:34:42.266Z"
   },
   {
    "duration": 127,
    "start_time": "2022-07-26T13:41:21.880Z"
   },
   {
    "duration": 21,
    "start_time": "2022-07-26T13:41:52.527Z"
   },
   {
    "duration": 23,
    "start_time": "2022-07-26T13:42:10.366Z"
   },
   {
    "duration": 37,
    "start_time": "2022-07-26T13:43:22.892Z"
   },
   {
    "duration": 33,
    "start_time": "2022-07-26T13:43:40.161Z"
   },
   {
    "duration": 27,
    "start_time": "2022-07-26T13:45:45.640Z"
   },
   {
    "duration": 35,
    "start_time": "2022-07-26T13:47:36.467Z"
   },
   {
    "duration": 31,
    "start_time": "2022-07-26T13:48:18.332Z"
   },
   {
    "duration": 8,
    "start_time": "2022-07-26T13:48:25.788Z"
   },
   {
    "duration": 16,
    "start_time": "2022-07-26T13:49:02.589Z"
   },
   {
    "duration": 10,
    "start_time": "2022-07-26T13:49:11.434Z"
   },
   {
    "duration": 20,
    "start_time": "2022-07-26T13:49:27.026Z"
   },
   {
    "duration": 1545,
    "start_time": "2022-07-26T13:49:38.237Z"
   },
   {
    "duration": 37,
    "start_time": "2022-07-26T13:49:39.784Z"
   },
   {
    "duration": 204,
    "start_time": "2022-07-26T13:49:39.823Z"
   },
   {
    "duration": 157,
    "start_time": "2022-07-26T13:49:40.029Z"
   },
   {
    "duration": 24,
    "start_time": "2022-07-26T13:49:40.188Z"
   },
   {
    "duration": 59,
    "start_time": "2022-07-26T13:49:40.214Z"
   },
   {
    "duration": 21,
    "start_time": "2022-07-26T13:49:40.275Z"
   },
   {
    "duration": 29,
    "start_time": "2022-07-26T13:49:40.298Z"
   },
   {
    "duration": 18,
    "start_time": "2022-07-26T13:49:40.329Z"
   },
   {
    "duration": 3,
    "start_time": "2022-07-26T13:52:18.135Z"
   },
   {
    "duration": 8,
    "start_time": "2022-07-26T13:59:39.459Z"
   },
   {
    "duration": 25,
    "start_time": "2022-07-26T13:59:56.449Z"
   },
   {
    "duration": 291,
    "start_time": "2022-07-26T14:02:19.046Z"
   },
   {
    "duration": 281,
    "start_time": "2022-07-26T14:02:32.161Z"
   },
   {
    "duration": 314,
    "start_time": "2022-07-26T14:03:23.565Z"
   },
   {
    "duration": 270,
    "start_time": "2022-07-26T14:03:33.550Z"
   },
   {
    "duration": 265,
    "start_time": "2022-07-26T14:03:48.681Z"
   },
   {
    "duration": 1017,
    "start_time": "2022-07-26T14:05:17.466Z"
   },
   {
    "duration": 454,
    "start_time": "2022-07-26T14:05:18.484Z"
   },
   {
    "duration": 45,
    "start_time": "2022-07-26T14:05:18.940Z"
   },
   {
    "duration": 227,
    "start_time": "2022-07-26T14:05:18.987Z"
   },
   {
    "duration": 137,
    "start_time": "2022-07-26T14:05:19.217Z"
   },
   {
    "duration": 29,
    "start_time": "2022-07-26T14:05:19.356Z"
   },
   {
    "duration": 39,
    "start_time": "2022-07-26T14:05:19.386Z"
   },
   {
    "duration": 46,
    "start_time": "2022-07-26T14:05:19.426Z"
   },
   {
    "duration": 30,
    "start_time": "2022-07-26T14:05:19.475Z"
   },
   {
    "duration": 19,
    "start_time": "2022-07-26T14:05:19.507Z"
   },
   {
    "duration": 3,
    "start_time": "2022-07-26T14:05:19.528Z"
   },
   {
    "duration": 10,
    "start_time": "2022-07-26T14:05:19.533Z"
   },
   {
    "duration": 25,
    "start_time": "2022-07-26T14:05:19.572Z"
   },
   {
    "duration": 321,
    "start_time": "2022-07-26T14:05:19.601Z"
   },
   {
    "duration": 121,
    "start_time": "2022-07-26T15:35:15.489Z"
   },
   {
    "duration": 115,
    "start_time": "2022-07-26T15:39:09.510Z"
   },
   {
    "duration": 73,
    "start_time": "2022-07-26T15:39:14.093Z"
   },
   {
    "duration": 85,
    "start_time": "2022-07-26T15:40:21.005Z"
   },
   {
    "duration": 4,
    "start_time": "2022-07-26T15:42:04.543Z"
   },
   {
    "duration": 32,
    "start_time": "2022-07-26T15:42:18.851Z"
   },
   {
    "duration": 90,
    "start_time": "2022-07-26T15:43:28.655Z"
   },
   {
    "duration": 90,
    "start_time": "2022-07-26T15:44:58.058Z"
   },
   {
    "duration": 1076,
    "start_time": "2022-07-26T15:45:04.566Z"
   },
   {
    "duration": 491,
    "start_time": "2022-07-26T15:45:05.644Z"
   },
   {
    "duration": 47,
    "start_time": "2022-07-26T15:45:06.137Z"
   },
   {
    "duration": 227,
    "start_time": "2022-07-26T15:45:06.187Z"
   },
   {
    "duration": 138,
    "start_time": "2022-07-26T15:45:06.416Z"
   },
   {
    "duration": 44,
    "start_time": "2022-07-26T15:45:06.555Z"
   },
   {
    "duration": 54,
    "start_time": "2022-07-26T15:45:06.600Z"
   },
   {
    "duration": 45,
    "start_time": "2022-07-26T15:45:06.656Z"
   },
   {
    "duration": 42,
    "start_time": "2022-07-26T15:45:06.703Z"
   },
   {
    "duration": 41,
    "start_time": "2022-07-26T15:45:06.748Z"
   },
   {
    "duration": 4,
    "start_time": "2022-07-26T15:45:06.791Z"
   },
   {
    "duration": 16,
    "start_time": "2022-07-26T15:45:06.796Z"
   },
   {
    "duration": 23,
    "start_time": "2022-07-26T15:45:06.813Z"
   },
   {
    "duration": 351,
    "start_time": "2022-07-26T15:45:06.837Z"
   },
   {
    "duration": 409,
    "start_time": "2022-07-26T15:45:07.189Z"
   },
   {
    "duration": 0,
    "start_time": "2022-07-26T15:45:07.600Z"
   },
   {
    "duration": 0,
    "start_time": "2022-07-26T15:45:07.601Z"
   },
   {
    "duration": 0,
    "start_time": "2022-07-26T15:45:07.602Z"
   },
   {
    "duration": 96,
    "start_time": "2022-07-26T15:46:34.039Z"
   },
   {
    "duration": 106,
    "start_time": "2022-07-26T15:46:59.010Z"
   },
   {
    "duration": 11,
    "start_time": "2022-07-26T15:47:02.345Z"
   },
   {
    "duration": 74,
    "start_time": "2022-07-26T15:47:34.287Z"
   },
   {
    "duration": 4,
    "start_time": "2022-07-26T15:47:48.815Z"
   },
   {
    "duration": 13,
    "start_time": "2022-07-26T15:47:52.876Z"
   },
   {
    "duration": 12,
    "start_time": "2022-07-26T15:48:55.808Z"
   },
   {
    "duration": 989,
    "start_time": "2022-07-26T15:49:19.957Z"
   },
   {
    "duration": 440,
    "start_time": "2022-07-26T15:49:20.948Z"
   },
   {
    "duration": 36,
    "start_time": "2022-07-26T15:49:21.390Z"
   },
   {
    "duration": 214,
    "start_time": "2022-07-26T15:49:21.437Z"
   },
   {
    "duration": 123,
    "start_time": "2022-07-26T15:49:21.674Z"
   },
   {
    "duration": 23,
    "start_time": "2022-07-26T15:49:21.799Z"
   },
   {
    "duration": 80,
    "start_time": "2022-07-26T15:49:21.824Z"
   },
   {
    "duration": 29,
    "start_time": "2022-07-26T15:49:21.906Z"
   },
   {
    "duration": 41,
    "start_time": "2022-07-26T15:49:21.937Z"
   },
   {
    "duration": 17,
    "start_time": "2022-07-26T15:49:21.979Z"
   },
   {
    "duration": 2,
    "start_time": "2022-07-26T15:49:21.998Z"
   },
   {
    "duration": 8,
    "start_time": "2022-07-26T15:49:22.002Z"
   },
   {
    "duration": 20,
    "start_time": "2022-07-26T15:49:22.012Z"
   },
   {
    "duration": 298,
    "start_time": "2022-07-26T15:49:22.035Z"
   },
   {
    "duration": 139,
    "start_time": "2022-07-26T15:49:22.335Z"
   },
   {
    "duration": 72,
    "start_time": "2022-07-26T15:49:22.475Z"
   },
   {
    "duration": 26,
    "start_time": "2022-07-26T15:49:22.549Z"
   },
   {
    "duration": 1016,
    "start_time": "2022-07-26T15:49:22.576Z"
   },
   {
    "duration": 815,
    "start_time": "2022-07-26T15:51:05.887Z"
   },
   {
    "duration": 1036,
    "start_time": "2022-07-26T15:54:28.253Z"
   },
   {
    "duration": 781,
    "start_time": "2022-07-26T15:57:38.480Z"
   },
   {
    "duration": 781,
    "start_time": "2022-07-26T15:58:05.466Z"
   },
   {
    "duration": 138,
    "start_time": "2022-07-26T15:58:12.142Z"
   },
   {
    "duration": 919,
    "start_time": "2022-07-26T15:58:25.003Z"
   },
   {
    "duration": 134,
    "start_time": "2022-07-26T15:58:35.465Z"
   },
   {
    "duration": 11,
    "start_time": "2022-07-26T15:59:00.718Z"
   },
   {
    "duration": 20,
    "start_time": "2022-07-26T16:00:43.221Z"
   },
   {
    "duration": 4,
    "start_time": "2022-07-26T16:00:55.594Z"
   },
   {
    "duration": 25,
    "start_time": "2022-07-26T16:01:03.436Z"
   },
   {
    "duration": 21,
    "start_time": "2022-07-26T16:01:20.125Z"
   },
   {
    "duration": 21,
    "start_time": "2022-07-26T16:01:26.023Z"
   },
   {
    "duration": 4,
    "start_time": "2022-07-26T16:01:33.446Z"
   },
   {
    "duration": 4,
    "start_time": "2022-07-26T16:01:44.792Z"
   },
   {
    "duration": 4,
    "start_time": "2022-07-26T16:01:50.188Z"
   },
   {
    "duration": 23,
    "start_time": "2022-07-26T16:01:55.476Z"
   },
   {
    "duration": 23,
    "start_time": "2022-07-26T16:02:07.816Z"
   },
   {
    "duration": 22,
    "start_time": "2022-07-26T16:02:16.083Z"
   },
   {
    "duration": 1026,
    "start_time": "2022-07-26T16:03:06.699Z"
   },
   {
    "duration": 19,
    "start_time": "2022-07-26T16:03:21.973Z"
   },
   {
    "duration": 28,
    "start_time": "2022-07-26T16:08:12.093Z"
   },
   {
    "duration": 28,
    "start_time": "2022-07-26T16:08:22.232Z"
   },
   {
    "duration": 27,
    "start_time": "2022-07-26T16:08:47.581Z"
   },
   {
    "duration": 25,
    "start_time": "2022-07-26T16:08:57.340Z"
   },
   {
    "duration": 37,
    "start_time": "2022-07-26T16:09:05.417Z"
   },
   {
    "duration": 33,
    "start_time": "2022-07-26T16:09:15.199Z"
   },
   {
    "duration": 22,
    "start_time": "2022-07-26T16:09:25.579Z"
   },
   {
    "duration": 22,
    "start_time": "2022-07-26T16:09:53.824Z"
   },
   {
    "duration": 199,
    "start_time": "2022-07-26T16:12:15.058Z"
   },
   {
    "duration": 23,
    "start_time": "2022-07-26T16:12:24.557Z"
   },
   {
    "duration": 20,
    "start_time": "2022-07-26T16:12:30.143Z"
   },
   {
    "duration": 838,
    "start_time": "2022-07-26T16:13:55.876Z"
   },
   {
    "duration": 869,
    "start_time": "2022-07-26T16:14:43.228Z"
   },
   {
    "duration": 853,
    "start_time": "2022-07-26T16:15:25.824Z"
   },
   {
    "duration": 192,
    "start_time": "2022-07-26T16:15:35.054Z"
   },
   {
    "duration": 179,
    "start_time": "2022-07-26T16:15:56.437Z"
   },
   {
    "duration": 195,
    "start_time": "2022-07-26T16:16:04.657Z"
   },
   {
    "duration": 211,
    "start_time": "2022-07-26T16:16:56.063Z"
   },
   {
    "duration": 981,
    "start_time": "2022-07-26T16:17:04.378Z"
   },
   {
    "duration": 467,
    "start_time": "2022-07-26T16:17:05.361Z"
   },
   {
    "duration": 36,
    "start_time": "2022-07-26T16:17:05.830Z"
   },
   {
    "duration": 215,
    "start_time": "2022-07-26T16:17:05.868Z"
   },
   {
    "duration": 129,
    "start_time": "2022-07-26T16:17:06.085Z"
   },
   {
    "duration": 22,
    "start_time": "2022-07-26T16:17:06.215Z"
   },
   {
    "duration": 55,
    "start_time": "2022-07-26T16:17:06.239Z"
   },
   {
    "duration": 25,
    "start_time": "2022-07-26T16:17:06.295Z"
   },
   {
    "duration": 40,
    "start_time": "2022-07-26T16:17:06.321Z"
   },
   {
    "duration": 20,
    "start_time": "2022-07-26T16:17:06.363Z"
   },
   {
    "duration": 6,
    "start_time": "2022-07-26T16:17:06.384Z"
   },
   {
    "duration": 31,
    "start_time": "2022-07-26T16:17:06.391Z"
   },
   {
    "duration": 42,
    "start_time": "2022-07-26T16:17:06.423Z"
   },
   {
    "duration": 277,
    "start_time": "2022-07-26T16:17:06.467Z"
   },
   {
    "duration": 142,
    "start_time": "2022-07-26T16:17:06.746Z"
   },
   {
    "duration": 115,
    "start_time": "2022-07-26T16:17:06.890Z"
   },
   {
    "duration": 4,
    "start_time": "2022-07-26T16:17:07.006Z"
   },
   {
    "duration": 219,
    "start_time": "2022-07-26T16:17:07.011Z"
   },
   {
    "duration": 20,
    "start_time": "2022-07-26T16:17:07.232Z"
   },
   {
    "duration": 4,
    "start_time": "2022-07-26T16:22:33.300Z"
   },
   {
    "duration": 202,
    "start_time": "2022-07-26T16:22:35.754Z"
   },
   {
    "duration": 1015,
    "start_time": "2022-07-26T16:22:45.553Z"
   },
   {
    "duration": 477,
    "start_time": "2022-07-26T16:22:46.570Z"
   },
   {
    "duration": 35,
    "start_time": "2022-07-26T16:22:47.049Z"
   },
   {
    "duration": 214,
    "start_time": "2022-07-26T16:22:47.085Z"
   },
   {
    "duration": 139,
    "start_time": "2022-07-26T16:22:47.301Z"
   },
   {
    "duration": 33,
    "start_time": "2022-07-26T16:22:47.441Z"
   },
   {
    "duration": 37,
    "start_time": "2022-07-26T16:22:47.476Z"
   },
   {
    "duration": 21,
    "start_time": "2022-07-26T16:22:47.515Z"
   },
   {
    "duration": 58,
    "start_time": "2022-07-26T16:22:47.538Z"
   },
   {
    "duration": 18,
    "start_time": "2022-07-26T16:22:47.598Z"
   },
   {
    "duration": 2,
    "start_time": "2022-07-26T16:22:47.617Z"
   },
   {
    "duration": 9,
    "start_time": "2022-07-26T16:22:47.621Z"
   },
   {
    "duration": 44,
    "start_time": "2022-07-26T16:22:47.631Z"
   },
   {
    "duration": 308,
    "start_time": "2022-07-26T16:22:47.677Z"
   },
   {
    "duration": 143,
    "start_time": "2022-07-26T16:22:47.987Z"
   },
   {
    "duration": 92,
    "start_time": "2022-07-26T16:22:48.132Z"
   },
   {
    "duration": 4,
    "start_time": "2022-07-26T16:22:48.225Z"
   },
   {
    "duration": 262,
    "start_time": "2022-07-26T16:22:48.230Z"
   },
   {
    "duration": 24,
    "start_time": "2022-07-26T16:22:48.495Z"
   },
   {
    "duration": 3,
    "start_time": "2022-07-26T16:23:21.936Z"
   },
   {
    "duration": 3,
    "start_time": "2022-07-26T16:23:29.248Z"
   },
   {
    "duration": 27,
    "start_time": "2022-07-26T16:23:43.890Z"
   },
   {
    "duration": 212,
    "start_time": "2022-07-26T16:25:49.228Z"
   },
   {
    "duration": 20,
    "start_time": "2022-07-26T16:25:52.575Z"
   },
   {
    "duration": 195,
    "start_time": "2022-07-26T16:29:12.624Z"
   },
   {
    "duration": 4,
    "start_time": "2022-07-26T16:29:28.226Z"
   },
   {
    "duration": 21,
    "start_time": "2022-07-26T16:29:35.871Z"
   },
   {
    "duration": 20,
    "start_time": "2022-07-26T16:29:42.481Z"
   },
   {
    "duration": 31,
    "start_time": "2022-07-26T16:29:47.782Z"
   },
   {
    "duration": 20,
    "start_time": "2022-07-26T16:29:56.587Z"
   },
   {
    "duration": 4,
    "start_time": "2022-07-26T16:30:23.795Z"
   },
   {
    "duration": 19,
    "start_time": "2022-07-26T16:30:41.263Z"
   },
   {
    "duration": 21,
    "start_time": "2022-07-26T16:30:46.722Z"
   },
   {
    "duration": 209,
    "start_time": "2022-07-26T16:31:06.444Z"
   },
   {
    "duration": 236,
    "start_time": "2022-07-26T16:31:25.262Z"
   },
   {
    "duration": 196,
    "start_time": "2022-07-26T16:31:52.501Z"
   },
   {
    "duration": 238,
    "start_time": "2022-07-26T16:32:17.053Z"
   },
   {
    "duration": 248,
    "start_time": "2022-07-26T16:38:03.255Z"
   },
   {
    "duration": 131,
    "start_time": "2022-07-26T16:38:46.958Z"
   },
   {
    "duration": 253,
    "start_time": "2022-07-26T16:39:01.542Z"
   },
   {
    "duration": 13,
    "start_time": "2022-07-26T16:40:39.954Z"
   },
   {
    "duration": 2176,
    "start_time": "2022-07-26T16:41:13.667Z"
   },
   {
    "duration": 2214,
    "start_time": "2022-07-26T16:41:27.526Z"
   },
   {
    "duration": 69,
    "start_time": "2022-07-26T16:42:16.201Z"
   },
   {
    "duration": 56,
    "start_time": "2022-07-26T16:43:12.799Z"
   },
   {
    "duration": 6,
    "start_time": "2022-07-26T16:43:28.565Z"
   },
   {
    "duration": 51,
    "start_time": "2022-07-26T16:43:32.197Z"
   },
   {
    "duration": 64,
    "start_time": "2022-07-26T16:43:59.991Z"
   },
   {
    "duration": 6,
    "start_time": "2022-07-26T16:44:29.323Z"
   },
   {
    "duration": 2410,
    "start_time": "2022-07-26T16:44:46.178Z"
   },
   {
    "duration": 2423,
    "start_time": "2022-07-26T16:45:19.658Z"
   },
   {
    "duration": 2363,
    "start_time": "2022-07-26T16:45:35.039Z"
   },
   {
    "duration": 2392,
    "start_time": "2022-07-26T16:45:56.246Z"
   },
   {
    "duration": 2349,
    "start_time": "2022-07-26T16:46:13.073Z"
   },
   {
    "duration": 15,
    "start_time": "2022-07-26T16:47:19.110Z"
   },
   {
    "duration": 11,
    "start_time": "2022-07-26T16:47:45.105Z"
   },
   {
    "duration": 16,
    "start_time": "2022-07-26T16:48:00.649Z"
   },
   {
    "duration": 13,
    "start_time": "2022-07-26T16:49:47.391Z"
   },
   {
    "duration": 14,
    "start_time": "2022-07-26T16:50:03.837Z"
   },
   {
    "duration": 15,
    "start_time": "2022-07-26T16:50:13.463Z"
   },
   {
    "duration": 219,
    "start_time": "2022-07-26T16:50:27.764Z"
   },
   {
    "duration": 230,
    "start_time": "2022-07-26T16:50:48.489Z"
   },
   {
    "duration": 255,
    "start_time": "2022-07-26T16:51:26.022Z"
   },
   {
    "duration": 44,
    "start_time": "2022-07-26T16:52:14.436Z"
   },
   {
    "duration": 262,
    "start_time": "2022-07-26T16:52:22.955Z"
   },
   {
    "duration": 256,
    "start_time": "2022-07-26T16:55:19.521Z"
   },
   {
    "duration": 256,
    "start_time": "2022-07-26T16:55:44.933Z"
   },
   {
    "duration": 256,
    "start_time": "2022-07-26T16:57:35.095Z"
   },
   {
    "duration": 302,
    "start_time": "2022-07-26T16:58:01.487Z"
   },
   {
    "duration": 8,
    "start_time": "2022-07-26T17:01:46.173Z"
   },
   {
    "duration": 29,
    "start_time": "2022-07-26T17:02:11.080Z"
   },
   {
    "duration": 35,
    "start_time": "2022-07-26T17:02:24.956Z"
   },
   {
    "duration": 14,
    "start_time": "2022-07-26T17:02:44.136Z"
   },
   {
    "duration": 8,
    "start_time": "2022-07-26T17:02:56.048Z"
   },
   {
    "duration": 9,
    "start_time": "2022-07-26T17:03:27.308Z"
   },
   {
    "duration": 6,
    "start_time": "2022-07-26T17:04:35.237Z"
   },
   {
    "duration": 35,
    "start_time": "2022-07-26T17:05:00.944Z"
   },
   {
    "duration": 15,
    "start_time": "2022-07-26T17:06:15.991Z"
   },
   {
    "duration": 6,
    "start_time": "2022-07-26T17:06:20.661Z"
   },
   {
    "duration": 5,
    "start_time": "2022-07-26T17:06:40.668Z"
   },
   {
    "duration": 5,
    "start_time": "2022-07-26T17:07:01.882Z"
   },
   {
    "duration": 6,
    "start_time": "2022-07-26T17:07:17.268Z"
   },
   {
    "duration": 8,
    "start_time": "2022-07-26T17:09:27.979Z"
   },
   {
    "duration": 6,
    "start_time": "2022-07-26T17:10:14.714Z"
   },
   {
    "duration": 9,
    "start_time": "2022-07-26T17:11:14.874Z"
   },
   {
    "duration": 23,
    "start_time": "2022-07-26T17:12:17.002Z"
   },
   {
    "duration": 8,
    "start_time": "2022-07-26T17:17:02.542Z"
   },
   {
    "duration": 30,
    "start_time": "2022-07-26T17:37:28.162Z"
   },
   {
    "duration": 33,
    "start_time": "2022-07-26T17:37:47.737Z"
   },
   {
    "duration": 59,
    "start_time": "2022-07-26T17:38:51.955Z"
   },
   {
    "duration": 81,
    "start_time": "2022-07-26T17:38:58.633Z"
   },
   {
    "duration": 55,
    "start_time": "2022-07-26T17:39:09.297Z"
   },
   {
    "duration": 82,
    "start_time": "2022-07-26T17:39:18.003Z"
   },
   {
    "duration": 65,
    "start_time": "2022-07-26T17:39:35.544Z"
   },
   {
    "duration": 68,
    "start_time": "2022-07-26T17:39:46.966Z"
   },
   {
    "duration": 58,
    "start_time": "2022-07-26T17:39:53.607Z"
   },
   {
    "duration": 61,
    "start_time": "2022-07-26T17:40:17.834Z"
   },
   {
    "duration": 59,
    "start_time": "2022-07-26T17:40:26.462Z"
   },
   {
    "duration": 74,
    "start_time": "2022-07-26T17:40:36.075Z"
   },
   {
    "duration": 10,
    "start_time": "2022-07-26T17:41:55.887Z"
   },
   {
    "duration": 69,
    "start_time": "2022-07-26T17:42:08.029Z"
   },
   {
    "duration": 62,
    "start_time": "2022-07-26T17:43:12.630Z"
   },
   {
    "duration": 58,
    "start_time": "2022-07-26T17:43:35.511Z"
   },
   {
    "duration": 56,
    "start_time": "2022-07-26T17:44:06.851Z"
   },
   {
    "duration": 59,
    "start_time": "2022-07-26T17:44:19.822Z"
   },
   {
    "duration": 57,
    "start_time": "2022-07-26T17:45:19.196Z"
   },
   {
    "duration": 57,
    "start_time": "2022-07-26T17:45:26.281Z"
   },
   {
    "duration": 49,
    "start_time": "2022-07-26T17:47:13.119Z"
   },
   {
    "duration": 66,
    "start_time": "2022-07-26T17:47:40.645Z"
   },
   {
    "duration": 61,
    "start_time": "2022-07-26T17:49:49.148Z"
   },
   {
    "duration": 69,
    "start_time": "2022-07-26T17:50:05.493Z"
   },
   {
    "duration": 58,
    "start_time": "2022-07-26T17:50:13.687Z"
   },
   {
    "duration": 58,
    "start_time": "2022-07-26T17:51:38.693Z"
   },
   {
    "duration": 1484,
    "start_time": "2022-07-26T17:55:13.040Z"
   },
   {
    "duration": 1408,
    "start_time": "2022-07-26T17:55:23.937Z"
   },
   {
    "duration": 1454,
    "start_time": "2022-07-26T17:55:31.093Z"
   },
   {
    "duration": 14,
    "start_time": "2022-07-26T18:03:59.489Z"
   },
   {
    "duration": 1111,
    "start_time": "2022-07-26T18:04:03.474Z"
   },
   {
    "duration": 1152,
    "start_time": "2022-07-26T18:05:53.998Z"
   },
   {
    "duration": 992,
    "start_time": "2022-07-26T18:07:01.378Z"
   },
   {
    "duration": 1060,
    "start_time": "2022-07-26T18:07:33.087Z"
   },
   {
    "duration": 850,
    "start_time": "2022-07-26T18:07:48.987Z"
   },
   {
    "duration": 956,
    "start_time": "2022-07-26T18:08:00.720Z"
   },
   {
    "duration": 1138,
    "start_time": "2022-07-26T18:08:09.675Z"
   },
   {
    "duration": 1125,
    "start_time": "2022-07-26T18:20:11.227Z"
   },
   {
    "duration": 1266,
    "start_time": "2022-07-26T18:20:27.860Z"
   },
   {
    "duration": 1282,
    "start_time": "2022-07-26T18:20:40.935Z"
   },
   {
    "duration": 5,
    "start_time": "2022-07-26T18:35:02.221Z"
   },
   {
    "duration": 5,
    "start_time": "2022-07-26T18:35:17.950Z"
   },
   {
    "duration": 5,
    "start_time": "2022-07-26T18:35:19.802Z"
   },
   {
    "duration": 6,
    "start_time": "2022-07-26T18:35:24.879Z"
   },
   {
    "duration": 6,
    "start_time": "2022-07-26T18:35:51.817Z"
   },
   {
    "duration": 6,
    "start_time": "2022-07-26T18:35:57.563Z"
   },
   {
    "duration": 6,
    "start_time": "2022-07-26T18:36:03.762Z"
   },
   {
    "duration": 6,
    "start_time": "2022-07-26T18:36:20.861Z"
   },
   {
    "duration": 4,
    "start_time": "2022-07-26T18:37:38.385Z"
   },
   {
    "duration": 50,
    "start_time": "2022-07-26T18:37:44.606Z"
   },
   {
    "duration": 6,
    "start_time": "2022-07-26T18:37:52.060Z"
   },
   {
    "duration": 4,
    "start_time": "2022-07-26T18:38:33.643Z"
   },
   {
    "duration": 6,
    "start_time": "2022-07-26T18:39:44.291Z"
   },
   {
    "duration": 5,
    "start_time": "2022-07-26T18:39:57.639Z"
   },
   {
    "duration": 5,
    "start_time": "2022-07-26T18:40:04.015Z"
   },
   {
    "duration": 6,
    "start_time": "2022-07-26T18:40:08.915Z"
   },
   {
    "duration": 7,
    "start_time": "2022-07-26T18:40:19.356Z"
   },
   {
    "duration": 7,
    "start_time": "2022-07-26T18:40:25.538Z"
   },
   {
    "duration": 5,
    "start_time": "2022-07-26T18:40:35.924Z"
   },
   {
    "duration": 7,
    "start_time": "2022-07-26T18:40:56.213Z"
   },
   {
    "duration": 6,
    "start_time": "2022-07-26T18:41:02.687Z"
   },
   {
    "duration": 5,
    "start_time": "2022-07-26T18:41:08.642Z"
   },
   {
    "duration": 7,
    "start_time": "2022-07-26T18:41:31.189Z"
   },
   {
    "duration": 6,
    "start_time": "2022-07-26T18:41:43.645Z"
   },
   {
    "duration": 5,
    "start_time": "2022-07-26T18:42:03.418Z"
   },
   {
    "duration": 6,
    "start_time": "2022-07-26T18:42:09.438Z"
   },
   {
    "duration": 9,
    "start_time": "2022-07-26T18:42:15.475Z"
   },
   {
    "duration": 7,
    "start_time": "2022-07-26T18:42:21.989Z"
   },
   {
    "duration": 5,
    "start_time": "2022-07-26T18:42:43.523Z"
   },
   {
    "duration": 5,
    "start_time": "2022-07-26T18:42:59.854Z"
   },
   {
    "duration": 6,
    "start_time": "2022-07-26T18:43:07.286Z"
   },
   {
    "duration": 50,
    "start_time": "2022-07-27T08:16:10.686Z"
   },
   {
    "duration": 1214,
    "start_time": "2022-07-27T08:16:16.745Z"
   },
   {
    "duration": 973,
    "start_time": "2022-07-27T08:16:17.961Z"
   },
   {
    "duration": 36,
    "start_time": "2022-07-27T08:16:18.935Z"
   },
   {
    "duration": 214,
    "start_time": "2022-07-27T08:16:18.973Z"
   },
   {
    "duration": 150,
    "start_time": "2022-07-27T08:16:19.190Z"
   },
   {
    "duration": 24,
    "start_time": "2022-07-27T08:16:19.342Z"
   },
   {
    "duration": 55,
    "start_time": "2022-07-27T08:16:19.369Z"
   },
   {
    "duration": 24,
    "start_time": "2022-07-27T08:16:19.425Z"
   },
   {
    "duration": 31,
    "start_time": "2022-07-27T08:16:19.451Z"
   },
   {
    "duration": 44,
    "start_time": "2022-07-27T08:16:19.484Z"
   },
   {
    "duration": 3,
    "start_time": "2022-07-27T08:16:19.530Z"
   },
   {
    "duration": 9,
    "start_time": "2022-07-27T08:16:19.535Z"
   },
   {
    "duration": 20,
    "start_time": "2022-07-27T08:16:19.545Z"
   },
   {
    "duration": 293,
    "start_time": "2022-07-27T08:16:19.568Z"
   },
   {
    "duration": 136,
    "start_time": "2022-07-27T08:16:19.863Z"
   },
   {
    "duration": 89,
    "start_time": "2022-07-27T08:16:20.001Z"
   },
   {
    "duration": 4,
    "start_time": "2022-07-27T08:16:20.092Z"
   },
   {
    "duration": 267,
    "start_time": "2022-07-27T08:16:20.097Z"
   },
   {
    "duration": 21,
    "start_time": "2022-07-27T08:16:20.366Z"
   },
   {
    "duration": 277,
    "start_time": "2022-07-27T08:16:20.389Z"
   },
   {
    "duration": 2656,
    "start_time": "2022-07-27T08:16:20.668Z"
   },
   {
    "duration": 156,
    "start_time": "2022-07-27T08:16:23.326Z"
   },
   {
    "duration": 0,
    "start_time": "2022-07-27T08:16:23.483Z"
   },
   {
    "duration": 0,
    "start_time": "2022-07-27T08:16:23.485Z"
   },
   {
    "duration": 0,
    "start_time": "2022-07-27T08:16:23.486Z"
   },
   {
    "duration": 0,
    "start_time": "2022-07-27T08:16:23.487Z"
   },
   {
    "duration": 0,
    "start_time": "2022-07-27T08:16:23.488Z"
   },
   {
    "duration": 0,
    "start_time": "2022-07-27T08:16:23.489Z"
   },
   {
    "duration": 0,
    "start_time": "2022-07-27T08:16:23.490Z"
   },
   {
    "duration": 0,
    "start_time": "2022-07-27T08:16:23.491Z"
   },
   {
    "duration": 0,
    "start_time": "2022-07-27T08:16:23.492Z"
   },
   {
    "duration": 0,
    "start_time": "2022-07-27T08:16:23.494Z"
   },
   {
    "duration": 0,
    "start_time": "2022-07-27T08:16:23.496Z"
   },
   {
    "duration": 284,
    "start_time": "2022-07-27T08:17:19.784Z"
   },
   {
    "duration": 997,
    "start_time": "2022-07-27T08:17:31.727Z"
   },
   {
    "duration": 464,
    "start_time": "2022-07-27T08:17:32.726Z"
   },
   {
    "duration": 35,
    "start_time": "2022-07-27T08:17:33.192Z"
   },
   {
    "duration": 217,
    "start_time": "2022-07-27T08:17:33.229Z"
   },
   {
    "duration": 146,
    "start_time": "2022-07-27T08:17:33.447Z"
   },
   {
    "duration": 32,
    "start_time": "2022-07-27T08:17:33.595Z"
   },
   {
    "duration": 39,
    "start_time": "2022-07-27T08:17:33.628Z"
   },
   {
    "duration": 23,
    "start_time": "2022-07-27T08:17:33.669Z"
   },
   {
    "duration": 52,
    "start_time": "2022-07-27T08:17:33.694Z"
   },
   {
    "duration": 20,
    "start_time": "2022-07-27T08:17:33.749Z"
   },
   {
    "duration": 2,
    "start_time": "2022-07-27T08:17:33.771Z"
   },
   {
    "duration": 15,
    "start_time": "2022-07-27T08:17:33.775Z"
   },
   {
    "duration": 36,
    "start_time": "2022-07-27T08:17:33.792Z"
   },
   {
    "duration": 273,
    "start_time": "2022-07-27T08:17:33.830Z"
   },
   {
    "duration": 122,
    "start_time": "2022-07-27T08:17:34.124Z"
   },
   {
    "duration": 105,
    "start_time": "2022-07-27T08:17:34.248Z"
   },
   {
    "duration": 4,
    "start_time": "2022-07-27T08:17:34.354Z"
   },
   {
    "duration": 245,
    "start_time": "2022-07-27T08:17:34.359Z"
   },
   {
    "duration": 27,
    "start_time": "2022-07-27T08:17:34.607Z"
   },
   {
    "duration": 260,
    "start_time": "2022-07-27T08:17:34.637Z"
   },
   {
    "duration": 2606,
    "start_time": "2022-07-27T08:17:34.898Z"
   },
   {
    "duration": 294,
    "start_time": "2022-07-27T08:17:37.507Z"
   },
   {
    "duration": 8,
    "start_time": "2022-07-27T08:17:37.803Z"
   },
   {
    "duration": 93,
    "start_time": "2022-07-27T08:17:37.824Z"
   },
   {
    "duration": 0,
    "start_time": "2022-07-27T08:17:37.924Z"
   },
   {
    "duration": 0,
    "start_time": "2022-07-27T08:17:37.924Z"
   },
   {
    "duration": 0,
    "start_time": "2022-07-27T08:17:37.926Z"
   },
   {
    "duration": 0,
    "start_time": "2022-07-27T08:17:37.927Z"
   },
   {
    "duration": 0,
    "start_time": "2022-07-27T08:17:37.928Z"
   },
   {
    "duration": 0,
    "start_time": "2022-07-27T08:17:37.929Z"
   },
   {
    "duration": 1,
    "start_time": "2022-07-27T08:17:37.930Z"
   },
   {
    "duration": 0,
    "start_time": "2022-07-27T08:17:37.932Z"
   },
   {
    "duration": 0,
    "start_time": "2022-07-27T08:17:37.933Z"
   },
   {
    "duration": 4,
    "start_time": "2022-07-27T08:17:53.091Z"
   },
   {
    "duration": 1044,
    "start_time": "2022-07-27T08:17:59.297Z"
   },
   {
    "duration": 485,
    "start_time": "2022-07-27T08:18:00.343Z"
   },
   {
    "duration": 37,
    "start_time": "2022-07-27T08:18:00.829Z"
   },
   {
    "duration": 224,
    "start_time": "2022-07-27T08:18:00.868Z"
   },
   {
    "duration": 160,
    "start_time": "2022-07-27T08:18:01.094Z"
   },
   {
    "duration": 31,
    "start_time": "2022-07-27T08:18:01.256Z"
   },
   {
    "duration": 94,
    "start_time": "2022-07-27T08:18:01.289Z"
   },
   {
    "duration": 23,
    "start_time": "2022-07-27T08:18:01.385Z"
   },
   {
    "duration": 53,
    "start_time": "2022-07-27T08:18:01.409Z"
   },
   {
    "duration": 39,
    "start_time": "2022-07-27T08:18:01.465Z"
   },
   {
    "duration": 2,
    "start_time": "2022-07-27T08:18:01.506Z"
   },
   {
    "duration": 14,
    "start_time": "2022-07-27T08:18:01.510Z"
   },
   {
    "duration": 63,
    "start_time": "2022-07-27T08:18:01.526Z"
   },
   {
    "duration": 298,
    "start_time": "2022-07-27T08:18:01.591Z"
   },
   {
    "duration": 149,
    "start_time": "2022-07-27T08:18:01.890Z"
   },
   {
    "duration": 108,
    "start_time": "2022-07-27T08:18:02.041Z"
   },
   {
    "duration": 3,
    "start_time": "2022-07-27T08:18:02.151Z"
   },
   {
    "duration": 259,
    "start_time": "2022-07-27T08:18:02.156Z"
   },
   {
    "duration": 25,
    "start_time": "2022-07-27T08:18:02.424Z"
   },
   {
    "duration": 273,
    "start_time": "2022-07-27T08:18:02.451Z"
   },
   {
    "duration": 2679,
    "start_time": "2022-07-27T08:18:02.726Z"
   },
   {
    "duration": 276,
    "start_time": "2022-07-27T08:18:05.407Z"
   },
   {
    "duration": 9,
    "start_time": "2022-07-27T08:18:05.685Z"
   },
   {
    "duration": 6,
    "start_time": "2022-07-27T08:18:05.696Z"
   },
   {
    "duration": 47,
    "start_time": "2022-07-27T08:18:05.704Z"
   },
   {
    "duration": 8,
    "start_time": "2022-07-27T08:18:05.753Z"
   },
   {
    "duration": 26,
    "start_time": "2022-07-27T08:18:05.762Z"
   },
   {
    "duration": 55,
    "start_time": "2022-07-27T08:18:05.791Z"
   },
   {
    "duration": 64,
    "start_time": "2022-07-27T08:18:05.848Z"
   },
   {
    "duration": 1050,
    "start_time": "2022-07-27T08:18:05.923Z"
   },
   {
    "duration": 1149,
    "start_time": "2022-07-27T08:18:06.975Z"
   },
   {
    "duration": 5,
    "start_time": "2022-07-27T08:18:08.126Z"
   },
   {
    "duration": 8,
    "start_time": "2022-07-27T08:18:08.132Z"
   },
   {
    "duration": 17,
    "start_time": "2022-07-27T08:31:48.381Z"
   },
   {
    "duration": 28,
    "start_time": "2022-07-27T08:32:07.488Z"
   },
   {
    "duration": 49,
    "start_time": "2022-07-27T08:33:02.153Z"
   },
   {
    "duration": 46,
    "start_time": "2022-07-27T08:33:58.951Z"
   },
   {
    "duration": 95,
    "start_time": "2022-07-27T08:37:29.830Z"
   },
   {
    "duration": 54,
    "start_time": "2022-07-27T08:37:43.412Z"
   },
   {
    "duration": 9,
    "start_time": "2022-07-27T08:37:48.092Z"
   },
   {
    "duration": 10,
    "start_time": "2022-07-27T08:37:51.672Z"
   },
   {
    "duration": 3,
    "start_time": "2022-07-27T08:41:19.581Z"
   },
   {
    "duration": 17,
    "start_time": "2022-07-27T08:41:24.909Z"
   },
   {
    "duration": 16,
    "start_time": "2022-07-27T08:42:41.918Z"
   },
   {
    "duration": 21,
    "start_time": "2022-07-27T08:42:51.446Z"
   },
   {
    "duration": 5,
    "start_time": "2022-07-27T08:44:30.263Z"
   },
   {
    "duration": 20,
    "start_time": "2022-07-27T08:45:11.943Z"
   },
   {
    "duration": 21,
    "start_time": "2022-07-27T08:45:18.717Z"
   },
   {
    "duration": 20,
    "start_time": "2022-07-27T08:45:24.091Z"
   },
   {
    "duration": 21,
    "start_time": "2022-07-27T08:45:33.702Z"
   },
   {
    "duration": 977,
    "start_time": "2022-07-27T08:45:42.637Z"
   },
   {
    "duration": 459,
    "start_time": "2022-07-27T08:45:43.616Z"
   },
   {
    "duration": 37,
    "start_time": "2022-07-27T08:45:44.076Z"
   },
   {
    "duration": 211,
    "start_time": "2022-07-27T08:45:44.115Z"
   },
   {
    "duration": 133,
    "start_time": "2022-07-27T08:45:44.328Z"
   },
   {
    "duration": 27,
    "start_time": "2022-07-27T08:45:44.463Z"
   },
   {
    "duration": 58,
    "start_time": "2022-07-27T08:45:44.492Z"
   },
   {
    "duration": 30,
    "start_time": "2022-07-27T08:45:44.552Z"
   },
   {
    "duration": 51,
    "start_time": "2022-07-27T08:45:44.584Z"
   },
   {
    "duration": 19,
    "start_time": "2022-07-27T08:45:44.637Z"
   },
   {
    "duration": 3,
    "start_time": "2022-07-27T08:45:44.657Z"
   },
   {
    "duration": 9,
    "start_time": "2022-07-27T08:45:44.661Z"
   },
   {
    "duration": 22,
    "start_time": "2022-07-27T08:45:44.671Z"
   },
   {
    "duration": 309,
    "start_time": "2022-07-27T08:45:44.695Z"
   },
   {
    "duration": 136,
    "start_time": "2022-07-27T08:45:45.024Z"
   },
   {
    "duration": 100,
    "start_time": "2022-07-27T08:45:45.162Z"
   },
   {
    "duration": 3,
    "start_time": "2022-07-27T08:45:45.264Z"
   },
   {
    "duration": 244,
    "start_time": "2022-07-27T08:45:45.269Z"
   },
   {
    "duration": 25,
    "start_time": "2022-07-27T08:45:45.514Z"
   },
   {
    "duration": 266,
    "start_time": "2022-07-27T08:45:45.541Z"
   },
   {
    "duration": 2675,
    "start_time": "2022-07-27T08:45:45.808Z"
   },
   {
    "duration": 285,
    "start_time": "2022-07-27T08:45:48.485Z"
   },
   {
    "duration": 8,
    "start_time": "2022-07-27T08:45:48.772Z"
   },
   {
    "duration": 8,
    "start_time": "2022-07-27T08:45:48.781Z"
   },
   {
    "duration": 47,
    "start_time": "2022-07-27T08:45:48.791Z"
   },
   {
    "duration": 9,
    "start_time": "2022-07-27T08:45:48.839Z"
   },
   {
    "duration": 26,
    "start_time": "2022-07-27T08:45:48.849Z"
   },
   {
    "duration": 55,
    "start_time": "2022-07-27T08:45:48.877Z"
   },
   {
    "duration": 62,
    "start_time": "2022-07-27T08:45:48.934Z"
   },
   {
    "duration": 1095,
    "start_time": "2022-07-27T08:45:48.998Z"
   },
   {
    "duration": 1092,
    "start_time": "2022-07-27T08:45:50.095Z"
   },
   {
    "duration": 5,
    "start_time": "2022-07-27T08:45:51.189Z"
   },
   {
    "duration": 47,
    "start_time": "2022-07-27T08:45:51.195Z"
   },
   {
    "duration": 4,
    "start_time": "2022-07-27T08:45:51.243Z"
   },
   {
    "duration": 28,
    "start_time": "2022-07-27T08:45:51.249Z"
   },
   {
    "duration": 1050,
    "start_time": "2022-07-27T08:49:07.179Z"
   },
   {
    "duration": 466,
    "start_time": "2022-07-27T08:49:08.231Z"
   },
   {
    "duration": 43,
    "start_time": "2022-07-27T08:49:08.699Z"
   },
   {
    "duration": 224,
    "start_time": "2022-07-27T08:49:08.744Z"
   },
   {
    "duration": 145,
    "start_time": "2022-07-27T08:49:08.970Z"
   },
   {
    "duration": 22,
    "start_time": "2022-07-27T08:49:09.117Z"
   },
   {
    "duration": 39,
    "start_time": "2022-07-27T08:49:09.141Z"
   },
   {
    "duration": 45,
    "start_time": "2022-07-27T08:49:09.181Z"
   },
   {
    "duration": 31,
    "start_time": "2022-07-27T08:49:09.228Z"
   },
   {
    "duration": 19,
    "start_time": "2022-07-27T08:49:09.261Z"
   },
   {
    "duration": 3,
    "start_time": "2022-07-27T08:49:09.281Z"
   },
   {
    "duration": 11,
    "start_time": "2022-07-27T08:49:09.285Z"
   },
   {
    "duration": 29,
    "start_time": "2022-07-27T08:49:09.323Z"
   },
   {
    "duration": 278,
    "start_time": "2022-07-27T08:49:09.355Z"
   },
   {
    "duration": 136,
    "start_time": "2022-07-27T08:49:09.635Z"
   },
   {
    "duration": 88,
    "start_time": "2022-07-27T08:49:09.773Z"
   },
   {
    "duration": 4,
    "start_time": "2022-07-27T08:49:09.862Z"
   },
   {
    "duration": 240,
    "start_time": "2022-07-27T08:49:09.867Z"
   },
   {
    "duration": 24,
    "start_time": "2022-07-27T08:49:10.109Z"
   },
   {
    "duration": 264,
    "start_time": "2022-07-27T08:49:10.135Z"
   },
   {
    "duration": 2623,
    "start_time": "2022-07-27T08:49:10.401Z"
   },
   {
    "duration": 271,
    "start_time": "2022-07-27T08:49:13.026Z"
   },
   {
    "duration": 8,
    "start_time": "2022-07-27T08:49:13.299Z"
   },
   {
    "duration": 4,
    "start_time": "2022-07-27T08:49:13.324Z"
   },
   {
    "duration": 33,
    "start_time": "2022-07-27T08:49:13.330Z"
   },
   {
    "duration": 8,
    "start_time": "2022-07-27T08:49:13.365Z"
   },
   {
    "duration": 24,
    "start_time": "2022-07-27T08:49:13.374Z"
   },
   {
    "duration": 25,
    "start_time": "2022-07-27T08:49:13.424Z"
   },
   {
    "duration": 52,
    "start_time": "2022-07-27T08:49:13.451Z"
   },
   {
    "duration": 1045,
    "start_time": "2022-07-27T08:49:13.524Z"
   },
   {
    "duration": 1068,
    "start_time": "2022-07-27T08:49:14.571Z"
   },
   {
    "duration": 5,
    "start_time": "2022-07-27T08:49:15.641Z"
   },
   {
    "duration": 38,
    "start_time": "2022-07-27T08:49:15.648Z"
   },
   {
    "duration": 3,
    "start_time": "2022-07-27T08:49:15.688Z"
   },
   {
    "duration": 42,
    "start_time": "2022-07-27T08:49:15.692Z"
   },
   {
    "duration": 4,
    "start_time": "2022-07-27T08:49:53.216Z"
   },
   {
    "duration": 20,
    "start_time": "2022-07-27T08:49:55.109Z"
   },
   {
    "duration": 19,
    "start_time": "2022-07-27T08:50:26.228Z"
   },
   {
    "duration": 5,
    "start_time": "2022-07-27T08:51:28.858Z"
   },
   {
    "duration": 12,
    "start_time": "2022-07-27T09:01:27.577Z"
   },
   {
    "duration": 15,
    "start_time": "2022-07-27T09:02:17.535Z"
   },
   {
    "duration": 1521,
    "start_time": "2022-07-27T09:16:07.694Z"
   },
   {
    "duration": 104,
    "start_time": "2022-07-27T09:16:21.542Z"
   },
   {
    "duration": 10,
    "start_time": "2022-07-27T09:16:28.512Z"
   },
   {
    "duration": 1020,
    "start_time": "2022-07-27T09:19:46.362Z"
   },
   {
    "duration": 502,
    "start_time": "2022-07-27T09:19:47.386Z"
   },
   {
    "duration": 46,
    "start_time": "2022-07-27T09:19:47.890Z"
   },
   {
    "duration": 219,
    "start_time": "2022-07-27T09:19:47.938Z"
   },
   {
    "duration": 148,
    "start_time": "2022-07-27T09:19:48.159Z"
   },
   {
    "duration": 30,
    "start_time": "2022-07-27T09:19:48.309Z"
   },
   {
    "duration": 42,
    "start_time": "2022-07-27T09:19:48.341Z"
   },
   {
    "duration": 41,
    "start_time": "2022-07-27T09:19:48.385Z"
   },
   {
    "duration": 33,
    "start_time": "2022-07-27T09:19:48.428Z"
   },
   {
    "duration": 22,
    "start_time": "2022-07-27T09:19:48.463Z"
   },
   {
    "duration": 3,
    "start_time": "2022-07-27T09:19:48.487Z"
   },
   {
    "duration": 10,
    "start_time": "2022-07-27T09:19:48.523Z"
   },
   {
    "duration": 36,
    "start_time": "2022-07-27T09:19:48.535Z"
   },
   {
    "duration": 282,
    "start_time": "2022-07-27T09:19:48.574Z"
   },
   {
    "duration": 144,
    "start_time": "2022-07-27T09:19:48.858Z"
   },
   {
    "duration": 99,
    "start_time": "2022-07-27T09:19:49.004Z"
   },
   {
    "duration": 4,
    "start_time": "2022-07-27T09:19:49.124Z"
   },
   {
    "duration": 229,
    "start_time": "2022-07-27T09:19:49.130Z"
   },
   {
    "duration": 20,
    "start_time": "2022-07-27T09:19:49.361Z"
   },
   {
    "duration": 268,
    "start_time": "2022-07-27T09:19:49.383Z"
   },
   {
    "duration": 2805,
    "start_time": "2022-07-27T09:19:49.653Z"
   },
   {
    "duration": 324,
    "start_time": "2022-07-27T09:19:52.460Z"
   },
   {
    "duration": 10,
    "start_time": "2022-07-27T09:19:52.785Z"
   },
   {
    "duration": 29,
    "start_time": "2022-07-27T09:19:52.797Z"
   },
   {
    "duration": 60,
    "start_time": "2022-07-27T09:19:52.828Z"
   },
   {
    "duration": 15,
    "start_time": "2022-07-27T09:19:52.889Z"
   },
   {
    "duration": 35,
    "start_time": "2022-07-27T09:19:52.906Z"
   },
   {
    "duration": 24,
    "start_time": "2022-07-27T09:19:52.943Z"
   },
   {
    "duration": 78,
    "start_time": "2022-07-27T09:19:52.968Z"
   },
   {
    "duration": 1126,
    "start_time": "2022-07-27T09:19:53.047Z"
   },
   {
    "duration": 1139,
    "start_time": "2022-07-27T09:19:54.175Z"
   },
   {
    "duration": 9,
    "start_time": "2022-07-27T09:19:55.316Z"
   },
   {
    "duration": 40,
    "start_time": "2022-07-27T09:19:55.327Z"
   },
   {
    "duration": 5,
    "start_time": "2022-07-27T09:19:55.369Z"
   },
   {
    "duration": 49,
    "start_time": "2022-07-27T09:19:55.375Z"
   },
   {
    "duration": 5,
    "start_time": "2022-07-27T09:19:55.426Z"
   },
   {
    "duration": 1040,
    "start_time": "2022-07-27T09:20:48.839Z"
   },
   {
    "duration": 501,
    "start_time": "2022-07-27T09:20:49.881Z"
   },
   {
    "duration": 39,
    "start_time": "2022-07-27T09:20:50.384Z"
   },
   {
    "duration": 221,
    "start_time": "2022-07-27T09:20:50.425Z"
   },
   {
    "duration": 146,
    "start_time": "2022-07-27T09:20:50.648Z"
   },
   {
    "duration": 29,
    "start_time": "2022-07-27T09:20:50.796Z"
   },
   {
    "duration": 41,
    "start_time": "2022-07-27T09:20:50.826Z"
   },
   {
    "duration": 22,
    "start_time": "2022-07-27T09:20:50.869Z"
   },
   {
    "duration": 52,
    "start_time": "2022-07-27T09:20:50.893Z"
   },
   {
    "duration": 19,
    "start_time": "2022-07-27T09:20:50.946Z"
   },
   {
    "duration": 2,
    "start_time": "2022-07-27T09:20:50.967Z"
   },
   {
    "duration": 10,
    "start_time": "2022-07-27T09:20:50.971Z"
   },
   {
    "duration": 42,
    "start_time": "2022-07-27T09:20:50.983Z"
   },
   {
    "duration": 316,
    "start_time": "2022-07-27T09:20:51.029Z"
   },
   {
    "duration": 158,
    "start_time": "2022-07-27T09:20:51.347Z"
   },
   {
    "duration": 88,
    "start_time": "2022-07-27T09:20:51.507Z"
   },
   {
    "duration": 4,
    "start_time": "2022-07-27T09:20:51.596Z"
   },
   {
    "duration": 223,
    "start_time": "2022-07-27T09:20:51.623Z"
   },
   {
    "duration": 22,
    "start_time": "2022-07-27T09:20:51.847Z"
   },
   {
    "duration": 283,
    "start_time": "2022-07-27T09:20:51.870Z"
   },
   {
    "duration": 2698,
    "start_time": "2022-07-27T09:20:52.155Z"
   },
   {
    "duration": 297,
    "start_time": "2022-07-27T09:20:54.856Z"
   },
   {
    "duration": 9,
    "start_time": "2022-07-27T09:20:55.155Z"
   },
   {
    "duration": 9,
    "start_time": "2022-07-27T09:20:55.166Z"
   },
   {
    "duration": 51,
    "start_time": "2022-07-27T09:20:55.176Z"
   },
   {
    "duration": 15,
    "start_time": "2022-07-27T09:20:55.229Z"
   },
   {
    "duration": 36,
    "start_time": "2022-07-27T09:20:55.246Z"
   },
   {
    "duration": 58,
    "start_time": "2022-07-27T09:20:55.284Z"
   },
   {
    "duration": 56,
    "start_time": "2022-07-27T09:20:55.344Z"
   },
   {
    "duration": 1179,
    "start_time": "2022-07-27T09:20:55.402Z"
   },
   {
    "duration": 1181,
    "start_time": "2022-07-27T09:20:56.583Z"
   },
   {
    "duration": 6,
    "start_time": "2022-07-27T09:20:57.766Z"
   },
   {
    "duration": 51,
    "start_time": "2022-07-27T09:20:57.775Z"
   },
   {
    "duration": 4,
    "start_time": "2022-07-27T09:20:57.828Z"
   },
   {
    "duration": 25,
    "start_time": "2022-07-27T09:20:57.833Z"
   },
   {
    "duration": 4,
    "start_time": "2022-07-27T09:20:57.860Z"
   },
   {
    "duration": 5,
    "start_time": "2022-07-27T09:21:13.209Z"
   },
   {
    "duration": 1063,
    "start_time": "2022-07-27T09:21:20.633Z"
   },
   {
    "duration": 485,
    "start_time": "2022-07-27T09:21:21.698Z"
   },
   {
    "duration": 37,
    "start_time": "2022-07-27T09:21:22.184Z"
   },
   {
    "duration": 219,
    "start_time": "2022-07-27T09:21:22.223Z"
   },
   {
    "duration": 140,
    "start_time": "2022-07-27T09:21:22.445Z"
   },
   {
    "duration": 25,
    "start_time": "2022-07-27T09:21:22.586Z"
   },
   {
    "duration": 41,
    "start_time": "2022-07-27T09:21:22.624Z"
   },
   {
    "duration": 22,
    "start_time": "2022-07-27T09:21:22.667Z"
   },
   {
    "duration": 52,
    "start_time": "2022-07-27T09:21:22.691Z"
   },
   {
    "duration": 20,
    "start_time": "2022-07-27T09:21:22.745Z"
   },
   {
    "duration": 2,
    "start_time": "2022-07-27T09:21:22.767Z"
   },
   {
    "duration": 14,
    "start_time": "2022-07-27T09:21:22.771Z"
   },
   {
    "duration": 39,
    "start_time": "2022-07-27T09:21:22.787Z"
   },
   {
    "duration": 307,
    "start_time": "2022-07-27T09:21:22.829Z"
   },
   {
    "duration": 143,
    "start_time": "2022-07-27T09:21:23.138Z"
   },
   {
    "duration": 88,
    "start_time": "2022-07-27T09:21:23.283Z"
   },
   {
    "duration": 3,
    "start_time": "2022-07-27T09:21:23.373Z"
   },
   {
    "duration": 240,
    "start_time": "2022-07-27T09:21:23.378Z"
   },
   {
    "duration": 19,
    "start_time": "2022-07-27T09:21:23.624Z"
   },
   {
    "duration": 267,
    "start_time": "2022-07-27T09:21:23.645Z"
   },
   {
    "duration": 2840,
    "start_time": "2022-07-27T09:21:23.914Z"
   },
   {
    "duration": 332,
    "start_time": "2022-07-27T09:21:26.756Z"
   },
   {
    "duration": 10,
    "start_time": "2022-07-27T09:21:27.090Z"
   },
   {
    "duration": 22,
    "start_time": "2022-07-27T09:21:27.102Z"
   },
   {
    "duration": 40,
    "start_time": "2022-07-27T09:21:27.126Z"
   },
   {
    "duration": 36,
    "start_time": "2022-07-27T09:21:27.169Z"
   },
   {
    "duration": 33,
    "start_time": "2022-07-27T09:21:27.225Z"
   },
   {
    "duration": 34,
    "start_time": "2022-07-27T09:21:27.260Z"
   },
   {
    "duration": 101,
    "start_time": "2022-07-27T09:21:27.296Z"
   },
   {
    "duration": 1082,
    "start_time": "2022-07-27T09:21:27.399Z"
   },
   {
    "duration": 1095,
    "start_time": "2022-07-27T09:21:28.482Z"
   },
   {
    "duration": 6,
    "start_time": "2022-07-27T09:21:29.580Z"
   },
   {
    "duration": 45,
    "start_time": "2022-07-27T09:21:29.588Z"
   },
   {
    "duration": 5,
    "start_time": "2022-07-27T09:21:29.635Z"
   },
   {
    "duration": 20,
    "start_time": "2022-07-27T09:21:29.642Z"
   },
   {
    "duration": 5,
    "start_time": "2022-07-27T09:21:29.663Z"
   },
   {
    "duration": 1113,
    "start_time": "2022-07-27T09:38:21.446Z"
   },
   {
    "duration": 526,
    "start_time": "2022-07-27T09:38:22.561Z"
   },
   {
    "duration": 39,
    "start_time": "2022-07-27T09:38:23.089Z"
   },
   {
    "duration": 253,
    "start_time": "2022-07-27T09:38:23.129Z"
   },
   {
    "duration": 152,
    "start_time": "2022-07-27T09:38:23.390Z"
   },
   {
    "duration": 41,
    "start_time": "2022-07-27T09:38:23.544Z"
   },
   {
    "duration": 45,
    "start_time": "2022-07-27T09:38:23.591Z"
   },
   {
    "duration": 21,
    "start_time": "2022-07-27T09:38:23.638Z"
   },
   {
    "duration": 77,
    "start_time": "2022-07-27T09:38:23.661Z"
   },
   {
    "duration": 20,
    "start_time": "2022-07-27T09:38:23.739Z"
   },
   {
    "duration": 32,
    "start_time": "2022-07-27T09:38:23.767Z"
   },
   {
    "duration": 34,
    "start_time": "2022-07-27T09:38:23.800Z"
   },
   {
    "duration": 71,
    "start_time": "2022-07-27T09:38:23.836Z"
   },
   {
    "duration": 306,
    "start_time": "2022-07-27T09:38:23.910Z"
   },
   {
    "duration": 148,
    "start_time": "2022-07-27T09:38:24.218Z"
   },
   {
    "duration": 113,
    "start_time": "2022-07-27T09:38:24.367Z"
   },
   {
    "duration": 6,
    "start_time": "2022-07-27T09:38:24.487Z"
   },
   {
    "duration": 322,
    "start_time": "2022-07-27T09:38:24.495Z"
   },
   {
    "duration": 26,
    "start_time": "2022-07-27T09:38:24.819Z"
   },
   {
    "duration": 340,
    "start_time": "2022-07-27T09:38:24.847Z"
   },
   {
    "duration": 2954,
    "start_time": "2022-07-27T09:38:25.190Z"
   },
   {
    "duration": 303,
    "start_time": "2022-07-27T09:38:28.145Z"
   },
   {
    "duration": 17,
    "start_time": "2022-07-27T09:38:28.449Z"
   },
   {
    "duration": 29,
    "start_time": "2022-07-27T09:38:28.472Z"
   },
   {
    "duration": 35,
    "start_time": "2022-07-27T09:38:28.503Z"
   },
   {
    "duration": 22,
    "start_time": "2022-07-27T09:38:28.540Z"
   },
   {
    "duration": 33,
    "start_time": "2022-07-27T09:38:28.564Z"
   },
   {
    "duration": 23,
    "start_time": "2022-07-27T09:38:28.598Z"
   },
   {
    "duration": 74,
    "start_time": "2022-07-27T09:38:28.623Z"
   },
   {
    "duration": 1141,
    "start_time": "2022-07-27T09:38:28.699Z"
   },
   {
    "duration": 1212,
    "start_time": "2022-07-27T09:38:29.842Z"
   },
   {
    "duration": 13,
    "start_time": "2022-07-27T09:38:31.056Z"
   },
   {
    "duration": 100,
    "start_time": "2022-07-27T09:38:31.072Z"
   },
   {
    "duration": 29,
    "start_time": "2022-07-27T09:38:31.174Z"
   },
   {
    "duration": 52,
    "start_time": "2022-07-27T09:38:31.205Z"
   },
   {
    "duration": 29,
    "start_time": "2022-07-27T09:38:31.259Z"
   },
   {
    "duration": 23,
    "start_time": "2022-07-27T10:19:05.232Z"
   },
   {
    "duration": 16,
    "start_time": "2022-07-27T10:19:24.722Z"
   },
   {
    "duration": 1224,
    "start_time": "2022-07-27T10:39:37.775Z"
   },
   {
    "duration": 230,
    "start_time": "2022-07-27T10:40:26.723Z"
   },
   {
    "duration": 263,
    "start_time": "2022-07-27T10:40:32.277Z"
   },
   {
    "duration": 222,
    "start_time": "2022-07-27T10:40:54.042Z"
   },
   {
    "duration": 200,
    "start_time": "2022-07-27T10:40:59.037Z"
   },
   {
    "duration": 189,
    "start_time": "2022-07-27T10:41:15.996Z"
   },
   {
    "duration": 1286,
    "start_time": "2022-07-27T10:55:26.231Z"
   },
   {
    "duration": 587,
    "start_time": "2022-07-27T10:55:27.520Z"
   },
   {
    "duration": 48,
    "start_time": "2022-07-27T10:55:28.110Z"
   },
   {
    "duration": 311,
    "start_time": "2022-07-27T10:55:28.160Z"
   },
   {
    "duration": 180,
    "start_time": "2022-07-27T10:55:28.477Z"
   },
   {
    "duration": 37,
    "start_time": "2022-07-27T10:55:28.659Z"
   },
   {
    "duration": 87,
    "start_time": "2022-07-27T10:55:28.698Z"
   },
   {
    "duration": 46,
    "start_time": "2022-07-27T10:55:28.787Z"
   },
   {
    "duration": 43,
    "start_time": "2022-07-27T10:55:28.836Z"
   },
   {
    "duration": 40,
    "start_time": "2022-07-27T10:55:28.881Z"
   },
   {
    "duration": 9,
    "start_time": "2022-07-27T10:55:28.923Z"
   },
   {
    "duration": 11,
    "start_time": "2022-07-27T10:55:28.933Z"
   },
   {
    "duration": 32,
    "start_time": "2022-07-27T10:55:28.946Z"
   },
   {
    "duration": 395,
    "start_time": "2022-07-27T10:55:28.994Z"
   },
   {
    "duration": 159,
    "start_time": "2022-07-27T10:55:29.391Z"
   },
   {
    "duration": 148,
    "start_time": "2022-07-27T10:55:29.552Z"
   },
   {
    "duration": 5,
    "start_time": "2022-07-27T10:55:29.702Z"
   },
   {
    "duration": 372,
    "start_time": "2022-07-27T10:55:29.711Z"
   },
   {
    "duration": 35,
    "start_time": "2022-07-27T10:55:30.085Z"
   },
   {
    "duration": 389,
    "start_time": "2022-07-27T10:55:30.123Z"
   },
   {
    "duration": 3273,
    "start_time": "2022-07-27T10:55:30.514Z"
   },
   {
    "duration": 326,
    "start_time": "2022-07-27T10:55:33.797Z"
   },
   {
    "duration": 9,
    "start_time": "2022-07-27T10:55:34.125Z"
   },
   {
    "duration": 13,
    "start_time": "2022-07-27T10:55:34.136Z"
   },
   {
    "duration": 58,
    "start_time": "2022-07-27T10:55:34.151Z"
   },
   {
    "duration": 18,
    "start_time": "2022-07-27T10:55:34.211Z"
   },
   {
    "duration": 65,
    "start_time": "2022-07-27T10:55:34.231Z"
   },
   {
    "duration": 41,
    "start_time": "2022-07-27T10:55:34.300Z"
   },
   {
    "duration": 82,
    "start_time": "2022-07-27T10:55:34.343Z"
   },
   {
    "duration": 1267,
    "start_time": "2022-07-27T10:55:34.427Z"
   },
   {
    "duration": 1384,
    "start_time": "2022-07-27T10:55:35.696Z"
   },
   {
    "duration": 223,
    "start_time": "2022-07-27T10:55:37.082Z"
   },
   {
    "duration": 8,
    "start_time": "2022-07-27T10:55:37.309Z"
   },
   {
    "duration": 33,
    "start_time": "2022-07-27T10:55:37.318Z"
   },
   {
    "duration": 7,
    "start_time": "2022-07-27T10:55:37.360Z"
   },
   {
    "duration": 62,
    "start_time": "2022-07-27T10:55:37.368Z"
   },
   {
    "duration": 4,
    "start_time": "2022-07-27T10:55:37.432Z"
   },
   {
    "duration": 12,
    "start_time": "2022-07-27T10:55:37.438Z"
   },
   {
    "duration": 51,
    "start_time": "2022-07-27T11:56:16.521Z"
   },
   {
    "duration": 1154,
    "start_time": "2022-07-27T11:56:28.195Z"
   },
   {
    "duration": 990,
    "start_time": "2022-07-27T11:56:29.351Z"
   },
   {
    "duration": 34,
    "start_time": "2022-07-27T11:56:30.343Z"
   },
   {
    "duration": 200,
    "start_time": "2022-07-27T11:56:30.379Z"
   },
   {
    "duration": 138,
    "start_time": "2022-07-27T11:56:30.581Z"
   },
   {
    "duration": 33,
    "start_time": "2022-07-27T11:56:30.720Z"
   },
   {
    "duration": 80,
    "start_time": "2022-07-27T11:56:30.754Z"
   },
   {
    "duration": 33,
    "start_time": "2022-07-27T11:56:30.836Z"
   },
   {
    "duration": 85,
    "start_time": "2022-07-27T11:56:30.870Z"
   },
   {
    "duration": 18,
    "start_time": "2022-07-27T11:56:30.957Z"
   },
   {
    "duration": 58,
    "start_time": "2022-07-27T11:56:30.976Z"
   },
   {
    "duration": 32,
    "start_time": "2022-07-27T11:56:31.036Z"
   },
   {
    "duration": 67,
    "start_time": "2022-07-27T11:56:31.070Z"
   },
   {
    "duration": 504,
    "start_time": "2022-07-27T11:56:31.140Z"
   },
   {
    "duration": 219,
    "start_time": "2022-07-27T11:56:31.645Z"
   },
   {
    "duration": 179,
    "start_time": "2022-07-27T11:56:31.865Z"
   },
   {
    "duration": 4,
    "start_time": "2022-07-27T11:56:32.046Z"
   },
   {
    "duration": 505,
    "start_time": "2022-07-27T11:56:32.052Z"
   },
   {
    "duration": 78,
    "start_time": "2022-07-27T11:56:32.559Z"
   },
   {
    "duration": 365,
    "start_time": "2022-07-27T11:56:32.639Z"
   },
   {
    "duration": 2269,
    "start_time": "2022-07-27T11:56:33.006Z"
   },
   {
    "duration": 288,
    "start_time": "2022-07-27T11:56:35.276Z"
   },
   {
    "duration": 10,
    "start_time": "2022-07-27T11:56:35.565Z"
   },
   {
    "duration": 6,
    "start_time": "2022-07-27T11:56:35.576Z"
   },
   {
    "duration": 53,
    "start_time": "2022-07-27T11:56:35.583Z"
   },
   {
    "duration": 13,
    "start_time": "2022-07-27T11:56:35.637Z"
   },
   {
    "duration": 33,
    "start_time": "2022-07-27T11:56:35.651Z"
   },
   {
    "duration": 53,
    "start_time": "2022-07-27T11:56:35.686Z"
   },
   {
    "duration": 49,
    "start_time": "2022-07-27T11:56:35.740Z"
   },
   {
    "duration": 1072,
    "start_time": "2022-07-27T11:56:35.790Z"
   },
   {
    "duration": 1017,
    "start_time": "2022-07-27T11:56:36.863Z"
   },
   {
    "duration": 165,
    "start_time": "2022-07-27T11:56:37.882Z"
   },
   {
    "duration": 6,
    "start_time": "2022-07-27T11:56:38.048Z"
   },
   {
    "duration": 36,
    "start_time": "2022-07-27T11:56:38.056Z"
   },
   {
    "duration": 4,
    "start_time": "2022-07-27T11:56:38.094Z"
   },
   {
    "duration": 43,
    "start_time": "2022-07-27T11:56:38.099Z"
   },
   {
    "duration": 4,
    "start_time": "2022-07-27T11:56:38.144Z"
   },
   {
    "duration": 12,
    "start_time": "2022-07-27T11:56:38.149Z"
   },
   {
    "duration": 1148,
    "start_time": "2022-07-27T11:57:32.025Z"
   },
   {
    "duration": 815,
    "start_time": "2022-07-27T11:57:33.174Z"
   },
   {
    "duration": 69,
    "start_time": "2022-07-27T11:57:33.990Z"
   },
   {
    "duration": 475,
    "start_time": "2022-07-27T11:57:34.061Z"
   },
   {
    "duration": 55,
    "start_time": "2022-07-27T11:57:34.538Z"
   },
   {
    "duration": 0,
    "start_time": "2022-07-27T11:57:34.596Z"
   },
   {
    "duration": 0,
    "start_time": "2022-07-27T11:57:34.597Z"
   },
   {
    "duration": 0,
    "start_time": "2022-07-27T11:57:34.598Z"
   },
   {
    "duration": 0,
    "start_time": "2022-07-27T11:57:34.599Z"
   },
   {
    "duration": 0,
    "start_time": "2022-07-27T11:57:34.600Z"
   },
   {
    "duration": 0,
    "start_time": "2022-07-27T11:57:34.601Z"
   },
   {
    "duration": 0,
    "start_time": "2022-07-27T11:57:34.634Z"
   },
   {
    "duration": 0,
    "start_time": "2022-07-27T11:57:34.635Z"
   },
   {
    "duration": 0,
    "start_time": "2022-07-27T11:57:34.636Z"
   },
   {
    "duration": 0,
    "start_time": "2022-07-27T11:57:34.638Z"
   },
   {
    "duration": 0,
    "start_time": "2022-07-27T11:57:34.639Z"
   },
   {
    "duration": 0,
    "start_time": "2022-07-27T11:57:34.640Z"
   },
   {
    "duration": 0,
    "start_time": "2022-07-27T11:57:34.641Z"
   },
   {
    "duration": 0,
    "start_time": "2022-07-27T11:57:34.642Z"
   },
   {
    "duration": 0,
    "start_time": "2022-07-27T11:57:34.643Z"
   },
   {
    "duration": 0,
    "start_time": "2022-07-27T11:57:34.645Z"
   },
   {
    "duration": 0,
    "start_time": "2022-07-27T11:57:34.646Z"
   },
   {
    "duration": 0,
    "start_time": "2022-07-27T11:57:34.647Z"
   },
   {
    "duration": 0,
    "start_time": "2022-07-27T11:57:34.648Z"
   },
   {
    "duration": 0,
    "start_time": "2022-07-27T11:57:34.649Z"
   },
   {
    "duration": 0,
    "start_time": "2022-07-27T11:57:34.650Z"
   },
   {
    "duration": 0,
    "start_time": "2022-07-27T11:57:34.651Z"
   },
   {
    "duration": 0,
    "start_time": "2022-07-27T11:57:34.652Z"
   },
   {
    "duration": 0,
    "start_time": "2022-07-27T11:57:34.653Z"
   },
   {
    "duration": 0,
    "start_time": "2022-07-27T11:57:34.655Z"
   },
   {
    "duration": 0,
    "start_time": "2022-07-27T11:57:34.655Z"
   },
   {
    "duration": 0,
    "start_time": "2022-07-27T11:57:34.656Z"
   },
   {
    "duration": 0,
    "start_time": "2022-07-27T11:57:34.657Z"
   },
   {
    "duration": 0,
    "start_time": "2022-07-27T11:57:34.658Z"
   },
   {
    "duration": 0,
    "start_time": "2022-07-27T11:57:34.659Z"
   },
   {
    "duration": 0,
    "start_time": "2022-07-27T11:57:34.660Z"
   },
   {
    "duration": 0,
    "start_time": "2022-07-27T11:57:34.661Z"
   },
   {
    "duration": 0,
    "start_time": "2022-07-27T11:57:34.662Z"
   },
   {
    "duration": 51,
    "start_time": "2022-07-27T11:57:39.526Z"
   },
   {
    "duration": 135,
    "start_time": "2022-07-27T11:57:47.589Z"
   },
   {
    "duration": 32,
    "start_time": "2022-07-27T11:57:53.338Z"
   },
   {
    "duration": 31,
    "start_time": "2022-07-27T11:58:02.873Z"
   },
   {
    "duration": 31,
    "start_time": "2022-07-27T11:58:44.290Z"
   },
   {
    "duration": 30,
    "start_time": "2022-07-27T12:00:45.424Z"
   },
   {
    "duration": 1029,
    "start_time": "2022-07-27T12:01:19.425Z"
   },
   {
    "duration": 434,
    "start_time": "2022-07-27T12:01:20.455Z"
   },
   {
    "duration": 36,
    "start_time": "2022-07-27T12:01:20.890Z"
   },
   {
    "duration": 206,
    "start_time": "2022-07-27T12:01:20.928Z"
   },
   {
    "duration": 60,
    "start_time": "2022-07-27T12:01:21.136Z"
   },
   {
    "duration": 39,
    "start_time": "2022-07-27T12:01:21.198Z"
   },
   {
    "duration": 33,
    "start_time": "2022-07-27T12:01:21.238Z"
   },
   {
    "duration": 61,
    "start_time": "2022-07-27T12:01:21.273Z"
   },
   {
    "duration": 28,
    "start_time": "2022-07-27T12:01:21.336Z"
   },
   {
    "duration": 77,
    "start_time": "2022-07-27T12:01:21.366Z"
   },
   {
    "duration": 3,
    "start_time": "2022-07-27T12:01:21.444Z"
   },
   {
    "duration": 11,
    "start_time": "2022-07-27T12:01:21.448Z"
   },
   {
    "duration": 73,
    "start_time": "2022-07-27T12:01:21.461Z"
   },
   {
    "duration": 512,
    "start_time": "2022-07-27T12:01:21.535Z"
   },
   {
    "duration": 222,
    "start_time": "2022-07-27T12:01:22.049Z"
   },
   {
    "duration": 191,
    "start_time": "2022-07-27T12:01:22.272Z"
   },
   {
    "duration": 3,
    "start_time": "2022-07-27T12:01:22.465Z"
   },
   {
    "duration": 577,
    "start_time": "2022-07-27T12:01:22.469Z"
   },
   {
    "duration": 21,
    "start_time": "2022-07-27T12:01:23.048Z"
   },
   {
    "duration": 367,
    "start_time": "2022-07-27T12:01:23.070Z"
   },
   {
    "duration": 2250,
    "start_time": "2022-07-27T12:01:23.438Z"
   },
   {
    "duration": 270,
    "start_time": "2022-07-27T12:01:25.690Z"
   },
   {
    "duration": 9,
    "start_time": "2022-07-27T12:01:25.962Z"
   },
   {
    "duration": 7,
    "start_time": "2022-07-27T12:01:25.973Z"
   },
   {
    "duration": 32,
    "start_time": "2022-07-27T12:01:25.981Z"
   },
   {
    "duration": 17,
    "start_time": "2022-07-27T12:01:26.033Z"
   },
   {
    "duration": 32,
    "start_time": "2022-07-27T12:01:26.051Z"
   },
   {
    "duration": 59,
    "start_time": "2022-07-27T12:01:26.088Z"
   },
   {
    "duration": 52,
    "start_time": "2022-07-27T12:01:26.149Z"
   },
   {
    "duration": 1012,
    "start_time": "2022-07-27T12:01:26.202Z"
   },
   {
    "duration": 1010,
    "start_time": "2022-07-27T12:01:27.215Z"
   },
   {
    "duration": 186,
    "start_time": "2022-07-27T12:01:28.226Z"
   },
   {
    "duration": 6,
    "start_time": "2022-07-27T12:01:28.413Z"
   },
   {
    "duration": 41,
    "start_time": "2022-07-27T12:01:28.420Z"
   },
   {
    "duration": 5,
    "start_time": "2022-07-27T12:01:28.462Z"
   },
   {
    "duration": 19,
    "start_time": "2022-07-27T12:01:28.468Z"
   },
   {
    "duration": 5,
    "start_time": "2022-07-27T12:01:28.488Z"
   },
   {
    "duration": 8,
    "start_time": "2022-07-27T12:01:28.494Z"
   },
   {
    "duration": 27,
    "start_time": "2022-07-27T12:09:13.792Z"
   },
   {
    "duration": 29,
    "start_time": "2022-07-27T12:09:26.730Z"
   },
   {
    "duration": 1084,
    "start_time": "2022-07-27T12:09:38.190Z"
   },
   {
    "duration": 437,
    "start_time": "2022-07-27T12:09:39.276Z"
   },
   {
    "duration": 37,
    "start_time": "2022-07-27T12:09:39.714Z"
   },
   {
    "duration": 207,
    "start_time": "2022-07-27T12:09:39.752Z"
   },
   {
    "duration": 73,
    "start_time": "2022-07-27T12:09:39.961Z"
   },
   {
    "duration": 25,
    "start_time": "2022-07-27T12:09:40.035Z"
   },
   {
    "duration": 40,
    "start_time": "2022-07-27T12:09:40.062Z"
   },
   {
    "duration": 44,
    "start_time": "2022-07-27T12:09:40.104Z"
   },
   {
    "duration": 28,
    "start_time": "2022-07-27T12:09:40.150Z"
   },
   {
    "duration": 20,
    "start_time": "2022-07-27T12:09:40.179Z"
   },
   {
    "duration": 3,
    "start_time": "2022-07-27T12:09:40.200Z"
   },
   {
    "duration": 35,
    "start_time": "2022-07-27T12:09:40.204Z"
   },
   {
    "duration": 21,
    "start_time": "2022-07-27T12:09:40.241Z"
   },
   {
    "duration": 290,
    "start_time": "2022-07-27T12:09:40.265Z"
   },
   {
    "duration": 126,
    "start_time": "2022-07-27T12:09:40.557Z"
   },
   {
    "duration": 91,
    "start_time": "2022-07-27T12:09:40.685Z"
   },
   {
    "duration": 3,
    "start_time": "2022-07-27T12:09:40.778Z"
   },
   {
    "duration": 271,
    "start_time": "2022-07-27T12:09:40.783Z"
   },
   {
    "duration": 23,
    "start_time": "2022-07-27T12:09:41.056Z"
   },
   {
    "duration": 289,
    "start_time": "2022-07-27T12:09:41.081Z"
   },
   {
    "duration": 2351,
    "start_time": "2022-07-27T12:09:41.372Z"
   },
   {
    "duration": 270,
    "start_time": "2022-07-27T12:09:43.724Z"
   },
   {
    "duration": 10,
    "start_time": "2022-07-27T12:09:43.996Z"
   },
   {
    "duration": 7,
    "start_time": "2022-07-27T12:09:44.007Z"
   },
   {
    "duration": 45,
    "start_time": "2022-07-27T12:09:44.016Z"
   },
   {
    "duration": 13,
    "start_time": "2022-07-27T12:09:44.063Z"
   },
   {
    "duration": 22,
    "start_time": "2022-07-27T12:09:44.078Z"
   },
   {
    "duration": 55,
    "start_time": "2022-07-27T12:09:44.101Z"
   },
   {
    "duration": 47,
    "start_time": "2022-07-27T12:09:44.157Z"
   },
   {
    "duration": 1029,
    "start_time": "2022-07-27T12:09:44.205Z"
   },
   {
    "duration": 1037,
    "start_time": "2022-07-27T12:09:45.235Z"
   },
   {
    "duration": 162,
    "start_time": "2022-07-27T12:09:46.274Z"
   },
   {
    "duration": 5,
    "start_time": "2022-07-27T12:09:46.438Z"
   },
   {
    "duration": 31,
    "start_time": "2022-07-27T12:09:46.444Z"
   },
   {
    "duration": 4,
    "start_time": "2022-07-27T12:09:46.477Z"
   },
   {
    "duration": 25,
    "start_time": "2022-07-27T12:09:46.482Z"
   },
   {
    "duration": 24,
    "start_time": "2022-07-27T12:09:46.509Z"
   },
   {
    "duration": 6,
    "start_time": "2022-07-27T12:09:46.535Z"
   },
   {
    "duration": 139,
    "start_time": "2022-07-27T12:13:09.538Z"
   },
   {
    "duration": 145,
    "start_time": "2022-07-27T12:13:25.437Z"
   },
   {
    "duration": 325,
    "start_time": "2022-07-27T12:13:54.650Z"
   },
   {
    "duration": 412,
    "start_time": "2022-07-27T12:14:32.518Z"
   },
   {
    "duration": 366,
    "start_time": "2022-07-27T12:17:14.824Z"
   },
   {
    "duration": 465,
    "start_time": "2022-07-27T12:17:29.688Z"
   },
   {
    "duration": 366,
    "start_time": "2022-07-27T12:17:35.726Z"
   },
   {
    "duration": 366,
    "start_time": "2022-07-27T12:18:00.451Z"
   },
   {
    "duration": 370,
    "start_time": "2022-07-27T12:18:15.278Z"
   },
   {
    "duration": 396,
    "start_time": "2022-07-27T12:18:25.130Z"
   },
   {
    "duration": 468,
    "start_time": "2022-07-27T12:18:31.941Z"
   },
   {
    "duration": 441,
    "start_time": "2022-07-27T12:19:18.916Z"
   },
   {
    "duration": 436,
    "start_time": "2022-07-27T12:20:01.863Z"
   },
   {
    "duration": 1479,
    "start_time": "2022-07-27T12:20:14.482Z"
   },
   {
    "duration": 1793,
    "start_time": "2022-07-27T12:20:41.906Z"
   },
   {
    "duration": 1824,
    "start_time": "2022-07-27T12:21:10.337Z"
   },
   {
    "duration": 233,
    "start_time": "2022-07-27T12:25:24.796Z"
   },
   {
    "duration": 1710,
    "start_time": "2022-07-27T12:26:01.478Z"
   },
   {
    "duration": 1613,
    "start_time": "2022-07-27T12:27:08.604Z"
   },
   {
    "duration": 28,
    "start_time": "2022-07-27T12:48:52.495Z"
   },
   {
    "duration": 40,
    "start_time": "2022-07-27T12:49:07.573Z"
   },
   {
    "duration": 4,
    "start_time": "2022-07-27T12:49:15.897Z"
   },
   {
    "duration": 30,
    "start_time": "2022-07-27T12:49:22.245Z"
   },
   {
    "duration": 38,
    "start_time": "2022-07-27T12:52:56.581Z"
   },
   {
    "duration": 83,
    "start_time": "2022-07-27T12:53:36.993Z"
   },
   {
    "duration": 45,
    "start_time": "2022-07-27T12:53:47.011Z"
   },
   {
    "duration": 40,
    "start_time": "2022-07-27T12:54:00.761Z"
   },
   {
    "duration": 59,
    "start_time": "2022-07-27T12:54:23.890Z"
   },
   {
    "duration": 43,
    "start_time": "2022-07-27T12:54:31.178Z"
   },
   {
    "duration": 58,
    "start_time": "2022-07-27T12:54:34.204Z"
   },
   {
    "duration": 42,
    "start_time": "2022-07-27T12:54:43.147Z"
   },
   {
    "duration": 49,
    "start_time": "2022-07-27T12:55:03.050Z"
   },
   {
    "duration": 41,
    "start_time": "2022-07-27T12:55:19.684Z"
   },
   {
    "duration": 41,
    "start_time": "2022-07-27T12:55:32.123Z"
   },
   {
    "duration": 42,
    "start_time": "2022-07-27T12:55:43.253Z"
   },
   {
    "duration": 45,
    "start_time": "2022-07-27T12:55:51.054Z"
   },
   {
    "duration": 79,
    "start_time": "2022-07-27T12:56:02.642Z"
   },
   {
    "duration": 55,
    "start_time": "2022-07-27T12:56:38.167Z"
   },
   {
    "duration": 59,
    "start_time": "2022-07-27T12:58:31.553Z"
   },
   {
    "duration": 106,
    "start_time": "2022-07-27T12:58:40.331Z"
   },
   {
    "duration": 60,
    "start_time": "2022-07-27T12:59:03.070Z"
   },
   {
    "duration": 1605,
    "start_time": "2022-07-27T13:01:08.606Z"
   },
   {
    "duration": 24,
    "start_time": "2022-07-27T13:08:40.904Z"
   },
   {
    "duration": 175,
    "start_time": "2022-07-27T13:08:48.841Z"
   },
   {
    "duration": 26,
    "start_time": "2022-07-27T13:08:56.140Z"
   },
   {
    "duration": 27,
    "start_time": "2022-07-27T13:09:00.003Z"
   },
   {
    "duration": 42,
    "start_time": "2022-07-27T13:09:02.750Z"
   },
   {
    "duration": 26,
    "start_time": "2022-07-27T13:09:10.018Z"
   },
   {
    "duration": 61,
    "start_time": "2022-07-27T13:12:44.586Z"
   },
   {
    "duration": 1045,
    "start_time": "2022-07-27T13:13:39.866Z"
   },
   {
    "duration": 458,
    "start_time": "2022-07-27T13:13:40.913Z"
   },
   {
    "duration": 46,
    "start_time": "2022-07-27T13:13:41.372Z"
   },
   {
    "duration": 179,
    "start_time": "2022-07-27T13:13:41.421Z"
   },
   {
    "duration": 1169,
    "start_time": "2022-07-27T13:13:41.602Z"
   },
   {
    "duration": 182,
    "start_time": "2022-07-27T13:13:42.773Z"
   },
   {
    "duration": 104,
    "start_time": "2022-07-27T13:13:42.957Z"
   },
   {
    "duration": 78,
    "start_time": "2022-07-27T13:13:43.063Z"
   },
   {
    "duration": 97,
    "start_time": "2022-07-27T13:13:43.143Z"
   },
   {
    "duration": 23,
    "start_time": "2022-07-27T13:13:43.241Z"
   },
   {
    "duration": 86,
    "start_time": "2022-07-27T13:13:43.266Z"
   },
   {
    "duration": 20,
    "start_time": "2022-07-27T13:13:43.354Z"
   },
   {
    "duration": 58,
    "start_time": "2022-07-27T13:13:43.376Z"
   },
   {
    "duration": 10,
    "start_time": "2022-07-27T13:13:43.438Z"
   },
   {
    "duration": 84,
    "start_time": "2022-07-27T13:13:43.450Z"
   },
   {
    "duration": 619,
    "start_time": "2022-07-27T13:13:43.536Z"
   },
   {
    "duration": 279,
    "start_time": "2022-07-27T13:13:44.156Z"
   },
   {
    "duration": 134,
    "start_time": "2022-07-27T13:13:44.437Z"
   },
   {
    "duration": 4,
    "start_time": "2022-07-27T13:13:44.573Z"
   },
   {
    "duration": 302,
    "start_time": "2022-07-27T13:13:44.579Z"
   },
   {
    "duration": 23,
    "start_time": "2022-07-27T13:13:44.883Z"
   },
   {
    "duration": 285,
    "start_time": "2022-07-27T13:13:44.908Z"
   },
   {
    "duration": 2249,
    "start_time": "2022-07-27T13:13:45.195Z"
   },
   {
    "duration": 263,
    "start_time": "2022-07-27T13:13:47.445Z"
   },
   {
    "duration": 9,
    "start_time": "2022-07-27T13:13:47.710Z"
   },
   {
    "duration": 16,
    "start_time": "2022-07-27T13:13:47.720Z"
   },
   {
    "duration": 31,
    "start_time": "2022-07-27T13:13:47.738Z"
   },
   {
    "duration": 11,
    "start_time": "2022-07-27T13:13:47.771Z"
   },
   {
    "duration": 69,
    "start_time": "2022-07-27T13:13:47.784Z"
   },
   {
    "duration": 27,
    "start_time": "2022-07-27T13:13:47.855Z"
   },
   {
    "duration": 73,
    "start_time": "2022-07-27T13:13:47.884Z"
   },
   {
    "duration": 1095,
    "start_time": "2022-07-27T13:13:47.959Z"
   },
   {
    "duration": 955,
    "start_time": "2022-07-27T13:13:49.055Z"
   },
   {
    "duration": 188,
    "start_time": "2022-07-27T13:13:50.012Z"
   },
   {
    "duration": 6,
    "start_time": "2022-07-27T13:13:50.202Z"
   },
   {
    "duration": 43,
    "start_time": "2022-07-27T13:13:50.209Z"
   },
   {
    "duration": 4,
    "start_time": "2022-07-27T13:13:50.254Z"
   },
   {
    "duration": 25,
    "start_time": "2022-07-27T13:13:50.259Z"
   },
   {
    "duration": 5,
    "start_time": "2022-07-27T13:13:50.286Z"
   },
   {
    "duration": 116,
    "start_time": "2022-07-27T13:13:50.293Z"
   },
   {
    "duration": 16,
    "start_time": "2022-07-27T13:19:05.071Z"
   },
   {
    "duration": 4,
    "start_time": "2022-07-27T14:11:37.730Z"
   },
   {
    "duration": 4,
    "start_time": "2022-07-27T14:11:46.853Z"
   },
   {
    "duration": 102,
    "start_time": "2022-07-27T14:14:58.726Z"
   },
   {
    "duration": 1913,
    "start_time": "2022-07-27T14:15:39.909Z"
   },
   {
    "duration": 1121,
    "start_time": "2022-07-27T14:15:41.824Z"
   },
   {
    "duration": 42,
    "start_time": "2022-07-27T14:15:42.947Z"
   },
   {
    "duration": 213,
    "start_time": "2022-07-27T14:15:42.991Z"
   },
   {
    "duration": 1100,
    "start_time": "2022-07-27T14:15:43.206Z"
   },
   {
    "duration": 59,
    "start_time": "2022-07-27T14:15:44.308Z"
   },
   {
    "duration": 83,
    "start_time": "2022-07-27T14:15:44.369Z"
   },
   {
    "duration": 23,
    "start_time": "2022-07-27T14:15:44.454Z"
   },
   {
    "duration": 60,
    "start_time": "2022-07-27T14:15:44.479Z"
   },
   {
    "duration": 26,
    "start_time": "2022-07-27T14:15:44.541Z"
   },
   {
    "duration": 30,
    "start_time": "2022-07-27T14:15:44.568Z"
   },
   {
    "duration": 36,
    "start_time": "2022-07-27T14:15:44.600Z"
   },
   {
    "duration": 3,
    "start_time": "2022-07-27T14:15:44.639Z"
   },
   {
    "duration": 15,
    "start_time": "2022-07-27T14:15:44.645Z"
   },
   {
    "duration": 29,
    "start_time": "2022-07-27T14:15:44.662Z"
   },
   {
    "duration": 443,
    "start_time": "2022-07-27T14:15:44.693Z"
   },
   {
    "duration": 302,
    "start_time": "2022-07-27T14:15:45.137Z"
   },
   {
    "duration": 194,
    "start_time": "2022-07-27T14:15:45.441Z"
   },
   {
    "duration": 4,
    "start_time": "2022-07-27T14:15:45.637Z"
   },
   {
    "duration": 593,
    "start_time": "2022-07-27T14:15:45.642Z"
   },
   {
    "duration": 24,
    "start_time": "2022-07-27T14:15:46.237Z"
   },
   {
    "duration": 609,
    "start_time": "2022-07-27T14:15:46.263Z"
   },
   {
    "duration": 3065,
    "start_time": "2022-07-27T14:15:46.873Z"
   },
   {
    "duration": 600,
    "start_time": "2022-07-27T14:15:49.939Z"
   },
   {
    "duration": 10,
    "start_time": "2022-07-27T14:15:50.541Z"
   },
   {
    "duration": 26,
    "start_time": "2022-07-27T14:15:50.553Z"
   },
   {
    "duration": 39,
    "start_time": "2022-07-27T14:15:50.581Z"
   },
   {
    "duration": 13,
    "start_time": "2022-07-27T14:15:50.622Z"
   },
   {
    "duration": 25,
    "start_time": "2022-07-27T14:15:50.637Z"
   },
   {
    "duration": 57,
    "start_time": "2022-07-27T14:19:40.311Z"
   },
   {
    "duration": 1820,
    "start_time": "2022-07-27T14:19:54.452Z"
   },
   {
    "duration": 1105,
    "start_time": "2022-07-27T14:19:56.274Z"
   },
   {
    "duration": 78,
    "start_time": "2022-07-27T14:19:57.381Z"
   },
   {
    "duration": 398,
    "start_time": "2022-07-27T14:19:57.461Z"
   },
   {
    "duration": 1599,
    "start_time": "2022-07-27T14:19:57.861Z"
   },
   {
    "duration": 74,
    "start_time": "2022-07-27T14:19:59.461Z"
   },
   {
    "duration": 61,
    "start_time": "2022-07-27T14:19:59.537Z"
   },
   {
    "duration": 41,
    "start_time": "2022-07-27T14:19:59.600Z"
   },
   {
    "duration": 42,
    "start_time": "2022-07-27T14:19:59.643Z"
   },
   {
    "duration": 22,
    "start_time": "2022-07-27T14:19:59.687Z"
   },
   {
    "duration": 55,
    "start_time": "2022-07-27T14:19:59.711Z"
   },
   {
    "duration": 18,
    "start_time": "2022-07-27T14:19:59.768Z"
   },
   {
    "duration": 3,
    "start_time": "2022-07-27T14:19:59.787Z"
   },
   {
    "duration": 10,
    "start_time": "2022-07-27T14:19:59.791Z"
   },
   {
    "duration": 38,
    "start_time": "2022-07-27T14:19:59.803Z"
   },
   {
    "duration": 305,
    "start_time": "2022-07-27T14:19:59.842Z"
   },
   {
    "duration": 141,
    "start_time": "2022-07-27T14:20:00.148Z"
   },
   {
    "duration": 91,
    "start_time": "2022-07-27T14:20:00.290Z"
   },
   {
    "duration": 3,
    "start_time": "2022-07-27T14:20:00.382Z"
   },
   {
    "duration": 278,
    "start_time": "2022-07-27T14:20:00.387Z"
   },
   {
    "duration": 20,
    "start_time": "2022-07-27T14:20:00.667Z"
   },
   {
    "duration": 311,
    "start_time": "2022-07-27T14:20:00.688Z"
   },
   {
    "duration": 2352,
    "start_time": "2022-07-27T14:20:01.000Z"
   },
   {
    "duration": 269,
    "start_time": "2022-07-27T14:20:03.354Z"
   },
   {
    "duration": 15,
    "start_time": "2022-07-27T14:20:03.624Z"
   },
   {
    "duration": 23,
    "start_time": "2022-07-27T14:20:03.641Z"
   },
   {
    "duration": 37,
    "start_time": "2022-07-27T14:20:03.666Z"
   },
   {
    "duration": 28,
    "start_time": "2022-07-27T14:20:03.707Z"
   },
   {
    "duration": 19,
    "start_time": "2022-07-27T14:20:03.736Z"
   },
   {
    "duration": 131,
    "start_time": "2022-07-27T14:20:03.757Z"
   },
   {
    "duration": 0,
    "start_time": "2022-07-27T14:20:03.889Z"
   },
   {
    "duration": 0,
    "start_time": "2022-07-27T14:20:03.891Z"
   },
   {
    "duration": 0,
    "start_time": "2022-07-27T14:20:03.892Z"
   },
   {
    "duration": 0,
    "start_time": "2022-07-27T14:20:03.893Z"
   },
   {
    "duration": 0,
    "start_time": "2022-07-27T14:20:03.894Z"
   },
   {
    "duration": 0,
    "start_time": "2022-07-27T14:20:03.895Z"
   },
   {
    "duration": 0,
    "start_time": "2022-07-27T14:20:03.896Z"
   },
   {
    "duration": 0,
    "start_time": "2022-07-27T14:20:03.897Z"
   },
   {
    "duration": 0,
    "start_time": "2022-07-27T14:20:03.898Z"
   },
   {
    "duration": 0,
    "start_time": "2022-07-27T14:20:03.899Z"
   },
   {
    "duration": 0,
    "start_time": "2022-07-27T14:20:03.900Z"
   },
   {
    "duration": 0,
    "start_time": "2022-07-27T14:20:03.901Z"
   },
   {
    "duration": 10,
    "start_time": "2022-07-27T14:25:01.335Z"
   },
   {
    "duration": 11,
    "start_time": "2022-07-27T14:25:13.121Z"
   },
   {
    "duration": 14,
    "start_time": "2022-07-27T14:25:33.749Z"
   },
   {
    "duration": 27,
    "start_time": "2022-07-27T14:29:30.527Z"
   },
   {
    "duration": 3,
    "start_time": "2022-07-27T14:33:44.897Z"
   },
   {
    "duration": 14,
    "start_time": "2022-07-27T14:34:57.093Z"
   },
   {
    "duration": 14,
    "start_time": "2022-07-27T14:36:44.080Z"
   },
   {
    "duration": 15,
    "start_time": "2022-07-27T14:36:45.500Z"
   },
   {
    "duration": 12,
    "start_time": "2022-07-27T14:37:37.660Z"
   },
   {
    "duration": 13,
    "start_time": "2022-07-27T14:37:39.151Z"
   },
   {
    "duration": 14,
    "start_time": "2022-07-27T14:38:42.577Z"
   },
   {
    "duration": 10,
    "start_time": "2022-07-27T14:38:55.150Z"
   },
   {
    "duration": 11,
    "start_time": "2022-07-27T14:38:58.603Z"
   },
   {
    "duration": 4,
    "start_time": "2022-07-27T14:39:17.263Z"
   },
   {
    "duration": 10,
    "start_time": "2022-07-27T14:39:23.141Z"
   },
   {
    "duration": 4,
    "start_time": "2022-07-27T14:39:37.755Z"
   },
   {
    "duration": 4,
    "start_time": "2022-07-27T14:39:45.851Z"
   },
   {
    "duration": 5,
    "start_time": "2022-07-27T14:39:50.816Z"
   },
   {
    "duration": 9,
    "start_time": "2022-07-27T14:41:32.403Z"
   },
   {
    "duration": 36,
    "start_time": "2022-07-27T14:41:37.347Z"
   },
   {
    "duration": 51,
    "start_time": "2022-07-27T14:41:44.878Z"
   },
   {
    "duration": 99,
    "start_time": "2022-07-27T14:41:50.570Z"
   },
   {
    "duration": 1139,
    "start_time": "2022-07-27T14:42:56.808Z"
   },
   {
    "duration": 526,
    "start_time": "2022-07-27T14:42:57.953Z"
   },
   {
    "duration": 103,
    "start_time": "2022-07-27T14:42:58.481Z"
   },
   {
    "duration": 549,
    "start_time": "2022-07-27T14:42:58.586Z"
   },
   {
    "duration": 2139,
    "start_time": "2022-07-27T14:42:59.137Z"
   },
   {
    "duration": 72,
    "start_time": "2022-07-27T14:43:01.277Z"
   },
   {
    "duration": 107,
    "start_time": "2022-07-27T14:43:01.350Z"
   },
   {
    "duration": 24,
    "start_time": "2022-07-27T14:43:01.459Z"
   },
   {
    "duration": 58,
    "start_time": "2022-07-27T14:43:01.485Z"
   },
   {
    "duration": 28,
    "start_time": "2022-07-27T14:43:01.545Z"
   },
   {
    "duration": 59,
    "start_time": "2022-07-27T14:43:01.575Z"
   },
   {
    "duration": 32,
    "start_time": "2022-07-27T14:43:01.636Z"
   },
   {
    "duration": 5,
    "start_time": "2022-07-27T14:43:01.670Z"
   },
   {
    "duration": 28,
    "start_time": "2022-07-27T14:43:01.680Z"
   },
   {
    "duration": 24,
    "start_time": "2022-07-27T14:43:01.710Z"
   },
   {
    "duration": 337,
    "start_time": "2022-07-27T14:43:01.736Z"
   },
   {
    "duration": 143,
    "start_time": "2022-07-27T14:43:02.077Z"
   },
   {
    "duration": 95,
    "start_time": "2022-07-27T14:43:02.222Z"
   },
   {
    "duration": 17,
    "start_time": "2022-07-27T14:43:02.318Z"
   },
   {
    "duration": 309,
    "start_time": "2022-07-27T14:43:02.337Z"
   },
   {
    "duration": 29,
    "start_time": "2022-07-27T14:43:02.649Z"
   },
   {
    "duration": 321,
    "start_time": "2022-07-27T14:43:02.680Z"
   },
   {
    "duration": 2272,
    "start_time": "2022-07-27T14:43:03.003Z"
   },
   {
    "duration": 335,
    "start_time": "2022-07-27T14:43:05.277Z"
   },
   {
    "duration": 23,
    "start_time": "2022-07-27T14:43:05.613Z"
   },
   {
    "duration": 10,
    "start_time": "2022-07-27T14:43:05.638Z"
   },
   {
    "duration": 40,
    "start_time": "2022-07-27T14:43:05.651Z"
   },
   {
    "duration": 15,
    "start_time": "2022-07-27T14:43:05.692Z"
   },
   {
    "duration": 48,
    "start_time": "2022-07-27T14:43:05.709Z"
   },
   {
    "duration": 13,
    "start_time": "2022-07-27T14:43:05.759Z"
   },
   {
    "duration": 4,
    "start_time": "2022-07-27T14:43:05.774Z"
   },
   {
    "duration": 125,
    "start_time": "2022-07-27T14:43:05.779Z"
   },
   {
    "duration": 0,
    "start_time": "2022-07-27T14:43:05.907Z"
   },
   {
    "duration": 0,
    "start_time": "2022-07-27T14:43:05.908Z"
   },
   {
    "duration": 0,
    "start_time": "2022-07-27T14:43:05.909Z"
   },
   {
    "duration": 0,
    "start_time": "2022-07-27T14:43:05.910Z"
   },
   {
    "duration": 0,
    "start_time": "2022-07-27T14:43:05.910Z"
   },
   {
    "duration": 0,
    "start_time": "2022-07-27T14:43:05.911Z"
   },
   {
    "duration": 0,
    "start_time": "2022-07-27T14:43:05.912Z"
   },
   {
    "duration": 0,
    "start_time": "2022-07-27T14:43:05.913Z"
   },
   {
    "duration": 0,
    "start_time": "2022-07-27T14:43:05.913Z"
   },
   {
    "duration": 0,
    "start_time": "2022-07-27T14:43:05.914Z"
   },
   {
    "duration": 0,
    "start_time": "2022-07-27T14:43:05.934Z"
   },
   {
    "duration": 0,
    "start_time": "2022-07-27T14:43:05.935Z"
   },
   {
    "duration": 98,
    "start_time": "2022-07-27T14:43:51.955Z"
   },
   {
    "duration": 51,
    "start_time": "2022-07-27T14:45:17.149Z"
   },
   {
    "duration": 1237,
    "start_time": "2022-07-27T14:45:26.419Z"
   },
   {
    "duration": 1062,
    "start_time": "2022-07-27T14:45:27.658Z"
   },
   {
    "duration": 39,
    "start_time": "2022-07-27T14:45:28.721Z"
   },
   {
    "duration": 273,
    "start_time": "2022-07-27T14:45:28.762Z"
   },
   {
    "duration": 2066,
    "start_time": "2022-07-27T14:45:29.038Z"
   },
   {
    "duration": 81,
    "start_time": "2022-07-27T14:45:31.106Z"
   },
   {
    "duration": 74,
    "start_time": "2022-07-27T14:45:31.189Z"
   },
   {
    "duration": 23,
    "start_time": "2022-07-27T14:45:31.265Z"
   },
   {
    "duration": 74,
    "start_time": "2022-07-27T14:45:31.289Z"
   },
   {
    "duration": 24,
    "start_time": "2022-07-27T14:45:31.365Z"
   },
   {
    "duration": 48,
    "start_time": "2022-07-27T14:45:31.391Z"
   },
   {
    "duration": 29,
    "start_time": "2022-07-27T14:45:31.441Z"
   },
   {
    "duration": 8,
    "start_time": "2022-07-27T14:45:31.472Z"
   },
   {
    "duration": 11,
    "start_time": "2022-07-27T14:45:31.483Z"
   },
   {
    "duration": 40,
    "start_time": "2022-07-27T14:45:31.495Z"
   },
   {
    "duration": 272,
    "start_time": "2022-07-27T14:45:31.537Z"
   },
   {
    "duration": 67,
    "start_time": "2022-07-27T14:46:15.752Z"
   },
   {
    "duration": 1053,
    "start_time": "2022-07-27T14:46:23.923Z"
   },
   {
    "duration": 1441,
    "start_time": "2022-07-27T14:46:24.979Z"
   },
   {
    "duration": 55,
    "start_time": "2022-07-27T14:46:26.422Z"
   },
   {
    "duration": 215,
    "start_time": "2022-07-27T14:46:26.479Z"
   },
   {
    "duration": 1022,
    "start_time": "2022-07-27T14:46:26.696Z"
   },
   {
    "duration": 61,
    "start_time": "2022-07-27T14:46:27.720Z"
   },
   {
    "duration": 77,
    "start_time": "2022-07-27T14:46:27.782Z"
   },
   {
    "duration": 23,
    "start_time": "2022-07-27T14:46:27.860Z"
   },
   {
    "duration": 66,
    "start_time": "2022-07-27T14:46:27.884Z"
   },
   {
    "duration": 22,
    "start_time": "2022-07-27T14:46:27.953Z"
   },
   {
    "duration": 27,
    "start_time": "2022-07-27T14:46:27.977Z"
   },
   {
    "duration": 34,
    "start_time": "2022-07-27T14:46:28.006Z"
   },
   {
    "duration": 4,
    "start_time": "2022-07-27T14:46:28.042Z"
   },
   {
    "duration": 20,
    "start_time": "2022-07-27T14:46:28.047Z"
   },
   {
    "duration": 20,
    "start_time": "2022-07-27T14:46:28.069Z"
   },
   {
    "duration": 288,
    "start_time": "2022-07-27T14:46:28.091Z"
   },
   {
    "duration": 1042,
    "start_time": "2022-07-27T14:47:13.254Z"
   },
   {
    "duration": 1018,
    "start_time": "2022-07-27T14:47:14.298Z"
   },
   {
    "duration": 42,
    "start_time": "2022-07-27T14:47:15.318Z"
   },
   {
    "duration": 222,
    "start_time": "2022-07-27T14:47:15.362Z"
   },
   {
    "duration": 995,
    "start_time": "2022-07-27T14:47:15.587Z"
   },
   {
    "duration": 65,
    "start_time": "2022-07-27T14:47:16.583Z"
   },
   {
    "duration": 56,
    "start_time": "2022-07-27T14:47:16.649Z"
   },
   {
    "duration": 54,
    "start_time": "2022-07-27T14:47:16.707Z"
   },
   {
    "duration": 38,
    "start_time": "2022-07-27T14:47:16.763Z"
   },
   {
    "duration": 46,
    "start_time": "2022-07-27T14:47:16.802Z"
   },
   {
    "duration": 43,
    "start_time": "2022-07-27T14:47:16.850Z"
   },
   {
    "duration": 19,
    "start_time": "2022-07-27T14:47:16.895Z"
   },
   {
    "duration": 3,
    "start_time": "2022-07-27T14:47:16.934Z"
   },
   {
    "duration": 22,
    "start_time": "2022-07-27T14:47:16.940Z"
   },
   {
    "duration": 23,
    "start_time": "2022-07-27T14:47:16.964Z"
   },
   {
    "duration": 286,
    "start_time": "2022-07-27T14:47:16.988Z"
   },
   {
    "duration": 1037,
    "start_time": "2022-07-27T14:48:38.969Z"
   },
   {
    "duration": 1068,
    "start_time": "2022-07-27T14:48:40.008Z"
   },
   {
    "duration": 41,
    "start_time": "2022-07-27T14:48:41.077Z"
   },
   {
    "duration": 219,
    "start_time": "2022-07-27T14:48:41.120Z"
   },
   {
    "duration": 2138,
    "start_time": "2022-07-27T14:48:41.341Z"
   },
   {
    "duration": 116,
    "start_time": "2022-07-27T14:48:43.534Z"
   },
   {
    "duration": 50,
    "start_time": "2022-07-27T14:48:43.652Z"
   },
   {
    "duration": 52,
    "start_time": "2022-07-27T14:48:43.704Z"
   },
   {
    "duration": 42,
    "start_time": "2022-07-27T14:48:43.757Z"
   },
   {
    "duration": 42,
    "start_time": "2022-07-27T14:48:43.801Z"
   },
   {
    "duration": 32,
    "start_time": "2022-07-27T14:48:43.844Z"
   },
   {
    "duration": 19,
    "start_time": "2022-07-27T14:48:43.878Z"
   },
   {
    "duration": 8,
    "start_time": "2022-07-27T14:48:43.898Z"
   },
   {
    "duration": 46,
    "start_time": "2022-07-27T14:48:43.908Z"
   },
   {
    "duration": 35,
    "start_time": "2022-07-27T14:48:43.955Z"
   },
   {
    "duration": 277,
    "start_time": "2022-07-27T14:48:43.992Z"
   },
   {
    "duration": 131,
    "start_time": "2022-07-27T14:48:44.271Z"
   },
   {
    "duration": 90,
    "start_time": "2022-07-27T14:48:44.404Z"
   },
   {
    "duration": 4,
    "start_time": "2022-07-27T14:48:44.496Z"
   },
   {
    "duration": 290,
    "start_time": "2022-07-27T14:48:44.502Z"
   },
   {
    "duration": 21,
    "start_time": "2022-07-27T14:48:44.794Z"
   },
   {
    "duration": 301,
    "start_time": "2022-07-27T14:48:44.817Z"
   },
   {
    "duration": 2314,
    "start_time": "2022-07-27T14:48:45.120Z"
   },
   {
    "duration": 305,
    "start_time": "2022-07-27T14:48:47.436Z"
   },
   {
    "duration": 13,
    "start_time": "2022-07-27T14:48:47.742Z"
   },
   {
    "duration": 4,
    "start_time": "2022-07-27T14:48:47.757Z"
   },
   {
    "duration": 33,
    "start_time": "2022-07-27T14:48:47.763Z"
   },
   {
    "duration": 40,
    "start_time": "2022-07-27T14:48:47.797Z"
   },
   {
    "duration": 18,
    "start_time": "2022-07-27T14:48:47.839Z"
   },
   {
    "duration": 13,
    "start_time": "2022-07-27T14:48:47.859Z"
   },
   {
    "duration": 5,
    "start_time": "2022-07-27T14:48:47.873Z"
   },
   {
    "duration": 139,
    "start_time": "2022-07-27T14:48:47.879Z"
   },
   {
    "duration": 1,
    "start_time": "2022-07-27T14:48:48.019Z"
   },
   {
    "duration": 0,
    "start_time": "2022-07-27T14:48:48.021Z"
   },
   {
    "duration": 0,
    "start_time": "2022-07-27T14:48:48.022Z"
   },
   {
    "duration": 0,
    "start_time": "2022-07-27T14:48:48.023Z"
   },
   {
    "duration": 0,
    "start_time": "2022-07-27T14:48:48.024Z"
   },
   {
    "duration": 0,
    "start_time": "2022-07-27T14:48:48.024Z"
   },
   {
    "duration": 0,
    "start_time": "2022-07-27T14:48:48.036Z"
   },
   {
    "duration": 0,
    "start_time": "2022-07-27T14:48:48.038Z"
   },
   {
    "duration": 1,
    "start_time": "2022-07-27T14:48:48.039Z"
   },
   {
    "duration": 0,
    "start_time": "2022-07-27T14:48:48.041Z"
   },
   {
    "duration": 0,
    "start_time": "2022-07-27T14:48:48.042Z"
   },
   {
    "duration": 0,
    "start_time": "2022-07-27T14:48:48.043Z"
   },
   {
    "duration": 63,
    "start_time": "2022-07-27T14:50:47.326Z"
   },
   {
    "duration": 21,
    "start_time": "2022-07-27T14:50:59.308Z"
   },
   {
    "duration": 43,
    "start_time": "2022-07-27T14:51:15.163Z"
   },
   {
    "duration": 39,
    "start_time": "2022-07-27T14:51:58.081Z"
   },
   {
    "duration": 44,
    "start_time": "2022-07-27T14:52:25.294Z"
   },
   {
    "duration": 17,
    "start_time": "2022-07-27T15:01:10.680Z"
   },
   {
    "duration": 17,
    "start_time": "2022-07-27T15:01:30.781Z"
   },
   {
    "duration": 15,
    "start_time": "2022-07-27T15:01:43.951Z"
   },
   {
    "duration": 17,
    "start_time": "2022-07-27T15:01:51.658Z"
   },
   {
    "duration": 16,
    "start_time": "2022-07-27T15:07:49.496Z"
   },
   {
    "duration": 62,
    "start_time": "2022-07-27T15:08:27.878Z"
   },
   {
    "duration": 112,
    "start_time": "2022-07-27T15:08:35.395Z"
   },
   {
    "duration": 9,
    "start_time": "2022-07-27T15:08:48.816Z"
   },
   {
    "duration": 11,
    "start_time": "2022-07-27T15:08:54.547Z"
   },
   {
    "duration": 8,
    "start_time": "2022-07-27T15:08:58.353Z"
   },
   {
    "duration": 9,
    "start_time": "2022-07-27T15:09:05.784Z"
   },
   {
    "duration": 8,
    "start_time": "2022-07-27T15:09:08.442Z"
   },
   {
    "duration": 16,
    "start_time": "2022-07-27T15:09:15.193Z"
   },
   {
    "duration": 9,
    "start_time": "2022-07-27T15:16:54.744Z"
   },
   {
    "duration": 41,
    "start_time": "2022-07-27T15:19:54.793Z"
   },
   {
    "duration": 23,
    "start_time": "2022-07-27T15:20:17.490Z"
   },
   {
    "duration": 100,
    "start_time": "2022-07-27T15:20:58.794Z"
   },
   {
    "duration": 1037,
    "start_time": "2022-07-27T15:25:32.038Z"
   },
   {
    "duration": 442,
    "start_time": "2022-07-27T15:25:34.764Z"
   },
   {
    "duration": 36,
    "start_time": "2022-07-27T15:25:37.671Z"
   },
   {
    "duration": 191,
    "start_time": "2022-07-27T15:25:39.258Z"
   },
   {
    "duration": 983,
    "start_time": "2022-07-27T15:25:40.929Z"
   },
   {
    "duration": 53,
    "start_time": "2022-07-27T15:25:43.107Z"
   },
   {
    "duration": 49,
    "start_time": "2022-07-27T15:25:48.450Z"
   },
   {
    "duration": 28,
    "start_time": "2022-07-27T15:25:51.044Z"
   },
   {
    "duration": 40,
    "start_time": "2022-07-27T15:25:54.890Z"
   },
   {
    "duration": 22,
    "start_time": "2022-07-27T15:25:59.425Z"
   },
   {
    "duration": 28,
    "start_time": "2022-07-27T15:26:02.156Z"
   },
   {
    "duration": 19,
    "start_time": "2022-07-27T15:26:04.144Z"
   },
   {
    "duration": 8,
    "start_time": "2022-07-27T15:26:09.746Z"
   },
   {
    "duration": 18,
    "start_time": "2022-07-27T15:26:13.120Z"
   },
   {
    "duration": 7,
    "start_time": "2022-07-27T15:28:12.873Z"
   },
   {
    "duration": 7,
    "start_time": "2022-07-27T15:28:18.083Z"
   },
   {
    "duration": 18,
    "start_time": "2022-07-27T15:28:19.726Z"
   },
   {
    "duration": 4,
    "start_time": "2022-07-27T15:29:17.027Z"
   },
   {
    "duration": 5,
    "start_time": "2022-07-27T15:31:14.213Z"
   },
   {
    "duration": 4,
    "start_time": "2022-07-27T15:31:20.414Z"
   },
   {
    "duration": 4,
    "start_time": "2022-07-27T15:31:31.323Z"
   },
   {
    "duration": 4,
    "start_time": "2022-07-27T15:31:36.477Z"
   },
   {
    "duration": 102,
    "start_time": "2022-07-27T15:31:40.909Z"
   },
   {
    "duration": 1152,
    "start_time": "2022-07-27T15:32:32.526Z"
   },
   {
    "duration": 474,
    "start_time": "2022-07-27T15:32:33.680Z"
   },
   {
    "duration": 42,
    "start_time": "2022-07-27T15:32:34.156Z"
   },
   {
    "duration": 338,
    "start_time": "2022-07-27T15:32:34.200Z"
   },
   {
    "duration": 1832,
    "start_time": "2022-07-27T15:32:34.541Z"
   },
   {
    "duration": 70,
    "start_time": "2022-07-27T15:32:36.375Z"
   },
   {
    "duration": 53,
    "start_time": "2022-07-27T15:32:36.447Z"
   },
   {
    "duration": 54,
    "start_time": "2022-07-27T15:32:36.502Z"
   },
   {
    "duration": 41,
    "start_time": "2022-07-27T15:32:36.557Z"
   },
   {
    "duration": 42,
    "start_time": "2022-07-27T15:32:36.600Z"
   },
   {
    "duration": 30,
    "start_time": "2022-07-27T15:32:36.643Z"
   },
   {
    "duration": 19,
    "start_time": "2022-07-27T15:32:36.674Z"
   },
   {
    "duration": 3,
    "start_time": "2022-07-27T15:32:36.695Z"
   },
   {
    "duration": 33,
    "start_time": "2022-07-27T15:32:36.701Z"
   },
   {
    "duration": 21,
    "start_time": "2022-07-27T15:32:36.735Z"
   },
   {
    "duration": 117,
    "start_time": "2022-07-27T15:32:36.758Z"
   },
   {
    "duration": 0,
    "start_time": "2022-07-27T15:32:36.877Z"
   },
   {
    "duration": 0,
    "start_time": "2022-07-27T15:32:36.878Z"
   },
   {
    "duration": 0,
    "start_time": "2022-07-27T15:32:36.879Z"
   },
   {
    "duration": 0,
    "start_time": "2022-07-27T15:32:36.881Z"
   },
   {
    "duration": 0,
    "start_time": "2022-07-27T15:32:36.882Z"
   },
   {
    "duration": 0,
    "start_time": "2022-07-27T15:32:36.883Z"
   },
   {
    "duration": 0,
    "start_time": "2022-07-27T15:32:36.884Z"
   },
   {
    "duration": 0,
    "start_time": "2022-07-27T15:32:36.885Z"
   },
   {
    "duration": 0,
    "start_time": "2022-07-27T15:32:36.886Z"
   },
   {
    "duration": 0,
    "start_time": "2022-07-27T15:32:36.887Z"
   },
   {
    "duration": 0,
    "start_time": "2022-07-27T15:32:36.888Z"
   },
   {
    "duration": 0,
    "start_time": "2022-07-27T15:32:36.888Z"
   },
   {
    "duration": 0,
    "start_time": "2022-07-27T15:32:36.889Z"
   },
   {
    "duration": 0,
    "start_time": "2022-07-27T15:32:36.890Z"
   },
   {
    "duration": 0,
    "start_time": "2022-07-27T15:32:36.891Z"
   },
   {
    "duration": 0,
    "start_time": "2022-07-27T15:32:36.892Z"
   },
   {
    "duration": 0,
    "start_time": "2022-07-27T15:32:36.893Z"
   },
   {
    "duration": 0,
    "start_time": "2022-07-27T15:32:36.893Z"
   },
   {
    "duration": 0,
    "start_time": "2022-07-27T15:32:36.894Z"
   },
   {
    "duration": 0,
    "start_time": "2022-07-27T15:32:36.895Z"
   },
   {
    "duration": 0,
    "start_time": "2022-07-27T15:32:36.933Z"
   },
   {
    "duration": 0,
    "start_time": "2022-07-27T15:32:36.934Z"
   },
   {
    "duration": 0,
    "start_time": "2022-07-27T15:32:36.935Z"
   },
   {
    "duration": 0,
    "start_time": "2022-07-27T15:32:36.936Z"
   },
   {
    "duration": 0,
    "start_time": "2022-07-27T15:32:36.937Z"
   },
   {
    "duration": 0,
    "start_time": "2022-07-27T15:32:36.938Z"
   },
   {
    "duration": 0,
    "start_time": "2022-07-27T15:32:36.938Z"
   },
   {
    "duration": 0,
    "start_time": "2022-07-27T15:32:36.939Z"
   },
   {
    "duration": 0,
    "start_time": "2022-07-27T15:32:36.940Z"
   },
   {
    "duration": 0,
    "start_time": "2022-07-27T15:32:36.940Z"
   },
   {
    "duration": 0,
    "start_time": "2022-07-27T15:32:36.941Z"
   },
   {
    "duration": 0,
    "start_time": "2022-07-27T15:32:36.942Z"
   },
   {
    "duration": 24,
    "start_time": "2022-07-27T15:34:52.825Z"
   },
   {
    "duration": 22,
    "start_time": "2022-07-27T15:34:59.694Z"
   },
   {
    "duration": 12,
    "start_time": "2022-07-27T15:36:17.969Z"
   },
   {
    "duration": 4,
    "start_time": "2022-07-27T15:36:41.935Z"
   },
   {
    "duration": 9,
    "start_time": "2022-07-27T15:37:53.925Z"
   },
   {
    "duration": 5,
    "start_time": "2022-07-27T15:37:59.033Z"
   },
   {
    "duration": 3,
    "start_time": "2022-07-27T15:38:12.297Z"
   },
   {
    "duration": 4,
    "start_time": "2022-07-27T15:38:16.621Z"
   },
   {
    "duration": 37,
    "start_time": "2022-07-27T16:18:27.580Z"
   },
   {
    "duration": 34,
    "start_time": "2022-07-27T16:18:50.024Z"
   },
   {
    "duration": 12,
    "start_time": "2022-07-27T16:19:26.394Z"
   },
   {
    "duration": 309,
    "start_time": "2022-07-27T16:20:16.677Z"
   },
   {
    "duration": 28,
    "start_time": "2022-07-27T16:20:21.974Z"
   },
   {
    "duration": 249,
    "start_time": "2022-07-27T16:20:27.442Z"
   },
   {
    "duration": 27,
    "start_time": "2022-07-27T16:20:48.439Z"
   },
   {
    "duration": 24,
    "start_time": "2022-07-27T16:21:05.040Z"
   },
   {
    "duration": 12,
    "start_time": "2022-07-27T16:21:32.337Z"
   },
   {
    "duration": 23,
    "start_time": "2022-07-27T16:21:41.952Z"
   },
   {
    "duration": 9,
    "start_time": "2022-07-27T16:22:09.133Z"
   },
   {
    "duration": 13,
    "start_time": "2022-07-27T16:22:14.823Z"
   },
   {
    "duration": 16,
    "start_time": "2022-07-27T16:22:27.589Z"
   },
   {
    "duration": 27,
    "start_time": "2022-07-27T16:22:54.628Z"
   },
   {
    "duration": 18,
    "start_time": "2022-07-27T16:22:58.341Z"
   },
   {
    "duration": 24,
    "start_time": "2022-07-27T16:23:00.952Z"
   },
   {
    "duration": 15,
    "start_time": "2022-07-27T16:23:03.932Z"
   },
   {
    "duration": 13,
    "start_time": "2022-07-27T16:24:37.269Z"
   },
   {
    "duration": 9,
    "start_time": "2022-07-27T16:24:48.693Z"
   },
   {
    "duration": 18,
    "start_time": "2022-07-27T16:24:53.180Z"
   },
   {
    "duration": 21,
    "start_time": "2022-07-27T16:26:03.770Z"
   },
   {
    "duration": 31,
    "start_time": "2022-07-27T16:26:07.317Z"
   },
   {
    "duration": 24,
    "start_time": "2022-07-27T16:26:39.135Z"
   },
   {
    "duration": 24,
    "start_time": "2022-07-27T16:26:58.259Z"
   },
   {
    "duration": 30,
    "start_time": "2022-07-27T16:27:08.187Z"
   },
   {
    "duration": 14,
    "start_time": "2022-07-27T16:29:45.129Z"
   },
   {
    "duration": 12,
    "start_time": "2022-07-27T16:29:48.732Z"
   },
   {
    "duration": 1026,
    "start_time": "2022-07-27T16:29:59.024Z"
   },
   {
    "duration": 625,
    "start_time": "2022-07-27T16:30:00.052Z"
   },
   {
    "duration": 70,
    "start_time": "2022-07-27T16:30:00.678Z"
   },
   {
    "duration": 385,
    "start_time": "2022-07-27T16:30:00.750Z"
   },
   {
    "duration": 1452,
    "start_time": "2022-07-27T16:30:01.136Z"
   },
   {
    "duration": 78,
    "start_time": "2022-07-27T16:30:02.590Z"
   },
   {
    "duration": 113,
    "start_time": "2022-07-27T16:30:02.670Z"
   },
   {
    "duration": 31,
    "start_time": "2022-07-27T16:30:02.785Z"
   },
   {
    "duration": 41,
    "start_time": "2022-07-27T16:30:02.833Z"
   },
   {
    "duration": 22,
    "start_time": "2022-07-27T16:30:02.876Z"
   },
   {
    "duration": 49,
    "start_time": "2022-07-27T16:30:02.900Z"
   },
   {
    "duration": 19,
    "start_time": "2022-07-27T16:30:02.951Z"
   },
   {
    "duration": 3,
    "start_time": "2022-07-27T16:30:02.972Z"
   },
   {
    "duration": 22,
    "start_time": "2022-07-27T16:30:02.977Z"
   },
   {
    "duration": 39,
    "start_time": "2022-07-27T16:30:03.001Z"
   },
   {
    "duration": 33,
    "start_time": "2022-07-27T16:30:03.042Z"
   },
   {
    "duration": 23,
    "start_time": "2022-07-27T16:30:03.077Z"
   },
   {
    "duration": 50,
    "start_time": "2022-07-27T16:30:03.101Z"
   },
   {
    "duration": 109,
    "start_time": "2022-07-27T16:30:03.152Z"
   },
   {
    "duration": 0,
    "start_time": "2022-07-27T16:30:03.263Z"
   },
   {
    "duration": 0,
    "start_time": "2022-07-27T16:30:03.265Z"
   },
   {
    "duration": 0,
    "start_time": "2022-07-27T16:30:03.266Z"
   },
   {
    "duration": 0,
    "start_time": "2022-07-27T16:30:03.267Z"
   },
   {
    "duration": 0,
    "start_time": "2022-07-27T16:30:03.269Z"
   },
   {
    "duration": 0,
    "start_time": "2022-07-27T16:30:03.270Z"
   },
   {
    "duration": 0,
    "start_time": "2022-07-27T16:30:03.271Z"
   },
   {
    "duration": 0,
    "start_time": "2022-07-27T16:30:03.272Z"
   },
   {
    "duration": 0,
    "start_time": "2022-07-27T16:30:03.273Z"
   },
   {
    "duration": 0,
    "start_time": "2022-07-27T16:30:03.275Z"
   },
   {
    "duration": 0,
    "start_time": "2022-07-27T16:30:03.276Z"
   },
   {
    "duration": 0,
    "start_time": "2022-07-27T16:30:03.277Z"
   },
   {
    "duration": 0,
    "start_time": "2022-07-27T16:30:03.278Z"
   },
   {
    "duration": 0,
    "start_time": "2022-07-27T16:30:03.279Z"
   },
   {
    "duration": 0,
    "start_time": "2022-07-27T16:30:03.280Z"
   },
   {
    "duration": 0,
    "start_time": "2022-07-27T16:30:03.282Z"
   },
   {
    "duration": 0,
    "start_time": "2022-07-27T16:30:03.283Z"
   },
   {
    "duration": 0,
    "start_time": "2022-07-27T16:30:03.284Z"
   },
   {
    "duration": 0,
    "start_time": "2022-07-27T16:30:03.285Z"
   },
   {
    "duration": 0,
    "start_time": "2022-07-27T16:30:03.286Z"
   },
   {
    "duration": 0,
    "start_time": "2022-07-27T16:30:03.288Z"
   },
   {
    "duration": 0,
    "start_time": "2022-07-27T16:30:03.289Z"
   },
   {
    "duration": 0,
    "start_time": "2022-07-27T16:30:03.290Z"
   },
   {
    "duration": 0,
    "start_time": "2022-07-27T16:30:03.291Z"
   },
   {
    "duration": 0,
    "start_time": "2022-07-27T16:30:03.334Z"
   },
   {
    "duration": 0,
    "start_time": "2022-07-27T16:30:03.335Z"
   },
   {
    "duration": 0,
    "start_time": "2022-07-27T16:30:03.336Z"
   },
   {
    "duration": 0,
    "start_time": "2022-07-27T16:30:03.337Z"
   },
   {
    "duration": 0,
    "start_time": "2022-07-27T16:30:03.338Z"
   },
   {
    "duration": 0,
    "start_time": "2022-07-27T16:30:03.339Z"
   },
   {
    "duration": 0,
    "start_time": "2022-07-27T16:30:03.340Z"
   },
   {
    "duration": 0,
    "start_time": "2022-07-27T16:30:03.342Z"
   },
   {
    "duration": 17,
    "start_time": "2022-07-27T16:30:10.825Z"
   },
   {
    "duration": 10,
    "start_time": "2022-07-27T16:30:55.722Z"
   },
   {
    "duration": 986,
    "start_time": "2022-07-27T16:31:02.664Z"
   },
   {
    "duration": 463,
    "start_time": "2022-07-27T16:31:03.652Z"
   },
   {
    "duration": 35,
    "start_time": "2022-07-27T16:31:04.117Z"
   },
   {
    "duration": 207,
    "start_time": "2022-07-27T16:31:04.154Z"
   },
   {
    "duration": 964,
    "start_time": "2022-07-27T16:31:04.363Z"
   },
   {
    "duration": 56,
    "start_time": "2022-07-27T16:31:05.328Z"
   },
   {
    "duration": 74,
    "start_time": "2022-07-27T16:31:05.386Z"
   },
   {
    "duration": 22,
    "start_time": "2022-07-27T16:31:05.462Z"
   },
   {
    "duration": 51,
    "start_time": "2022-07-27T16:31:05.486Z"
   },
   {
    "duration": 22,
    "start_time": "2022-07-27T16:31:05.540Z"
   },
   {
    "duration": 33,
    "start_time": "2022-07-27T16:31:05.564Z"
   },
   {
    "duration": 45,
    "start_time": "2022-07-27T16:31:05.598Z"
   },
   {
    "duration": 3,
    "start_time": "2022-07-27T16:31:05.644Z"
   },
   {
    "duration": 11,
    "start_time": "2022-07-27T16:31:05.648Z"
   },
   {
    "duration": 20,
    "start_time": "2022-07-27T16:31:05.660Z"
   },
   {
    "duration": 32,
    "start_time": "2022-07-27T16:31:05.682Z"
   },
   {
    "duration": 42,
    "start_time": "2022-07-27T16:31:05.715Z"
   },
   {
    "duration": 25,
    "start_time": "2022-07-27T16:31:05.759Z"
   },
   {
    "duration": 126,
    "start_time": "2022-07-27T16:31:05.785Z"
   },
   {
    "duration": 0,
    "start_time": "2022-07-27T16:31:05.913Z"
   },
   {
    "duration": 0,
    "start_time": "2022-07-27T16:31:05.914Z"
   },
   {
    "duration": 0,
    "start_time": "2022-07-27T16:31:05.915Z"
   },
   {
    "duration": 1,
    "start_time": "2022-07-27T16:31:05.917Z"
   },
   {
    "duration": 0,
    "start_time": "2022-07-27T16:31:05.919Z"
   },
   {
    "duration": 0,
    "start_time": "2022-07-27T16:31:05.934Z"
   },
   {
    "duration": 0,
    "start_time": "2022-07-27T16:31:05.935Z"
   },
   {
    "duration": 0,
    "start_time": "2022-07-27T16:31:05.936Z"
   },
   {
    "duration": 0,
    "start_time": "2022-07-27T16:31:05.937Z"
   },
   {
    "duration": 1,
    "start_time": "2022-07-27T16:31:05.937Z"
   },
   {
    "duration": 0,
    "start_time": "2022-07-27T16:31:05.938Z"
   },
   {
    "duration": 0,
    "start_time": "2022-07-27T16:31:05.939Z"
   },
   {
    "duration": 0,
    "start_time": "2022-07-27T16:31:05.940Z"
   },
   {
    "duration": 0,
    "start_time": "2022-07-27T16:31:05.941Z"
   },
   {
    "duration": 0,
    "start_time": "2022-07-27T16:31:05.942Z"
   },
   {
    "duration": 0,
    "start_time": "2022-07-27T16:31:05.943Z"
   },
   {
    "duration": 0,
    "start_time": "2022-07-27T16:31:05.944Z"
   },
   {
    "duration": 0,
    "start_time": "2022-07-27T16:31:05.945Z"
   },
   {
    "duration": 0,
    "start_time": "2022-07-27T16:31:05.946Z"
   },
   {
    "duration": 0,
    "start_time": "2022-07-27T16:31:05.947Z"
   },
   {
    "duration": 0,
    "start_time": "2022-07-27T16:31:05.948Z"
   },
   {
    "duration": 0,
    "start_time": "2022-07-27T16:31:05.949Z"
   },
   {
    "duration": 0,
    "start_time": "2022-07-27T16:31:05.950Z"
   },
   {
    "duration": 0,
    "start_time": "2022-07-27T16:31:05.951Z"
   },
   {
    "duration": 0,
    "start_time": "2022-07-27T16:31:05.951Z"
   },
   {
    "duration": 0,
    "start_time": "2022-07-27T16:31:05.952Z"
   },
   {
    "duration": 0,
    "start_time": "2022-07-27T16:31:05.953Z"
   },
   {
    "duration": 0,
    "start_time": "2022-07-27T16:31:05.954Z"
   },
   {
    "duration": 0,
    "start_time": "2022-07-27T16:31:05.955Z"
   },
   {
    "duration": 0,
    "start_time": "2022-07-27T16:31:05.956Z"
   },
   {
    "duration": 0,
    "start_time": "2022-07-27T16:31:05.957Z"
   },
   {
    "duration": 0,
    "start_time": "2022-07-27T16:31:05.958Z"
   },
   {
    "duration": 25,
    "start_time": "2022-07-27T16:35:44.416Z"
   },
   {
    "duration": 5,
    "start_time": "2022-07-27T16:36:15.853Z"
   },
   {
    "duration": 8,
    "start_time": "2022-07-27T16:36:21.112Z"
   },
   {
    "duration": 9,
    "start_time": "2022-07-27T16:36:23.352Z"
   },
   {
    "duration": 8,
    "start_time": "2022-07-27T16:36:26.108Z"
   },
   {
    "duration": 13,
    "start_time": "2022-07-27T16:36:28.186Z"
   },
   {
    "duration": 967,
    "start_time": "2022-07-27T16:36:33.585Z"
   },
   {
    "duration": 461,
    "start_time": "2022-07-27T16:36:34.554Z"
   },
   {
    "duration": 38,
    "start_time": "2022-07-27T16:36:35.017Z"
   },
   {
    "duration": 196,
    "start_time": "2022-07-27T16:36:35.057Z"
   },
   {
    "duration": 933,
    "start_time": "2022-07-27T16:36:35.254Z"
   },
   {
    "duration": 56,
    "start_time": "2022-07-27T16:36:36.188Z"
   },
   {
    "duration": 50,
    "start_time": "2022-07-27T16:36:36.245Z"
   },
   {
    "duration": 49,
    "start_time": "2022-07-27T16:36:36.296Z"
   },
   {
    "duration": 39,
    "start_time": "2022-07-27T16:36:36.346Z"
   },
   {
    "duration": 21,
    "start_time": "2022-07-27T16:36:36.388Z"
   },
   {
    "duration": 29,
    "start_time": "2022-07-27T16:36:36.433Z"
   },
   {
    "duration": 19,
    "start_time": "2022-07-27T16:36:36.463Z"
   },
   {
    "duration": 3,
    "start_time": "2022-07-27T16:36:36.483Z"
   },
   {
    "duration": 11,
    "start_time": "2022-07-27T16:36:36.487Z"
   },
   {
    "duration": 39,
    "start_time": "2022-07-27T16:36:36.499Z"
   },
   {
    "duration": 32,
    "start_time": "2022-07-27T16:36:36.539Z"
   },
   {
    "duration": 20,
    "start_time": "2022-07-27T16:36:36.573Z"
   },
   {
    "duration": 45,
    "start_time": "2022-07-27T16:36:36.595Z"
   },
   {
    "duration": 107,
    "start_time": "2022-07-27T16:36:36.642Z"
   },
   {
    "duration": 0,
    "start_time": "2022-07-27T16:36:36.752Z"
   },
   {
    "duration": 0,
    "start_time": "2022-07-27T16:36:36.754Z"
   },
   {
    "duration": 0,
    "start_time": "2022-07-27T16:36:36.755Z"
   },
   {
    "duration": 0,
    "start_time": "2022-07-27T16:36:36.756Z"
   },
   {
    "duration": 0,
    "start_time": "2022-07-27T16:36:36.758Z"
   },
   {
    "duration": 0,
    "start_time": "2022-07-27T16:36:36.759Z"
   },
   {
    "duration": 0,
    "start_time": "2022-07-27T16:36:36.760Z"
   },
   {
    "duration": 0,
    "start_time": "2022-07-27T16:36:36.762Z"
   },
   {
    "duration": 0,
    "start_time": "2022-07-27T16:36:36.763Z"
   },
   {
    "duration": 0,
    "start_time": "2022-07-27T16:36:36.765Z"
   },
   {
    "duration": 0,
    "start_time": "2022-07-27T16:36:36.766Z"
   },
   {
    "duration": 0,
    "start_time": "2022-07-27T16:36:36.767Z"
   },
   {
    "duration": 0,
    "start_time": "2022-07-27T16:36:36.769Z"
   },
   {
    "duration": 0,
    "start_time": "2022-07-27T16:36:36.770Z"
   },
   {
    "duration": 0,
    "start_time": "2022-07-27T16:36:36.771Z"
   },
   {
    "duration": 0,
    "start_time": "2022-07-27T16:36:36.773Z"
   },
   {
    "duration": 0,
    "start_time": "2022-07-27T16:36:36.774Z"
   },
   {
    "duration": 0,
    "start_time": "2022-07-27T16:36:36.775Z"
   },
   {
    "duration": 0,
    "start_time": "2022-07-27T16:36:36.776Z"
   },
   {
    "duration": 0,
    "start_time": "2022-07-27T16:36:36.778Z"
   },
   {
    "duration": 0,
    "start_time": "2022-07-27T16:36:36.779Z"
   },
   {
    "duration": 0,
    "start_time": "2022-07-27T16:36:36.780Z"
   },
   {
    "duration": 0,
    "start_time": "2022-07-27T16:36:36.781Z"
   },
   {
    "duration": 0,
    "start_time": "2022-07-27T16:36:36.783Z"
   },
   {
    "duration": 0,
    "start_time": "2022-07-27T16:36:36.784Z"
   },
   {
    "duration": 0,
    "start_time": "2022-07-27T16:36:36.833Z"
   },
   {
    "duration": 0,
    "start_time": "2022-07-27T16:36:36.835Z"
   },
   {
    "duration": 0,
    "start_time": "2022-07-27T16:36:36.836Z"
   },
   {
    "duration": 0,
    "start_time": "2022-07-27T16:36:36.837Z"
   },
   {
    "duration": 0,
    "start_time": "2022-07-27T16:36:36.838Z"
   },
   {
    "duration": 0,
    "start_time": "2022-07-27T16:36:36.839Z"
   },
   {
    "duration": 15,
    "start_time": "2022-07-27T16:40:05.200Z"
   },
   {
    "duration": 12,
    "start_time": "2022-07-27T16:40:57.255Z"
   },
   {
    "duration": 11,
    "start_time": "2022-07-27T16:41:06.099Z"
   },
   {
    "duration": 17,
    "start_time": "2022-07-27T16:41:09.879Z"
   },
   {
    "duration": 30,
    "start_time": "2022-07-27T16:41:37.111Z"
   },
   {
    "duration": 47,
    "start_time": "2022-07-27T16:41:40.602Z"
   },
   {
    "duration": 39,
    "start_time": "2022-07-27T16:42:47.460Z"
   },
   {
    "duration": 66,
    "start_time": "2022-07-27T16:42:58.900Z"
   },
   {
    "duration": 50,
    "start_time": "2022-07-27T16:45:28.349Z"
   },
   {
    "duration": 51,
    "start_time": "2022-07-27T16:45:42.154Z"
   },
   {
    "duration": 8,
    "start_time": "2022-07-27T16:46:03.676Z"
   },
   {
    "duration": 52,
    "start_time": "2022-07-27T16:46:45.305Z"
   },
   {
    "duration": 72,
    "start_time": "2022-07-27T16:46:52.768Z"
   },
   {
    "duration": 10,
    "start_time": "2022-07-27T16:47:13.249Z"
   },
   {
    "duration": 8,
    "start_time": "2022-07-27T16:47:17.013Z"
   },
   {
    "duration": 14,
    "start_time": "2022-07-27T16:47:19.437Z"
   },
   {
    "duration": 50,
    "start_time": "2022-07-27T16:48:26.244Z"
   },
   {
    "duration": 47,
    "start_time": "2022-07-27T16:48:51.026Z"
   },
   {
    "duration": 39,
    "start_time": "2022-07-27T16:49:57.408Z"
   },
   {
    "duration": 41,
    "start_time": "2022-07-27T16:50:02.109Z"
   },
   {
    "duration": 36,
    "start_time": "2022-07-27T16:50:08.426Z"
   },
   {
    "duration": 49,
    "start_time": "2022-07-27T16:50:11.920Z"
   },
   {
    "duration": 52,
    "start_time": "2022-07-27T16:50:23.984Z"
   },
   {
    "duration": 49,
    "start_time": "2022-07-27T16:50:37.811Z"
   },
   {
    "duration": 64,
    "start_time": "2022-07-27T16:50:55.274Z"
   },
   {
    "duration": 47,
    "start_time": "2022-07-27T16:51:01.531Z"
   },
   {
    "duration": 38,
    "start_time": "2022-07-27T16:51:14.674Z"
   },
   {
    "duration": 39,
    "start_time": "2022-07-27T16:51:17.318Z"
   },
   {
    "duration": 39,
    "start_time": "2022-07-27T16:51:24.219Z"
   },
   {
    "duration": 47,
    "start_time": "2022-07-27T16:51:26.385Z"
   },
   {
    "duration": 48,
    "start_time": "2022-07-27T16:52:16.663Z"
   },
   {
    "duration": 49,
    "start_time": "2022-07-27T16:52:32.359Z"
   },
   {
    "duration": 57,
    "start_time": "2022-07-27T16:53:40.329Z"
   },
   {
    "duration": 58,
    "start_time": "2022-07-27T16:53:47.051Z"
   },
   {
    "duration": 30,
    "start_time": "2022-07-27T16:53:57.221Z"
   },
   {
    "duration": 53,
    "start_time": "2022-07-27T16:54:02.934Z"
   },
   {
    "duration": 97,
    "start_time": "2022-07-27T16:54:15.536Z"
   },
   {
    "duration": 51,
    "start_time": "2022-07-27T16:54:20.122Z"
   },
   {
    "duration": 57,
    "start_time": "2022-07-27T17:01:52.275Z"
   },
   {
    "duration": 45,
    "start_time": "2022-07-27T21:59:05.467Z"
   },
   {
    "duration": 1154,
    "start_time": "2022-07-27T21:59:12.573Z"
   },
   {
    "duration": 1072,
    "start_time": "2022-07-27T21:59:13.745Z"
   },
   {
    "duration": 51,
    "start_time": "2022-07-27T21:59:14.819Z"
   },
   {
    "duration": 265,
    "start_time": "2022-07-27T21:59:14.872Z"
   },
   {
    "duration": 1527,
    "start_time": "2022-07-27T21:59:15.140Z"
   },
   {
    "duration": 181,
    "start_time": "2022-07-27T21:59:16.668Z"
   },
   {
    "duration": 117,
    "start_time": "2022-07-27T21:59:16.851Z"
   },
   {
    "duration": 89,
    "start_time": "2022-07-27T21:59:16.970Z"
   },
   {
    "duration": 110,
    "start_time": "2022-07-27T21:59:17.061Z"
   },
   {
    "duration": 38,
    "start_time": "2022-07-27T21:59:17.224Z"
   },
   {
    "duration": 89,
    "start_time": "2022-07-27T21:59:17.265Z"
   },
   {
    "duration": 85,
    "start_time": "2022-07-27T21:59:17.356Z"
   },
   {
    "duration": 11,
    "start_time": "2022-07-27T21:59:17.443Z"
   },
   {
    "duration": 13,
    "start_time": "2022-07-27T21:59:17.458Z"
   },
   {
    "duration": 37,
    "start_time": "2022-07-27T21:59:17.526Z"
   },
   {
    "duration": 88,
    "start_time": "2022-07-27T21:59:17.565Z"
   },
   {
    "duration": 78,
    "start_time": "2022-07-27T21:59:17.655Z"
   },
   {
    "duration": 27,
    "start_time": "2022-07-27T21:59:17.738Z"
   },
   {
    "duration": 202,
    "start_time": "2022-07-27T21:59:17.767Z"
   },
   {
    "duration": 0,
    "start_time": "2022-07-27T21:59:17.971Z"
   },
   {
    "duration": 0,
    "start_time": "2022-07-27T21:59:18.032Z"
   },
   {
    "duration": 0,
    "start_time": "2022-07-27T21:59:18.033Z"
   },
   {
    "duration": 0,
    "start_time": "2022-07-27T21:59:18.034Z"
   },
   {
    "duration": 0,
    "start_time": "2022-07-27T21:59:18.034Z"
   },
   {
    "duration": 0,
    "start_time": "2022-07-27T21:59:18.036Z"
   },
   {
    "duration": 0,
    "start_time": "2022-07-27T21:59:18.036Z"
   },
   {
    "duration": 0,
    "start_time": "2022-07-27T21:59:18.037Z"
   },
   {
    "duration": 0,
    "start_time": "2022-07-27T21:59:18.037Z"
   },
   {
    "duration": 0,
    "start_time": "2022-07-27T21:59:18.038Z"
   },
   {
    "duration": 0,
    "start_time": "2022-07-27T21:59:18.039Z"
   },
   {
    "duration": 0,
    "start_time": "2022-07-27T21:59:18.041Z"
   },
   {
    "duration": 0,
    "start_time": "2022-07-27T21:59:18.042Z"
   },
   {
    "duration": 0,
    "start_time": "2022-07-27T21:59:18.043Z"
   },
   {
    "duration": 0,
    "start_time": "2022-07-27T21:59:18.044Z"
   },
   {
    "duration": 0,
    "start_time": "2022-07-27T21:59:18.045Z"
   },
   {
    "duration": 0,
    "start_time": "2022-07-27T21:59:18.046Z"
   },
   {
    "duration": 0,
    "start_time": "2022-07-27T21:59:18.047Z"
   },
   {
    "duration": 0,
    "start_time": "2022-07-27T21:59:18.048Z"
   },
   {
    "duration": 0,
    "start_time": "2022-07-27T21:59:18.049Z"
   },
   {
    "duration": 0,
    "start_time": "2022-07-27T21:59:18.049Z"
   },
   {
    "duration": 0,
    "start_time": "2022-07-27T21:59:18.050Z"
   },
   {
    "duration": 0,
    "start_time": "2022-07-27T21:59:18.051Z"
   },
   {
    "duration": 0,
    "start_time": "2022-07-27T21:59:18.053Z"
   },
   {
    "duration": 0,
    "start_time": "2022-07-27T21:59:18.053Z"
   },
   {
    "duration": 0,
    "start_time": "2022-07-27T21:59:18.055Z"
   },
   {
    "duration": 0,
    "start_time": "2022-07-27T21:59:18.056Z"
   },
   {
    "duration": 0,
    "start_time": "2022-07-27T21:59:18.057Z"
   },
   {
    "duration": 0,
    "start_time": "2022-07-27T21:59:18.058Z"
   },
   {
    "duration": 0,
    "start_time": "2022-07-27T21:59:18.059Z"
   },
   {
    "duration": 0,
    "start_time": "2022-07-27T21:59:18.060Z"
   },
   {
    "duration": 0,
    "start_time": "2022-07-27T21:59:18.061Z"
   },
   {
    "duration": 8,
    "start_time": "2022-07-27T22:03:48.983Z"
   },
   {
    "duration": 30,
    "start_time": "2022-07-27T22:03:57.567Z"
   },
   {
    "duration": 35,
    "start_time": "2022-07-27T22:04:34.636Z"
   },
   {
    "duration": 36,
    "start_time": "2022-07-27T22:04:54.799Z"
   },
   {
    "duration": 18,
    "start_time": "2022-07-27T22:05:21.886Z"
   },
   {
    "duration": 15,
    "start_time": "2022-07-27T22:05:31.404Z"
   },
   {
    "duration": 140,
    "start_time": "2022-07-27T22:08:01.939Z"
   },
   {
    "duration": 89,
    "start_time": "2022-07-27T22:08:05.345Z"
   },
   {
    "duration": 9,
    "start_time": "2022-07-27T22:11:53.999Z"
   },
   {
    "duration": 19,
    "start_time": "2022-07-27T22:13:08.545Z"
   },
   {
    "duration": 13,
    "start_time": "2022-07-27T22:13:30.898Z"
   },
   {
    "duration": 14,
    "start_time": "2022-07-27T22:13:44.266Z"
   },
   {
    "duration": 9,
    "start_time": "2022-07-27T22:14:10.396Z"
   },
   {
    "duration": 8,
    "start_time": "2022-07-27T22:14:17.838Z"
   },
   {
    "duration": 72,
    "start_time": "2022-07-27T22:14:25.206Z"
   },
   {
    "duration": 76,
    "start_time": "2022-07-27T22:14:40.302Z"
   },
   {
    "duration": 20,
    "start_time": "2022-07-27T22:15:01.751Z"
   },
   {
    "duration": 17,
    "start_time": "2022-07-27T22:15:36.779Z"
   },
   {
    "duration": 1368,
    "start_time": "2022-07-28T11:51:59.779Z"
   },
   {
    "duration": 1494,
    "start_time": "2022-07-28T11:52:01.150Z"
   },
   {
    "duration": 86,
    "start_time": "2022-07-28T11:52:02.646Z"
   },
   {
    "duration": 398,
    "start_time": "2022-07-28T11:52:02.734Z"
   },
   {
    "duration": 1425,
    "start_time": "2022-07-28T11:52:03.134Z"
   },
   {
    "duration": 74,
    "start_time": "2022-07-28T11:52:04.562Z"
   },
   {
    "duration": 90,
    "start_time": "2022-07-28T11:52:04.638Z"
   },
   {
    "duration": 24,
    "start_time": "2022-07-28T11:52:04.729Z"
   },
   {
    "duration": 59,
    "start_time": "2022-07-28T11:52:04.755Z"
   },
   {
    "duration": 23,
    "start_time": "2022-07-28T11:52:04.817Z"
   },
   {
    "duration": 30,
    "start_time": "2022-07-28T11:52:04.842Z"
   },
   {
    "duration": 40,
    "start_time": "2022-07-28T11:52:04.873Z"
   },
   {
    "duration": 8,
    "start_time": "2022-07-28T11:52:04.914Z"
   },
   {
    "duration": 19,
    "start_time": "2022-07-28T11:52:04.923Z"
   },
   {
    "duration": 20,
    "start_time": "2022-07-28T11:52:04.943Z"
   },
   {
    "duration": 63,
    "start_time": "2022-07-28T11:52:04.965Z"
   },
   {
    "duration": 22,
    "start_time": "2022-07-28T11:52:05.030Z"
   },
   {
    "duration": 46,
    "start_time": "2022-07-28T11:52:05.054Z"
   },
   {
    "duration": 18,
    "start_time": "2022-07-28T11:52:05.102Z"
   },
   {
    "duration": 97,
    "start_time": "2022-07-28T11:52:05.122Z"
   },
   {
    "duration": 328,
    "start_time": "2022-07-28T11:52:05.221Z"
   },
   {
    "duration": 154,
    "start_time": "2022-07-28T11:52:05.551Z"
   },
   {
    "duration": 103,
    "start_time": "2022-07-28T11:52:05.707Z"
   },
   {
    "duration": 4,
    "start_time": "2022-07-28T11:52:05.812Z"
   },
   {
    "duration": 270,
    "start_time": "2022-07-28T11:52:05.817Z"
   },
   {
    "duration": 27,
    "start_time": "2022-07-28T11:52:06.088Z"
   },
   {
    "duration": 300,
    "start_time": "2022-07-28T11:52:06.116Z"
   },
   {
    "duration": 2419,
    "start_time": "2022-07-28T11:52:06.420Z"
   },
   {
    "duration": 318,
    "start_time": "2022-07-28T11:52:08.841Z"
   },
   {
    "duration": 10,
    "start_time": "2022-07-28T11:52:09.160Z"
   },
   {
    "duration": 26,
    "start_time": "2022-07-28T11:52:09.172Z"
   },
   {
    "duration": 36,
    "start_time": "2022-07-28T11:52:09.199Z"
   },
   {
    "duration": 65,
    "start_time": "2022-07-28T11:52:09.238Z"
   },
   {
    "duration": 25,
    "start_time": "2022-07-28T11:52:09.305Z"
   },
   {
    "duration": 76,
    "start_time": "2022-07-28T11:52:09.332Z"
   },
   {
    "duration": 10,
    "start_time": "2022-07-28T11:52:09.411Z"
   },
   {
    "duration": 403,
    "start_time": "2022-07-28T11:52:09.423Z"
   },
   {
    "duration": 0,
    "start_time": "2022-07-28T11:52:09.828Z"
   },
   {
    "duration": 0,
    "start_time": "2022-07-28T11:52:09.829Z"
   },
   {
    "duration": 0,
    "start_time": "2022-07-28T11:52:09.830Z"
   },
   {
    "duration": 0,
    "start_time": "2022-07-28T11:52:09.831Z"
   },
   {
    "duration": 0,
    "start_time": "2022-07-28T11:52:09.832Z"
   },
   {
    "duration": 0,
    "start_time": "2022-07-28T11:52:09.833Z"
   },
   {
    "duration": 1,
    "start_time": "2022-07-28T11:52:09.834Z"
   },
   {
    "duration": 0,
    "start_time": "2022-07-28T11:52:09.835Z"
   },
   {
    "duration": 0,
    "start_time": "2022-07-28T11:52:09.837Z"
   },
   {
    "duration": 0,
    "start_time": "2022-07-28T11:52:09.838Z"
   },
   {
    "duration": 0,
    "start_time": "2022-07-28T11:52:09.839Z"
   },
   {
    "duration": 0,
    "start_time": "2022-07-28T11:52:09.898Z"
   },
   {
    "duration": 0,
    "start_time": "2022-07-28T11:52:09.899Z"
   },
   {
    "duration": 0,
    "start_time": "2022-07-28T11:52:09.900Z"
   },
   {
    "duration": 10,
    "start_time": "2022-07-28T11:52:32.978Z"
   },
   {
    "duration": 80,
    "start_time": "2022-07-28T11:54:03.353Z"
   },
   {
    "duration": 1212,
    "start_time": "2022-07-28T11:54:17.827Z"
   },
   {
    "duration": 12,
    "start_time": "2022-07-28T11:54:28.642Z"
   },
   {
    "duration": 119,
    "start_time": "2022-07-28T11:56:27.780Z"
   },
   {
    "duration": 14,
    "start_time": "2022-07-28T12:13:50.114Z"
   },
   {
    "duration": 20,
    "start_time": "2022-07-28T12:13:55.463Z"
   },
   {
    "duration": 31,
    "start_time": "2022-07-28T12:14:11.391Z"
   },
   {
    "duration": 29,
    "start_time": "2022-07-28T12:14:54.216Z"
   },
   {
    "duration": 15,
    "start_time": "2022-07-28T12:15:37.133Z"
   },
   {
    "duration": 28,
    "start_time": "2022-07-28T12:15:45.081Z"
   },
   {
    "duration": 50,
    "start_time": "2022-07-28T13:15:15.744Z"
   },
   {
    "duration": 70,
    "start_time": "2022-07-28T13:15:41.149Z"
   },
   {
    "duration": 55,
    "start_time": "2022-07-28T13:15:48.934Z"
   },
   {
    "duration": 34,
    "start_time": "2022-07-28T13:15:58.931Z"
   },
   {
    "duration": 1266,
    "start_time": "2022-07-28T13:20:43.443Z"
   },
   {
    "duration": 581,
    "start_time": "2022-07-28T13:20:44.715Z"
   },
   {
    "duration": 58,
    "start_time": "2022-07-28T13:20:45.304Z"
   },
   {
    "duration": 279,
    "start_time": "2022-07-28T13:20:45.363Z"
   },
   {
    "duration": 1207,
    "start_time": "2022-07-28T13:20:45.645Z"
   },
   {
    "duration": 85,
    "start_time": "2022-07-28T13:20:46.854Z"
   },
   {
    "duration": 83,
    "start_time": "2022-07-28T13:20:46.941Z"
   },
   {
    "duration": 28,
    "start_time": "2022-07-28T13:20:47.030Z"
   },
   {
    "duration": 61,
    "start_time": "2022-07-28T13:20:47.059Z"
   },
   {
    "duration": 31,
    "start_time": "2022-07-28T13:20:47.122Z"
   },
   {
    "duration": 30,
    "start_time": "2022-07-28T13:20:47.156Z"
   },
   {
    "duration": 40,
    "start_time": "2022-07-28T13:20:47.187Z"
   },
   {
    "duration": 21,
    "start_time": "2022-07-28T13:20:47.229Z"
   },
   {
    "duration": 12,
    "start_time": "2022-07-28T13:20:47.254Z"
   },
   {
    "duration": 23,
    "start_time": "2022-07-28T13:20:47.267Z"
   },
   {
    "duration": 93,
    "start_time": "2022-07-28T13:20:47.292Z"
   },
   {
    "duration": 62,
    "start_time": "2022-07-28T13:20:47.387Z"
   },
   {
    "duration": 28,
    "start_time": "2022-07-28T13:20:47.451Z"
   },
   {
    "duration": 125,
    "start_time": "2022-07-28T13:20:47.481Z"
   },
   {
    "duration": 0,
    "start_time": "2022-07-28T13:20:47.608Z"
   },
   {
    "duration": 0,
    "start_time": "2022-07-28T13:20:47.609Z"
   },
   {
    "duration": 0,
    "start_time": "2022-07-28T13:20:47.611Z"
   },
   {
    "duration": 0,
    "start_time": "2022-07-28T13:20:47.612Z"
   },
   {
    "duration": 0,
    "start_time": "2022-07-28T13:20:47.614Z"
   },
   {
    "duration": 0,
    "start_time": "2022-07-28T13:20:47.615Z"
   },
   {
    "duration": 0,
    "start_time": "2022-07-28T13:20:47.616Z"
   },
   {
    "duration": 0,
    "start_time": "2022-07-28T13:20:47.618Z"
   },
   {
    "duration": 0,
    "start_time": "2022-07-28T13:20:47.619Z"
   },
   {
    "duration": 0,
    "start_time": "2022-07-28T13:20:47.620Z"
   },
   {
    "duration": 0,
    "start_time": "2022-07-28T13:20:47.621Z"
   },
   {
    "duration": 0,
    "start_time": "2022-07-28T13:20:47.622Z"
   },
   {
    "duration": 0,
    "start_time": "2022-07-28T13:20:47.623Z"
   },
   {
    "duration": 0,
    "start_time": "2022-07-28T13:20:47.624Z"
   },
   {
    "duration": 0,
    "start_time": "2022-07-28T13:20:47.626Z"
   },
   {
    "duration": 0,
    "start_time": "2022-07-28T13:20:47.627Z"
   },
   {
    "duration": 0,
    "start_time": "2022-07-28T13:20:47.628Z"
   },
   {
    "duration": 0,
    "start_time": "2022-07-28T13:20:47.629Z"
   },
   {
    "duration": 0,
    "start_time": "2022-07-28T13:20:47.630Z"
   },
   {
    "duration": 0,
    "start_time": "2022-07-28T13:20:47.631Z"
   },
   {
    "duration": 0,
    "start_time": "2022-07-28T13:20:47.633Z"
   },
   {
    "duration": 0,
    "start_time": "2022-07-28T13:20:47.634Z"
   },
   {
    "duration": 0,
    "start_time": "2022-07-28T13:20:47.636Z"
   },
   {
    "duration": 0,
    "start_time": "2022-07-28T13:20:47.637Z"
   },
   {
    "duration": 0,
    "start_time": "2022-07-28T13:20:47.639Z"
   },
   {
    "duration": 0,
    "start_time": "2022-07-28T13:20:47.640Z"
   },
   {
    "duration": 0,
    "start_time": "2022-07-28T13:20:47.643Z"
   },
   {
    "duration": 0,
    "start_time": "2022-07-28T13:20:47.644Z"
   },
   {
    "duration": 0,
    "start_time": "2022-07-28T13:20:47.645Z"
   },
   {
    "duration": 1,
    "start_time": "2022-07-28T13:20:47.646Z"
   },
   {
    "duration": 0,
    "start_time": "2022-07-28T13:20:47.648Z"
   },
   {
    "duration": 0,
    "start_time": "2022-07-28T13:20:47.649Z"
   },
   {
    "duration": 31,
    "start_time": "2022-07-28T13:22:17.872Z"
   },
   {
    "duration": 1016,
    "start_time": "2022-07-28T13:43:09.918Z"
   },
   {
    "duration": 478,
    "start_time": "2022-07-28T13:43:10.936Z"
   },
   {
    "duration": 49,
    "start_time": "2022-07-28T13:43:11.416Z"
   },
   {
    "duration": 233,
    "start_time": "2022-07-28T13:43:11.467Z"
   },
   {
    "duration": 1215,
    "start_time": "2022-07-28T13:43:11.702Z"
   },
   {
    "duration": 203,
    "start_time": "2022-07-28T13:43:12.920Z"
   },
   {
    "duration": 195,
    "start_time": "2022-07-28T13:43:13.125Z"
   },
   {
    "duration": 84,
    "start_time": "2022-07-28T13:43:13.321Z"
   },
   {
    "duration": 114,
    "start_time": "2022-07-28T13:43:13.407Z"
   },
   {
    "duration": 88,
    "start_time": "2022-07-28T13:43:13.524Z"
   },
   {
    "duration": 97,
    "start_time": "2022-07-28T13:43:13.614Z"
   },
   {
    "duration": 27,
    "start_time": "2022-07-28T13:43:13.713Z"
   },
   {
    "duration": 64,
    "start_time": "2022-07-28T13:43:13.742Z"
   },
   {
    "duration": 41,
    "start_time": "2022-07-28T13:43:13.808Z"
   },
   {
    "duration": 68,
    "start_time": "2022-07-28T13:43:13.851Z"
   },
   {
    "duration": 78,
    "start_time": "2022-07-28T13:43:13.921Z"
   },
   {
    "duration": 115,
    "start_time": "2022-07-28T13:43:14.001Z"
   },
   {
    "duration": 98,
    "start_time": "2022-07-28T13:43:14.118Z"
   },
   {
    "duration": 296,
    "start_time": "2022-07-28T13:43:14.218Z"
   },
   {
    "duration": 0,
    "start_time": "2022-07-28T13:43:14.517Z"
   },
   {
    "duration": 0,
    "start_time": "2022-07-28T13:43:14.521Z"
   },
   {
    "duration": 0,
    "start_time": "2022-07-28T13:43:14.522Z"
   },
   {
    "duration": 0,
    "start_time": "2022-07-28T13:43:14.524Z"
   },
   {
    "duration": 0,
    "start_time": "2022-07-28T13:43:14.525Z"
   },
   {
    "duration": 0,
    "start_time": "2022-07-28T13:43:14.528Z"
   },
   {
    "duration": 0,
    "start_time": "2022-07-28T13:43:14.531Z"
   },
   {
    "duration": 0,
    "start_time": "2022-07-28T13:43:14.532Z"
   },
   {
    "duration": 0,
    "start_time": "2022-07-28T13:43:14.533Z"
   },
   {
    "duration": 0,
    "start_time": "2022-07-28T13:43:14.535Z"
   },
   {
    "duration": 0,
    "start_time": "2022-07-28T13:43:14.537Z"
   },
   {
    "duration": 0,
    "start_time": "2022-07-28T13:43:14.538Z"
   },
   {
    "duration": 0,
    "start_time": "2022-07-28T13:43:14.539Z"
   },
   {
    "duration": 0,
    "start_time": "2022-07-28T13:43:14.541Z"
   },
   {
    "duration": 0,
    "start_time": "2022-07-28T13:43:14.598Z"
   },
   {
    "duration": 0,
    "start_time": "2022-07-28T13:43:14.600Z"
   },
   {
    "duration": 0,
    "start_time": "2022-07-28T13:43:14.601Z"
   },
   {
    "duration": 0,
    "start_time": "2022-07-28T13:43:14.602Z"
   },
   {
    "duration": 0,
    "start_time": "2022-07-28T13:43:14.605Z"
   },
   {
    "duration": 0,
    "start_time": "2022-07-28T13:43:14.606Z"
   },
   {
    "duration": 0,
    "start_time": "2022-07-28T13:43:14.606Z"
   },
   {
    "duration": 0,
    "start_time": "2022-07-28T13:43:14.608Z"
   },
   {
    "duration": 0,
    "start_time": "2022-07-28T13:43:14.609Z"
   },
   {
    "duration": 0,
    "start_time": "2022-07-28T13:43:14.610Z"
   },
   {
    "duration": 0,
    "start_time": "2022-07-28T13:43:14.612Z"
   },
   {
    "duration": 0,
    "start_time": "2022-07-28T13:43:14.613Z"
   },
   {
    "duration": 0,
    "start_time": "2022-07-28T13:43:14.615Z"
   },
   {
    "duration": 0,
    "start_time": "2022-07-28T13:43:14.617Z"
   },
   {
    "duration": 0,
    "start_time": "2022-07-28T13:43:14.618Z"
   },
   {
    "duration": 0,
    "start_time": "2022-07-28T13:43:14.620Z"
   },
   {
    "duration": 0,
    "start_time": "2022-07-28T13:43:14.622Z"
   },
   {
    "duration": 0,
    "start_time": "2022-07-28T13:43:14.623Z"
   },
   {
    "duration": 1,
    "start_time": "2022-07-28T13:43:14.625Z"
   },
   {
    "duration": 26,
    "start_time": "2022-07-28T13:44:10.339Z"
   },
   {
    "duration": 39,
    "start_time": "2022-07-28T13:44:12.922Z"
   },
   {
    "duration": 30,
    "start_time": "2022-07-28T13:44:15.152Z"
   },
   {
    "duration": 30,
    "start_time": "2022-07-28T13:44:21.018Z"
   },
   {
    "duration": 18,
    "start_time": "2022-07-28T13:44:35.565Z"
   },
   {
    "duration": 18,
    "start_time": "2022-07-28T14:04:44.542Z"
   },
   {
    "duration": 30,
    "start_time": "2022-07-28T14:05:01.927Z"
   },
   {
    "duration": 25,
    "start_time": "2022-07-28T14:05:03.920Z"
   },
   {
    "duration": 25,
    "start_time": "2022-07-28T14:07:16.967Z"
   },
   {
    "duration": 39,
    "start_time": "2022-07-28T14:07:26.576Z"
   },
   {
    "duration": 26,
    "start_time": "2022-07-28T14:11:51.340Z"
   },
   {
    "duration": 27,
    "start_time": "2022-07-28T14:12:03.134Z"
   },
   {
    "duration": 28,
    "start_time": "2022-07-28T14:12:30.665Z"
   },
   {
    "duration": 56,
    "start_time": "2022-07-28T14:12:50.246Z"
   },
   {
    "duration": 39,
    "start_time": "2022-07-28T14:12:53.595Z"
   },
   {
    "duration": 10,
    "start_time": "2022-07-28T14:14:40.744Z"
   },
   {
    "duration": 10,
    "start_time": "2022-07-28T14:14:58.170Z"
   },
   {
    "duration": 46,
    "start_time": "2022-07-28T14:15:19.627Z"
   },
   {
    "duration": 34,
    "start_time": "2022-07-28T14:18:13.331Z"
   },
   {
    "duration": 46,
    "start_time": "2022-07-28T14:19:31.593Z"
   },
   {
    "duration": 29,
    "start_time": "2022-07-28T14:20:50.800Z"
   },
   {
    "duration": 37,
    "start_time": "2022-07-28T14:33:26.698Z"
   },
   {
    "duration": 40,
    "start_time": "2022-07-28T14:33:29.749Z"
   },
   {
    "duration": 47,
    "start_time": "2022-07-28T14:33:47.489Z"
   },
   {
    "duration": 6,
    "start_time": "2022-07-28T14:48:23.392Z"
   },
   {
    "duration": 5,
    "start_time": "2022-07-28T14:48:33.160Z"
   },
   {
    "duration": 5,
    "start_time": "2022-07-28T14:48:39.961Z"
   },
   {
    "duration": 4,
    "start_time": "2022-07-28T14:49:02.720Z"
   },
   {
    "duration": 4,
    "start_time": "2022-07-28T14:49:12.812Z"
   },
   {
    "duration": 12,
    "start_time": "2022-07-28T15:10:34.532Z"
   },
   {
    "duration": 9,
    "start_time": "2022-07-28T15:10:54.405Z"
   },
   {
    "duration": 50,
    "start_time": "2022-07-28T15:10:57.030Z"
   },
   {
    "duration": 955,
    "start_time": "2022-07-28T15:11:18.583Z"
   },
   {
    "duration": 27,
    "start_time": "2022-07-28T15:13:39.481Z"
   },
   {
    "duration": 18,
    "start_time": "2022-07-28T15:15:36.426Z"
   },
   {
    "duration": 10,
    "start_time": "2022-07-28T15:19:15.583Z"
   },
   {
    "duration": 18,
    "start_time": "2022-07-28T15:19:21.144Z"
   },
   {
    "duration": 52,
    "start_time": "2022-07-28T15:19:42.783Z"
   },
   {
    "duration": 7,
    "start_time": "2022-07-28T15:19:49.214Z"
   },
   {
    "duration": 11,
    "start_time": "2022-07-28T15:19:59.032Z"
   },
   {
    "duration": 8,
    "start_time": "2022-07-28T15:20:06.955Z"
   },
   {
    "duration": 37,
    "start_time": "2022-07-28T15:20:23.208Z"
   },
   {
    "duration": 29,
    "start_time": "2022-07-28T15:20:53.495Z"
   },
   {
    "duration": 26,
    "start_time": "2022-07-28T15:21:37.880Z"
   },
   {
    "duration": 30,
    "start_time": "2022-07-28T15:21:47.658Z"
   },
   {
    "duration": 37,
    "start_time": "2022-07-28T15:22:25.149Z"
   },
   {
    "duration": 29,
    "start_time": "2022-07-28T15:22:28.448Z"
   },
   {
    "duration": 16,
    "start_time": "2022-07-28T15:23:04.500Z"
   },
   {
    "duration": 32,
    "start_time": "2022-07-28T15:23:13.383Z"
   },
   {
    "duration": 34,
    "start_time": "2022-07-28T15:24:55.625Z"
   },
   {
    "duration": 30,
    "start_time": "2022-07-28T15:25:06.687Z"
   },
   {
    "duration": 30,
    "start_time": "2022-07-28T15:25:09.736Z"
   },
   {
    "duration": 1008,
    "start_time": "2022-07-28T15:25:18.730Z"
   },
   {
    "duration": 585,
    "start_time": "2022-07-28T15:25:19.740Z"
   },
   {
    "duration": 75,
    "start_time": "2022-07-28T15:25:20.326Z"
   },
   {
    "duration": 403,
    "start_time": "2022-07-28T15:25:20.403Z"
   },
   {
    "duration": 1561,
    "start_time": "2022-07-28T15:25:20.808Z"
   },
   {
    "duration": 55,
    "start_time": "2022-07-28T15:25:22.371Z"
   },
   {
    "duration": 78,
    "start_time": "2022-07-28T15:25:22.427Z"
   },
   {
    "duration": 24,
    "start_time": "2022-07-28T15:25:22.506Z"
   },
   {
    "duration": 43,
    "start_time": "2022-07-28T15:25:22.532Z"
   },
   {
    "duration": 23,
    "start_time": "2022-07-28T15:25:22.597Z"
   },
   {
    "duration": 31,
    "start_time": "2022-07-28T15:25:22.621Z"
   },
   {
    "duration": 19,
    "start_time": "2022-07-28T15:25:22.654Z"
   },
   {
    "duration": 32,
    "start_time": "2022-07-28T15:25:22.674Z"
   },
   {
    "duration": 9,
    "start_time": "2022-07-28T15:25:22.708Z"
   },
   {
    "duration": 21,
    "start_time": "2022-07-28T15:25:22.718Z"
   },
   {
    "duration": 148,
    "start_time": "2022-07-28T15:25:22.741Z"
   },
   {
    "duration": 0,
    "start_time": "2022-07-28T15:25:22.891Z"
   },
   {
    "duration": 0,
    "start_time": "2022-07-28T15:25:22.893Z"
   },
   {
    "duration": 0,
    "start_time": "2022-07-28T15:25:22.897Z"
   },
   {
    "duration": 0,
    "start_time": "2022-07-28T15:25:22.899Z"
   },
   {
    "duration": 0,
    "start_time": "2022-07-28T15:25:22.900Z"
   },
   {
    "duration": 0,
    "start_time": "2022-07-28T15:25:22.901Z"
   },
   {
    "duration": 0,
    "start_time": "2022-07-28T15:25:22.902Z"
   },
   {
    "duration": 0,
    "start_time": "2022-07-28T15:25:22.903Z"
   },
   {
    "duration": 0,
    "start_time": "2022-07-28T15:25:22.904Z"
   },
   {
    "duration": 0,
    "start_time": "2022-07-28T15:25:22.905Z"
   },
   {
    "duration": 0,
    "start_time": "2022-07-28T15:25:22.906Z"
   },
   {
    "duration": 0,
    "start_time": "2022-07-28T15:25:22.907Z"
   },
   {
    "duration": 0,
    "start_time": "2022-07-28T15:25:22.908Z"
   },
   {
    "duration": 0,
    "start_time": "2022-07-28T15:25:22.909Z"
   },
   {
    "duration": 0,
    "start_time": "2022-07-28T15:25:22.909Z"
   },
   {
    "duration": 0,
    "start_time": "2022-07-28T15:25:22.911Z"
   },
   {
    "duration": 0,
    "start_time": "2022-07-28T15:25:22.912Z"
   },
   {
    "duration": 0,
    "start_time": "2022-07-28T15:25:22.912Z"
   },
   {
    "duration": 0,
    "start_time": "2022-07-28T15:25:22.913Z"
   },
   {
    "duration": 0,
    "start_time": "2022-07-28T15:25:22.914Z"
   },
   {
    "duration": 0,
    "start_time": "2022-07-28T15:25:22.915Z"
   },
   {
    "duration": 0,
    "start_time": "2022-07-28T15:25:22.917Z"
   },
   {
    "duration": 0,
    "start_time": "2022-07-28T15:25:22.918Z"
   },
   {
    "duration": 0,
    "start_time": "2022-07-28T15:25:22.919Z"
   },
   {
    "duration": 0,
    "start_time": "2022-07-28T15:25:22.920Z"
   },
   {
    "duration": 0,
    "start_time": "2022-07-28T15:25:22.920Z"
   },
   {
    "duration": 0,
    "start_time": "2022-07-28T15:25:22.921Z"
   },
   {
    "duration": 0,
    "start_time": "2022-07-28T15:25:22.922Z"
   },
   {
    "duration": 0,
    "start_time": "2022-07-28T15:25:22.923Z"
   },
   {
    "duration": 0,
    "start_time": "2022-07-28T15:25:22.924Z"
   },
   {
    "duration": 0,
    "start_time": "2022-07-28T15:25:22.925Z"
   },
   {
    "duration": 0,
    "start_time": "2022-07-28T15:25:22.926Z"
   },
   {
    "duration": 0,
    "start_time": "2022-07-28T15:25:22.927Z"
   },
   {
    "duration": 23,
    "start_time": "2022-07-28T15:25:42.777Z"
   },
   {
    "duration": 37,
    "start_time": "2022-07-28T15:25:44.752Z"
   },
   {
    "duration": 30,
    "start_time": "2022-07-28T15:25:46.656Z"
   },
   {
    "duration": 45,
    "start_time": "2022-07-28T15:25:48.499Z"
   },
   {
    "duration": 5,
    "start_time": "2022-07-28T15:25:51.438Z"
   },
   {
    "duration": 29,
    "start_time": "2022-07-28T15:25:56.284Z"
   },
   {
    "duration": 3,
    "start_time": "2022-07-28T15:26:08.826Z"
   },
   {
    "duration": 3,
    "start_time": "2022-07-28T15:26:17.469Z"
   },
   {
    "duration": 263,
    "start_time": "2022-07-28T15:26:19.642Z"
   },
   {
    "duration": 18,
    "start_time": "2022-07-28T15:26:24.081Z"
   },
   {
    "duration": 31,
    "start_time": "2022-07-28T15:26:29.009Z"
   },
   {
    "duration": 28,
    "start_time": "2022-07-28T15:26:34.685Z"
   },
   {
    "duration": 3,
    "start_time": "2022-07-28T15:26:49.684Z"
   },
   {
    "duration": 26,
    "start_time": "2022-07-28T15:26:53.397Z"
   },
   {
    "duration": 27,
    "start_time": "2022-07-28T15:27:03.859Z"
   },
   {
    "duration": 28,
    "start_time": "2022-07-28T15:27:21.790Z"
   },
   {
    "duration": 1067,
    "start_time": "2022-07-28T15:27:27.685Z"
   },
   {
    "duration": 474,
    "start_time": "2022-07-28T15:27:28.754Z"
   },
   {
    "duration": 41,
    "start_time": "2022-07-28T15:27:29.229Z"
   },
   {
    "duration": 229,
    "start_time": "2022-07-28T15:27:29.273Z"
   },
   {
    "duration": 1195,
    "start_time": "2022-07-28T15:27:29.503Z"
   },
   {
    "duration": 112,
    "start_time": "2022-07-28T15:27:30.700Z"
   },
   {
    "duration": 107,
    "start_time": "2022-07-28T15:27:30.814Z"
   },
   {
    "duration": 79,
    "start_time": "2022-07-28T15:27:30.923Z"
   },
   {
    "duration": 95,
    "start_time": "2022-07-28T15:27:31.004Z"
   },
   {
    "duration": 33,
    "start_time": "2022-07-28T15:27:31.103Z"
   },
   {
    "duration": 83,
    "start_time": "2022-07-28T15:27:31.138Z"
   },
   {
    "duration": 76,
    "start_time": "2022-07-28T15:27:31.222Z"
   },
   {
    "duration": 13,
    "start_time": "2022-07-28T15:27:31.300Z"
   },
   {
    "duration": 86,
    "start_time": "2022-07-28T15:27:31.315Z"
   },
   {
    "duration": 26,
    "start_time": "2022-07-28T15:27:31.402Z"
   },
   {
    "duration": 78,
    "start_time": "2022-07-28T15:27:31.430Z"
   },
   {
    "duration": 102,
    "start_time": "2022-07-28T15:27:31.510Z"
   },
   {
    "duration": 85,
    "start_time": "2022-07-28T15:27:31.614Z"
   },
   {
    "duration": 104,
    "start_time": "2022-07-28T15:27:31.701Z"
   },
   {
    "duration": 4,
    "start_time": "2022-07-28T15:27:31.807Z"
   },
   {
    "duration": 15,
    "start_time": "2022-07-28T15:27:31.813Z"
   },
   {
    "duration": 587,
    "start_time": "2022-07-28T15:27:31.830Z"
   },
   {
    "duration": 20,
    "start_time": "2022-07-28T15:27:32.419Z"
   },
   {
    "duration": 85,
    "start_time": "2022-07-28T15:27:32.440Z"
   },
   {
    "duration": 5,
    "start_time": "2022-07-28T15:27:32.527Z"
   },
   {
    "duration": 9,
    "start_time": "2022-07-28T15:27:32.534Z"
   },
   {
    "duration": 23,
    "start_time": "2022-07-28T15:27:32.545Z"
   },
   {
    "duration": 8,
    "start_time": "2022-07-28T15:27:32.573Z"
   },
   {
    "duration": 32,
    "start_time": "2022-07-28T15:27:32.584Z"
   },
   {
    "duration": 22,
    "start_time": "2022-07-28T15:27:32.618Z"
   },
   {
    "duration": 31,
    "start_time": "2022-07-28T15:27:32.642Z"
   },
   {
    "duration": 18,
    "start_time": "2022-07-28T15:27:32.674Z"
   },
   {
    "duration": 123,
    "start_time": "2022-07-28T15:27:32.694Z"
   },
   {
    "duration": 0,
    "start_time": "2022-07-28T15:27:32.818Z"
   },
   {
    "duration": 0,
    "start_time": "2022-07-28T15:27:32.819Z"
   },
   {
    "duration": 0,
    "start_time": "2022-07-28T15:27:32.820Z"
   },
   {
    "duration": 0,
    "start_time": "2022-07-28T15:27:32.821Z"
   },
   {
    "duration": 0,
    "start_time": "2022-07-28T15:27:32.823Z"
   },
   {
    "duration": 0,
    "start_time": "2022-07-28T15:27:32.824Z"
   },
   {
    "duration": 0,
    "start_time": "2022-07-28T15:27:32.825Z"
   },
   {
    "duration": 0,
    "start_time": "2022-07-28T15:27:32.827Z"
   },
   {
    "duration": 0,
    "start_time": "2022-07-28T15:27:32.828Z"
   },
   {
    "duration": 0,
    "start_time": "2022-07-28T15:27:32.829Z"
   },
   {
    "duration": 0,
    "start_time": "2022-07-28T15:27:32.830Z"
   },
   {
    "duration": 0,
    "start_time": "2022-07-28T15:27:32.830Z"
   },
   {
    "duration": 0,
    "start_time": "2022-07-28T15:27:32.832Z"
   },
   {
    "duration": 0,
    "start_time": "2022-07-28T15:27:32.833Z"
   },
   {
    "duration": 0,
    "start_time": "2022-07-28T15:27:32.834Z"
   },
   {
    "duration": 0,
    "start_time": "2022-07-28T15:27:32.835Z"
   },
   {
    "duration": 30,
    "start_time": "2022-07-28T15:27:56.464Z"
   },
   {
    "duration": 1171,
    "start_time": "2022-07-28T15:28:08.171Z"
   },
   {
    "duration": 475,
    "start_time": "2022-07-28T15:28:09.344Z"
   },
   {
    "duration": 38,
    "start_time": "2022-07-28T15:28:09.820Z"
   },
   {
    "duration": 205,
    "start_time": "2022-07-28T15:28:09.860Z"
   },
   {
    "duration": 1004,
    "start_time": "2022-07-28T15:28:10.066Z"
   },
   {
    "duration": 60,
    "start_time": "2022-07-28T15:28:11.071Z"
   },
   {
    "duration": 86,
    "start_time": "2022-07-28T15:28:11.133Z"
   },
   {
    "duration": 84,
    "start_time": "2022-07-28T15:28:11.220Z"
   },
   {
    "duration": 96,
    "start_time": "2022-07-28T15:28:11.305Z"
   },
   {
    "duration": 23,
    "start_time": "2022-07-28T15:28:11.404Z"
   },
   {
    "duration": 86,
    "start_time": "2022-07-28T15:28:11.429Z"
   },
   {
    "duration": 21,
    "start_time": "2022-07-28T15:28:11.516Z"
   },
   {
    "duration": 61,
    "start_time": "2022-07-28T15:28:11.538Z"
   },
   {
    "duration": 7,
    "start_time": "2022-07-28T15:28:11.601Z"
   },
   {
    "duration": 22,
    "start_time": "2022-07-28T15:28:11.610Z"
   },
   {
    "duration": 75,
    "start_time": "2022-07-28T15:28:11.634Z"
   },
   {
    "duration": 91,
    "start_time": "2022-07-28T15:28:11.711Z"
   },
   {
    "duration": 28,
    "start_time": "2022-07-28T15:28:11.803Z"
   },
   {
    "duration": 104,
    "start_time": "2022-07-28T15:28:11.832Z"
   },
   {
    "duration": 4,
    "start_time": "2022-07-28T15:28:11.938Z"
   },
   {
    "duration": 56,
    "start_time": "2022-07-28T15:28:11.943Z"
   },
   {
    "duration": 507,
    "start_time": "2022-07-28T15:28:12.001Z"
   },
   {
    "duration": 17,
    "start_time": "2022-07-28T15:28:12.510Z"
   },
   {
    "duration": 92,
    "start_time": "2022-07-28T15:28:12.528Z"
   },
   {
    "duration": 3,
    "start_time": "2022-07-28T15:28:12.622Z"
   },
   {
    "duration": 12,
    "start_time": "2022-07-28T15:28:12.627Z"
   },
   {
    "duration": 58,
    "start_time": "2022-07-28T15:28:12.641Z"
   },
   {
    "duration": 9,
    "start_time": "2022-07-28T15:28:12.704Z"
   },
   {
    "duration": 9,
    "start_time": "2022-07-28T15:28:12.715Z"
   },
   {
    "duration": 19,
    "start_time": "2022-07-28T15:28:12.727Z"
   },
   {
    "duration": 49,
    "start_time": "2022-07-28T15:28:12.749Z"
   },
   {
    "duration": 17,
    "start_time": "2022-07-28T15:28:12.801Z"
   },
   {
    "duration": 212,
    "start_time": "2022-07-28T15:28:12.820Z"
   },
   {
    "duration": 0,
    "start_time": "2022-07-28T15:28:13.033Z"
   },
   {
    "duration": 0,
    "start_time": "2022-07-28T15:28:13.034Z"
   },
   {
    "duration": 0,
    "start_time": "2022-07-28T15:28:13.036Z"
   },
   {
    "duration": 0,
    "start_time": "2022-07-28T15:28:13.037Z"
   },
   {
    "duration": 0,
    "start_time": "2022-07-28T15:28:13.038Z"
   },
   {
    "duration": 1,
    "start_time": "2022-07-28T15:28:13.038Z"
   },
   {
    "duration": 0,
    "start_time": "2022-07-28T15:28:13.040Z"
   },
   {
    "duration": 0,
    "start_time": "2022-07-28T15:28:13.041Z"
   },
   {
    "duration": 0,
    "start_time": "2022-07-28T15:28:13.042Z"
   },
   {
    "duration": 0,
    "start_time": "2022-07-28T15:28:13.043Z"
   },
   {
    "duration": 0,
    "start_time": "2022-07-28T15:28:13.099Z"
   },
   {
    "duration": 0,
    "start_time": "2022-07-28T15:28:13.099Z"
   },
   {
    "duration": 0,
    "start_time": "2022-07-28T15:28:13.101Z"
   },
   {
    "duration": 0,
    "start_time": "2022-07-28T15:28:13.102Z"
   },
   {
    "duration": 0,
    "start_time": "2022-07-28T15:28:13.103Z"
   },
   {
    "duration": 0,
    "start_time": "2022-07-28T15:28:13.104Z"
   },
   {
    "duration": 19,
    "start_time": "2022-07-28T15:30:48.040Z"
   },
   {
    "duration": 206,
    "start_time": "2022-07-28T15:31:18.338Z"
   },
   {
    "duration": 208,
    "start_time": "2022-07-28T15:31:21.914Z"
   },
   {
    "duration": 226,
    "start_time": "2022-07-28T15:32:00.975Z"
   },
   {
    "duration": 214,
    "start_time": "2022-07-28T15:32:21.953Z"
   },
   {
    "duration": 223,
    "start_time": "2022-07-28T15:32:24.963Z"
   },
   {
    "duration": 990,
    "start_time": "2022-07-28T15:34:18.837Z"
   },
   {
    "duration": 670,
    "start_time": "2022-07-28T15:34:19.829Z"
   },
   {
    "duration": 38,
    "start_time": "2022-07-28T15:34:20.501Z"
   },
   {
    "duration": 339,
    "start_time": "2022-07-28T15:34:20.597Z"
   },
   {
    "duration": 1490,
    "start_time": "2022-07-28T15:34:20.938Z"
   },
   {
    "duration": 71,
    "start_time": "2022-07-28T15:34:22.429Z"
   },
   {
    "duration": 55,
    "start_time": "2022-07-28T15:34:22.501Z"
   },
   {
    "duration": 47,
    "start_time": "2022-07-28T15:34:22.558Z"
   },
   {
    "duration": 42,
    "start_time": "2022-07-28T15:34:22.607Z"
   },
   {
    "duration": 24,
    "start_time": "2022-07-28T15:34:22.651Z"
   },
   {
    "duration": 30,
    "start_time": "2022-07-28T15:34:22.698Z"
   },
   {
    "duration": 20,
    "start_time": "2022-07-28T15:34:22.730Z"
   },
   {
    "duration": 10,
    "start_time": "2022-07-28T15:34:22.752Z"
   },
   {
    "duration": 34,
    "start_time": "2022-07-28T15:34:22.765Z"
   },
   {
    "duration": 20,
    "start_time": "2022-07-28T15:34:22.800Z"
   },
   {
    "duration": 29,
    "start_time": "2022-07-28T15:34:22.822Z"
   },
   {
    "duration": 61,
    "start_time": "2022-07-28T15:34:22.853Z"
   },
   {
    "duration": 29,
    "start_time": "2022-07-28T15:34:22.915Z"
   },
   {
    "duration": 59,
    "start_time": "2022-07-28T15:34:22.946Z"
   },
   {
    "duration": 4,
    "start_time": "2022-07-28T15:34:23.007Z"
   },
   {
    "duration": 3,
    "start_time": "2022-07-28T15:34:23.013Z"
   },
   {
    "duration": 292,
    "start_time": "2022-07-28T15:34:23.018Z"
   },
   {
    "duration": 19,
    "start_time": "2022-07-28T15:34:23.312Z"
   },
   {
    "duration": 34,
    "start_time": "2022-07-28T15:34:23.332Z"
   },
   {
    "duration": 30,
    "start_time": "2022-07-28T15:34:23.368Z"
   },
   {
    "duration": 240,
    "start_time": "2022-07-28T15:34:23.399Z"
   },
   {
    "duration": 3,
    "start_time": "2022-07-28T15:34:23.641Z"
   },
   {
    "duration": 6,
    "start_time": "2022-07-28T15:34:23.646Z"
   },
   {
    "duration": 4,
    "start_time": "2022-07-28T15:34:23.654Z"
   },
   {
    "duration": 4,
    "start_time": "2022-07-28T15:34:23.659Z"
   },
   {
    "duration": 8,
    "start_time": "2022-07-28T15:34:23.664Z"
   },
   {
    "duration": 7,
    "start_time": "2022-07-28T15:34:23.673Z"
   },
   {
    "duration": 3,
    "start_time": "2022-07-28T15:34:23.698Z"
   },
   {
    "duration": 114,
    "start_time": "2022-07-28T15:34:23.703Z"
   },
   {
    "duration": 0,
    "start_time": "2022-07-28T15:34:23.819Z"
   },
   {
    "duration": 0,
    "start_time": "2022-07-28T15:34:23.820Z"
   },
   {
    "duration": 0,
    "start_time": "2022-07-28T15:34:23.821Z"
   },
   {
    "duration": 0,
    "start_time": "2022-07-28T15:34:23.822Z"
   },
   {
    "duration": 0,
    "start_time": "2022-07-28T15:34:23.823Z"
   },
   {
    "duration": 0,
    "start_time": "2022-07-28T15:34:23.824Z"
   },
   {
    "duration": 0,
    "start_time": "2022-07-28T15:34:23.825Z"
   },
   {
    "duration": 0,
    "start_time": "2022-07-28T15:34:23.826Z"
   },
   {
    "duration": 0,
    "start_time": "2022-07-28T15:34:23.827Z"
   },
   {
    "duration": 0,
    "start_time": "2022-07-28T15:34:23.828Z"
   },
   {
    "duration": 0,
    "start_time": "2022-07-28T15:34:23.829Z"
   },
   {
    "duration": 0,
    "start_time": "2022-07-28T15:34:23.830Z"
   },
   {
    "duration": 0,
    "start_time": "2022-07-28T15:34:23.832Z"
   },
   {
    "duration": 0,
    "start_time": "2022-07-28T15:34:23.834Z"
   },
   {
    "duration": 0,
    "start_time": "2022-07-28T15:34:23.835Z"
   },
   {
    "duration": 0,
    "start_time": "2022-07-28T15:34:23.836Z"
   },
   {
    "duration": 69,
    "start_time": "2022-07-28T15:50:52.053Z"
   },
   {
    "duration": 11,
    "start_time": "2022-07-28T15:50:57.499Z"
   },
   {
    "duration": 24,
    "start_time": "2022-07-28T15:54:30.228Z"
   },
   {
    "duration": 9,
    "start_time": "2022-07-28T15:56:13.981Z"
   },
   {
    "duration": 7,
    "start_time": "2022-07-28T15:56:26.296Z"
   },
   {
    "duration": 57,
    "start_time": "2022-07-28T15:56:28.120Z"
   },
   {
    "duration": 8,
    "start_time": "2022-07-28T15:57:10.284Z"
   },
   {
    "duration": 5,
    "start_time": "2022-07-28T15:57:16.976Z"
   },
   {
    "duration": 6,
    "start_time": "2022-07-28T15:57:35.407Z"
   },
   {
    "duration": 41,
    "start_time": "2022-07-28T15:57:38.262Z"
   },
   {
    "duration": 1577,
    "start_time": "2022-07-28T15:58:03.299Z"
   },
   {
    "duration": 12,
    "start_time": "2022-07-28T15:58:26.672Z"
   },
   {
    "duration": 10,
    "start_time": "2022-07-28T15:59:04.416Z"
   },
   {
    "duration": 10,
    "start_time": "2022-07-28T15:59:30.157Z"
   },
   {
    "duration": 9,
    "start_time": "2022-07-28T16:00:02.313Z"
   },
   {
    "duration": 13,
    "start_time": "2022-07-28T16:00:28.484Z"
   },
   {
    "duration": 218,
    "start_time": "2022-07-28T16:01:16.081Z"
   },
   {
    "duration": 567,
    "start_time": "2022-07-28T16:01:48.034Z"
   },
   {
    "duration": 456,
    "start_time": "2022-07-28T16:02:08.685Z"
   },
   {
    "duration": 477,
    "start_time": "2022-07-28T16:02:14.865Z"
   },
   {
    "duration": 1042,
    "start_time": "2022-07-28T16:07:50.591Z"
   },
   {
    "duration": 466,
    "start_time": "2022-07-28T16:07:51.634Z"
   },
   {
    "duration": 39,
    "start_time": "2022-07-28T16:07:52.102Z"
   },
   {
    "duration": 222,
    "start_time": "2022-07-28T16:07:52.143Z"
   },
   {
    "duration": 995,
    "start_time": "2022-07-28T16:07:52.366Z"
   },
   {
    "duration": 58,
    "start_time": "2022-07-28T16:07:53.363Z"
   },
   {
    "duration": 75,
    "start_time": "2022-07-28T16:07:53.423Z"
   },
   {
    "duration": 24,
    "start_time": "2022-07-28T16:07:53.500Z"
   },
   {
    "duration": 42,
    "start_time": "2022-07-28T16:07:53.525Z"
   },
   {
    "duration": 42,
    "start_time": "2022-07-28T16:07:53.570Z"
   },
   {
    "duration": 35,
    "start_time": "2022-07-28T16:07:53.613Z"
   },
   {
    "duration": 20,
    "start_time": "2022-07-28T16:07:53.650Z"
   },
   {
    "duration": 33,
    "start_time": "2022-07-28T16:07:53.672Z"
   },
   {
    "duration": 14,
    "start_time": "2022-07-28T16:07:53.707Z"
   },
   {
    "duration": 36,
    "start_time": "2022-07-28T16:07:53.723Z"
   },
   {
    "duration": 30,
    "start_time": "2022-07-28T16:07:53.762Z"
   },
   {
    "duration": 43,
    "start_time": "2022-07-28T16:07:53.794Z"
   },
   {
    "duration": 32,
    "start_time": "2022-07-28T16:07:53.838Z"
   },
   {
    "duration": 67,
    "start_time": "2022-07-28T16:07:53.871Z"
   },
   {
    "duration": 5,
    "start_time": "2022-07-28T16:07:53.939Z"
   },
   {
    "duration": 11,
    "start_time": "2022-07-28T16:07:53.945Z"
   },
   {
    "duration": 289,
    "start_time": "2022-07-28T16:07:53.958Z"
   },
   {
    "duration": 17,
    "start_time": "2022-07-28T16:07:54.249Z"
   },
   {
    "duration": 55,
    "start_time": "2022-07-28T16:07:54.267Z"
   },
   {
    "duration": 3,
    "start_time": "2022-07-28T16:07:54.324Z"
   },
   {
    "duration": 273,
    "start_time": "2022-07-28T16:07:54.329Z"
   },
   {
    "duration": 30,
    "start_time": "2022-07-28T16:07:54.604Z"
   },
   {
    "duration": 9,
    "start_time": "2022-07-28T16:07:54.637Z"
   },
   {
    "duration": 9,
    "start_time": "2022-07-28T16:07:54.647Z"
   },
   {
    "duration": 19,
    "start_time": "2022-07-28T16:07:54.657Z"
   },
   {
    "duration": 5,
    "start_time": "2022-07-28T16:07:54.677Z"
   },
   {
    "duration": 12,
    "start_time": "2022-07-28T16:07:54.684Z"
   },
   {
    "duration": 9,
    "start_time": "2022-07-28T16:07:54.698Z"
   },
   {
    "duration": 12,
    "start_time": "2022-07-28T16:07:54.708Z"
   },
   {
    "duration": 109,
    "start_time": "2022-07-28T16:07:54.722Z"
   },
   {
    "duration": 0,
    "start_time": "2022-07-28T16:07:54.832Z"
   },
   {
    "duration": 0,
    "start_time": "2022-07-28T16:07:54.833Z"
   },
   {
    "duration": 0,
    "start_time": "2022-07-28T16:07:54.834Z"
   },
   {
    "duration": 0,
    "start_time": "2022-07-28T16:07:54.835Z"
   },
   {
    "duration": 0,
    "start_time": "2022-07-28T16:07:54.836Z"
   },
   {
    "duration": 0,
    "start_time": "2022-07-28T16:07:54.837Z"
   },
   {
    "duration": 0,
    "start_time": "2022-07-28T16:07:54.837Z"
   },
   {
    "duration": 0,
    "start_time": "2022-07-28T16:07:54.838Z"
   },
   {
    "duration": 0,
    "start_time": "2022-07-28T16:07:54.839Z"
   },
   {
    "duration": 0,
    "start_time": "2022-07-28T16:07:54.841Z"
   },
   {
    "duration": 0,
    "start_time": "2022-07-28T16:07:54.841Z"
   },
   {
    "duration": 0,
    "start_time": "2022-07-28T16:07:54.843Z"
   },
   {
    "duration": 0,
    "start_time": "2022-07-28T16:07:54.843Z"
   },
   {
    "duration": 0,
    "start_time": "2022-07-28T16:07:54.844Z"
   },
   {
    "duration": 0,
    "start_time": "2022-07-28T16:07:54.845Z"
   },
   {
    "duration": 0,
    "start_time": "2022-07-28T16:07:54.846Z"
   },
   {
    "duration": 0,
    "start_time": "2022-07-28T16:07:54.847Z"
   },
   {
    "duration": 0,
    "start_time": "2022-07-28T16:07:54.849Z"
   },
   {
    "duration": 0,
    "start_time": "2022-07-28T16:07:54.850Z"
   },
   {
    "duration": 4,
    "start_time": "2022-07-28T16:08:28.199Z"
   },
   {
    "duration": 9,
    "start_time": "2022-07-28T16:08:30.511Z"
   },
   {
    "duration": 5,
    "start_time": "2022-07-28T16:08:32.637Z"
   },
   {
    "duration": 41,
    "start_time": "2022-07-28T16:08:35.660Z"
   },
   {
    "duration": 41,
    "start_time": "2022-07-28T16:08:46.507Z"
   },
   {
    "duration": 7,
    "start_time": "2022-07-28T16:08:49.424Z"
   },
   {
    "duration": 274,
    "start_time": "2022-07-28T16:08:51.364Z"
   },
   {
    "duration": 603,
    "start_time": "2022-07-28T16:08:53.740Z"
   },
   {
    "duration": 200,
    "start_time": "2022-07-28T16:12:40.143Z"
   },
   {
    "duration": 519,
    "start_time": "2022-07-28T16:12:53.949Z"
   },
   {
    "duration": 489,
    "start_time": "2022-07-28T16:13:58.319Z"
   },
   {
    "duration": 128,
    "start_time": "2022-07-28T16:16:34.655Z"
   },
   {
    "duration": 216,
    "start_time": "2022-07-28T16:17:02.539Z"
   },
   {
    "duration": 420,
    "start_time": "2022-07-28T16:19:09.488Z"
   },
   {
    "duration": 212,
    "start_time": "2022-07-28T16:23:23.404Z"
   },
   {
    "duration": 534,
    "start_time": "2022-07-28T16:23:52.472Z"
   },
   {
    "duration": 25,
    "start_time": "2022-07-28T16:27:21.851Z"
   },
   {
    "duration": 9663,
    "start_time": "2022-07-28T16:35:35.858Z"
   },
   {
    "duration": 1145,
    "start_time": "2022-07-28T16:39:38.271Z"
   },
   {
    "duration": 9,
    "start_time": "2022-07-28T16:58:05.032Z"
   },
   {
    "duration": 7,
    "start_time": "2022-07-28T17:02:28.952Z"
   },
   {
    "duration": 442,
    "start_time": "2022-07-28T17:05:02.890Z"
   },
   {
    "duration": 516,
    "start_time": "2022-07-28T17:05:13.145Z"
   },
   {
    "duration": 54,
    "start_time": "2022-07-28T17:07:44.275Z"
   },
   {
    "duration": 13,
    "start_time": "2022-07-28T17:10:40.169Z"
   },
   {
    "duration": 16,
    "start_time": "2022-07-28T17:11:36.985Z"
   },
   {
    "duration": 10,
    "start_time": "2022-07-28T17:12:15.174Z"
   },
   {
    "duration": 5,
    "start_time": "2022-07-28T17:12:25.439Z"
   },
   {
    "duration": 64,
    "start_time": "2022-07-28T17:12:59.416Z"
   },
   {
    "duration": 14,
    "start_time": "2022-07-28T17:13:04.469Z"
   },
   {
    "duration": 5,
    "start_time": "2022-07-28T17:14:24.125Z"
   },
   {
    "duration": 23,
    "start_time": "2022-07-28T17:23:04.357Z"
   },
   {
    "duration": 8,
    "start_time": "2022-07-28T17:26:07.880Z"
   },
   {
    "duration": 1271,
    "start_time": "2022-07-28T17:26:57.922Z"
   },
   {
    "duration": 11,
    "start_time": "2022-07-28T17:29:47.691Z"
   },
   {
    "duration": 47,
    "start_time": "2022-07-28T17:30:03.684Z"
   },
   {
    "duration": 9,
    "start_time": "2022-07-28T17:31:10.557Z"
   },
   {
    "duration": 5,
    "start_time": "2022-07-28T17:33:45.865Z"
   },
   {
    "duration": 53,
    "start_time": "2022-07-28T17:34:35.694Z"
   },
   {
    "duration": 8,
    "start_time": "2022-07-28T17:38:10.766Z"
   },
   {
    "duration": 8,
    "start_time": "2022-07-28T17:38:17.737Z"
   },
   {
    "duration": 12,
    "start_time": "2022-07-28T17:38:47.153Z"
   },
   {
    "duration": 1081,
    "start_time": "2022-07-28T17:52:39.568Z"
   },
   {
    "duration": 459,
    "start_time": "2022-07-28T17:52:40.651Z"
   },
   {
    "duration": 40,
    "start_time": "2022-07-28T17:52:41.112Z"
   },
   {
    "duration": 216,
    "start_time": "2022-07-28T17:52:41.154Z"
   },
   {
    "duration": 995,
    "start_time": "2022-07-28T17:52:41.372Z"
   },
   {
    "duration": 61,
    "start_time": "2022-07-28T17:52:42.369Z"
   },
   {
    "duration": 82,
    "start_time": "2022-07-28T17:52:42.432Z"
   },
   {
    "duration": 25,
    "start_time": "2022-07-28T17:52:42.515Z"
   },
   {
    "duration": 67,
    "start_time": "2022-07-28T17:52:42.542Z"
   },
   {
    "duration": 23,
    "start_time": "2022-07-28T17:52:42.610Z"
   },
   {
    "duration": 31,
    "start_time": "2022-07-28T17:52:42.634Z"
   },
   {
    "duration": 46,
    "start_time": "2022-07-28T17:52:42.667Z"
   },
   {
    "duration": 11,
    "start_time": "2022-07-28T17:52:42.715Z"
   },
   {
    "duration": 12,
    "start_time": "2022-07-28T17:52:42.729Z"
   },
   {
    "duration": 20,
    "start_time": "2022-07-28T17:52:42.743Z"
   },
   {
    "duration": 65,
    "start_time": "2022-07-28T17:52:42.765Z"
   },
   {
    "duration": 38,
    "start_time": "2022-07-28T17:52:42.832Z"
   },
   {
    "duration": 29,
    "start_time": "2022-07-28T17:52:42.897Z"
   },
   {
    "duration": 49,
    "start_time": "2022-07-28T17:52:42.928Z"
   },
   {
    "duration": 5,
    "start_time": "2022-07-28T17:52:42.998Z"
   },
   {
    "duration": 300,
    "start_time": "2022-07-28T17:52:43.005Z"
   },
   {
    "duration": 18,
    "start_time": "2022-07-28T17:52:43.306Z"
   },
   {
    "duration": 42,
    "start_time": "2022-07-28T17:52:43.326Z"
   },
   {
    "duration": 28,
    "start_time": "2022-07-28T17:52:43.370Z"
   },
   {
    "duration": 264,
    "start_time": "2022-07-28T17:52:43.400Z"
   },
   {
    "duration": 33,
    "start_time": "2022-07-28T17:52:43.666Z"
   },
   {
    "duration": 3,
    "start_time": "2022-07-28T17:52:43.701Z"
   },
   {
    "duration": 14,
    "start_time": "2022-07-28T17:52:43.705Z"
   },
   {
    "duration": 12,
    "start_time": "2022-07-28T17:52:43.720Z"
   },
   {
    "duration": 20,
    "start_time": "2022-07-28T17:52:43.734Z"
   },
   {
    "duration": 12,
    "start_time": "2022-07-28T17:52:43.756Z"
   },
   {
    "duration": 17,
    "start_time": "2022-07-28T17:52:43.770Z"
   },
   {
    "duration": 10,
    "start_time": "2022-07-28T17:52:43.790Z"
   },
   {
    "duration": 8,
    "start_time": "2022-07-28T17:52:43.803Z"
   },
   {
    "duration": 13,
    "start_time": "2022-07-28T17:52:43.813Z"
   },
   {
    "duration": 56,
    "start_time": "2022-07-28T17:52:43.828Z"
   },
   {
    "duration": 6,
    "start_time": "2022-07-28T17:52:43.898Z"
   },
   {
    "duration": 232,
    "start_time": "2022-07-28T17:52:43.905Z"
   },
   {
    "duration": 626,
    "start_time": "2022-07-28T17:52:44.138Z"
   },
   {
    "duration": 216,
    "start_time": "2022-07-28T17:52:44.765Z"
   },
   {
    "duration": 460,
    "start_time": "2022-07-28T17:52:44.985Z"
   },
   {
    "duration": 218,
    "start_time": "2022-07-28T17:52:45.447Z"
   },
   {
    "duration": 441,
    "start_time": "2022-07-28T17:52:45.667Z"
   },
   {
    "duration": 219,
    "start_time": "2022-07-28T17:52:46.110Z"
   },
   {
    "duration": 493,
    "start_time": "2022-07-28T17:52:46.331Z"
   },
   {
    "duration": 7,
    "start_time": "2022-07-28T17:52:46.826Z"
   },
   {
    "duration": 16,
    "start_time": "2022-07-28T17:52:46.835Z"
   },
   {
    "duration": 66,
    "start_time": "2022-07-28T17:52:46.853Z"
   },
   {
    "duration": 6,
    "start_time": "2022-07-28T17:52:46.921Z"
   },
   {
    "duration": 33,
    "start_time": "2022-07-28T17:52:46.929Z"
   },
   {
    "duration": 13,
    "start_time": "2022-07-28T17:52:46.965Z"
   },
   {
    "duration": 49,
    "start_time": "2022-07-29T11:20:03.171Z"
   },
   {
    "duration": 1212,
    "start_time": "2022-07-29T11:20:15.170Z"
   },
   {
    "duration": 557,
    "start_time": "2022-07-29T11:20:16.384Z"
   },
   {
    "duration": 49,
    "start_time": "2022-07-29T11:20:16.944Z"
   },
   {
    "duration": 274,
    "start_time": "2022-07-29T11:20:16.996Z"
   },
   {
    "duration": 1115,
    "start_time": "2022-07-29T11:20:17.273Z"
   },
   {
    "duration": 81,
    "start_time": "2022-07-29T11:20:18.390Z"
   },
   {
    "duration": 66,
    "start_time": "2022-07-29T11:20:18.473Z"
   },
   {
    "duration": 39,
    "start_time": "2022-07-29T11:20:18.541Z"
   },
   {
    "duration": 40,
    "start_time": "2022-07-29T11:20:18.583Z"
   },
   {
    "duration": 38,
    "start_time": "2022-07-29T11:20:18.637Z"
   },
   {
    "duration": 29,
    "start_time": "2022-07-29T11:20:18.676Z"
   },
   {
    "duration": 41,
    "start_time": "2022-07-29T11:20:18.706Z"
   },
   {
    "duration": 14,
    "start_time": "2022-07-29T11:20:18.749Z"
   },
   {
    "duration": 10,
    "start_time": "2022-07-29T11:20:18.767Z"
   },
   {
    "duration": 20,
    "start_time": "2022-07-29T11:20:18.779Z"
   },
   {
    "duration": 57,
    "start_time": "2022-07-29T11:20:18.800Z"
   },
   {
    "duration": 39,
    "start_time": "2022-07-29T11:20:18.859Z"
   },
   {
    "duration": 62,
    "start_time": "2022-07-29T11:20:18.900Z"
   },
   {
    "duration": 51,
    "start_time": "2022-07-29T11:20:18.964Z"
   },
   {
    "duration": 4,
    "start_time": "2022-07-29T11:20:19.017Z"
   },
   {
    "duration": 332,
    "start_time": "2022-07-29T11:20:19.033Z"
   },
   {
    "duration": 20,
    "start_time": "2022-07-29T11:20:19.366Z"
   },
   {
    "duration": 63,
    "start_time": "2022-07-29T11:20:19.388Z"
   },
   {
    "duration": 5,
    "start_time": "2022-07-29T11:20:19.452Z"
   },
   {
    "duration": 261,
    "start_time": "2022-07-29T11:20:19.458Z"
   },
   {
    "duration": 4,
    "start_time": "2022-07-29T11:20:19.721Z"
   },
   {
    "duration": 38,
    "start_time": "2022-07-29T11:20:19.727Z"
   },
   {
    "duration": 8,
    "start_time": "2022-07-29T11:20:19.767Z"
   },
   {
    "duration": 6,
    "start_time": "2022-07-29T11:20:19.777Z"
   },
   {
    "duration": 3,
    "start_time": "2022-07-29T11:20:19.785Z"
   },
   {
    "duration": 5,
    "start_time": "2022-07-29T11:20:19.790Z"
   },
   {
    "duration": 6,
    "start_time": "2022-07-29T11:20:19.797Z"
   },
   {
    "duration": 5,
    "start_time": "2022-07-29T11:20:19.805Z"
   },
   {
    "duration": 32,
    "start_time": "2022-07-29T11:20:19.834Z"
   },
   {
    "duration": 13,
    "start_time": "2022-07-29T11:20:19.868Z"
   },
   {
    "duration": 13,
    "start_time": "2022-07-29T11:20:19.883Z"
   },
   {
    "duration": 67,
    "start_time": "2022-07-29T11:20:19.898Z"
   },
   {
    "duration": 7,
    "start_time": "2022-07-29T11:20:19.967Z"
   },
   {
    "duration": 260,
    "start_time": "2022-07-29T11:20:19.976Z"
   },
   {
    "duration": 619,
    "start_time": "2022-07-29T11:20:20.244Z"
   },
   {
    "duration": 223,
    "start_time": "2022-07-29T11:20:20.869Z"
   },
   {
    "duration": 504,
    "start_time": "2022-07-29T11:20:21.094Z"
   },
   {
    "duration": 225,
    "start_time": "2022-07-29T11:20:21.600Z"
   },
   {
    "duration": 483,
    "start_time": "2022-07-29T11:20:21.827Z"
   },
   {
    "duration": 258,
    "start_time": "2022-07-29T11:20:22.311Z"
   },
   {
    "duration": 540,
    "start_time": "2022-07-29T11:20:22.573Z"
   },
   {
    "duration": 5,
    "start_time": "2022-07-29T11:20:23.114Z"
   },
   {
    "duration": 14,
    "start_time": "2022-07-29T11:20:23.121Z"
   },
   {
    "duration": 69,
    "start_time": "2022-07-29T11:20:23.137Z"
   },
   {
    "duration": 5,
    "start_time": "2022-07-29T11:20:23.208Z"
   },
   {
    "duration": 8,
    "start_time": "2022-07-29T11:20:23.214Z"
   },
   {
    "duration": 10,
    "start_time": "2022-07-29T11:20:23.223Z"
   },
   {
    "duration": 30,
    "start_time": "2022-07-29T11:24:20.725Z"
   },
   {
    "duration": 6,
    "start_time": "2022-07-29T11:25:55.695Z"
   },
   {
    "duration": 14,
    "start_time": "2022-07-29T11:27:53.324Z"
   },
   {
    "duration": 3,
    "start_time": "2022-07-29T11:35:11.855Z"
   },
   {
    "duration": 52,
    "start_time": "2022-07-29T11:36:28.459Z"
   },
   {
    "duration": 156,
    "start_time": "2022-07-29T11:36:38.466Z"
   },
   {
    "duration": 3,
    "start_time": "2022-07-29T11:36:42.273Z"
   },
   {
    "duration": 5,
    "start_time": "2022-07-29T11:36:43.060Z"
   },
   {
    "duration": 199,
    "start_time": "2022-07-29T11:36:46.062Z"
   },
   {
    "duration": 179,
    "start_time": "2022-07-29T11:36:59.194Z"
   },
   {
    "duration": 181,
    "start_time": "2022-07-29T11:37:04.081Z"
   },
   {
    "duration": 1429,
    "start_time": "2022-07-29T11:37:27.209Z"
   },
   {
    "duration": 48,
    "start_time": "2022-07-29T12:49:53.340Z"
   },
   {
    "duration": 1253,
    "start_time": "2022-07-29T12:50:01.612Z"
   },
   {
    "duration": 1003,
    "start_time": "2022-07-29T12:50:02.868Z"
   },
   {
    "duration": 37,
    "start_time": "2022-07-29T12:50:03.872Z"
   },
   {
    "duration": 213,
    "start_time": "2022-07-29T12:50:03.912Z"
   },
   {
    "duration": 1180,
    "start_time": "2022-07-29T12:50:04.127Z"
   },
   {
    "duration": 60,
    "start_time": "2022-07-29T12:50:05.309Z"
   },
   {
    "duration": 86,
    "start_time": "2022-07-29T12:50:05.370Z"
   },
   {
    "duration": 23,
    "start_time": "2022-07-29T12:50:05.458Z"
   },
   {
    "duration": 61,
    "start_time": "2022-07-29T12:50:05.482Z"
   },
   {
    "duration": 22,
    "start_time": "2022-07-29T12:50:05.545Z"
   },
   {
    "duration": 33,
    "start_time": "2022-07-29T12:50:05.569Z"
   },
   {
    "duration": 20,
    "start_time": "2022-07-29T12:50:05.624Z"
   },
   {
    "duration": 9,
    "start_time": "2022-07-29T12:50:05.646Z"
   },
   {
    "duration": 12,
    "start_time": "2022-07-29T12:50:05.656Z"
   },
   {
    "duration": 26,
    "start_time": "2022-07-29T12:50:05.669Z"
   },
   {
    "duration": 58,
    "start_time": "2022-07-29T12:50:05.697Z"
   },
   {
    "duration": 38,
    "start_time": "2022-07-29T12:50:05.757Z"
   },
   {
    "duration": 42,
    "start_time": "2022-07-29T12:50:05.797Z"
   },
   {
    "duration": 45,
    "start_time": "2022-07-29T12:50:05.841Z"
   },
   {
    "duration": 5,
    "start_time": "2022-07-29T12:50:05.888Z"
   },
   {
    "duration": 329,
    "start_time": "2022-07-29T12:50:05.895Z"
   },
   {
    "duration": 20,
    "start_time": "2022-07-29T12:50:06.226Z"
   },
   {
    "duration": 42,
    "start_time": "2022-07-29T12:50:06.247Z"
   },
   {
    "duration": 6,
    "start_time": "2022-07-29T12:50:06.291Z"
   },
   {
    "duration": 228,
    "start_time": "2022-07-29T12:50:06.299Z"
   },
   {
    "duration": 5,
    "start_time": "2022-07-29T12:50:06.529Z"
   },
   {
    "duration": 25,
    "start_time": "2022-07-29T12:50:06.536Z"
   },
   {
    "duration": 7,
    "start_time": "2022-07-29T12:50:06.564Z"
   },
   {
    "duration": 10,
    "start_time": "2022-07-29T12:50:06.572Z"
   },
   {
    "duration": 6,
    "start_time": "2022-07-29T12:50:06.584Z"
   },
   {
    "duration": 7,
    "start_time": "2022-07-29T12:50:06.592Z"
   },
   {
    "duration": 13,
    "start_time": "2022-07-29T12:50:06.600Z"
   },
   {
    "duration": 3,
    "start_time": "2022-07-29T12:50:06.623Z"
   },
   {
    "duration": 23,
    "start_time": "2022-07-29T12:50:06.628Z"
   },
   {
    "duration": 21,
    "start_time": "2022-07-29T12:50:06.653Z"
   },
   {
    "duration": 18,
    "start_time": "2022-07-29T12:50:06.676Z"
   },
   {
    "duration": 11,
    "start_time": "2022-07-29T12:50:06.696Z"
   },
   {
    "duration": 45,
    "start_time": "2022-07-29T12:50:06.708Z"
   },
   {
    "duration": 6,
    "start_time": "2022-07-29T12:50:06.755Z"
   },
   {
    "duration": 244,
    "start_time": "2022-07-29T12:50:06.763Z"
   },
   {
    "duration": 713,
    "start_time": "2022-07-29T12:50:07.009Z"
   },
   {
    "duration": 210,
    "start_time": "2022-07-29T12:50:07.724Z"
   },
   {
    "duration": 545,
    "start_time": "2022-07-29T12:50:07.936Z"
   },
   {
    "duration": 201,
    "start_time": "2022-07-29T12:50:08.483Z"
   },
   {
    "duration": 521,
    "start_time": "2022-07-29T12:50:08.685Z"
   },
   {
    "duration": 257,
    "start_time": "2022-07-29T12:50:09.208Z"
   },
   {
    "duration": 531,
    "start_time": "2022-07-29T12:50:09.466Z"
   },
   {
    "duration": 8,
    "start_time": "2022-07-29T12:50:09.998Z"
   },
   {
    "duration": 21,
    "start_time": "2022-07-29T12:50:10.007Z"
   },
   {
    "duration": 54,
    "start_time": "2022-07-29T12:50:10.030Z"
   },
   {
    "duration": 7,
    "start_time": "2022-07-29T12:50:10.086Z"
   },
   {
    "duration": 28,
    "start_time": "2022-07-29T12:50:10.095Z"
   },
   {
    "duration": 31,
    "start_time": "2022-07-29T12:50:10.126Z"
   },
   {
    "duration": 183,
    "start_time": "2022-07-29T12:50:10.159Z"
   },
   {
    "duration": 3,
    "start_time": "2022-07-29T12:50:10.345Z"
   },
   {
    "duration": 14,
    "start_time": "2022-07-29T12:50:10.350Z"
   },
   {
    "duration": 1451,
    "start_time": "2022-07-29T12:50:10.366Z"
   },
   {
    "duration": 186,
    "start_time": "2022-07-29T12:50:11.824Z"
   },
   {
    "duration": 192,
    "start_time": "2022-07-29T12:50:12.012Z"
   },
   {
    "duration": 192,
    "start_time": "2022-07-29T12:50:12.206Z"
   },
   {
    "duration": 51,
    "start_time": "2022-07-29T12:50:12.400Z"
   },
   {
    "duration": 1343,
    "start_time": "2022-07-29T12:50:20.360Z"
   }
  ],
  "kernelspec": {
   "display_name": "Python 3 (ipykernel)",
   "language": "python",
   "name": "python3"
  },
  "language_info": {
   "codemirror_mode": {
    "name": "ipython",
    "version": 3
   },
   "file_extension": ".py",
   "mimetype": "text/x-python",
   "name": "python",
   "nbconvert_exporter": "python",
   "pygments_lexer": "ipython3",
   "version": "3.9.12"
  },
  "toc": {
   "base_numbering": 1,
   "nav_menu": {
    "height": "344px",
    "width": "455px"
   },
   "number_sections": true,
   "sideBar": true,
   "skip_h1_title": true,
   "title_cell": "Table of Contents",
   "title_sidebar": "Contents",
   "toc_cell": false,
   "toc_position": {
    "height": "calc(100% - 180px)",
    "left": "10px",
    "top": "150px",
    "width": "270.391px"
   },
   "toc_section_display": true,
   "toc_window_display": true
  }
 },
 "nbformat": 4,
 "nbformat_minor": 2
}
